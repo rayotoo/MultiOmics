{
 "cells": [
  {
   "cell_type": "markdown",
   "id": "a927ba73-4b00-4613-8b67-9677300d846b",
   "metadata": {},
   "source": [
    "Install R packages"
   ]
  },
  {
   "cell_type": "code",
   "execution_count": 3,
   "id": "3185db39-ec36-4c94-8804-3d3a6fcaf33e",
   "metadata": {},
   "outputs": [
    {
     "name": "stderr",
     "output_type": "stream",
     "text": [
      "Installing package into ‘/home/raotoo/R/x86_64-pc-linux-gnu-library/4.1’\n",
      "(as ‘lib’ is unspecified)\n",
      "\n"
     ]
    }
   ],
   "source": [
    "install.packages(\"ggplot2\")"
   ]
  },
  {
   "cell_type": "code",
   "execution_count": null,
   "id": "7e2fe32b-ca9a-423b-85cb-cdb1aa533c95",
   "metadata": {},
   "outputs": [
    {
     "name": "stderr",
     "output_type": "stream",
     "text": [
      "Bioconductor version '3.14' is out-of-date; the current release version '3.18'\n",
      "  is available with R version '4.3'; see https://bioconductor.org/install\n",
      "\n",
      "'getOption(\"repos\")' replaces Bioconductor standard repositories, see\n",
      "'help(\"repositories\", package = \"BiocManager\")' for details.\n",
      "Replacement repositories:\n",
      "    CRAN: https://cloud.r-project.org\n",
      "\n",
      "Bioconductor version 3.14 (BiocManager 1.30.22), R 4.1.2 (2021-11-01)\n",
      "\n",
      "Installing package(s) 'phyloseq'\n",
      "\n",
      "also installing the dependencies ‘Rhdf5lib’, ‘rhdf5filters’, ‘pixmap’, ‘sp’, ‘rhdf5’, ‘iterators’, ‘permute’, ‘ade4’, ‘biomformat’, ‘foreach’, ‘igraph’, ‘multtest’, ‘vegan’\n",
      "\n",
      "\n"
     ]
    }
   ],
   "source": [
    "if (!require(\"BiocManager\", quietly = TRUE))\n",
    "    install.packages(\"BiocManager\")\n",
    "BiocManager::install(\"phyloseq\")\n",
    "BiocManager::install(\"microbiome\")"
   ]
  },
  {
   "cell_type": "markdown",
   "id": "4e5e8b40-8c6e-4556-b0be-48f63d3291e0",
   "metadata": {},
   "source": [
    "#### Load R packages"
   ]
  },
  {
   "cell_type": "code",
   "execution_count": null,
   "id": "abd50fbc-50b4-4c39-a530-98757da2f096",
   "metadata": {},
   "outputs": [],
   "source": [
    "library(phyloseq)\n",
    "library(ggplot2)\n",
    "library(microbiome)"
   ]
  }
 ],
 "metadata": {
  "kernelspec": {
   "display_name": "R",
   "language": "R",
   "name": "ir"
  },
  "language_info": {
   "codemirror_mode": "r",
   "file_extension": ".r",
   "mimetype": "text/x-r-source",
   "name": "R",
   "pygments_lexer": "r",
   "version": "4.1.2"
  }
 },
 "nbformat": 4,
 "nbformat_minor": 5
}
