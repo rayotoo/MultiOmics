{
 "cells": [
  {
   "cell_type": "markdown",
   "id": "third-knowing",
   "metadata": {},
   "source": [
    "# ANCOM-BC & LEfSe\n",
    "\n",
    "*Run this notebook in `qiime2-2023.2`. Dokdo has been installed within this environment.*"
   ]
  },
  {
   "cell_type": "code",
   "execution_count": 1,
   "id": "democratic-lending",
   "metadata": {},
   "outputs": [],
   "source": [
    "from os import getcwd, listdir, chdir, mkdir\n",
    "import pandas as pd\n",
    "import qiime2 as q2"
   ]
  },
  {
   "cell_type": "code",
   "execution_count": 2,
   "id": "arranged-occasion",
   "metadata": {},
   "outputs": [
    {
     "data": {
      "text/plain": [
       "'/home/mrobeson/projects/pd_mouse_tutorial'"
      ]
     },
     "execution_count": 2,
     "metadata": {},
     "output_type": "execute_result"
    }
   ],
   "source": [
    "getcwd()"
   ]
  },
  {
   "cell_type": "code",
   "execution_count": 3,
   "id": "personalized-superintendent",
   "metadata": {},
   "outputs": [
    {
     "data": {
      "text/plain": [
       "'/home/mrobeson/projects/pd_mouse_tutorial/processed'"
      ]
     },
     "execution_count": 3,
     "metadata": {},
     "output_type": "execute_result"
    }
   ],
   "source": [
    "chdir('./processed')\n",
    "getcwd()"
   ]
  },
  {
   "cell_type": "markdown",
   "id": "sunrise-clearance",
   "metadata": {},
   "source": [
    "## ANCOM-BC\n",
    "\n",
    "Continuing from notebook `04`, we'll use the latest version of ANCOM, [ANCOM-BC](https://doi.org/10.1038/s41467-020-17041-7). See the [R tutorial](http://www.bioconductor.org/packages/release/bioc/vignettes/ANCOMBC/inst/doc/ANCOMBC.html) for more details."
   ]
  },
  {
   "cell_type": "code",
   "execution_count": 4,
   "id": "alike-deputy",
   "metadata": {},
   "outputs": [
    {
     "name": "stdout",
     "output_type": "stream",
     "text": [
      "\u001b[32mSaved FeatureTable[Frequency] to: ./table-no-ecmu-hits-abund.qza\u001b[0m\n",
      "\u001b[0m"
     ]
    }
   ],
   "source": [
    "# filter features\n",
    "! qiime feature-table filter-features \\\n",
    "    --i-table ./table-no-ecmu-hits.qza \\\n",
    "    --p-min-frequency 50 \\\n",
    "    --p-min-samples 4 \\\n",
    "    --o-filtered-table ./table-no-ecmu-hits-abund.qza"
   ]
  },
  {
   "cell_type": "code",
   "execution_count": 5,
   "id": "annoying-round",
   "metadata": {},
   "outputs": [
    {
     "name": "stdout",
     "output_type": "stream",
     "text": [
      "\u001b[32mSaved FeatureData[DifferentialAbundance] to: ancombc-differentials.qza\u001b[0m\n",
      "\u001b[0m"
     ]
    }
   ],
   "source": [
    "# Run ANCOM, note we do not need to add a pseudo-count as we did for ANCOM.\n",
    "! qiime composition ancombc \\\n",
    "    --i-table ./table-no-ecmu-hits-abund.qza \\\n",
    "    --m-metadata-file ./metadata.tsv \\\n",
    "    --p-formula \"donor\" \\\n",
    "    --p-reference-levels donor::hc_1 \\\n",
    "    --o-differentials ancombc-differentials.qza"
   ]
  },
  {
   "cell_type": "code",
   "execution_count": 6,
   "id": "separate-awareness",
   "metadata": {},
   "outputs": [
    {
     "name": "stdout",
     "output_type": "stream",
     "text": [
      "\u001b[32mSaved Visualization to: ancombc-differentials.qzv\u001b[0m\n",
      "\u001b[0m"
     ]
    }
   ],
   "source": [
    "! qiime composition tabulate \\\n",
    "    --i-data ancombc-differentials.qza \\\n",
    "    --o-visualization ancombc-differentials.qzv"
   ]
  },
  {
   "cell_type": "code",
   "execution_count": 6,
   "id": "twelve-brake",
   "metadata": {},
   "outputs": [
    {
     "name": "stdout",
     "output_type": "stream",
     "text": [
      "\u001b[32mSaved Visualization to: ancombc-differentials.qzv\u001b[0m\n",
      "\u001b[0m"
     ]
    }
   ],
   "source": [
    "! qiime composition da-barplot \\\n",
    "    --i-data ancombc-differentials.qza \\\n",
    "    --p-significance-threshold 0.05 \\\n",
    "    --o-visualization ancombc-differentials.qzv"
   ]
  },
  {
   "cell_type": "code",
   "execution_count": null,
   "id": "dressed-patrick",
   "metadata": {},
   "outputs": [],
   "source": []
  },
  {
   "cell_type": "markdown",
   "id": "simplified-saver",
   "metadata": {},
   "source": [
    "## LEfSe Preparation with Dokdo\n",
    "\n",
    "We'll prepare our files with [dokdo](https://dokdo.readthedocs.io/en/latest/index.html) for use in [LEfSe-Galaxy](https://huttenhower.sph.harvard.edu/galaxy/). You can read the [LEfSe paper](https://doi.org/10.1186/gb-2011-12-6-r60) for more details. "
   ]
  },
  {
   "cell_type": "code",
   "execution_count": 7,
   "id": "preceding-czech",
   "metadata": {},
   "outputs": [
    {
     "name": "stdout",
     "output_type": "stream",
     "text": [
      "\u001b[0m"
     ]
    }
   ],
   "source": [
    "! dokdo prepare-lefse \\\n",
    "    -t ./table-no-ecmu-hits-abund.qza \\\n",
    "    -x ./taxonomy.qza \\\n",
    "    -m ./metadata.tsv \\\n",
    "    -c donor_status \\\n",
    "    -u genotype \\\n",
    "    -o lefse_table.tsv"
   ]
  },
  {
   "cell_type": "code",
   "execution_count": 8,
   "id": "meaning-reviewer",
   "metadata": {
    "scrolled": true
   },
   "outputs": [
    {
     "name": "stdout",
     "output_type": "stream",
     "text": [
      "donor_status                                                                                                                    Healthy                Healthy                Healthy                Healthy                Healthy                Healthy                Healthy                Healthy                Healthy                Healthy                Healthy                Healthy                Healthy                Healthy                Healthy                Healthy                Healthy                Healthy                Healthy                Healthy                PD                     Healthy                PD                     PD                   Healthy                PD                     PD                     Healthy                PD                     PD                     PD                     PD                     PD                     PD                     PD                     PD                     PD                     PD                     PD                     Healthy                 PD                     PD                     PD                     PD                     PD                     PD                     PD                     PD\n",
      "genotype                                                                                                                        wild_type              susceptible            susceptible            susceptible            susceptible            susceptible            susceptible            susceptible            susceptible            susceptible            wild_type              susceptible            wild_type              susceptible            wild_type              wild_type              wild_type              wild_type              wild_type              wild_type              susceptible            wild_type              susceptible            wild_type            wild_type              wild_type              wild_type              wild_type              susceptible            wild_type              susceptible            susceptible            wild_type              susceptible            wild_type              wild_type              susceptible            wild_type              susceptible            susceptible             susceptible            wild_type              susceptible            wild_type              susceptible            susceptible            wild_type              wild_type\n",
      "d__Bacteria|p__Firmicutes|c__Clostridia|o__Lachnospirales|f__Lachnospiraceae|g__Blautia                                         0.03707179727827311    0.018746916625555006   0.0035359116022099448  0.028276370789279567   0.0452418096723869     0.06794802382241473    0.03664645399419984    0.0832072617246596     0.030930345835362884   0.12071535022354694    0.09503959983326386    0.01715686274509804    0.09312409663431757    0.01885388241131233    0.1162949476558944     0.10631895687061184    0.0327132777421424     0.026332094175960347   0.005855161787365178   0.03813661597875935    0.008698353525939733   0.032279314888010543   0.016464471403812825   0.0                  0.02880481513327601    0.0                    0.005911778080945885   0.007486114465105047   0.034958601655933765   0.0                    0.005622489959839358   0.013521947160391096   0.048990016252612026   0.005170863309352518   0.045236463331048665   0.011625203441060218   0.01834659593280283    0.022420593730537678   0.009139910944457465   0.014460999123575811    0.004838709677419355   0.013866420152530621   0.005542957923910304   0.008181578252837161   0.010251256281407035   0.03217770396512352    0.015420363329108577   0.028339191564147628\n",
      "d__Bacteria|p__Firmicutes|c__Clostridia|o__Lachnospirales|f__Lachnospiraceae|g__Hungatella                                      0.02674800563115908    0.0865811544153922     0.038232044198895025   0.07474797147774773    0.05237352351236907    0.014618299945858148   0.06696546269443712    0.021432173474533536   0.0723331709693132     0.03534170747285501    0.029387244685285537   0.004901960784313725   0.055957051414412554   0.020590424212354255   0.04437869822485207    0.005767301905717151   0.06264699593756681    0.061028500619578686   0.10477657935285054    0.11947863866763216    0.10717614165890028    0.07246376811594203    0.2611207394569613     0.0                  0.06362854686156492    0.10311371841155234    0.1741700773078672     0.04322627384689688    0.09130634774609016    0.08903623016812692    0.37938420348058904    0.021219055543998337   0.0547945205479452     0.34509892086330934    0.023989033584647018   0.0046500813764240876  0.23585322723253757    0.07888727423707702    0.3700492149050855     0.004601226993865031    0.12231182795698925    0.11116246822278715    0.24338624338624337    0.20902612826603326    0.2568844221105528     0.058957857587710195   0.11998310097169412    0.009446397188049209\n",
      "d__Bacteria|p__Firmicutes|c__Clostridia|o__Oscillospirales|f__Ruminococcaceae|g__Subdoligranulum                                0.0                    0.0                    0.0                    0.0                    0.0                    0.00568489442338928    0.0029000790930661744  0.05068078668683813    0.0060886507549926935  0.0                    0.0                    0.0                    0.0                    0.007442322004465393   0.0                    0.039368104312938815   0.024160786829163994   0.006505576208178439   0.0                    0.023412985759111753   0.0                    0.013175230566534914   0.0                    0.0                  0.01999140154772141    0.0                    0.0                    0.015455204056991065   0.0                    0.0                    0.0                    0.0                    0.0                    0.0                    0.0                    0.0                    0.0                    0.0                    0.0                    0.0                     0.0                    0.0                    0.0                    0.0                    0.0                    0.0                    0.0                    0.0\n",
      "d__Bacteria|p__Firmicutes|c__Clostridia|o__Oscillospirales|f__Ruminococcaceae|g__Anaerofilum                                    0.0                    0.0                    0.0                    0.0                    0.0                    0.0                    0.0                    0.0                    0.0                    0.0                    0.0                    0.0                    0.0                    0.0                    0.0                    0.0                    0.0                    0.0                    0.002773497688751926   0.0                    0.0024852438645542093  0.0                    0.002310803004043905   0.0                  0.0                    0.0009025270758122744  0.0                    0.0                    0.0                    0.0                    0.00428380187416332    0.0031204493447056377  0.0013930810308799629  0.0011241007194244604  0.0009138679460817912  0.0                    0.0017683465959328027  0.0                    0.0011717834544176236  0.0                     0.00510752688172043    0.0                    0.0                    0.0                    0.0                    0.0                    0.001478664976763836   0.0\n",
      "d__Bacteria|p__Firmicutes|c__Clostridia|o__Lachnospirales|f__Lachnospiraceae|g__Eisenbergiella                                  0.0                    0.009620128268376911   0.01966850828729282    0.03737398573887386    0.013594829507466013   0.011911207363291824   0.007645663063538096   0.002017145738779627   0.005601558694593278   0.02852884820097935    0.011879949979157983   0.0053475935828877     0.0326244063596944     0.017613495410568097   0.012061902594446974   0.0062688064192577735  0.006841992730382724   0.0                    0.0970724191063174     0.008689355539464157   0.08977943460702081    0.0                    0.04852686308492201    0.0                  0.0060189165950128975  0.06295126353790614    0.020918599363346977   0.0033808258874667954  0.09314627414903404    0.05375325597916173    0.012048192771084338   0.03058040357811525    0.041328070582772235   0.012814748201438849   0.03335618003198538    0.039758195768425944   0.01856763925729443    0.024704172721610962   0.03116943988750879    0.0015337423312883436   0.032795698924731186   0.04183036746013404    0.029730410682791635   0.04143573502243336    0.017085427135678392   0.027402947892879385   0.04203633291085763    0.04305799648506151\n",
      "d__Bacteria|p__Bacteroidota|c__Bacteroidia|o__Bacteroidales|f__Bacteroidaceae|g__Bacteroides                                    0.7461285781323322     0.5224469659595461     0.6453038674033149     0.5239734447996066     0.6015154891909962     0.6107200866269626     0.6082256788821513     0.56732223903177       0.5669751583049196     0.5177773046625506     0.5879533138807836     0.44295900178253117    0.47718356390666944    0.6276358223765814     0.5218479745106964     0.4769307923771314     0.5918323711781056     0.6505576208178439     0.536517719568567      0.5961863384021241     0.534327430879155      0.6047430830039525     0.4124783362218371     0.1794871794871795   0.5599742046431643     0.6489169675090253     0.552069122328331      0.6384931176044434     0.5602575896964122     0.6258583945062751     0.44872824631860775    0.5762429789889744     0.6227072208033434     0.5204586330935251     0.4966872286954535     0.680306905370844      0.5490716180371353     0.5393398380734897     0.4654323880946801     0.3913234005258545      0.5301075268817205     0.5805407903859487     0.5129755605946082     0.6088677751385589     0.48301507537688443    0.48806310981938966    0.638149556400507      0.6146748681898067\n",
      "d__Bacteria|p__Firmicutes|c__Clostridia|o__Lachnospirales|f__Lachnospiraceae|f__Lachnospiraceae_x__L6                           0.0                    0.0                    0.0                    0.0                    0.0                    0.0                    0.0                    0.0                    0.0                    0.0                    0.0                    0.0                    0.0                    0.0                    0.0                    0.0                    0.0                    0.0                    0.0                    0.0                    0.0                    0.0                    0.0                    0.0                  0.0                    0.0                    0.0                    0.0                    0.0                    0.0030783802983660904  0.0                    0.0                    0.003947062920826561   0.0                    0.020333561800319852   0.0020925366193908393  0.0                    0.0035291675316587085  0.0                    0.0                     0.0                    0.019181881211000694   0.0                    0.0026392187912377936  0.0                    0.0                    0.011195606252640473   0.01164323374340949\n",
      "d__Bacteria|p__Firmicutes|c__Bacilli|o__Erysipelotrichales|f__Erysipelatoclostridiaceae|g__Coprobacillus                        0.0                    0.0                    0.0011049723756906078  0.0                    0.0011143302874972142  0.010557661072008662   0.002372791985235961   0.004034291477559254   0.00219191427179737    0.004470938897168405   0.0010421008753647354  0.0                    0.0041296716911005575  0.005457702803274621   0.005689576695493855   0.0025075225677031092  0.003207184092366902   0.0015489467162329617  0.005238828967642527   0.004344677769732078   0.005591798695246971   0.0                    0.009820912767186597   0.0                  0.004944110060189166   0.004963898916967509   0.005457025920873124   0.0033808258874667954  0.007359705611775529   0.003788775751835188   0.006693440428380187   0.021219055543998337   0.006036684467146506   0.0038219424460431656  0.015307288096870002   0.006510113926993723   0.00641025641025641    0.017645837658293542   0.0037497070541363956  0.0                     0.010752688172043012   0.0027732840305061245  0.0030234315948601664  0.004750593824228029   0.0032160804020100503  0.005397550342536849   0.004435994930291508   0.0021968365553602814\n"
     ]
    }
   ],
   "source": [
    "! column -t lefse_table.tsv | head"
   ]
  },
  {
   "cell_type": "markdown",
   "id": "hollywood-repeat",
   "metadata": {},
   "source": [
    "## Run LefSe on Galaxy\n",
    "\n",
    "Upload the `lefse_table.tsv` to [LEfSe-Galaxy](https://huttenhower.sph.harvard.edu/galaxy/), or try the newer version of their [Galaxy page](http://galaxy.biobakery.org/). You may have to force Galaxy to import the table as `tabular` within  `Datatype`."
   ]
  },
  {
   "cell_type": "code",
   "execution_count": null,
   "id": "israeli-watts",
   "metadata": {},
   "outputs": [],
   "source": []
  }
 ],
 "metadata": {
  "kernelspec": {
   "display_name": "Python [conda env:qiime2-amplicon-2024.2]",
   "language": "python",
   "name": "conda-env-qiime2-amplicon-2024.2-py"
  },
  "language_info": {
   "codemirror_mode": {
    "name": "ipython",
    "version": 3
   },
   "file_extension": ".py",
   "mimetype": "text/x-python",
   "name": "python",
   "nbconvert_exporter": "python",
   "pygments_lexer": "ipython3",
   "version": "3.8.15"
  }
 },
 "nbformat": 4,
 "nbformat_minor": 5
}
