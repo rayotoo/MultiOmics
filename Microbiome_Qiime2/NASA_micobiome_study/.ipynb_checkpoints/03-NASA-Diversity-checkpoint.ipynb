{
 "cells": [
  {
   "cell_type": "markdown",
   "metadata": {},
   "source": [
    "# Parkinson's Mouse Tutorial - Diversity\n",
    "\n",
    "Run this notebook in `qiime2-2023.2`.\n",
    "\n",
    "Continuing the [pd-mouse tutorial](https://docs.qiime2.org/2022.11/tutorials/pd-mice/), [here](https://docs.qiime2.org/2022.11/tutorials/pd-mice/#diversity-analysis).\n",
    "\n",
    "*Note, we'll use the output data from the \"de novo\" phylogeny steps. You can replace the inputs with the fragment-insertion outputs and see how these compare.*"
   ]
  },
  {
   "cell_type": "code",
   "execution_count": 1,
   "metadata": {},
   "outputs": [],
   "source": [
    "from os import getcwd, listdir, chdir, mkdir\n",
    "import qiime2 as q2"
   ]
  },
  {
   "cell_type": "code",
   "execution_count": 2,
   "metadata": {},
   "outputs": [
    {
     "data": {
      "text/plain": [
       "'/home/mrobeson/projects/pd_mouse_tutorial'"
      ]
     },
     "execution_count": 2,
     "metadata": {},
     "output_type": "execute_result"
    }
   ],
   "source": [
    "getcwd()"
   ]
  },
  {
   "cell_type": "code",
   "execution_count": 3,
   "metadata": {},
   "outputs": [
    {
     "data": {
      "text/plain": [
       "'/home/mrobeson/projects/pd_mouse_tutorial/processed'"
      ]
     },
     "execution_count": 3,
     "metadata": {},
     "output_type": "execute_result"
    }
   ],
   "source": [
    "chdir('./processed')\n",
    "getcwd()"
   ]
  },
  {
   "cell_type": "markdown",
   "metadata": {},
   "source": [
    "## Summarize table"
   ]
  },
  {
   "cell_type": "code",
   "execution_count": 8,
   "metadata": {},
   "outputs": [
    {
     "name": "stdout",
     "output_type": "stream",
     "text": [
      "\u001b[32mSaved Visualization to: ./table-no-ecmu-hits.qzv\u001b[0m\n",
      "\u001b[0m"
     ]
    }
   ],
   "source": [
    "! qiime feature-table summarize \\\n",
    "    --i-table ./table-no-ecmu-hits.qza \\\n",
    "    --o-visualization ./table-no-ecmu-hits.qzv \\\n",
    "    --m-sample-metadata-file metadata.tsv"
   ]
  },
  {
   "cell_type": "markdown",
   "metadata": {},
   "source": [
    "## Rarefaction\n",
    "\n",
    "See [alpha-rarefaction-and-selecting-a-rarefaction-depth](https://docs.qiime2.org/2022.11/tutorials/pd-mice/#alpha-rarefaction-and-selecting-a-rarefaction-depth)."
   ]
  },
  {
   "cell_type": "code",
   "execution_count": 10,
   "metadata": {},
   "outputs": [
    {
     "name": "stdout",
     "output_type": "stream",
     "text": [
      "\u001b[32mSaved Visualization to: ./alpha_rarefaction_curves.qzv\u001b[0m\n",
      "\u001b[0m"
     ]
    }
   ],
   "source": [
    "! qiime diversity alpha-rarefaction \\\n",
    "    --i-table ./table-no-ecmu-hits.qza \\\n",
    "    --m-metadata-file ./metadata.tsv \\\n",
    "    --o-visualization ./alpha_rarefaction_curves.qzv \\\n",
    "    --p-min-depth 10 \\\n",
    "    --p-max-depth 4996 \\\n",
    "    --p-steps 20"
   ]
  },
  {
   "cell_type": "code",
   "execution_count": null,
   "metadata": {
    "scrolled": true
   },
   "outputs": [],
   "source": [
    "q2.Visualization.load('alpha_rarefaction_curves.qzv')"
   ]
  },
  {
   "cell_type": "markdown",
   "metadata": {},
   "source": [
    "## Core diversity pipeline\n",
    "\n",
    "This is a pipeline that will run a suite of alpha and beta diversity analysis in one go."
   ]
  },
  {
   "cell_type": "code",
   "execution_count": 11,
   "metadata": {},
   "outputs": [
    {
     "name": "stdout",
     "output_type": "stream",
     "text": [
      "\u001b[32mSaved FeatureTable[Frequency] to: ./core-metrics-results/rarefied_table.qza\u001b[0m\n",
      "\u001b[32mSaved SampleData[AlphaDiversity] to: ./core-metrics-results/faith_pd_vector.qza\u001b[0m\n",
      "\u001b[32mSaved SampleData[AlphaDiversity] to: ./core-metrics-results/observed_features_vector.qza\u001b[0m\n",
      "\u001b[32mSaved SampleData[AlphaDiversity] to: ./core-metrics-results/shannon_vector.qza\u001b[0m\n",
      "\u001b[32mSaved SampleData[AlphaDiversity] to: ./core-metrics-results/evenness_vector.qza\u001b[0m\n",
      "\u001b[32mSaved DistanceMatrix to: ./core-metrics-results/unweighted_unifrac_distance_matrix.qza\u001b[0m\n",
      "\u001b[32mSaved DistanceMatrix to: ./core-metrics-results/weighted_unifrac_distance_matrix.qza\u001b[0m\n",
      "\u001b[32mSaved DistanceMatrix to: ./core-metrics-results/jaccard_distance_matrix.qza\u001b[0m\n",
      "\u001b[32mSaved DistanceMatrix to: ./core-metrics-results/bray_curtis_distance_matrix.qza\u001b[0m\n",
      "\u001b[32mSaved PCoAResults to: ./core-metrics-results/unweighted_unifrac_pcoa_results.qza\u001b[0m\n",
      "\u001b[32mSaved PCoAResults to: ./core-metrics-results/weighted_unifrac_pcoa_results.qza\u001b[0m\n",
      "\u001b[32mSaved PCoAResults to: ./core-metrics-results/jaccard_pcoa_results.qza\u001b[0m\n",
      "\u001b[32mSaved PCoAResults to: ./core-metrics-results/bray_curtis_pcoa_results.qza\u001b[0m\n",
      "\u001b[32mSaved Visualization to: ./core-metrics-results/unweighted_unifrac_emperor.qzv\u001b[0m\n",
      "\u001b[32mSaved Visualization to: ./core-metrics-results/weighted_unifrac_emperor.qzv\u001b[0m\n",
      "\u001b[32mSaved Visualization to: ./core-metrics-results/jaccard_emperor.qzv\u001b[0m\n",
      "\u001b[32mSaved Visualization to: ./core-metrics-results/bray_curtis_emperor.qzv\u001b[0m\n",
      "\u001b[0m"
     ]
    }
   ],
   "source": [
    "! qiime diversity core-metrics-phylogenetic \\\n",
    "    --i-table ./table-no-ecmu-hits.qza \\\n",
    "    --i-phylogeny ./mafft-fasttree-output/rooted_tree.qza \\\n",
    "    --m-metadata-file ./metadata.tsv \\\n",
    "    --p-sampling-depth 2000 \\\n",
    "    --output-dir ./core-metrics-results"
   ]
  },
  {
   "cell_type": "raw",
   "metadata": {},
   "source": [
    "q2.Visualization.load('./core-metrics-results/weighted_unifrac_emperor.qzv')"
   ]
  },
  {
   "cell_type": "markdown",
   "metadata": {},
   "source": [
    "**Let's create a biplot**\n",
    "\n",
    "This will be silimar to the DEICODE output, wchich we'll see later. In this case we'll make a biplot with weighted unifrac.\n",
    "\n",
    "That is map the top feature loadings onto our plot. *Note: we must use the rarefied feature-table produced from `core-metrics-phylogenetic`*"
   ]
  },
  {
   "cell_type": "code",
   "execution_count": 12,
   "metadata": {},
   "outputs": [
    {
     "name": "stdout",
     "output_type": "stream",
     "text": [
      "\u001b[32mSaved FeatureTable[RelativeFrequency] to: ./core-metrics-results/rarefied_table_rf.qza\u001b[0m\n",
      "\u001b[0m"
     ]
    }
   ],
   "source": [
    "# convert to relative frequency\n",
    "! qiime feature-table relative-frequency \\\n",
    "    --i-table ./core-metrics-results/rarefied_table.qza \\\n",
    "    --o-relative-frequency-table ./core-metrics-results/rarefied_table_rf.qza"
   ]
  },
  {
   "cell_type": "code",
   "execution_count": 13,
   "metadata": {},
   "outputs": [
    {
     "name": "stdout",
     "output_type": "stream",
     "text": [
      "\u001b[32mSaved PCoAResults % Properties('biplot') to: ./core-metrics-results/weighted_unifrac_pcoa_results_biplot.qza\u001b[0m\n",
      "\u001b[0m"
     ]
    }
   ],
   "source": [
    "# prepare biplot\n",
    "! qiime diversity pcoa-biplot \\\n",
    "    --i-pcoa ./core-metrics-results/weighted_unifrac_pcoa_results.qza  \\\n",
    "    --i-features ./core-metrics-results/rarefied_table_rf.qza \\\n",
    "    --o-biplot ./core-metrics-results/weighted_unifrac_pcoa_results_biplot.qza"
   ]
  },
  {
   "cell_type": "code",
   "execution_count": 14,
   "metadata": {},
   "outputs": [
    {
     "name": "stdout",
     "output_type": "stream",
     "text": [
      "\u001b[32mSaved Visualization to: ./core-metrics-results/weighted_unifrac_pcoa_results_biplot.qzv\u001b[0m\n",
      "\u001b[0m"
     ]
    }
   ],
   "source": [
    "! qiime emperor biplot \\\n",
    "    --i-biplot ./core-metrics-results/weighted_unifrac_pcoa_results_biplot.qza \\\n",
    "    --m-sample-metadata-file ./metadata.tsv \\\n",
    "    --m-feature-metadata-file ./taxonomy.qza \\\n",
    "    --p-number-of-features 8 \\\n",
    "    --o-visualization ./core-metrics-results/weighted_unifrac_pcoa_results_biplot.qzv"
   ]
  },
  {
   "cell_type": "raw",
   "metadata": {},
   "source": [
    "q2.Visualization.load('./core-metrics-results/weighted_unifrac_pcoa_results_biplot.qzv')"
   ]
  },
  {
   "cell_type": "markdown",
   "metadata": {},
   "source": [
    "### Alpha group sig\n",
    "\n",
    "Use the output from above to perform further analyses."
   ]
  },
  {
   "cell_type": "code",
   "execution_count": 15,
   "metadata": {},
   "outputs": [
    {
     "name": "stdout",
     "output_type": "stream",
     "text": [
      "\u001b[32mSaved Visualization to: ./core-metrics-results/faiths_pd_statistics.qzv\u001b[0m\n",
      "\u001b[0m"
     ]
    }
   ],
   "source": [
    "! qiime diversity alpha-group-significance \\\n",
    "    --i-alpha-diversity ./core-metrics-results/faith_pd_vector.qza \\\n",
    "    --m-metadata-file ./metadata.tsv \\\n",
    "    --o-visualization ./core-metrics-results/faiths_pd_statistics.qzv"
   ]
  },
  {
   "cell_type": "raw",
   "metadata": {},
   "source": [
    "q2.Visualization.load('./core-metrics-results/faiths_pd_statistics.qzv')"
   ]
  },
  {
   "cell_type": "raw",
   "metadata": {},
   "source": [
    "! qiime longitudinal anova \\\n",
    "    --m-metadata-file ./core-metrics-results/faith_pd_vector.qza \\\n",
    "    --m-metadata-file ./metadata.tsv \\\n",
    "    --p-formula 'faith_pd ~ genotype * donor_status' \\\n",
    "    --o-visualization ./core-metrics-results/faiths_pd_anova.qzv"
   ]
  },
  {
   "cell_type": "raw",
   "metadata": {},
   "source": [
    "q2.Visualization.load('./core-metrics-results/faiths_pd_anova.qzv')"
   ]
  },
  {
   "cell_type": "markdown",
   "metadata": {},
   "source": [
    "### Beta group sig\n",
    "\n",
    "Use the output from above to perform further analyses."
   ]
  },
  {
   "cell_type": "code",
   "execution_count": 19,
   "metadata": {},
   "outputs": [
    {
     "name": "stdout",
     "output_type": "stream",
     "text": [
      "\u001b[32mSaved Visualization to: core-metrics-results/unweighted-unifrac-donor-significance.qzv\u001b[0m\n",
      "\u001b[0m\u001b[32mSaved Visualization to: core-metrics-results/weighted-unifrac-donor-significance.qzv\u001b[0m\n",
      "\u001b[0m"
     ]
    }
   ],
   "source": [
    "!qiime diversity beta-group-significance \\\n",
    "    --i-distance-matrix core-metrics-results/unweighted_unifrac_distance_matrix.qza \\\n",
    "    --m-metadata-file metadata.tsv \\\n",
    "    --m-metadata-column donor \\\n",
    "    --p-pairwise \\\n",
    "    --o-visualization core-metrics-results/unweighted-unifrac-donor-significance.qzv\n",
    "\n",
    "!qiime diversity beta-group-significance \\\n",
    "    --i-distance-matrix core-metrics-results/weighted_unifrac_distance_matrix.qza \\\n",
    "    --m-metadata-file metadata.tsv \\\n",
    "    --m-metadata-column donor \\\n",
    "    --p-pairwise \\\n",
    "    --o-visualization core-metrics-results/weighted-unifrac-donor-significance.qzv"
   ]
  },
  {
   "cell_type": "raw",
   "metadata": {},
   "source": [
    "q2.Visualization.load('core-metrics-results/unweighted-unifrac-donor-significance.qzv')"
   ]
  },
  {
   "cell_type": "raw",
   "metadata": {},
   "source": [
    "q2.Visualization.load('core-metrics-results/weighted-unifrac-donor-significance.qzv')"
   ]
  },
  {
   "cell_type": "markdown",
   "metadata": {},
   "source": [
    "## Empress\n",
    "\n",
    "[GitHub repo](https://github.com/biocore/empress)"
   ]
  },
  {
   "cell_type": "code",
   "execution_count": 4,
   "metadata": {},
   "outputs": [
    {
     "name": "stdout",
     "output_type": "stream",
     "text": [
      "\u001b[32mSaved Visualization to: ./core-metrics-results/community-tree-viz.qzv\u001b[0m\n",
      "\u001b[0m"
     ]
    }
   ],
   "source": [
    "!qiime empress community-plot \\\n",
    "    --i-tree ./mafft-fasttree-output/rooted_tree.qza \\\n",
    "    --i-feature-table ./core-metrics-results/rarefied_table.qza \\\n",
    "    --m-sample-metadata-file ./metadata.tsv \\\n",
    "    --m-feature-metadata-file ./taxonomy.qza \\\n",
    "    --i-pcoa ./core-metrics-results/weighted_unifrac_pcoa_results.qza \\\n",
    "    --p-filter-extra-samples \\\n",
    "    --o-visualization ./core-metrics-results/community-tree-viz.qzv"
   ]
  },
  {
   "cell_type": "raw",
   "metadata": {},
   "source": [
    "q2.Visualization.load('./community-tree-viz.qzv')"
   ]
  },
  {
   "cell_type": "code",
   "execution_count": null,
   "metadata": {},
   "outputs": [],
   "source": []
  }
 ],
 "metadata": {
  "kernelspec": {
   "display_name": "Python [conda env:qiime2-2023.2]",
   "language": "python",
   "name": "conda-env-qiime2-2023.2-py"
  },
  "language_info": {
   "codemirror_mode": {
    "name": "ipython",
    "version": 3
   },
   "file_extension": ".py",
   "mimetype": "text/x-python",
   "name": "python",
   "nbconvert_exporter": "python",
   "pygments_lexer": "ipython3",
   "version": "3.8.15"
  }
 },
 "nbformat": 4,
 "nbformat_minor": 4
}
