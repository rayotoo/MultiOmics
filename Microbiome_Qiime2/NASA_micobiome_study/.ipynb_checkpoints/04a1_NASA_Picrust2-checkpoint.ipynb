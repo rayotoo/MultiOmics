{
 "cells": [
  {
   "cell_type": "markdown",
   "metadata": {},
   "source": [
    "# NASA Microbiome - PICRUSt 2\n",
    "\n",
    "Run this notebook in `qiime2-2023.2`!\n",
    "\n",
    "Continuing the [pd-mouse tutorial](https://docs.qiime2.org/2023.2/tutorials/pd-mice/). We'll discuss non-rarefaction based betadiversity and differential abundance. \n",
    "\n",
    "This notebook will focus on [PICRUSt 2](https://github.com/picrust/picrust2).\n",
    "\n",
    "- [q2-picrust2](https://github.com/picrust/picrust2/wiki/q2-picrust2-Tutorial)\n",
    "  - [Install PICRUS2 2 QIIME 2 plugin](https://library.qiime2.org/plugins/q2-picrust2/13/)\n",
    "- [Main picrust2 Tutorial](https://github.com/picrust/picrust2/wiki/PICRUSt2-Tutorial-(v2.5.2))\n",
    "  - [Stand-alone PICRUSt 2 environment install](https://github.com/picrust/picrust2/wiki/Installation).\n"
   ]
  },
  {
   "cell_type": "code",
   "execution_count": 7,
   "metadata": {},
   "outputs": [],
   "source": [
    "from os import getcwd, listdir, chdir, mkdir\n",
    "import qiime2 as q2"
   ]
  },
  {
   "cell_type": "code",
   "execution_count": 8,
   "metadata": {},
   "outputs": [
    {
     "data": {
      "text/plain": [
       "'/mnt/e/NASA_microbiome/processed'"
      ]
     },
     "execution_count": 8,
     "metadata": {},
     "output_type": "execute_result"
    }
   ],
   "source": [
    "getcwd()"
   ]
  },
  {
   "cell_type": "code",
   "execution_count": 10,
   "metadata": {},
   "outputs": [
    {
     "data": {
      "text/plain": [
       "'/mnt/e/NASA_microbiome/processed'"
      ]
     },
     "execution_count": 10,
     "metadata": {},
     "output_type": "execute_result"
    }
   ],
   "source": [
    "#chdir('./processed')\n",
    "getcwd()"
   ]
  },
  {
   "cell_type": "markdown",
   "metadata": {},
   "source": [
    "## Run full pipeline\n",
    "\n",
    "There is debate on weather or not to use the rarefied or unrarefied table. Try both the rarefied and non-rarefied data. We'll use the rarefied data for now. Note we need to sync our sequence file with the rarefied table.\n",
    "\n"
   ]
  },
  {
   "cell_type": "code",
   "execution_count": 11,
   "metadata": {},
   "outputs": [
    {
     "name": "stdout",
     "output_type": "stream",
     "text": [
      "\u001b[32mSaved FeatureData[Sequence] to: ./core-metrics-results/rarefied_seqs.qza\u001b[0m\n",
      "\u001b[0m"
     ]
    }
   ],
   "source": [
    "# filter seqs to match my rarefied table\n",
    "! qiime feature-table filter-seqs \\\n",
    "    --i-data ./rep_set-no-ecmu.qza \\\n",
    "    --i-table ./core-metrics-results/rarefied_table.qza \\\n",
    "    --o-filtered-data ./core-metrics-results/rarefied_seqs.qza"
   ]
  },
  {
   "cell_type": "code",
   "execution_count": 13,
   "metadata": {},
   "outputs": [
    {
     "name": "stdout",
     "output_type": "stream",
     "text": [
      "\u001b[32mSaved FeatureTable[Frequency] to: ./core-metrics-results/picrust2-output/ko_metagenome.qza\u001b[0m\n",
      "\u001b[32mSaved FeatureTable[Frequency] to: ./core-metrics-results/picrust2-output/ec_metagenome.qza\u001b[0m\n",
      "\u001b[32mSaved FeatureTable[Frequency] to: ./core-metrics-results/picrust2-output/pathway_abundance.qza\u001b[0m\n",
      "\u001b[0m"
     ]
    }
   ],
   "source": [
    "! qiime picrust2 full-pipeline \\\n",
    "  --i-table ./core-metrics-results/rarefied_table.qza \\\n",
    "  --i-seq ./core-metrics-results/rarefied_seqs.qza \\\n",
    "  --p-threads 4 \\\n",
    "  --output-dir ./core-metrics-results/picrust2-output "
   ]
  },
  {
   "cell_type": "code",
   "execution_count": 14,
   "metadata": {
    "scrolled": true
   },
   "outputs": [
    {
     "name": "stdout",
     "output_type": "stream",
     "text": [
      "\u001b[32mSaved Visualization to: ./core-metrics-results/picrust2-output/pathway_abundance.qzv\u001b[0m\n",
      "\u001b[0m"
     ]
    }
   ],
   "source": [
    "! qiime feature-table summarize \\\n",
    "   --i-table ./core-metrics-results/picrust2-output/pathway_abundance.qza \\\n",
    "   --o-visualization ./core-metrics-results/picrust2-output/pathway_abundance.qzv"
   ]
  },
  {
   "cell_type": "code",
   "execution_count": 15,
   "metadata": {},
   "outputs": [
    {
     "name": "stdout",
     "output_type": "stream",
     "text": [
      "\u001b[32mSaved FeatureTable[Frequency] to: ./core-metrics-results/picrust2-output/pathabund_core_metrics_out/rarefied_table.qza\u001b[0m\n",
      "\u001b[32mSaved SampleData[AlphaDiversity] to: ./core-metrics-results/picrust2-output/pathabund_core_metrics_out/observed_features_vector.qza\u001b[0m\n",
      "\u001b[32mSaved SampleData[AlphaDiversity] to: ./core-metrics-results/picrust2-output/pathabund_core_metrics_out/shannon_vector.qza\u001b[0m\n",
      "\u001b[32mSaved SampleData[AlphaDiversity] to: ./core-metrics-results/picrust2-output/pathabund_core_metrics_out/evenness_vector.qza\u001b[0m\n",
      "\u001b[32mSaved DistanceMatrix to: ./core-metrics-results/picrust2-output/pathabund_core_metrics_out/jaccard_distance_matrix.qza\u001b[0m\n",
      "\u001b[32mSaved DistanceMatrix to: ./core-metrics-results/picrust2-output/pathabund_core_metrics_out/bray_curtis_distance_matrix.qza\u001b[0m\n",
      "\u001b[32mSaved PCoAResults to: ./core-metrics-results/picrust2-output/pathabund_core_metrics_out/jaccard_pcoa_results.qza\u001b[0m\n",
      "\u001b[32mSaved PCoAResults to: ./core-metrics-results/picrust2-output/pathabund_core_metrics_out/bray_curtis_pcoa_results.qza\u001b[0m\n",
      "\u001b[32mSaved Visualization to: ./core-metrics-results/picrust2-output/pathabund_core_metrics_out/jaccard_emperor.qzv\u001b[0m\n",
      "\u001b[32mSaved Visualization to: ./core-metrics-results/picrust2-output/pathabund_core_metrics_out/bray_curtis_emperor.qzv\u001b[0m\n",
      "\u001b[0m"
     ]
    }
   ],
   "source": [
    "! qiime diversity core-metrics \\\n",
    "   --i-table ./core-metrics-results/picrust2-output/pathway_abundance.qza \\\n",
    "   --p-sampling-depth 102785 \\\n",
    "   --m-metadata-file NASA-Metadata.tsv \\\n",
    "   --output-dir ./core-metrics-results/picrust2-output/pathabund_core_metrics_out \\\n",
    "   --p-n-jobs 2"
   ]
  },
  {
   "cell_type": "code",
   "execution_count": 16,
   "metadata": {},
   "outputs": [],
   "source": [
    "# Export files out of Qiime"
   ]
  },
  {
   "cell_type": "code",
   "execution_count": 24,
   "metadata": {},
   "outputs": [
    {
     "name": "stdout",
     "output_type": "stream",
     "text": [
      "\u001b[32mExported ./core-metrics-results/picrust2-output/ko_metagenome.qza as BIOMV210DirFmt to directory ./mnt/e/NASA_microbiome/processed\u001b[0m\n",
      "\u001b[0m"
     ]
    }
   ],
   "source": [
    "! qiime tools export \\\n",
    "   --input-path ./core-metrics-results/picrust2-output/ko_metagenome.qza \\\n",
    "   --output-path ./mnt/e/NASA_microbiome/processed"
   ]
  },
  {
   "cell_type": "code",
   "execution_count": null,
   "metadata": {},
   "outputs": [],
   "source": [
    "! qiime tools export \\ \n",
    "   --input-path ./core-metrics-results/picrust2-output/pathway_abundance.qza \\ \n",
    "   --output-path ./exports"
   ]
  }
 ],
 "metadata": {
  "kernelspec": {
   "display_name": "Python [conda env:qiime2-amplicon-2024.2]",
   "language": "python",
   "name": "conda-env-qiime2-amplicon-2024.2-py"
  },
  "language_info": {
   "codemirror_mode": {
    "name": "ipython",
    "version": 3
   },
   "file_extension": ".py",
   "mimetype": "text/x-python",
   "name": "python",
   "nbconvert_exporter": "python",
   "pygments_lexer": "ipython3",
   "version": "3.8.15"
  }
 },
 "nbformat": 4,
 "nbformat_minor": 4
}
