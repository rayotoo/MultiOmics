{
 "cells": [
  {
   "cell_type": "markdown",
   "metadata": {
    "tags": []
   },
   "source": [
    "## EPIC beadchip DNA methylation Analysis. \n",
    "\n",
    "### Basic Steps.\n",
    "1. import idat files into an rgSet object\n",
    "2. Generate a QC report\n",
    "3. Get Annotation\n",
    "4. Normalization and correct probe type bias\n",
    "5. Identify Differentially methylated regions (DMR) and differentially methylated cytosines (DMC)"
   ]
  },
  {
   "cell_type": "code",
   "execution_count": 38,
   "metadata": {},
   "outputs": [],
   "source": [
    "#installing r kennel in for jupyter lab/notebooks\n",
    "#https://irkernel.github.io/installation/"
   ]
  },
  {
   "cell_type": "code",
   "execution_count": 39,
   "metadata": {
    "collapsed": true,
    "jupyter": {
     "outputs_hidden": true
    },
    "tags": []
   },
   "outputs": [
    {
     "name": "stderr",
     "output_type": "stream",
     "text": [
      "'getOption(\"repos\")' replaces Bioconductor standard repositories, see\n",
      "'?repositories' for details\n",
      "\n",
      "replacement repositories:\n",
      "    CRAN: https://cran.r-project.org\n",
      "\n",
      "\n",
      "Bioconductor version 3.15 (BiocManager 1.30.18), R 4.2.1 (2022-06-23)\n",
      "\n",
      "Warning message:\n",
      "\"package(s) not installed when version(s) same as current; use `force = TRUE` to\n",
      "  re-install: 'minfi' 'IlluminaHumanMethylationEPICmanifest'\n",
      "  'IlluminaHumanMethylationEPICanno.ilm10b4.hg19' 'wateRmelon' 'missMethyl'\n",
      "  'CpGassoc' 'stringr' 'ggfortify'\"\n",
      "Old packages: 'MASS', 'cluster', 'nlme', 'survival'\n",
      "\n"
     ]
    }
   ],
   "source": [
    "bio_pkgs <- c(\"minfi\",\n",
    "              \"IlluminaHumanMethylationEPICmanifest\",\n",
    "              \"IlluminaHumanMethylationEPICanno.ilm10b4.hg19\",\n",
    "              \"wateRmelon\",\n",
    "              \"missMethyl\",\n",
    "              \"CpGassoc\",\n",
    "              \"stringr\",\n",
    "              \"ggfortify\")\n",
    "\n",
    "#install packages\n",
    "BiocManager::install(bio_pkgs)"
   ]
  },
  {
   "cell_type": "code",
   "execution_count": null,
   "metadata": {},
   "outputs": [],
   "source": [
    "#Load all packages at once\n",
    "#invisible(lapply(pkgs, function(x) library(x, character.only=TRUE)))"
   ]
  },
  {
   "cell_type": "code",
   "execution_count": 3,
   "metadata": {
    "collapsed": true,
    "jupyter": {
     "outputs_hidden": true
    },
    "tags": []
   },
   "outputs": [
    {
     "name": "stderr",
     "output_type": "stream",
     "text": [
      "'getOption(\"repos\")' replaces Bioconductor standard repositories, see\n",
      "'?repositories' for details\n",
      "\n",
      "replacement repositories:\n",
      "    CRAN: https://cran.r-project.org\n",
      "\n",
      "\n",
      "Bioconductor version 3.15 (BiocManager 1.30.18), R 4.2.1 (2022-06-23)\n",
      "\n",
      "Installing package(s) 'BiocVersion', 'minfi'\n",
      "\n",
      "also installing the dependencies 'assertthat', 'bit', 'Rhtslib', 'rjson', 'prettyunits', 'dbplyr', 'filelock', 'sys', 'bit64', 'blob', 'pkgconfig', 'plogr', 'Rsamtools', 'GenomicAlignments', 'restfulr', 'progress', 'BiocFileCache', 'png', 'askpass', 'formatR', 'zlibbioc', 'rngtools', 'DBI', 'RSQLite', 'BiocIO', 'rtracklayer', 'biomaRt', 'KEGGREST', 'bitops', 'openssl', 'XML', 'httr', 'clipr', 'hms', 'tibble', 'vroom', 'cpp11', 'tzdb', 'generics', 'tidyselect', 'purrr', 'R.oo', 'R.methodsS3', 'lambda.r', 'futile.options', 'XVector', 'MatrixGenerics', 'foreach', 'iterators', 'locfit', 'matrixStats', 'doRNG', 'GenomicFeatures', 'AnnotationDbi', 'RCurl', 'GenomeInfoDbData', 'multtest', 'scrime', 'base64', 'sparseMatrixStats', 'annotate', 'plyr', 'readr', 'xml2', 'dplyr', 'tidyr', 'curl', 'R.utils', 'rhdf5', 'rhdf5filters', 'Rhdf5lib', 'futile.logger', 'snow', 'BiocGenerics', 'GenomicRanges', 'SummarizedExperiment', 'Biostrings', 'bumphunter', 'S4Vectors', 'GenomeInfoDb', 'Biobase', 'IRanges', 'beanplot', 'RColorBrewer', 'nor1mix', 'siggenes', 'limma', 'preprocessCore', 'illuminaio', 'DelayedMatrixStats', 'mclust', 'genefilter', 'reshape', 'quadprog', 'data.table', 'GEOquery', 'DelayedArray', 'HDF5Array', 'BiocParallel'\n",
      "\n",
      "\n"
     ]
    },
    {
     "name": "stdout",
     "output_type": "stream",
     "text": [
      "\n",
      "The downloaded binary packages are in\n",
      "\t/var/folders/60/239m7ccs0ksbbl7n3b9s1cqh0000gn/T//Rtmp5BqUfk/downloaded_packages\n"
     ]
    },
    {
     "name": "stderr",
     "output_type": "stream",
     "text": [
      "installing the source package 'GenomeInfoDbData'\n",
      "\n",
      "\n",
      "Old packages: 'MASS', 'cluster', 'nlme', 'survival'\n",
      "\n"
     ]
    }
   ],
   "source": [
    "#,\"IlluminaHumanMethylationEPICmanifest\",\"IlluminaHumanMethylationEPICanno.ilm10b4.hg19\",\"wateRmelon\",\"missMethyl\",\"CpGassoc\"\n",
    "if (!requireNamespace(\"BiocManager\", quietly = TRUE))\n",
    "install.packages(\"BiocManager\")\n",
    "BiocManager::install(\"minfi\")"
   ]
  },
  {
   "cell_type": "code",
   "execution_count": 8,
   "metadata": {
    "collapsed": true,
    "jupyter": {
     "outputs_hidden": true
    },
    "tags": []
   },
   "outputs": [
    {
     "name": "stderr",
     "output_type": "stream",
     "text": [
      "'getOption(\"repos\")' replaces Bioconductor standard repositories, see\n",
      "'?repositories' for details\n",
      "\n",
      "replacement repositories:\n",
      "    CRAN: https://cran.r-project.org\n",
      "\n",
      "\n",
      "Bioconductor version 3.15 (BiocManager 1.30.18), R 4.2.1 (2022-06-23)\n",
      "\n",
      "Installing package(s) 'IlluminaHumanMethylationEPICmanifest'\n",
      "\n",
      "installing the source package 'IlluminaHumanMethylationEPICmanifest'\n",
      "\n",
      "\n",
      "Old packages: 'MASS', 'cluster', 'nlme', 'survival'\n",
      "\n"
     ]
    }
   ],
   "source": [
    "if (!requireNamespace(\"BiocManager\", quietly = TRUE))\n",
    "install.packages(\"BiocManager\")\n",
    "BiocManager::install(\"IlluminaHumanMethylationEPICmanifest\")"
   ]
  },
  {
   "cell_type": "code",
   "execution_count": 10,
   "metadata": {},
   "outputs": [
    {
     "name": "stderr",
     "output_type": "stream",
     "text": [
      "'getOption(\"repos\")' replaces Bioconductor standard repositories, see\n",
      "'?repositories' for details\n",
      "\n",
      "replacement repositories:\n",
      "    CRAN: https://cran.r-project.org\n",
      "\n",
      "\n",
      "Bioconductor version 3.15 (BiocManager 1.30.18), R 4.2.1 (2022-06-23)\n",
      "\n",
      "Installing package(s) 'IlluminaHumanMethylationEPICanno.ilm10b4.hg19'\n",
      "\n",
      "installing the source package 'IlluminaHumanMethylationEPICanno.ilm10b4.hg19'\n",
      "\n",
      "\n",
      "Old packages: 'MASS', 'cluster', 'nlme', 'survival'\n",
      "\n"
     ]
    }
   ],
   "source": [
    "if (!requireNamespace(\"BiocManager\", quietly = TRUE))\n",
    "install.packages(\"BiocManager\")\n",
    "BiocManager::install(\"IlluminaHumanMethylationEPICanno.ilm10b4.hg19\")"
   ]
  },
  {
   "cell_type": "code",
   "execution_count": 11,
   "metadata": {},
   "outputs": [
    {
     "name": "stderr",
     "output_type": "stream",
     "text": [
      "'getOption(\"repos\")' replaces Bioconductor standard repositories, see\n",
      "'?repositories' for details\n",
      "\n",
      "replacement repositories:\n",
      "    CRAN: https://cran.r-project.org\n",
      "\n",
      "\n",
      "Bioconductor version 3.15 (BiocManager 1.30.18), R 4.2.1 (2022-06-23)\n",
      "\n",
      "Installing package(s) 'wateRmelon'\n",
      "\n",
      "also installing the dependencies 'colorspace', 'farver', 'labeling', 'munsell', 'viridisLite', 'gtable', 'isoband', 'TxDb.Hsapiens.UCSC.hg19.knownGene', 'org.Hs.eg.db', 'affyio', 'scales', 'reshape2', 'ggplot2', 'FDb.InfiniumMethylation.hg19', 'affy', 'nleqslv', 'methylumi', 'lumi', 'ROC', 'IlluminaHumanMethylation450kanno.ilmn12.hg19'\n",
      "\n",
      "\n"
     ]
    },
    {
     "name": "stdout",
     "output_type": "stream",
     "text": [
      "\n",
      "  There is a binary version available but the source version is later:\n",
      "            binary source needs_compilation\n",
      "viridisLite  0.4.0  0.4.1             FALSE\n",
      "\n",
      "\n",
      "The downloaded binary packages are in\n",
      "\t/var/folders/60/239m7ccs0ksbbl7n3b9s1cqh0000gn/T//Rtmp5BqUfk/downloaded_packages\n"
     ]
    },
    {
     "name": "stderr",
     "output_type": "stream",
     "text": [
      "installing the source packages 'viridisLite', 'TxDb.Hsapiens.UCSC.hg19.knownGene', 'org.Hs.eg.db', 'FDb.InfiniumMethylation.hg19', 'IlluminaHumanMethylation450kanno.ilmn12.hg19'\n",
      "\n",
      "\n",
      "Old packages: 'MASS', 'cluster', 'nlme', 'survival'\n",
      "\n"
     ]
    }
   ],
   "source": [
    "if (!requireNamespace(\"BiocManager\", quietly = TRUE))\n",
    "install.packages(\"BiocManager\")\n",
    "BiocManager::install(\"wateRmelon\")"
   ]
  },
  {
   "cell_type": "code",
   "execution_count": 12,
   "metadata": {},
   "outputs": [
    {
     "name": "stderr",
     "output_type": "stream",
     "text": [
      "'getOption(\"repos\")' replaces Bioconductor standard repositories, see\n",
      "'?repositories' for details\n",
      "\n",
      "replacement repositories:\n",
      "    CRAN: https://cran.r-project.org\n",
      "\n",
      "\n",
      "Bioconductor version 3.15 (BiocManager 1.30.18), R 4.2.1 (2022-06-23)\n",
      "\n",
      "Installing package(s) 'missMethyl'\n",
      "\n",
      "also installing the dependencies 'gridExtra', 'BiasedUrn', 'GO.db', 'IlluminaHumanMethylation450kmanifest', 'ruv', 'statmod'\n",
      "\n",
      "\n"
     ]
    },
    {
     "name": "stdout",
     "output_type": "stream",
     "text": [
      "\n",
      "The downloaded binary packages are in\n",
      "\t/var/folders/60/239m7ccs0ksbbl7n3b9s1cqh0000gn/T//Rtmp5BqUfk/downloaded_packages\n"
     ]
    },
    {
     "name": "stderr",
     "output_type": "stream",
     "text": [
      "installing the source packages 'GO.db', 'IlluminaHumanMethylation450kmanifest'\n",
      "\n",
      "\n",
      "Old packages: 'MASS', 'cluster', 'nlme', 'survival'\n",
      "\n"
     ]
    }
   ],
   "source": [
    "if (!requireNamespace(\"BiocManager\", quietly = TRUE))\n",
    "install.packages(\"BiocManager\")\n",
    "BiocManager::install(\"missMethyl\")"
   ]
  },
  {
   "cell_type": "code",
   "execution_count": 13,
   "metadata": {},
   "outputs": [
    {
     "name": "stderr",
     "output_type": "stream",
     "text": [
      "'getOption(\"repos\")' replaces Bioconductor standard repositories, see\n",
      "'?repositories' for details\n",
      "\n",
      "replacement repositories:\n",
      "    CRAN: https://cran.r-project.org\n",
      "\n",
      "\n",
      "Bioconductor version 3.15 (BiocManager 1.30.18), R 4.2.1 (2022-06-23)\n",
      "\n",
      "Installing package(s) 'CpGassoc'\n",
      "\n"
     ]
    },
    {
     "name": "stdout",
     "output_type": "stream",
     "text": [
      "\n",
      "The downloaded binary packages are in\n",
      "\t/var/folders/60/239m7ccs0ksbbl7n3b9s1cqh0000gn/T//Rtmp5BqUfk/downloaded_packages\n"
     ]
    },
    {
     "name": "stderr",
     "output_type": "stream",
     "text": [
      "Old packages: 'MASS', 'cluster', 'nlme', 'survival'\n",
      "\n"
     ]
    }
   ],
   "source": [
    "if (!requireNamespace(\"BiocManager\", quietly = TRUE))\n",
    "install.packages(\"BiocManager\")\n",
    "BiocManager::install(\"CpGassoc\")"
   ]
  },
  {
   "cell_type": "code",
   "execution_count": 15,
   "metadata": {},
   "outputs": [
    {
     "name": "stderr",
     "output_type": "stream",
     "text": [
      "'getOption(\"repos\")' replaces Bioconductor standard repositories, see\n",
      "'?repositories' for details\n",
      "\n",
      "replacement repositories:\n",
      "    CRAN: https://cran.r-project.org\n",
      "\n",
      "\n",
      "Bioconductor version 3.15 (BiocManager 1.30.18), R 4.2.1 (2022-06-23)\n",
      "\n",
      "Warning message:\n",
      "\"package(s) not installed when version(s) same as current; use `force = TRUE` to\n",
      "  re-install: 'stringr'\"\n",
      "Old packages: 'MASS', 'cluster', 'nlme', 'survival'\n",
      "\n"
     ]
    }
   ],
   "source": [
    "if (!requireNamespace(\"BiocManager\", quietly = TRUE))\n",
    "install.packages(\"BiocManager\")\n",
    "BiocManager::install(\"stringr\")"
   ]
  },
  {
   "cell_type": "code",
   "execution_count": 16,
   "metadata": {},
   "outputs": [
    {
     "name": "stderr",
     "output_type": "stream",
     "text": [
      "'getOption(\"repos\")' replaces Bioconductor standard repositories, see\n",
      "'?repositories' for details\n",
      "\n",
      "replacement repositories:\n",
      "    CRAN: https://cran.r-project.org\n",
      "\n",
      "\n",
      "Bioconductor version 3.15 (BiocManager 1.30.18), R 4.2.1 (2022-06-23)\n",
      "\n",
      "Installing package(s) 'ggfortify'\n",
      "\n"
     ]
    },
    {
     "name": "stdout",
     "output_type": "stream",
     "text": [
      "\n",
      "The downloaded binary packages are in\n",
      "\t/var/folders/60/239m7ccs0ksbbl7n3b9s1cqh0000gn/T//Rtmp5BqUfk/downloaded_packages\n"
     ]
    },
    {
     "name": "stderr",
     "output_type": "stream",
     "text": [
      "Old packages: 'MASS', 'cluster', 'nlme', 'survival'\n",
      "\n"
     ]
    }
   ],
   "source": [
    "if (!requireNamespace(\"BiocManager\", quietly = TRUE))\n",
    "install.packages(\"BiocManager\")\n",
    "BiocManager::install(\"ggfortify\")"
   ]
  },
  {
   "cell_type": "code",
   "execution_count": 42,
   "metadata": {
    "scrolled": true
   },
   "outputs": [],
   "source": [
    "# Load libraries\n",
    "\n",
    "# packages\n",
    "library(\"minfi\")\n",
    "library(\"IlluminaHumanMethylationEPICmanifest\")\n",
    "library(\"IlluminaHumanMethylationEPICanno.ilm10b4.hg19\")\n",
    "##library(\"GGally\")  # like ggplot ; NOTE: NOT installed yet\n",
    "library(\"wateRmelon\")  # normalize probe bias\n",
    "library(\"missMethyl\")  # gometh go terms\n",
    "library(\"CpGassoc\")\n",
    "##library(xlsx)\n",
    "library(stringr)\n",
    "library(ggfortify)  # for the autoplot function in PCA plots"
   ]
  },
  {
   "cell_type": "code",
   "execution_count": 19,
   "metadata": {},
   "outputs": [
    {
     "data": {
      "text/html": [
       "'/Users/raymondotoo/OneDrive - University of Arkansas for Medical Sciences/StepByrum_Courses/ST-ASB_Fall_2022/Jupyter_Notebooks/01_EPIC_DNAme'"
      ],
      "text/latex": [
       "'/Users/raymondotoo/OneDrive - University of Arkansas for Medical Sciences/StepByrum\\_Courses/ST-ASB\\_Fall\\_2022/Jupyter\\_Notebooks/01\\_EPIC\\_DNAme'"
      ],
      "text/markdown": [
       "'/Users/raymondotoo/OneDrive - University of Arkansas for Medical Sciences/StepByrum_Courses/ST-ASB_Fall_2022/Jupyter_Notebooks/01_EPIC_DNAme'"
      ],
      "text/plain": [
       "[1] \"/Users/raymondotoo/OneDrive - University of Arkansas for Medical Sciences/StepByrum_Courses/ST-ASB_Fall_2022/Jupyter_Notebooks/01_EPIC_DNAme\""
      ]
     },
     "metadata": {},
     "output_type": "display_data"
    }
   ],
   "source": [
    "getwd()"
   ]
  },
  {
   "cell_type": "markdown",
   "metadata": {},
   "source": [
    "<b> NOTE: Check all of the libraries loaded properly </b>"
   ]
  },
  {
   "cell_type": "markdown",
   "metadata": {},
   "source": [
    "<b> Illumina EPIC Bead Based Technology</b>\n",
    "<p> Illumina microarray technology (also known as BeadArray technology) uses silica microbeads. \n",
    "On the surface of each array, or BeadChip, hundreds of thousands to millions of genotypes for a single individual can be assayed at once. \n",
    "These tiny silica beads are housed in carefully etched microwells and coated with multiple copies of an oligonucleotide probe targeting a specific locus in the genome.</p>\n",
    "<p> As DNA fragments pass over the BeadChip, each probe binds to a complementary sequence in the sample DNA, stopping one base before the locus of interest. Allele specificity is conferred by a single base extension that incorporates one of four labeled nucleotides. When excited by a laser, the nucleotide label emits a signal. The intensity of that signal conveys information about the allelic ratio at that locus.</p>\n",
    "    "
   ]
  },
  {
   "cell_type": "code",
   "execution_count": 20,
   "metadata": {},
   "outputs": [],
   "source": [
    "## import EPIC data from a sample sheet and idat files\n",
    "\n",
    "idatPath <- \"download/\" # path of the folder\n",
    "targets <- read.csv(\"download/SampleSheet.csv\", strip.white=T, stringsAsFactors=F) #sample information\n",
    "targets$File_Name = paste(targets$Sentrix_ID, targets$Sentrix_Position, sep = \"_\")\n",
    "targets$Basename <- targets$File_Name # name of the files"
   ]
  },
  {
   "cell_type": "markdown",
   "metadata": {},
   "source": [
    "Load in the data and map the sample information to the raw idat sequencing files"
   ]
  },
  {
   "cell_type": "markdown",
   "metadata": {},
   "source": [
    "<b>The MINFI package is designed to be very flexible for methods developers. This flexibility comes at a cost for users; they need to understand a few different data classes:</b>\n",
    "\n",
    "<p><b>RGChannelSet :</b> raw data from the IDAT files; this data is organized at the probe (not CpG locus) level. This data has two channels: Red and Green.</p>\n",
    "<p><b>MethylSet :</b> data organized by the CpG locus level, but not mapped to a genome. This data has two channels: Meth (methylated) and Unmeth (unmethylated).</p>\n",
    "<p><b>RatioSet :</b> data organized by the CpG locus level, but not mapped to a genome. The data has at least one of two channels: Beta and/or M (logratio of Beta). It may optionally include a CN channel (copy number).</p>\n",
    "<p><b>GenomicMethylSet :</b> like a MethylSet, but mapped to a genome.</p>\n",
    "<p><b>GenomicRatioSet :</b> like a RatioSet, but mapped to the genome.</p>\n",
    "<p> We are using the RGChannel Set in this example </p>"
   ]
  },
  {
   "cell_type": "code",
   "execution_count": 21,
   "metadata": {
    "scrolled": true
   },
   "outputs": [
    {
     "name": "stderr",
     "output_type": "stream",
     "text": [
      "[read.metharray] Reading 203550290094_R01C01_Grn.idat\n",
      "\n",
      "Warning message in readChar(con, nchars = n):\n",
      "\"truncating string with embedded nuls\"\n",
      "[read.metharray] Reading 203550290094_R02C01_Grn.idat\n",
      "\n",
      "Warning message in readChar(con, nchars = n):\n",
      "\"truncating string with embedded nuls\"\n",
      "[read.metharray] Reading 203550290094_R03C01_Grn.idat\n",
      "\n",
      "Warning message in readChar(con, nchars = n):\n",
      "\"truncating string with embedded nuls\"\n",
      "[read.metharray] Reading 203550290094_R04C01_Grn.idat\n",
      "\n",
      "Warning message in readChar(con, nchars = n):\n",
      "\"truncating string with embedded nuls\"\n",
      "[read.metharray] Reading 203550290094_R05C01_Grn.idat\n",
      "\n",
      "Warning message in readChar(con, nchars = n):\n",
      "\"truncating string with embedded nuls\"\n",
      "[read.metharray] Reading 203550290094_R06C01_Grn.idat\n",
      "\n",
      "Warning message in readChar(con, nchars = n):\n",
      "\"truncating string with embedded nuls\"\n",
      "[read.metharray] Reading 203550290094_R07C01_Grn.idat\n",
      "\n",
      "Warning message in readChar(con, nchars = n):\n",
      "\"truncating string with embedded nuls\"\n",
      "[read.metharray] Reading 203550290094_R08C01_Grn.idat\n",
      "\n",
      "Warning message in readChar(con, nchars = n):\n",
      "\"truncating string with embedded nuls\"\n",
      "[read.metharray] Reading 203550290098_R01C01_Grn.idat\n",
      "\n",
      "Warning message in readChar(con, nchars = n):\n",
      "\"truncating string with embedded nuls\"\n",
      "[read.metharray] Reading 203550290098_R02C01_Grn.idat\n",
      "\n",
      "Warning message in readChar(con, nchars = n):\n",
      "\"truncating string with embedded nuls\"\n",
      "[read.metharray] Reading 203550290098_R03C01_Grn.idat\n",
      "\n",
      "Warning message in readChar(con, nchars = n):\n",
      "\"truncating string with embedded nuls\"\n",
      "[read.metharray] Reading 203550290098_R04C01_Grn.idat\n",
      "\n",
      "Warning message in readChar(con, nchars = n):\n",
      "\"truncating string with embedded nuls\"\n",
      "[read.metharray] Reading 203550290098_R05C01_Grn.idat\n",
      "\n",
      "Warning message in readChar(con, nchars = n):\n",
      "\"truncating string with embedded nuls\"\n",
      "[read.metharray] Reading 203550290098_R06C01_Grn.idat\n",
      "\n",
      "Warning message in readChar(con, nchars = n):\n",
      "\"truncating string with embedded nuls\"\n",
      "[read.metharray] Reading 203550290098_R07C01_Grn.idat\n",
      "\n",
      "Warning message in readChar(con, nchars = n):\n",
      "\"truncating string with embedded nuls\"\n",
      "[read.metharray] Reading 203550290098_R08C01_Grn.idat\n",
      "\n",
      "Warning message in readChar(con, nchars = n):\n",
      "\"truncating string with embedded nuls\"\n",
      "[read.metharray] Reading 203550290094_R01C01_Red.idat\n",
      "\n",
      "Warning message in readChar(con, nchars = n):\n",
      "\"truncating string with embedded nuls\"\n",
      "[read.metharray] Reading 203550290094_R02C01_Red.idat\n",
      "\n",
      "Warning message in readChar(con, nchars = n):\n",
      "\"truncating string with embedded nuls\"\n",
      "[read.metharray] Reading 203550290094_R03C01_Red.idat\n",
      "\n",
      "Warning message in readChar(con, nchars = n):\n",
      "\"truncating string with embedded nuls\"\n",
      "[read.metharray] Reading 203550290094_R04C01_Red.idat\n",
      "\n",
      "Warning message in readChar(con, nchars = n):\n",
      "\"truncating string with embedded nuls\"\n",
      "[read.metharray] Reading 203550290094_R05C01_Red.idat\n",
      "\n",
      "Warning message in readChar(con, nchars = n):\n",
      "\"truncating string with embedded nuls\"\n",
      "[read.metharray] Reading 203550290094_R06C01_Red.idat\n",
      "\n",
      "Warning message in readChar(con, nchars = n):\n",
      "\"truncating string with embedded nuls\"\n",
      "[read.metharray] Reading 203550290094_R07C01_Red.idat\n",
      "\n",
      "Warning message in readChar(con, nchars = n):\n",
      "\"truncating string with embedded nuls\"\n",
      "[read.metharray] Reading 203550290094_R08C01_Red.idat\n",
      "\n",
      "Warning message in readChar(con, nchars = n):\n",
      "\"truncating string with embedded nuls\"\n",
      "[read.metharray] Reading 203550290098_R01C01_Red.idat\n",
      "\n",
      "Warning message in readChar(con, nchars = n):\n",
      "\"truncating string with embedded nuls\"\n",
      "[read.metharray] Reading 203550290098_R02C01_Red.idat\n",
      "\n",
      "Warning message in readChar(con, nchars = n):\n",
      "\"truncating string with embedded nuls\"\n",
      "[read.metharray] Reading 203550290098_R03C01_Red.idat\n",
      "\n",
      "Warning message in readChar(con, nchars = n):\n",
      "\"truncating string with embedded nuls\"\n",
      "[read.metharray] Reading 203550290098_R04C01_Red.idat\n",
      "\n",
      "Warning message in readChar(con, nchars = n):\n",
      "\"truncating string with embedded nuls\"\n",
      "[read.metharray] Reading 203550290098_R05C01_Red.idat\n",
      "\n",
      "Warning message in readChar(con, nchars = n):\n",
      "\"truncating string with embedded nuls\"\n",
      "[read.metharray] Reading 203550290098_R06C01_Red.idat\n",
      "\n",
      "Warning message in readChar(con, nchars = n):\n",
      "\"truncating string with embedded nuls\"\n",
      "[read.metharray] Reading 203550290098_R07C01_Red.idat\n",
      "\n",
      "Warning message in readChar(con, nchars = n):\n",
      "\"truncating string with embedded nuls\"\n",
      "[read.metharray] Reading 203550290098_R08C01_Red.idat\n",
      "\n",
      "Warning message in readChar(con, nchars = n):\n",
      "\"truncating string with embedded nuls\"\n",
      "[read.metharray] Read idat files in 8.0 seconds\n",
      "\n",
      "[read.metharray] Creating data matrices ... \n",
      "done in 26.5 seconds\n",
      "\n",
      "[read.metharray] Instantiating final object ... \n",
      "done in 0.1 seconds\n",
      "\n"
     ]
    }
   ],
   "source": [
    "rgSet <- read.metharray.exp(base=idatPath, targets=targets, verbose=T) # read the idat file one by one "
   ]
  },
  {
   "cell_type": "code",
   "execution_count": 22,
   "metadata": {},
   "outputs": [],
   "source": [
    "# Save an object to a file\n",
    "saveRDS(rgSet, file = \"rgSet.rds\")"
   ]
  },
  {
   "cell_type": "code",
   "execution_count": 23,
   "metadata": {},
   "outputs": [],
   "source": [
    "# Restore the object\n",
    "rgSet <- readRDS(file = \"rgSet.rds\")"
   ]
  },
  {
   "cell_type": "markdown",
   "metadata": {},
   "source": [
    "<p>For a methylation array, we have two types of annotation packages: “manifest” packages which contains the array design and “annotation” packages which contains information about where the methylation loci are located on the genome, which genomic features they map to and possible whether they overlap any known SNPs.</p>\n",
    "<p>The IlluminaMethylationManifest object contains the array design, and describes how probes and color channels are paired together to measure the methylation level at a specific CpG. The object also contains information about control probes (also known as QC probes).</p>\n",
    "\n",
    "You can see which packages are being used by"
   ]
  },
  {
   "cell_type": "code",
   "execution_count": 24,
   "metadata": {
    "scrolled": true
   },
   "outputs": [
    {
     "data": {
      "text/html": [
       "<style>\n",
       ".dl-inline {width: auto; margin:0; padding: 0}\n",
       ".dl-inline>dt, .dl-inline>dd {float: none; width: auto; display: inline-block}\n",
       ".dl-inline>dt::after {content: \":\\0020\"; padding-right: .5ex}\n",
       ".dl-inline>dt:not(:first-of-type) {padding-left: .5ex}\n",
       "</style><dl class=dl-inline><dt>array</dt><dd>'IlluminaHumanMethylationEPIC'</dd><dt>annotation</dt><dd>'ilm10b4.hg19'</dd></dl>\n"
      ],
      "text/latex": [
       "\\begin{description*}\n",
       "\\item[array] 'IlluminaHumanMethylationEPIC'\n",
       "\\item[annotation] 'ilm10b4.hg19'\n",
       "\\end{description*}\n"
      ],
      "text/markdown": [
       "array\n",
       ":   'IlluminaHumanMethylationEPIC'annotation\n",
       ":   'ilm10b4.hg19'\n",
       "\n"
      ],
      "text/plain": [
       "                         array                     annotation \n",
       "\"IlluminaHumanMethylationEPIC\"                 \"ilm10b4.hg19\" "
      ]
     },
     "metadata": {},
     "output_type": "display_data"
    }
   ],
   "source": [
    "annotation(rgSet) # 229 missing annotation"
   ]
  },
  {
   "cell_type": "code",
   "execution_count": 25,
   "metadata": {
    "scrolled": true
   },
   "outputs": [
    {
     "name": "stderr",
     "output_type": "stream",
     "text": [
      "Warning message in type.convert.default(X[[i]], ...):\n",
      "\"'as.is' should be specified by the caller; using TRUE\"\n",
      "Warning message in type.convert.default(X[[i]], ...):\n",
      "\"'as.is' should be specified by the caller; using TRUE\"\n",
      "Warning message in type.convert.default(X[[i]], ...):\n",
      "\"'as.is' should be specified by the caller; using TRUE\"\n",
      "Warning message in type.convert.default(X[[i]], ...):\n",
      "\"'as.is' should be specified by the caller; using TRUE\"\n",
      "Warning message in type.convert.default(X[[i]], ...):\n",
      "\"'as.is' should be specified by the caller; using TRUE\"\n",
      "Warning message in type.convert.default(X[[i]], ...):\n",
      "\"'as.is' should be specified by the caller; using TRUE\"\n",
      "Warning message in type.convert.default(X[[i]], ...):\n",
      "\"'as.is' should be specified by the caller; using TRUE\"\n",
      "Warning message in type.convert.default(X[[i]], ...):\n",
      "\"'as.is' should be specified by the caller; using TRUE\"\n",
      "Warning message in type.convert.default(X[[i]], ...):\n",
      "\"'as.is' should be specified by the caller; using TRUE\"\n",
      "Warning message in type.convert.default(X[[i]], ...):\n",
      "\"'as.is' should be specified by the caller; using TRUE\"\n",
      "Warning message in type.convert.default(X[[i]], ...):\n",
      "\"'as.is' should be specified by the caller; using TRUE\"\n",
      "Warning message in type.convert.default(X[[i]], ...):\n",
      "\"'as.is' should be specified by the caller; using TRUE\"\n",
      "Warning message in type.convert.default(X[[i]], ...):\n",
      "\"'as.is' should be specified by the caller; using TRUE\"\n",
      "Warning message in type.convert.default(X[[i]], ...):\n",
      "\"'as.is' should be specified by the caller; using TRUE\"\n",
      "Warning message in type.convert.default(X[[i]], ...):\n",
      "\"'as.is' should be specified by the caller; using TRUE\"\n",
      "Warning message in type.convert.default(X[[i]], ...):\n",
      "\"'as.is' should be specified by the caller; using TRUE\"\n",
      "Warning message in type.convert.default(X[[i]], ...):\n",
      "\"'as.is' should be specified by the caller; using TRUE\"\n",
      "Warning message in type.convert.default(X[[i]], ...):\n",
      "\"'as.is' should be specified by the caller; using TRUE\"\n",
      "Warning message in type.convert.default(X[[i]], ...):\n",
      "\"'as.is' should be specified by the caller; using TRUE\"\n",
      "Warning message in type.convert.default(X[[i]], ...):\n",
      "\"'as.is' should be specified by the caller; using TRUE\"\n",
      "Warning message in type.convert.default(X[[i]], ...):\n",
      "\"'as.is' should be specified by the caller; using TRUE\"\n",
      "Warning message in type.convert.default(X[[i]], ...):\n",
      "\"'as.is' should be specified by the caller; using TRUE\"\n",
      "Warning message in type.convert.default(X[[i]], ...):\n",
      "\"'as.is' should be specified by the caller; using TRUE\"\n",
      "Warning message in type.convert.default(X[[i]], ...):\n",
      "\"'as.is' should be specified by the caller; using TRUE\"\n",
      "Warning message in type.convert.default(X[[i]], ...):\n",
      "\"'as.is' should be specified by the caller; using TRUE\"\n",
      "Warning message in type.convert.default(X[[i]], ...):\n",
      "\"'as.is' should be specified by the caller; using TRUE\"\n",
      "Warning message in type.convert.default(X[[i]], ...):\n",
      "\"'as.is' should be specified by the caller; using TRUE\"\n",
      "Warning message in type.convert.default(X[[i]], ...):\n",
      "\"'as.is' should be specified by the caller; using TRUE\"\n",
      "Warning message in type.convert.default(X[[i]], ...):\n",
      "\"'as.is' should be specified by the caller; using TRUE\"\n",
      "Warning message in type.convert.default(X[[i]], ...):\n",
      "\"'as.is' should be specified by the caller; using TRUE\"\n",
      "Warning message in type.convert.default(X[[i]], ...):\n",
      "\"'as.is' should be specified by the caller; using TRUE\"\n",
      "Warning message in type.convert.default(X[[i]], ...):\n",
      "\"'as.is' should be specified by the caller; using TRUE\"\n",
      "Warning message in type.convert.default(X[[i]], ...):\n",
      "\"'as.is' should be specified by the caller; using TRUE\"\n",
      "Warning message in type.convert.default(X[[i]], ...):\n",
      "\"'as.is' should be specified by the caller; using TRUE\"\n"
     ]
    },
    {
     "data": {
      "text/html": [
       "<strong>pdf:</strong> 2"
      ],
      "text/latex": [
       "\\textbf{pdf:} 2"
      ],
      "text/markdown": [
       "**pdf:** 2"
      ],
      "text/plain": [
       "pdf \n",
       "  2 "
      ]
     },
     "metadata": {},
     "output_type": "display_data"
    }
   ],
   "source": [
    "qcReport(rgSet, pdf = \"qcReport_test.pdf\")"
   ]
  },
  {
   "cell_type": "markdown",
   "metadata": {},
   "source": [
    "<b> EPIC array Type I and Type II probes </b>\n",
    "<img src=\"https://d3i71xaburhd42.cloudfront.net/db5bc189d321d5032eecf9f20a388a7620ca711b/3-Figure1-1.png\" alt=\"EPIC probes\" width=\"1000\" height=\"1000\">"
   ]
  },
  {
   "cell_type": "markdown",
   "metadata": {},
   "source": [
    "<p> Using minfi, we create the following control strip plot and beta density plot. \n",
    "For the control strip plot each of the control probe types (e.g bisulfite conversion I, conversion, extension, etc) will have its own plot.  Each row represents a sample and each red and green point represents the unmethylated and methylated signal intensity, respectively, for a probe of that control type. </p> \n",
    "<p>    A good result is when the distribution of values for each of those control probes are similar between red and green points.  This indicates that there are no biases that result in the unmethylated or methylated signal being more readily detected than the other. </p>\n",
    "<img src=\"https://encrypted-tbn0.gstatic.com/images?q=tbn:ANd9GcRmqv7fIYkIy8_8-ETcrnEbDnNyTiLrftLtvw&usqp=CAU\" alt=\"control strip plot\" width=\"500\" height=\"500\">"
   ]
  },
  {
   "cell_type": "code",
   "execution_count": 26,
   "metadata": {},
   "outputs": [],
   "source": [
    "# extracting control CpGs (log2(r,g))\n",
    "controls = c(\"BISULFITE CONVERSION I\", \"BISULFITE CONVERSION II\", \"EXTENSION\", \"HYBRIDIZATION\",  \"NON-POLYMORPHIC\", \"SPECIFICITY I\",\n",
    "             \"SPECIFICITY II\", \"TARGET REMOVAL\")\n",
    "r <- getRed(rgSet)\n",
    "g <- getGreen(rgSet)"
   ]
  },
  {
   "cell_type": "code",
   "execution_count": 27,
   "metadata": {},
   "outputs": [
    {
     "name": "stderr",
     "output_type": "stream",
     "text": [
      "Warning message in .getSex(CN = CN, xIndex = xIndex, yIndex = yIndex, cutoff = cutoff):\n",
      "\"An inconsistency was encountered while determining sex. One possibility is that only one sex is present. We recommend further checks, for example with the plotSex function.\"\n"
     ]
    },
    {
     "data": {
      "text/html": [
       "<style>\n",
       ".list-inline {list-style: none; margin:0; padding: 0}\n",
       ".list-inline>li {display: inline-block}\n",
       ".list-inline>li:not(:last-child)::after {content: \"\\00b7\"; padding: 0 .5ex}\n",
       "</style>\n",
       "<ol class=list-inline><li>'F'</li><li>'F'</li><li>'F'</li><li>'F'</li><li>'F'</li><li>'F'</li><li>'F'</li><li>'F'</li><li>'F'</li><li>'F'</li><li>'F'</li><li>'F'</li><li>'F'</li><li>'F'</li><li>'F'</li><li>'F'</li></ol>\n"
      ],
      "text/latex": [
       "\\begin{enumerate*}\n",
       "\\item 'F'\n",
       "\\item 'F'\n",
       "\\item 'F'\n",
       "\\item 'F'\n",
       "\\item 'F'\n",
       "\\item 'F'\n",
       "\\item 'F'\n",
       "\\item 'F'\n",
       "\\item 'F'\n",
       "\\item 'F'\n",
       "\\item 'F'\n",
       "\\item 'F'\n",
       "\\item 'F'\n",
       "\\item 'F'\n",
       "\\item 'F'\n",
       "\\item 'F'\n",
       "\\end{enumerate*}\n"
      ],
      "text/markdown": [
       "1. 'F'\n",
       "2. 'F'\n",
       "3. 'F'\n",
       "4. 'F'\n",
       "5. 'F'\n",
       "6. 'F'\n",
       "7. 'F'\n",
       "8. 'F'\n",
       "9. 'F'\n",
       "10. 'F'\n",
       "11. 'F'\n",
       "12. 'F'\n",
       "13. 'F'\n",
       "14. 'F'\n",
       "15. 'F'\n",
       "16. 'F'\n",
       "\n",
       "\n"
      ],
      "text/plain": [
       " [1] \"F\" \"F\" \"F\" \"F\" \"F\" \"F\" \"F\" \"F\" \"F\" \"F\" \"F\" \"F\" \"F\" \"F\" \"F\" \"F\""
      ]
     },
     "metadata": {},
     "output_type": "display_data"
    }
   ],
   "source": [
    "# Get Annotation and load clinical data\n",
    "anno = getAnnotation(rgSet) \n",
    "\n",
    "predictedSex <- getSex(mapToGenome(rgSet)); predictedSex$predictedSex"
   ]
  },
  {
   "cell_type": "markdown",
   "metadata": {},
   "source": [
    "<b> minfi </b> <i> preprocessNoob </i> <p> Noob (normal-exponential out-of-band) is a background correction method with dye-bias normalization for Illumina Infinium methylation arrays </p>\n",
    "<p><b> minfi </b> <i> detectionP:</i> Detection p-values for all probed genomic positions. </p> <p>This function identifies failed positions defined as both the methylated and unmethylated channel reporting background signal levels.</p>"
   ]
  },
  {
   "cell_type": "code",
   "execution_count": 28,
   "metadata": {},
   "outputs": [],
   "source": [
    "\n",
    "############################## Normalization ##############################\n",
    "# Normalization/Detection p-Value\n",
    "\n",
    "methylSet_noob <- preprocessNoob(rgSet)\n",
    "\n",
    "betas = getBeta(methylSet_noob)\n",
    "detect.p <- detectionP(rgSet, type = \"m+u\")\n"
   ]
  },
  {
   "cell_type": "markdown",
   "metadata": {},
   "source": [
    "How are the values calculated? For <i> getBeta</i> setting type=\"Illumina\" sets offset=100 as per Genome Studio. For <i>getM </i>setting type=\"\" computes M-values as the logarithm of Meth/Unmeth, otherwise it is computed as the logit of getBeta(object)."
   ]
  },
  {
   "cell_type": "code",
   "execution_count": 29,
   "metadata": {},
   "outputs": [
    {
     "data": {
      "text/html": [
       "0"
      ],
      "text/latex": [
       "0"
      ],
      "text/markdown": [
       "0"
      ],
      "text/plain": [
       "[1] 0"
      ]
     },
     "metadata": {},
     "output_type": "display_data"
    }
   ],
   "source": [
    "#checking for poor patients or poor Cpgs\n",
    "\n",
    "subjectPoorCpgPercentage = apply(detect.p > 1E-5, 2, sum)/dim(detect.p)[1]\n",
    "sum(subjectPoorCpgPercentage>0.2)"
   ]
  },
  {
   "cell_type": "code",
   "execution_count": 30,
   "metadata": {},
   "outputs": [
    {
     "data": {
      "text/html": [
       "<strong>pdf:</strong> 2"
      ],
      "text/latex": [
       "\\textbf{pdf:} 2"
      ],
      "text/markdown": [
       "**pdf:** 2"
      ],
      "text/plain": [
       "pdf \n",
       "  2 "
      ]
     },
     "metadata": {},
     "output_type": "display_data"
    }
   ],
   "source": [
    "jpeg(\"boxplot_subjectPoorCpgPercentage2.jpeg\") # pdf(\"boxplot_subjectPoorCpgPercentage.pdf\")\n",
    "par(mfrow = c(1,2))\n",
    "boxplot(subjectPoorCpgPercentage*100, ylab = \"Percentage of p-values>1E-5 per subject\", ylim = c(0,100))\n",
    "boxplot(subjectPoorCpgPercentage*100, ylab = \"Percentage of p-values>1E-5 per subject\")\n",
    "mtext(\"Boxplot of poor CpG percentage per subject\", side = 3, line = -2, outer = TRUE, cex = 1.5)\n",
    "par(mfrow = c(1,1))\n",
    "dev.off()"
   ]
  },
  {
   "cell_type": "code",
   "execution_count": 31,
   "metadata": {},
   "outputs": [
    {
     "data": {
      "image/png": "[encoded data removed]",
      "text/plain": [
       "plot without title"
      ]
     },
     "metadata": {
      "image/png": {
       "height": 420,
       "width": 420
      }
     },
     "output_type": "display_data"
    }
   ],
   "source": [
    "par(mfrow = c(1,2))\n",
    "boxplot(subjectPoorCpgPercentage*100, ylab = \"Percentage of p-values>1E-5 per subject\", ylim = c(0,100))\n",
    "boxplot(subjectPoorCpgPercentage*100, ylab = \"Percentage of p-values>1E-5 per subject\")\n",
    "mtext(\"Boxplot of poor CpG percentage per subject\", side = 3, line = -2, outer = TRUE, cex = 1.5)\n",
    "par(mfrow = c(1,1))"
   ]
  },
  {
   "cell_type": "code",
   "execution_count": 32,
   "metadata": {},
   "outputs": [],
   "source": [
    "medianCpgDetPval = apply(detect.p, 1, median)\n",
    "poorCpgIndex = medianCpgDetPval>0.05"
   ]
  },
  {
   "cell_type": "code",
   "execution_count": 33,
   "metadata": {},
   "outputs": [
    {
     "data": {
      "text/html": [
       "<strong>pdf:</strong> 2"
      ],
      "text/latex": [
       "\\textbf{pdf:} 2"
      ],
      "text/markdown": [
       "**pdf:** 2"
      ],
      "text/plain": [
       "pdf \n",
       "  2 "
      ]
     },
     "metadata": {},
     "output_type": "display_data"
    }
   ],
   "source": [
    "jpeg(\"boxplot_medianCpgDetPval2.jpeg\") # pdf(\"boxplot_medianCpgDetPval.pdf\")\n",
    "boxplot(medianCpgDetPval, ylab = \"Median CpG detection p-value across subjects\", \n",
    "        main = \"Boxplot of median CpG detection p-value across subjects\")\n",
    "abline(h=0.05, col = \"red\")\n",
    "text(1.2, 0.5, paste(\"n=\",sum(poorCpgIndex),sep = \"\"))\n",
    "dev.off()"
   ]
  },
  {
   "cell_type": "code",
   "execution_count": 34,
   "metadata": {},
   "outputs": [
    {
     "data": {
      "image/png": "[encoded data removed]",
      "text/plain": [
       "Plot with title \"Boxplot of median CpG detection p-value across subjects\""
      ]
     },
     "metadata": {
      "image/png": {
       "height": 420,
       "width": 420
      }
     },
     "output_type": "display_data"
    }
   ],
   "source": [
    "\n",
    "boxplot(medianCpgDetPval, ylab = \"Median CpG detection p-value across subjects\", \n",
    "        main = \"Boxplot of median CpG detection p-value across subjects\")\n",
    "abline(h=0.05, col = \"red\")\n",
    "text(1.2, 0.5, paste(\"n=\",sum(poorCpgIndex),sep = \"\"))"
   ]
  },
  {
   "cell_type": "code",
   "execution_count": 35,
   "metadata": {},
   "outputs": [],
   "source": [
    "# Beta matrix\n",
    "if(!(identical(rownames(betas), names(poorCpgIndex)))) stop(\"betas dont match p-values\")\n",
    "betas_filtered = betas[!poorCpgIndex,] # 866091 -> 865306\n"
   ]
  },
  {
   "cell_type": "code",
   "execution_count": 36,
   "metadata": {},
   "outputs": [],
   "source": [
    "# missing anno CpGs\n",
    "cpgsWithoutAnno = rownames(betas_filtered)[!(rownames(betas_filtered) %in% anno$Name)]\n",
    "betas_filtered = betas_filtered[!(rownames(betas_filtered) %in% cpgsWithoutAnno),]\n"
   ]
  },
  {
   "cell_type": "code",
   "execution_count": 40,
   "metadata": {},
   "outputs": [],
   "source": [
    "# Probe design matrix\n",
    "if(!(identical(anno$Name[anno$Name %in% rownames(betas_filtered)], rownames(betas_filtered)))) stop(\"annotation dont match p-values\")\n",
    "infTypes = ifelse(anno$Type[anno$Name %in% rownames(betas_filtered)] == \"I\", 1, 2)\n"
   ]
  },
  {
   "cell_type": "markdown",
   "metadata": {},
   "source": [
    "<b>Reduction of probe type bias:</b> <p>An important objective of normalizing the Illumina 450K data is to reduce the bias caused by the use of the 2 types of probes. Therefore, we drew density plots of methylation b-values for each sample using raw and normalized 450K data(Fig.5),where the red line represents the densities of Type I probes for a sample and a blue line represents the densities of Type II probes for a sample. It is shown that QN, ASMN, Dasen,and SWAN do not fully remove probe type bias; in contrast QN.BMIQ, BMIQ, PBC, and SQN eliminate the bias between the 2 probe types. These results are similar to those reported by other researchers. However, for SQN, although the bias is reduced, the correlation/difference between the WGBS and its normalized 450K data, and that between technical replicates, is severely compromised, which was already shown in the above analyses. Hence, PBC and QN. BMIQ could be the most efficient normalization methods.</p> <p> https://doi.org/10.1080/15592294.2015.1057384 </p>\n",
    "<img src=\"https://www.tandfonline.com/na101/home/literatum/publisher/tandf/journals/content/kepi20/2015/kepi20.v010.i07/15592294.2015.1057384/20151020/images/medium/kepi_a_1057384_f0005_oc.gif\" alt=\"BMIQ\" width=\"700\" height=\"700\">\n",
    "\n",
    "<p> <b>BMIQ</b> is an intra-sample normalisation procedure, correcting the bias of type-2 probe values. BMIQ uses a 3-step procedure: (i) fitting of a 3-state beta mixture model, (ii) transformation of statemembership probabilities of type2 probes into quantiles of the type1 distribution, and (iii) a conformal transformation for the hemi-methylated probes.</p>"
   ]
  },
  {
   "cell_type": "code",
   "execution_count": 46,
   "metadata": {},
   "outputs": [
    {
     "name": "stderr",
     "output_type": "stream",
     "text": [
      "'getOption(\"repos\")' replaces Bioconductor standard repositories, see\n",
      "'?repositories' for details\n",
      "\n",
      "replacement repositories:\n",
      "    CRAN: https://cran.r-project.org\n",
      "\n",
      "\n",
      "Bioconductor version 3.15 (BiocManager 1.30.18), R 4.2.1 (2022-06-23)\n",
      "\n",
      "Installing package(s) 'RPMM'\n",
      "\n"
     ]
    },
    {
     "name": "stdout",
     "output_type": "stream",
     "text": [
      "\n",
      "The downloaded binary packages are in\n",
      "\t/var/folders/60/239m7ccs0ksbbl7n3b9s1cqh0000gn/T//Rtmp5BqUfk/downloaded_packages\n"
     ]
    },
    {
     "name": "stderr",
     "output_type": "stream",
     "text": [
      "Old packages: 'MASS', 'cluster', 'nlme', 'survival'\n",
      "\n"
     ]
    }
   ],
   "source": [
    "if (!requireNamespace(\"BiocManager\", quietly = TRUE))\n",
    "install.packages(\"BiocManager\")\n",
    "BiocManager::install(\"RPMM\")"
   ]
  },
  {
   "cell_type": "code",
   "execution_count": 47,
   "metadata": {
    "scrolled": true
   },
   "outputs": [
    {
     "name": "stderr",
     "output_type": "stream",
     "text": [
      "Loading required package: cluster\n",
      "\n"
     ]
    },
    {
     "name": "stdout",
     "output_type": "stream",
     "text": [
      "[1] 1\n",
      "[1] \"Fitting EM beta mixture to type1 probes\"\n",
      "[1] Inf\n",
      "[1] 0.007657375\n",
      "[1] 0.0087986\n",
      "[1] 0.008156003\n",
      "[1] 0.007042205\n",
      "[1] \"Done\"\n",
      "[1] \"Fitting EM beta mixture to type2 probes\"\n",
      "[1] Inf\n",
      "[1] 0.01320339\n",
      "[1] 0.01051004\n",
      "[1] 0.008888694\n",
      "[1] 0.007622791\n",
      "[1] \"Done\"\n",
      "[1] \"Start normalising type 2 probes\"\n",
      "[1] \"Finished for sample 1\"\n",
      "[1] 2\n",
      "[1] \"Fitting EM beta mixture to type1 probes\"\n",
      "[1] Inf\n",
      "[1] 0.007732017\n",
      "[1] 0.009233958\n",
      "[1] 0.008561483\n",
      "[1] 0.007306244\n",
      "[1] \"Done\"\n",
      "[1] \"Fitting EM beta mixture to type2 probes\"\n",
      "[1] Inf\n",
      "[1] 0.01212118\n",
      "[1] 0.009369221\n",
      "[1] 0.007819405\n",
      "[1] 0.006676536\n",
      "[1] \"Done\"\n",
      "[1] \"Start normalising type 2 probes\"\n",
      "[1] \"Finished for sample 1\"\n",
      "[1] 3\n",
      "[1] \"Fitting EM beta mixture to type1 probes\"\n",
      "[1] Inf\n",
      "[1] 0.008226426\n",
      "[1] 0.009619575\n",
      "[1] 0.008959723\n",
      "[1] 0.007640638\n",
      "[1] \"Done\"\n",
      "[1] \"Fitting EM beta mixture to type2 probes\"\n",
      "[1] Inf\n",
      "[1] 0.01313979\n",
      "[1] 0.01042578\n",
      "[1] 0.008802014\n",
      "[1] 0.007517582\n",
      "[1] \"Done\"\n",
      "[1] \"Start normalising type 2 probes\"\n",
      "[1] \"Finished for sample 1\"\n",
      "[1] 4\n",
      "[1] \"Fitting EM beta mixture to type1 probes\"\n",
      "[1] Inf\n",
      "[1] 0.007635027\n",
      "[1] 0.00945921\n",
      "[1] 0.009038937\n",
      "[1] 0.00788678\n",
      "[1] \"Done\"\n",
      "[1] \"Fitting EM beta mixture to type2 probes\"\n",
      "[1] Inf\n",
      "[1] 0.0129083\n",
      "[1] 0.01002504\n",
      "[1] 0.008329573\n",
      "[1] 0.007047078\n",
      "[1] \"Done\"\n",
      "[1] \"Start normalising type 2 probes\"\n",
      "[1] \"Finished for sample 1\"\n",
      "[1] 5\n",
      "[1] \"Fitting EM beta mixture to type1 probes\"\n",
      "[1] Inf\n",
      "[1] 0.00779116\n",
      "[1] 0.009039408\n",
      "[1] 0.008028107\n",
      "[1] 0.006473645\n",
      "[1] \"Done\"\n",
      "[1] \"Fitting EM beta mixture to type2 probes\"\n",
      "[1] Inf\n",
      "[1] 0.01584338\n",
      "[1] 0.01150479\n",
      "[1] 0.009153565\n",
      "[1] 0.007473954\n",
      "[1] \"Done\"\n",
      "[1] \"Start normalising type 2 probes\"\n",
      "[1] \"Finished for sample 1\"\n",
      "[1] 6\n",
      "[1] \"Fitting EM beta mixture to type1 probes\"\n",
      "[1] Inf\n",
      "[1] 0.008696406\n",
      "[1] 0.009724873\n",
      "[1] 0.008331802\n",
      "[1] 0.006517998\n",
      "[1] \"Done\"\n",
      "[1] \"Fitting EM beta mixture to type2 probes\"\n",
      "[1] Inf\n",
      "[1] 0.0156176\n",
      "[1] 0.01133221\n",
      "[1] 0.009023136\n",
      "[1] 0.007384249\n",
      "[1] \"Done\"\n",
      "[1] \"Start normalising type 2 probes\"\n",
      "[1] \"Finished for sample 1\"\n",
      "[1] 7\n",
      "[1] \"Fitting EM beta mixture to type1 probes\"\n",
      "[1] Inf\n",
      "[1] 0.007208565\n",
      "[1] 0.008325758\n",
      "[1] 0.007357871\n",
      "[1] 0.006086876\n",
      "[1] \"Done\"\n",
      "[1] \"Fitting EM beta mixture to type2 probes\"\n",
      "[1] Inf\n",
      "[1] 0.0162764\n",
      "[1] 0.01191715\n",
      "[1] 0.009426868\n",
      "[1] 0.007622005\n",
      "[1] \"Done\"\n",
      "[1] \"Start normalising type 2 probes\"\n",
      "[1] \"Finished for sample 1\"\n",
      "[1] 8\n",
      "[1] \"Fitting EM beta mixture to type1 probes\"\n",
      "[1] Inf\n",
      "[1] 0.00809636\n",
      "[1] 0.008857534\n",
      "[1] 0.007707626\n",
      "[1] 0.006188338\n",
      "[1] \"Done\"\n",
      "[1] \"Fitting EM beta mixture to type2 probes\"\n",
      "[1] Inf\n",
      "[1] 0.01553334\n",
      "[1] 0.01114772\n",
      "[1] 0.008769082\n",
      "[1] 0.007083998\n",
      "[1] \"Done\"\n",
      "[1] \"Start normalising type 2 probes\"\n",
      "[1] \"Finished for sample 1\"\n",
      "[1] 9\n",
      "[1] \"Fitting EM beta mixture to type1 probes\"\n",
      "[1] Inf\n",
      "[1] 0.008227909\n",
      "[1] 0.008737477\n",
      "[1] 0.007038098\n",
      "[1] 0.005117462\n",
      "[1] \"Done\"\n",
      "[1] \"Fitting EM beta mixture to type2 probes\"\n",
      "[1] Inf\n",
      "[1] 0.01521741\n",
      "[1] 0.01097118\n",
      "[1] 0.008629771\n",
      "[1] 0.006942964\n",
      "[1] \"Done\"\n",
      "[1] \"Start normalising type 2 probes\"\n",
      "[1] \"Finished for sample 1\"\n",
      "[1] 10\n",
      "[1] \"Fitting EM beta mixture to type1 probes\"\n",
      "[1] Inf\n",
      "[1] 0.007943213\n",
      "[1] 0.008812316\n",
      "[1] 0.007439673\n",
      "[1] 0.005653788\n",
      "[1] \"Done\"\n",
      "[1] \"Fitting EM beta mixture to type2 probes\"\n",
      "[1] Inf\n",
      "[1] 0.01423301\n",
      "[1] 0.009899162\n",
      "[1] 0.007739868\n",
      "[1] 0.00628344\n",
      "[1] \"Done\"\n",
      "[1] \"Start normalising type 2 probes\"\n",
      "[1] \"Finished for sample 1\"\n",
      "[1] 11\n",
      "[1] \"Fitting EM beta mixture to type1 probes\"\n",
      "[1] Inf\n",
      "[1] 0.00646022\n",
      "[1] 0.0079656\n",
      "[1] 0.007225658\n",
      "[1] 0.005858522\n",
      "[1] \"Done\"\n",
      "[1] \"Fitting EM beta mixture to type2 probes\"\n",
      "[1] Inf\n",
      "[1] 0.00606591\n",
      "[1] 0.004226144\n",
      "[1] 0.003526702\n",
      "[1] 0.003119494\n",
      "[1] \"Done\"\n",
      "[1] \"Start normalising type 2 probes\"\n",
      "[1] \"Finished for sample 1\"\n",
      "[1] 12\n",
      "[1] \"Fitting EM beta mixture to type1 probes\"\n",
      "[1] Inf\n",
      "[1] 0.005666442\n",
      "[1] 0.007583212\n",
      "[1] 0.007126799\n",
      "[1] 0.006090244\n",
      "[1] \"Done\"\n",
      "[1] \"Fitting EM beta mixture to type2 probes\"\n",
      "[1] Inf\n",
      "[1] 0.006959753\n",
      "[1] 0.004964361\n",
      "[1] 0.004156202\n",
      "[1] 0.003670008\n",
      "[1] \"Done\"\n",
      "[1] \"Start normalising type 2 probes\"\n",
      "[1] \"Finished for sample 1\"\n",
      "[1] 13\n",
      "[1] \"Fitting EM beta mixture to type1 probes\"\n",
      "[1] Inf\n",
      "[1] 0.005451758\n",
      "[1] 0.007591454\n",
      "[1] 0.007109438\n",
      "[1] 0.005941761\n",
      "[1] \"Done\"\n",
      "[1] \"Fitting EM beta mixture to type2 probes\"\n",
      "[1] Inf\n",
      "[1] 0.006189606\n",
      "[1] 0.004367019\n",
      "[1] 0.003641822\n",
      "[1] 0.003205429\n",
      "[1] \"Done\"\n",
      "[1] \"Start normalising type 2 probes\"\n",
      "[1] \"Finished for sample 1\"\n",
      "[1] 14\n",
      "[1] \"Fitting EM beta mixture to type1 probes\"\n",
      "[1] Inf\n",
      "[1] 0.006180954\n",
      "[1] 0.00800001\n",
      "[1] 0.007332445\n",
      "[1] 0.006008569\n",
      "[1] \"Done\"\n",
      "[1] \"Fitting EM beta mixture to type2 probes\"\n",
      "[1] Inf\n",
      "[1] 0.006939497\n",
      "[1] 0.005346634\n",
      "[1] 0.004667145\n",
      "[1] 0.004181597\n",
      "[1] \"Done\"\n",
      "[1] \"Start normalising type 2 probes\"\n",
      "[1] \"Finished for sample 1\"\n",
      "[1] 15\n",
      "[1] \"Fitting EM beta mixture to type1 probes\"\n",
      "[1] Inf\n",
      "[1] 0.006567694\n",
      "[1] 0.008090632\n",
      "[1] 0.007240734\n",
      "[1] 0.005863486\n",
      "[1] \"Done\"\n",
      "[1] \"Fitting EM beta mixture to type2 probes\"\n",
      "[1] Inf\n",
      "[1] 0.005635659\n",
      "[1] 0.003830446\n",
      "[1] 0.003166588\n",
      "[1] 0.002796168\n",
      "[1] \"Done\"\n",
      "[1] \"Start normalising type 2 probes\"\n",
      "[1] \"Finished for sample 1\"\n",
      "[1] 16\n",
      "[1] \"Fitting EM beta mixture to type1 probes\"\n",
      "[1] Inf\n",
      "[1] 0.006160299\n",
      "[1] 0.007494876\n",
      "[1] 0.00658997\n",
      "[1] 0.005082673\n",
      "[1] \"Done\"\n",
      "[1] \"Fitting EM beta mixture to type2 probes\"\n",
      "[1] Inf\n",
      "[1] 0.00826339\n",
      "[1] 0.006258547\n",
      "[1] 0.005278603\n",
      "[1] 0.004588413\n",
      "[1] \"Done\"\n",
      "[1] \"Start normalising type 2 probes\"\n",
      "[1] \"Finished for sample 1\"\n"
     ]
    }
   ],
   "source": [
    "# WateRmelon\n",
    "# BMIQ: Beta-Mixture Quantile Normalisation (probe 2 adjustment)\n",
    "library(\"RPMM\")\n",
    "\n",
    "bmiqSet = NULL\n",
    "for(i in 1:dim(betas_filtered)[2]){\n",
    "  print(i)\n",
    "  tmpBmiqSet = BMIQ(beta.v = betas_filtered[,i], design.v = infTypes, plots = FALSE) # requires RPMM; package install.packages(\"RPMM\")\n",
    "  bmiqSet = cbind(bmiqSet, tmpBmiqSet$nbeta)\n",
    "}\n",
    "rm(tmpBmiqSet)\n",
    "colnames(bmiqSet) = colnames(betas_filtered)"
   ]
  },
  {
   "cell_type": "code",
   "execution_count": 48,
   "metadata": {},
   "outputs": [
    {
     "data": {
      "text/html": [
       "<strong>pdf:</strong> 2"
      ],
      "text/latex": [
       "\\textbf{pdf:} 2"
      ],
      "text/markdown": [
       "**pdf:** 2"
      ],
      "text/plain": [
       "pdf \n",
       "  2 "
      ]
     },
     "metadata": {},
     "output_type": "display_data"
    }
   ],
   "source": [
    "jpeg(\"BMIQ_density2.jpeg\") # pdf(\"BMIQ_density.pdf\")\n",
    "plot(density(betas_filtered[ infTypes==1,]), col = \"red\", main = \"Density plot of probe 1/2 before/after BMIQ\", lwd = 2)\n",
    "lines(density(betas_filtered[ infTypes==2,]), col = \"green\", lwd = 2)\n",
    "lines(density(bmiqSet[ infTypes==1,]), col = \"blue\", lty = 2, lwd = 2)\n",
    "lines(density(bmiqSet[ infTypes==2,]), col = \"yellow\", lwd = 2)\n",
    "legend(\"topright\", legend = c(\"Probe1 before BMIQ\", \"Probe2 before BMIQ\", \"Probe1 after BMIQ\", \"Probe2 after BMIQ\"), col = c(\"red\", \"green\", \"blue\", \"yellow\"), lty = c(1,1,2,1), lwd = 2)\n",
    "dev.off()\n",
    "\n",
    "colnames(bmiqSet) = targets$Sample_Name"
   ]
  },
  {
   "cell_type": "code",
   "execution_count": 49,
   "metadata": {},
   "outputs": [
    {
     "data": {
      "image/png": "[encoded data removed]",
      "text/plain": [
       "Plot with title \"Density plot of probe 1/2 before/after BMIQ\""
      ]
     },
     "metadata": {
      "image/png": {
       "height": 420,
       "width": 420
      }
     },
     "output_type": "display_data"
    }
   ],
   "source": [
    "# BMIQ Density plot\n",
    "plot(density(betas_filtered[ infTypes==1,]), col = \"red\", main = \"Density plot of probe 1/2 before/after BMIQ\", lwd = 2)\n",
    "lines(density(betas_filtered[ infTypes==2,]), col = \"green\", lwd = 2)\n",
    "lines(density(bmiqSet[ infTypes==1,]), col = \"blue\", lty = 2, lwd = 2)\n",
    "lines(density(bmiqSet[ infTypes==2,]), col = \"yellow\", lwd = 2)\n",
    "legend(\"topright\", legend = c(\"Probe1 before BMIQ\", \"Probe2 before BMIQ\", \"Probe1 after BMIQ\", \"Probe2 after BMIQ\"), col = c(\"red\", \"green\", \"blue\", \"yellow\"), lty = c(1,1,2,1), lwd = 2)\n",
    "\n",
    "\n",
    "colnames(bmiqSet) = targets$Sample_Name"
   ]
  },
  {
   "cell_type": "code",
   "execution_count": 50,
   "metadata": {},
   "outputs": [],
   "source": [
    "save(bmiqSet, targets, anno, file = \"bmiqSet.Rdata\") # "
   ]
  },
  {
   "cell_type": "code",
   "execution_count": 51,
   "metadata": {},
   "outputs": [],
   "source": [
    "# Save an object to a file\n",
    "saveRDS(bmiqSet, file = \"bmiqset1.rds\")"
   ]
  },
  {
   "cell_type": "code",
   "execution_count": 53,
   "metadata": {},
   "outputs": [],
   "source": [
    "load(\"bmiqSet.Rdata\")\n",
    "\n",
    "# Restore the object\n",
    "bmiqSet <- readRDS(file = \"bmiqset1.rds\")"
   ]
  },
  {
   "cell_type": "code",
   "execution_count": 55,
   "metadata": {},
   "outputs": [
    {
     "name": "stderr",
     "output_type": "stream",
     "text": [
      "'getOption(\"repos\")' replaces Bioconductor standard repositories, see\n",
      "'?repositories' for details\n",
      "\n",
      "replacement repositories:\n",
      "    CRAN: https://cran.r-project.org\n",
      "\n",
      "\n",
      "Bioconductor version 3.15 (BiocManager 1.30.18), R 4.2.1 (2022-06-23)\n",
      "\n",
      "Installing package(s) 'GGally'\n",
      "\n",
      "also installing the dependency 'forcats'\n",
      "\n",
      "\n"
     ]
    },
    {
     "name": "stdout",
     "output_type": "stream",
     "text": [
      "\n",
      "The downloaded binary packages are in\n",
      "\t/var/folders/60/239m7ccs0ksbbl7n3b9s1cqh0000gn/T//Rtmp5BqUfk/downloaded_packages\n"
     ]
    },
    {
     "name": "stderr",
     "output_type": "stream",
     "text": [
      "Old packages: 'MASS', 'cluster', 'nlme', 'survival'\n",
      "\n"
     ]
    }
   ],
   "source": [
    "if (!requireNamespace(\"BiocManager\", quietly = TRUE))\n",
    "install.packages(\"BiocManager\")\n",
    "BiocManager::install(\"GGally\")"
   ]
  },
  {
   "cell_type": "code",
   "execution_count": 56,
   "metadata": {},
   "outputs": [
    {
     "name": "stderr",
     "output_type": "stream",
     "text": [
      "Registered S3 method overwritten by 'GGally':\n",
      "  method from   \n",
      "  +.gg   ggplot2\n",
      "\n"
     ]
    }
   ],
   "source": [
    "library(\"GGally\") \n",
    "library(ggfortify) \n",
    "#library(ggplot2)\n"
   ]
  },
  {
   "cell_type": "code",
   "execution_count": 57,
   "metadata": {},
   "outputs": [
    {
     "data": {
      "image/png": "[encoded data removed]",
      "text/plain": [
       "plot without title"
      ]
     },
     "metadata": {
      "image/png": {
       "height": 420,
       "width": 420
      }
     },
     "output_type": "display_data"
    }
   ],
   "source": [
    "\n",
    "pca = stats::prcomp(t(bmiqSet))\n",
    "rownames(targets) = targets$Sample_Name\n",
    "#pdf(\"PCA2.pdf\")\n",
    "#ggplot2::autoplot(pca, data = targets, colour = \"Sample_Group\", x = 1, y = 2, label  = TRUE)\n",
    "ggplot2::autoplot(pca, data = targets, colour = \"Sample_Group\", x = 1, y = 2)\n",
    "#dev.off()"
   ]
  },
  {
   "cell_type": "code",
   "execution_count": 58,
   "metadata": {},
   "outputs": [
    {
     "data": {
      "text/html": [
       "<table class=\"dataframe\">\n",
       "<caption>A matrix: 6 × 16 of type dbl</caption>\n",
       "<thead>\n",
       "\t<tr><th></th><th scope=col>sample_cnt_3</th><th scope=col>sample_cnt_4</th><th scope=col>sample_cnt_5</th><th scope=col>sample_cnt_6</th><th scope=col>sample_mu_1</th><th scope=col>sample_mu_2</th><th scope=col>sample_mu_3</th><th scope=col>sample_mu_4</th><th scope=col>sample_mu_5</th><th scope=col>sample_mu_6</th><th scope=col>sample_wt_1</th><th scope=col>sample_wt_2</th><th scope=col>sample_wt_3</th><th scope=col>sample_wt_4</th><th scope=col>sample_wt_5</th><th scope=col>sample_wt_6</th></tr>\n",
       "</thead>\n",
       "<tbody>\n",
       "\t<tr><th scope=row>cg18478105</th><td>0.01316531</td><td>0.01375384</td><td>0.01150229</td><td>0.01383825</td><td>0.01438138</td><td>0.01097996</td><td>0.009361555</td><td>0.01252555</td><td>0.01085968</td><td>0.009789983</td><td>0.01107358</td><td>0.01188706</td><td>0.01036805</td><td>0.008874948</td><td>0.01179318</td><td>0.01072405</td></tr>\n",
       "\t<tr><th scope=row>cg09835024</th><td>0.02185403</td><td>0.01958656</td><td>0.02275138</td><td>0.02144614</td><td>0.27098961</td><td>0.22398783</td><td>0.362928644</td><td>0.35493970</td><td>0.32754508</td><td>0.222550206</td><td>0.02329903</td><td>0.02366464</td><td>0.02158252</td><td>0.023450271</td><td>0.02106335</td><td>0.02645990</td></tr>\n",
       "\t<tr><th scope=row>cg14361672</th><td>0.94524334</td><td>0.95124142</td><td>0.95310539</td><td>0.90247455</td><td>0.95988240</td><td>0.95850594</td><td>0.968881364</td><td>0.95512481</td><td>0.95027915</td><td>0.953721401</td><td>0.96301319</td><td>0.95428773</td><td>0.95988977</td><td>0.955925520</td><td>0.95738378</td><td>0.97264931</td></tr>\n",
       "\t<tr><th scope=row>cg01763666</th><td>0.95105835</td><td>0.94511661</td><td>0.96674858</td><td>0.96322253</td><td>0.93836198</td><td>0.96029447</td><td>0.958377850</td><td>0.96783480</td><td>0.95486935</td><td>0.957679729</td><td>0.97011540</td><td>0.96095601</td><td>0.96272043</td><td>0.960630802</td><td>0.95483387</td><td>0.96539619</td></tr>\n",
       "\t<tr><th scope=row>cg12950382</th><td>0.73358039</td><td>0.75654220</td><td>0.79372040</td><td>0.82161394</td><td>0.82055819</td><td>0.81198776</td><td>0.817893093</td><td>0.73042575</td><td>0.76574837</td><td>0.704706991</td><td>0.70585259</td><td>0.72283287</td><td>0.76228601</td><td>0.842191370</td><td>0.73652144</td><td>0.81304827</td></tr>\n",
       "\t<tr><th scope=row>cg02115394</th><td>0.02913150</td><td>0.03361481</td><td>0.03449835</td><td>0.03671772</td><td>0.03351807</td><td>0.04053293</td><td>0.033498287</td><td>0.02495319</td><td>0.02938674</td><td>0.035071609</td><td>0.03508158</td><td>0.03883342</td><td>0.03722519</td><td>0.022745237</td><td>0.03156317</td><td>0.02946958</td></tr>\n",
       "</tbody>\n",
       "</table>\n"
      ],
      "text/latex": [
       "A matrix: 6 × 16 of type dbl\n",
       "\\begin{tabular}{r|llllllllllllllll}\n",
       "  & sample\\_cnt\\_3 & sample\\_cnt\\_4 & sample\\_cnt\\_5 & sample\\_cnt\\_6 & sample\\_mu\\_1 & sample\\_mu\\_2 & sample\\_mu\\_3 & sample\\_mu\\_4 & sample\\_mu\\_5 & sample\\_mu\\_6 & sample\\_wt\\_1 & sample\\_wt\\_2 & sample\\_wt\\_3 & sample\\_wt\\_4 & sample\\_wt\\_5 & sample\\_wt\\_6\\\\\n",
       "\\hline\n",
       "\tcg18478105 & 0.01316531 & 0.01375384 & 0.01150229 & 0.01383825 & 0.01438138 & 0.01097996 & 0.009361555 & 0.01252555 & 0.01085968 & 0.009789983 & 0.01107358 & 0.01188706 & 0.01036805 & 0.008874948 & 0.01179318 & 0.01072405\\\\\n",
       "\tcg09835024 & 0.02185403 & 0.01958656 & 0.02275138 & 0.02144614 & 0.27098961 & 0.22398783 & 0.362928644 & 0.35493970 & 0.32754508 & 0.222550206 & 0.02329903 & 0.02366464 & 0.02158252 & 0.023450271 & 0.02106335 & 0.02645990\\\\\n",
       "\tcg14361672 & 0.94524334 & 0.95124142 & 0.95310539 & 0.90247455 & 0.95988240 & 0.95850594 & 0.968881364 & 0.95512481 & 0.95027915 & 0.953721401 & 0.96301319 & 0.95428773 & 0.95988977 & 0.955925520 & 0.95738378 & 0.97264931\\\\\n",
       "\tcg01763666 & 0.95105835 & 0.94511661 & 0.96674858 & 0.96322253 & 0.93836198 & 0.96029447 & 0.958377850 & 0.96783480 & 0.95486935 & 0.957679729 & 0.97011540 & 0.96095601 & 0.96272043 & 0.960630802 & 0.95483387 & 0.96539619\\\\\n",
       "\tcg12950382 & 0.73358039 & 0.75654220 & 0.79372040 & 0.82161394 & 0.82055819 & 0.81198776 & 0.817893093 & 0.73042575 & 0.76574837 & 0.704706991 & 0.70585259 & 0.72283287 & 0.76228601 & 0.842191370 & 0.73652144 & 0.81304827\\\\\n",
       "\tcg02115394 & 0.02913150 & 0.03361481 & 0.03449835 & 0.03671772 & 0.03351807 & 0.04053293 & 0.033498287 & 0.02495319 & 0.02938674 & 0.035071609 & 0.03508158 & 0.03883342 & 0.03722519 & 0.022745237 & 0.03156317 & 0.02946958\\\\\n",
       "\\end{tabular}\n"
      ],
      "text/markdown": [
       "\n",
       "A matrix: 6 × 16 of type dbl\n",
       "\n",
       "| <!--/--> | sample_cnt_3 | sample_cnt_4 | sample_cnt_5 | sample_cnt_6 | sample_mu_1 | sample_mu_2 | sample_mu_3 | sample_mu_4 | sample_mu_5 | sample_mu_6 | sample_wt_1 | sample_wt_2 | sample_wt_3 | sample_wt_4 | sample_wt_5 | sample_wt_6 |\n",
       "|---|---|---|---|---|---|---|---|---|---|---|---|---|---|---|---|---|\n",
       "| cg18478105 | 0.01316531 | 0.01375384 | 0.01150229 | 0.01383825 | 0.01438138 | 0.01097996 | 0.009361555 | 0.01252555 | 0.01085968 | 0.009789983 | 0.01107358 | 0.01188706 | 0.01036805 | 0.008874948 | 0.01179318 | 0.01072405 |\n",
       "| cg09835024 | 0.02185403 | 0.01958656 | 0.02275138 | 0.02144614 | 0.27098961 | 0.22398783 | 0.362928644 | 0.35493970 | 0.32754508 | 0.222550206 | 0.02329903 | 0.02366464 | 0.02158252 | 0.023450271 | 0.02106335 | 0.02645990 |\n",
       "| cg14361672 | 0.94524334 | 0.95124142 | 0.95310539 | 0.90247455 | 0.95988240 | 0.95850594 | 0.968881364 | 0.95512481 | 0.95027915 | 0.953721401 | 0.96301319 | 0.95428773 | 0.95988977 | 0.955925520 | 0.95738378 | 0.97264931 |\n",
       "| cg01763666 | 0.95105835 | 0.94511661 | 0.96674858 | 0.96322253 | 0.93836198 | 0.96029447 | 0.958377850 | 0.96783480 | 0.95486935 | 0.957679729 | 0.97011540 | 0.96095601 | 0.96272043 | 0.960630802 | 0.95483387 | 0.96539619 |\n",
       "| cg12950382 | 0.73358039 | 0.75654220 | 0.79372040 | 0.82161394 | 0.82055819 | 0.81198776 | 0.817893093 | 0.73042575 | 0.76574837 | 0.704706991 | 0.70585259 | 0.72283287 | 0.76228601 | 0.842191370 | 0.73652144 | 0.81304827 |\n",
       "| cg02115394 | 0.02913150 | 0.03361481 | 0.03449835 | 0.03671772 | 0.03351807 | 0.04053293 | 0.033498287 | 0.02495319 | 0.02938674 | 0.035071609 | 0.03508158 | 0.03883342 | 0.03722519 | 0.022745237 | 0.03156317 | 0.02946958 |\n",
       "\n"
      ],
      "text/plain": [
       "           sample_cnt_3 sample_cnt_4 sample_cnt_5 sample_cnt_6 sample_mu_1\n",
       "cg18478105 0.01316531   0.01375384   0.01150229   0.01383825   0.01438138 \n",
       "cg09835024 0.02185403   0.01958656   0.02275138   0.02144614   0.27098961 \n",
       "cg14361672 0.94524334   0.95124142   0.95310539   0.90247455   0.95988240 \n",
       "cg01763666 0.95105835   0.94511661   0.96674858   0.96322253   0.93836198 \n",
       "cg12950382 0.73358039   0.75654220   0.79372040   0.82161394   0.82055819 \n",
       "cg02115394 0.02913150   0.03361481   0.03449835   0.03671772   0.03351807 \n",
       "           sample_mu_2 sample_mu_3 sample_mu_4 sample_mu_5 sample_mu_6\n",
       "cg18478105 0.01097996  0.009361555 0.01252555  0.01085968  0.009789983\n",
       "cg09835024 0.22398783  0.362928644 0.35493970  0.32754508  0.222550206\n",
       "cg14361672 0.95850594  0.968881364 0.95512481  0.95027915  0.953721401\n",
       "cg01763666 0.96029447  0.958377850 0.96783480  0.95486935  0.957679729\n",
       "cg12950382 0.81198776  0.817893093 0.73042575  0.76574837  0.704706991\n",
       "cg02115394 0.04053293  0.033498287 0.02495319  0.02938674  0.035071609\n",
       "           sample_wt_1 sample_wt_2 sample_wt_3 sample_wt_4 sample_wt_5\n",
       "cg18478105 0.01107358  0.01188706  0.01036805  0.008874948 0.01179318 \n",
       "cg09835024 0.02329903  0.02366464  0.02158252  0.023450271 0.02106335 \n",
       "cg14361672 0.96301319  0.95428773  0.95988977  0.955925520 0.95738378 \n",
       "cg01763666 0.97011540  0.96095601  0.96272043  0.960630802 0.95483387 \n",
       "cg12950382 0.70585259  0.72283287  0.76228601  0.842191370 0.73652144 \n",
       "cg02115394 0.03508158  0.03883342  0.03722519  0.022745237 0.03156317 \n",
       "           sample_wt_6\n",
       "cg18478105 0.01072405 \n",
       "cg09835024 0.02645990 \n",
       "cg14361672 0.97264931 \n",
       "cg01763666 0.96539619 \n",
       "cg12950382 0.81304827 \n",
       "cg02115394 0.02946958 "
      ]
     },
     "metadata": {},
     "output_type": "display_data"
    }
   ],
   "source": [
    "head(bmiqSet)"
   ]
  },
  {
   "cell_type": "code",
   "execution_count": 59,
   "metadata": {},
   "outputs": [
    {
     "data": {
      "text/html": [
       "<table class=\"dataframe\">\n",
       "<caption>A matrix: 10 × 2 of type dbl</caption>\n",
       "<thead>\n",
       "\t<tr><th></th><th scope=col>(Intercept)</th><th scope=col>groupsBRCA1WT</th></tr>\n",
       "</thead>\n",
       "<tbody>\n",
       "\t<tr><th scope=row>1</th><td>1</td><td>0</td></tr>\n",
       "\t<tr><th scope=row>2</th><td>1</td><td>0</td></tr>\n",
       "\t<tr><th scope=row>3</th><td>1</td><td>0</td></tr>\n",
       "\t<tr><th scope=row>4</th><td>1</td><td>0</td></tr>\n",
       "\t<tr><th scope=row>5</th><td>1</td><td>1</td></tr>\n",
       "\t<tr><th scope=row>6</th><td>1</td><td>1</td></tr>\n",
       "\t<tr><th scope=row>7</th><td>1</td><td>1</td></tr>\n",
       "\t<tr><th scope=row>8</th><td>1</td><td>1</td></tr>\n",
       "\t<tr><th scope=row>9</th><td>1</td><td>1</td></tr>\n",
       "\t<tr><th scope=row>10</th><td>1</td><td>1</td></tr>\n",
       "</tbody>\n",
       "</table>\n"
      ],
      "text/latex": [
       "A matrix: 10 × 2 of type dbl\n",
       "\\begin{tabular}{r|ll}\n",
       "  & (Intercept) & groupsBRCA1WT\\\\\n",
       "\\hline\n",
       "\t1 & 1 & 0\\\\\n",
       "\t2 & 1 & 0\\\\\n",
       "\t3 & 1 & 0\\\\\n",
       "\t4 & 1 & 0\\\\\n",
       "\t5 & 1 & 1\\\\\n",
       "\t6 & 1 & 1\\\\\n",
       "\t7 & 1 & 1\\\\\n",
       "\t8 & 1 & 1\\\\\n",
       "\t9 & 1 & 1\\\\\n",
       "\t10 & 1 & 1\\\\\n",
       "\\end{tabular}\n"
      ],
      "text/markdown": [
       "\n",
       "A matrix: 10 × 2 of type dbl\n",
       "\n",
       "| <!--/--> | (Intercept) | groupsBRCA1WT |\n",
       "|---|---|---|\n",
       "| 1 | 1 | 0 |\n",
       "| 2 | 1 | 0 |\n",
       "| 3 | 1 | 0 |\n",
       "| 4 | 1 | 0 |\n",
       "| 5 | 1 | 1 |\n",
       "| 6 | 1 | 1 |\n",
       "| 7 | 1 | 1 |\n",
       "| 8 | 1 | 1 |\n",
       "| 9 | 1 | 1 |\n",
       "| 10 | 1 | 1 |\n",
       "\n"
      ],
      "text/plain": [
       "   (Intercept) groupsBRCA1WT\n",
       "1  1           0            \n",
       "2  1           0            \n",
       "3  1           0            \n",
       "4  1           0            \n",
       "5  1           1            \n",
       "6  1           1            \n",
       "7  1           1            \n",
       "8  1           1            \n",
       "9  1           1            \n",
       "10 1           1            "
      ]
     },
     "metadata": {},
     "output_type": "display_data"
    }
   ],
   "source": [
    "############################ DMA limm: Control - WT ##########################\n",
    "\n",
    "idx = targets$Sample_Group %in% c(\"control\", \"BRCA1WT\")\n",
    "\n",
    "mvals = log2(bmiqSet[,idx] / (1-bmiqSet[,idx]))\n",
    "groups = factor(targets$Sample_Group[idx], levels = c(\"control\", \"BRCA1WT\"))\n",
    "design = model.matrix(~ groups)\n",
    "design"
   ]
  },
  {
   "cell_type": "code",
   "execution_count": 60,
   "metadata": {},
   "outputs": [
    {
     "data": {
      "text/html": [
       "2.40351502186956e-14"
      ],
      "text/latex": [
       "2.40351502186956e-14"
      ],
      "text/markdown": [
       "2.40351502186956e-14"
      ],
      "text/plain": [
       "[1] 2.403515e-14"
      ]
     },
     "metadata": {},
     "output_type": "display_data"
    }
   ],
   "source": [
    "limmaFit = lmFit(mvals, design)\n",
    "pval = eBayes(limmaFit)$p.value[,2]\n",
    "fdr = p.adjust(pval, method = \"fdr\"); min(fdr)"
   ]
  },
  {
   "cell_type": "code",
   "execution_count": 61,
   "metadata": {},
   "outputs": [
    {
     "data": {
      "text/html": [
       "<table class=\"dataframe\">\n",
       "<caption>A data.frame: 6 × 14</caption>\n",
       "<thead>\n",
       "\t<tr><th></th><th scope=col>names</th><th scope=col>pvalue</th><th scope=col>FDR</th><th scope=col>genes</th><th scope=col>sample_cnt_3</th><th scope=col>sample_cnt_4</th><th scope=col>sample_cnt_5</th><th scope=col>sample_cnt_6</th><th scope=col>sample_wt_1</th><th scope=col>sample_wt_2</th><th scope=col>sample_wt_3</th><th scope=col>sample_wt_4</th><th scope=col>sample_wt_5</th><th scope=col>sample_wt_6</th></tr>\n",
       "\t<tr><th></th><th scope=col>&lt;chr&gt;</th><th scope=col>&lt;dbl&gt;</th><th scope=col>&lt;dbl&gt;</th><th scope=col>&lt;chr&gt;</th><th scope=col>&lt;dbl&gt;</th><th scope=col>&lt;dbl&gt;</th><th scope=col>&lt;dbl&gt;</th><th scope=col>&lt;dbl&gt;</th><th scope=col>&lt;dbl&gt;</th><th scope=col>&lt;dbl&gt;</th><th scope=col>&lt;dbl&gt;</th><th scope=col>&lt;dbl&gt;</th><th scope=col>&lt;dbl&gt;</th><th scope=col>&lt;dbl&gt;</th></tr>\n",
       "</thead>\n",
       "<tbody>\n",
       "\t<tr><th scope=row>cg02755525</th><td>cg02755525</td><td>1.411025e-19</td><td>2.403515e-14</td><td>NETO2                                                  </td><td>0.01230803</td><td>0.01133631</td><td>0.01301554</td><td>0.01146756</td><td>0.991328634</td><td>0.989935102</td><td>0.99066626</td><td>0.98997430</td><td>0.991293476</td><td>0.990940036</td></tr>\n",
       "\t<tr><th scope=row>cg18943693</th><td>cg18943693</td><td>3.140709e-19</td><td>2.403515e-14</td><td>                                                       </td><td>0.98537500</td><td>0.98588449</td><td>0.98424242</td><td>0.98586613</td><td>0.016977582</td><td>0.016079327</td><td>0.01616448</td><td>0.01855537</td><td>0.018015304</td><td>0.016329878</td></tr>\n",
       "\t<tr><th scope=row>cg18950102</th><td>cg18950102</td><td>3.262440e-19</td><td>2.403515e-14</td><td>                                                       </td><td>0.01549588</td><td>0.01646884</td><td>0.01640305</td><td>0.01759366</td><td>0.985741998</td><td>0.985556729</td><td>0.98687132</td><td>0.98734666</td><td>0.987070058</td><td>0.987919219</td></tr>\n",
       "\t<tr><th scope=row>cg15689967</th><td>cg15689967</td><td>3.348200e-19</td><td>2.403515e-14</td><td>HIST1H1D                                               </td><td>0.01237824</td><td>0.01385320</td><td>0.01175901</td><td>0.01272411</td><td>0.985637938</td><td>0.986642304</td><td>0.98522332</td><td>0.98354526</td><td>0.985998082</td><td>0.985061168</td></tr>\n",
       "\t<tr><th scope=row>cg22721334</th><td>cg22721334</td><td>3.357661e-19</td><td>2.403515e-14</td><td>ZSCAN18;ZSCAN18;ZSCAN18;ZSCAN18;ZSCAN18;ZSCAN18;ZSCAN18</td><td>0.99042360</td><td>0.98936526</td><td>0.99063069</td><td>0.98927028</td><td>0.008944166</td><td>0.009790442</td><td>0.01031495</td><td>0.00832863</td><td>0.009390572</td><td>0.007827676</td></tr>\n",
       "\t<tr><th scope=row>cg19164987</th><td>cg19164987</td><td>3.442670e-19</td><td>2.403515e-14</td><td>HOXC4;HOXC5;HOXC6                                      </td><td>0.01516411</td><td>0.01398686</td><td>0.01555768</td><td>0.01311024</td><td>0.985283238</td><td>0.985168487</td><td>0.98671387</td><td>0.98618214</td><td>0.984422642</td><td>0.986196464</td></tr>\n",
       "</tbody>\n",
       "</table>\n"
      ],
      "text/latex": [
       "A data.frame: 6 × 14\n",
       "\\begin{tabular}{r|llllllllllllll}\n",
       "  & names & pvalue & FDR & genes & sample\\_cnt\\_3 & sample\\_cnt\\_4 & sample\\_cnt\\_5 & sample\\_cnt\\_6 & sample\\_wt\\_1 & sample\\_wt\\_2 & sample\\_wt\\_3 & sample\\_wt\\_4 & sample\\_wt\\_5 & sample\\_wt\\_6\\\\\n",
       "  & <chr> & <dbl> & <dbl> & <chr> & <dbl> & <dbl> & <dbl> & <dbl> & <dbl> & <dbl> & <dbl> & <dbl> & <dbl> & <dbl>\\\\\n",
       "\\hline\n",
       "\tcg02755525 & cg02755525 & 1.411025e-19 & 2.403515e-14 & NETO2                                                   & 0.01230803 & 0.01133631 & 0.01301554 & 0.01146756 & 0.991328634 & 0.989935102 & 0.99066626 & 0.98997430 & 0.991293476 & 0.990940036\\\\\n",
       "\tcg18943693 & cg18943693 & 3.140709e-19 & 2.403515e-14 &                                                         & 0.98537500 & 0.98588449 & 0.98424242 & 0.98586613 & 0.016977582 & 0.016079327 & 0.01616448 & 0.01855537 & 0.018015304 & 0.016329878\\\\\n",
       "\tcg18950102 & cg18950102 & 3.262440e-19 & 2.403515e-14 &                                                         & 0.01549588 & 0.01646884 & 0.01640305 & 0.01759366 & 0.985741998 & 0.985556729 & 0.98687132 & 0.98734666 & 0.987070058 & 0.987919219\\\\\n",
       "\tcg15689967 & cg15689967 & 3.348200e-19 & 2.403515e-14 & HIST1H1D                                                & 0.01237824 & 0.01385320 & 0.01175901 & 0.01272411 & 0.985637938 & 0.986642304 & 0.98522332 & 0.98354526 & 0.985998082 & 0.985061168\\\\\n",
       "\tcg22721334 & cg22721334 & 3.357661e-19 & 2.403515e-14 & ZSCAN18;ZSCAN18;ZSCAN18;ZSCAN18;ZSCAN18;ZSCAN18;ZSCAN18 & 0.99042360 & 0.98936526 & 0.99063069 & 0.98927028 & 0.008944166 & 0.009790442 & 0.01031495 & 0.00832863 & 0.009390572 & 0.007827676\\\\\n",
       "\tcg19164987 & cg19164987 & 3.442670e-19 & 2.403515e-14 & HOXC4;HOXC5;HOXC6                                       & 0.01516411 & 0.01398686 & 0.01555768 & 0.01311024 & 0.985283238 & 0.985168487 & 0.98671387 & 0.98618214 & 0.984422642 & 0.986196464\\\\\n",
       "\\end{tabular}\n"
      ],
      "text/markdown": [
       "\n",
       "A data.frame: 6 × 14\n",
       "\n",
       "| <!--/--> | names &lt;chr&gt; | pvalue &lt;dbl&gt; | FDR &lt;dbl&gt; | genes &lt;chr&gt; | sample_cnt_3 &lt;dbl&gt; | sample_cnt_4 &lt;dbl&gt; | sample_cnt_5 &lt;dbl&gt; | sample_cnt_6 &lt;dbl&gt; | sample_wt_1 &lt;dbl&gt; | sample_wt_2 &lt;dbl&gt; | sample_wt_3 &lt;dbl&gt; | sample_wt_4 &lt;dbl&gt; | sample_wt_5 &lt;dbl&gt; | sample_wt_6 &lt;dbl&gt; |\n",
       "|---|---|---|---|---|---|---|---|---|---|---|---|---|---|---|\n",
       "| cg02755525 | cg02755525 | 1.411025e-19 | 2.403515e-14 | NETO2                                                   | 0.01230803 | 0.01133631 | 0.01301554 | 0.01146756 | 0.991328634 | 0.989935102 | 0.99066626 | 0.98997430 | 0.991293476 | 0.990940036 |\n",
       "| cg18943693 | cg18943693 | 3.140709e-19 | 2.403515e-14 | <!----> | 0.98537500 | 0.98588449 | 0.98424242 | 0.98586613 | 0.016977582 | 0.016079327 | 0.01616448 | 0.01855537 | 0.018015304 | 0.016329878 |\n",
       "| cg18950102 | cg18950102 | 3.262440e-19 | 2.403515e-14 | <!----> | 0.01549588 | 0.01646884 | 0.01640305 | 0.01759366 | 0.985741998 | 0.985556729 | 0.98687132 | 0.98734666 | 0.987070058 | 0.987919219 |\n",
       "| cg15689967 | cg15689967 | 3.348200e-19 | 2.403515e-14 | HIST1H1D                                                | 0.01237824 | 0.01385320 | 0.01175901 | 0.01272411 | 0.985637938 | 0.986642304 | 0.98522332 | 0.98354526 | 0.985998082 | 0.985061168 |\n",
       "| cg22721334 | cg22721334 | 3.357661e-19 | 2.403515e-14 | ZSCAN18;ZSCAN18;ZSCAN18;ZSCAN18;ZSCAN18;ZSCAN18;ZSCAN18 | 0.99042360 | 0.98936526 | 0.99063069 | 0.98927028 | 0.008944166 | 0.009790442 | 0.01031495 | 0.00832863 | 0.009390572 | 0.007827676 |\n",
       "| cg19164987 | cg19164987 | 3.442670e-19 | 2.403515e-14 | HOXC4;HOXC5;HOXC6                                       | 0.01516411 | 0.01398686 | 0.01555768 | 0.01311024 | 0.985283238 | 0.985168487 | 0.98671387 | 0.98618214 | 0.984422642 | 0.986196464 |\n",
       "\n"
      ],
      "text/plain": [
       "           names      pvalue       FDR         \n",
       "cg02755525 cg02755525 1.411025e-19 2.403515e-14\n",
       "cg18943693 cg18943693 3.140709e-19 2.403515e-14\n",
       "cg18950102 cg18950102 3.262440e-19 2.403515e-14\n",
       "cg15689967 cg15689967 3.348200e-19 2.403515e-14\n",
       "cg22721334 cg22721334 3.357661e-19 2.403515e-14\n",
       "cg19164987 cg19164987 3.442670e-19 2.403515e-14\n",
       "           genes                                                   sample_cnt_3\n",
       "cg02755525 NETO2                                                   0.01230803  \n",
       "cg18943693                                                         0.98537500  \n",
       "cg18950102                                                         0.01549588  \n",
       "cg15689967 HIST1H1D                                                0.01237824  \n",
       "cg22721334 ZSCAN18;ZSCAN18;ZSCAN18;ZSCAN18;ZSCAN18;ZSCAN18;ZSCAN18 0.99042360  \n",
       "cg19164987 HOXC4;HOXC5;HOXC6                                       0.01516411  \n",
       "           sample_cnt_4 sample_cnt_5 sample_cnt_6 sample_wt_1 sample_wt_2\n",
       "cg02755525 0.01133631   0.01301554   0.01146756   0.991328634 0.989935102\n",
       "cg18943693 0.98588449   0.98424242   0.98586613   0.016977582 0.016079327\n",
       "cg18950102 0.01646884   0.01640305   0.01759366   0.985741998 0.985556729\n",
       "cg15689967 0.01385320   0.01175901   0.01272411   0.985637938 0.986642304\n",
       "cg22721334 0.98936526   0.99063069   0.98927028   0.008944166 0.009790442\n",
       "cg19164987 0.01398686   0.01555768   0.01311024   0.985283238 0.985168487\n",
       "           sample_wt_3 sample_wt_4 sample_wt_5 sample_wt_6\n",
       "cg02755525 0.99066626  0.98997430  0.991293476 0.990940036\n",
       "cg18943693 0.01616448  0.01855537  0.018015304 0.016329878\n",
       "cg18950102 0.98687132  0.98734666  0.987070058 0.987919219\n",
       "cg15689967 0.98522332  0.98354526  0.985998082 0.985061168\n",
       "cg22721334 0.01031495  0.00832863  0.009390572 0.007827676\n",
       "cg19164987 0.98671387  0.98618214  0.984422642 0.986196464"
      ]
     },
     "metadata": {},
     "output_type": "display_data"
    }
   ],
   "source": [
    "# summarize results in table\n",
    "results = data.frame(names = names(pval), pvalue = pval, FDR = fdr, genes = anno[names(pval), \"UCSC_RefGene_Name\"], bmiqSet[,idx])\n",
    "results = results[order(results$pvalue),]\n",
    "#write.csv(results, file = \"results_cnt-wt_test.csv\", quote = F, row.names = F)\n",
    "# results[results$FDR<0.05,] \n",
    "head(results)\n"
   ]
  },
  {
   "cell_type": "code",
   "execution_count": 62,
   "metadata": {},
   "outputs": [
    {
     "data": {
      "text/html": [
       "546342"
      ],
      "text/latex": [
       "546342"
      ],
      "text/markdown": [
       "546342"
      ],
      "text/plain": [
       "[1] 546342"
      ]
     },
     "metadata": {},
     "output_type": "display_data"
    },
    {
     "data": {
      "text/html": [
       "26700"
      ],
      "text/latex": [
       "26700"
      ],
      "text/markdown": [
       "26700"
      ],
      "text/plain": [
       "[1] 26700"
      ]
     },
     "metadata": {},
     "output_type": "display_data"
    },
    {
     "data": {
      "text/html": [
       "<style>\n",
       ".list-inline {list-style: none; margin:0; padding: 0}\n",
       ".list-inline>li {display: inline-block}\n",
       ".list-inline>li:not(:last-child)::after {content: \"\\00b7\"; padding: 0 .5ex}\n",
       "</style>\n",
       "<ol class=list-inline><li>'PKN3'</li><li>'MID1IP1'</li><li>'MOSPD2'</li><li>'FANCB'</li><li>'PCDHA6'</li><li>'PCDHA2'</li></ol>\n"
      ],
      "text/latex": [
       "\\begin{enumerate*}\n",
       "\\item 'PKN3'\n",
       "\\item 'MID1IP1'\n",
       "\\item 'MOSPD2'\n",
       "\\item 'FANCB'\n",
       "\\item 'PCDHA6'\n",
       "\\item 'PCDHA2'\n",
       "\\end{enumerate*}\n"
      ],
      "text/markdown": [
       "1. 'PKN3'\n",
       "2. 'MID1IP1'\n",
       "3. 'MOSPD2'\n",
       "4. 'FANCB'\n",
       "5. 'PCDHA6'\n",
       "6. 'PCDHA2'\n",
       "\n",
       "\n"
      ],
      "text/plain": [
       "[1] \"PKN3\"    \"MID1IP1\" \"MOSPD2\"  \"FANCB\"   \"PCDHA6\"  \"PCDHA2\" "
      ]
     },
     "metadata": {},
     "output_type": "display_data"
    }
   ],
   "source": [
    "# significant cpgs and genes\n",
    "signCpg = results[results$FDR<0.05,]$names # signCpg = rownames(results)[1:10]\n",
    "length(signCpg)\n",
    "signGenes = anno[rownames(anno)%in% signCpg,]$UCSC_RefGene_Name\n",
    "signGenes = unique(unlist(strsplit(signGenes, \";\")))\n",
    "length(signGenes)\n",
    "head(signGenes)\n"
   ]
  },
  {
   "cell_type": "code",
   "execution_count": 63,
   "metadata": {},
   "outputs": [
    {
     "data": {
      "image/png": "[encoded data removed]",
      "text/plain": [
       "Plot with title \"cg02755525\""
      ]
     },
     "metadata": {
      "image/png": {
       "height": 420,
       "width": 420
      }
     },
     "output_type": "display_data"
    }
   ],
   "source": [
    "## boxplot of significant CpG \n",
    "boxplot(bmiqSet[signCpg[1],idx] ~ groups, main = signCpg[1], ylab = \"Beta-Value\", xlab = \"Groups\")"
   ]
  },
  {
   "cell_type": "code",
   "execution_count": 64,
   "metadata": {},
   "outputs": [],
   "source": [
    "## save genes\n",
    "write.table(signGenes, file = \"signGenes_cnt-wt.txt\", row.names = F, sep = \"\\n\", col.names = F, quote = F)"
   ]
  },
  {
   "cell_type": "code",
   "execution_count": 65,
   "metadata": {},
   "outputs": [
    {
     "data": {
      "text/html": [
       "'/Users/raymondotoo/OneDrive - University of Arkansas for Medical Sciences/StepByrum_Courses/ST-ASB_Fall_2022/Jupyter_Notebooks/01_EPIC_DNAme'"
      ],
      "text/latex": [
       "'/Users/raymondotoo/OneDrive - University of Arkansas for Medical Sciences/StepByrum\\_Courses/ST-ASB\\_Fall\\_2022/Jupyter\\_Notebooks/01\\_EPIC\\_DNAme'"
      ],
      "text/markdown": [
       "'/Users/raymondotoo/OneDrive - University of Arkansas for Medical Sciences/StepByrum_Courses/ST-ASB_Fall_2022/Jupyter_Notebooks/01_EPIC_DNAme'"
      ],
      "text/plain": [
       "[1] \"/Users/raymondotoo/OneDrive - University of Arkansas for Medical Sciences/StepByrum_Courses/ST-ASB_Fall_2022/Jupyter_Notebooks/01_EPIC_DNAme\""
      ]
     },
     "metadata": {},
     "output_type": "display_data"
    },
    {
     "data": {
      "text/plain": [
       "R version 4.2.1 (2022-06-23)\n",
       "Platform: x86_64-apple-darwin17.0 (64-bit)\n",
       "Running under: macOS Big Sur ... 10.16\n",
       "\n",
       "Matrix products: default\n",
       "BLAS:   /Library/Frameworks/R.framework/Versions/4.2/Resources/lib/libRblas.0.dylib\n",
       "LAPACK: /Library/Frameworks/R.framework/Versions/4.2/Resources/lib/libRlapack.dylib\n",
       "\n",
       "locale:\n",
       "[1] C\n",
       "\n",
       "attached base packages:\n",
       "[1] parallel  stats4    stats     graphics  grDevices utils     datasets \n",
       "[8] methods   base     \n",
       "\n",
       "other attached packages:\n",
       " [1] GGally_2.1.2                                       \n",
       " [2] RPMM_1.25                                          \n",
       " [3] cluster_2.1.3                                      \n",
       " [4] ggfortify_0.4.14                                   \n",
       " [5] stringr_1.4.1                                      \n",
       " [6] CpGassoc_2.60                                      \n",
       " [7] nlme_3.1-157                                       \n",
       " [8] missMethyl_1.30.0                                  \n",
       " [9] wateRmelon_2.2.0                                   \n",
       "[10] illuminaio_0.38.0                                  \n",
       "[11] IlluminaHumanMethylation450kanno.ilmn12.hg19_0.6.1 \n",
       "[12] ROC_1.72.0                                         \n",
       "[13] lumi_2.48.0                                        \n",
       "[14] methylumi_2.42.0                                   \n",
       "[15] FDb.InfiniumMethylation.hg19_2.2.0                 \n",
       "[16] org.Hs.eg.db_3.15.0                                \n",
       "[17] TxDb.Hsapiens.UCSC.hg19.knownGene_3.2.2            \n",
       "[18] GenomicFeatures_1.48.3                             \n",
       "[19] AnnotationDbi_1.58.0                               \n",
       "[20] ggplot2_3.3.6                                      \n",
       "[21] reshape2_1.4.4                                     \n",
       "[22] scales_1.2.1                                       \n",
       "[23] limma_3.52.2                                       \n",
       "[24] IlluminaHumanMethylationEPICanno.ilm10b4.hg19_0.6.0\n",
       "[25] IlluminaHumanMethylationEPICmanifest_0.3.0         \n",
       "[26] minfi_1.42.0                                       \n",
       "[27] bumphunter_1.38.0                                  \n",
       "[28] locfit_1.5-9.6                                     \n",
       "[29] iterators_1.0.14                                   \n",
       "[30] foreach_1.5.2                                      \n",
       "[31] Biostrings_2.64.1                                  \n",
       "[32] XVector_0.36.0                                     \n",
       "[33] SummarizedExperiment_1.26.1                        \n",
       "[34] Biobase_2.56.0                                     \n",
       "[35] MatrixGenerics_1.8.1                               \n",
       "[36] matrixStats_0.62.0                                 \n",
       "[37] GenomicRanges_1.48.0                               \n",
       "[38] GenomeInfoDb_1.32.3                                \n",
       "[39] IRanges_2.30.1                                     \n",
       "[40] S4Vectors_0.34.0                                   \n",
       "[41] BiocGenerics_0.42.0                                \n",
       "\n",
       "loaded via a namespace (and not attached):\n",
       "  [1] uuid_1.1-0                BiocFileCache_2.4.0      \n",
       "  [3] plyr_1.8.7                repr_1.1.4               \n",
       "  [5] splines_4.2.1             BiocParallel_1.30.3      \n",
       "  [7] digest_0.6.29             htmltools_0.5.3          \n",
       "  [9] fansi_1.0.3               magrittr_2.0.3           \n",
       " [11] memoise_2.0.1             tzdb_0.3.0               \n",
       " [13] readr_2.1.2               annotate_1.74.0          \n",
       " [15] askpass_1.1               siggenes_1.70.0          \n",
       " [17] prettyunits_1.1.1         colorspace_2.0-3         \n",
       " [19] blob_1.2.3                rappdirs_0.3.3           \n",
       " [21] xfun_0.32                 dplyr_1.0.9              \n",
       " [23] crayon_1.5.1              RCurl_1.98-1.8           \n",
       " [25] jsonlite_1.8.0            genefilter_1.78.0        \n",
       " [27] GEOquery_2.64.2           survival_3.3-1           \n",
       " [29] glue_1.6.2                gtable_0.3.0             \n",
       " [31] zlibbioc_1.42.0           DelayedArray_0.22.0      \n",
       " [33] Rhdf5lib_1.18.2           HDF5Array_1.24.2         \n",
       " [35] DBI_1.1.3                 rngtools_1.5.2           \n",
       " [37] Rcpp_1.0.9                xtable_1.8-4             \n",
       " [39] progress_1.2.2            bit_4.0.4                \n",
       " [41] mclust_5.4.10             preprocessCore_1.58.0    \n",
       " [43] httr_1.4.4                RColorBrewer_1.1-3       \n",
       " [45] ellipsis_0.3.2            farver_2.1.1             \n",
       " [47] pkgconfig_2.0.3           reshape_0.8.9            \n",
       " [49] XML_3.99-0.10             dbplyr_2.2.1             \n",
       " [51] utf8_1.2.2                labeling_0.4.2           \n",
       " [53] tidyselect_1.1.2          rlang_1.0.4              \n",
       " [55] munsell_0.5.0             tools_4.2.1              \n",
       " [57] cachem_1.0.6              cli_3.3.0                \n",
       " [59] generics_0.1.3            RSQLite_2.2.16           \n",
       " [61] evaluate_0.16             fastmap_1.1.0            \n",
       " [63] yaml_2.3.5                knitr_1.39               \n",
       " [65] bit64_4.0.5               beanplot_1.3.1           \n",
       " [67] scrime_1.3.5              purrr_0.3.4              \n",
       " [69] KEGGREST_1.36.3           doRNG_1.8.2              \n",
       " [71] sparseMatrixStats_1.8.0   nor1mix_1.3-0            \n",
       " [73] xml2_1.3.3                biomaRt_2.52.0           \n",
       " [75] compiler_4.2.1            filelock_1.0.2           \n",
       " [77] curl_4.3.2                png_0.1-7                \n",
       " [79] affyio_1.66.0             statmod_1.4.37           \n",
       " [81] tibble_3.1.8              stringi_1.7.8            \n",
       " [83] lattice_0.20-45           IRdisplay_1.1            \n",
       " [85] Matrix_1.4-1              multtest_2.52.0          \n",
       " [87] vctrs_0.4.1               pillar_1.8.1             \n",
       " [89] lifecycle_1.0.1           rhdf5filters_1.8.0       \n",
       " [91] BiocManager_1.30.18       data.table_1.14.2        \n",
       " [93] bitops_1.0-7              rtracklayer_1.56.1       \n",
       " [95] affy_1.74.0               R6_2.5.1                 \n",
       " [97] BiocIO_1.6.0              gridExtra_2.3            \n",
       " [99] KernSmooth_2.23-20        nleqslv_3.3.3            \n",
       "[101] codetools_0.2-18          MASS_7.3-57              \n",
       "[103] assertthat_0.2.1          rhdf5_2.40.0             \n",
       "[105] openssl_2.0.2             rjson_0.2.21             \n",
       "[107] withr_2.5.0               GenomicAlignments_1.32.1 \n",
       "[109] Rsamtools_2.12.0          GenomeInfoDbData_1.2.8   \n",
       "[111] mgcv_1.8-40               hms_1.1.2                \n",
       "[113] quadprog_1.5-8            grid_4.2.1               \n",
       "[115] IRkernel_1.3              tidyr_1.2.0              \n",
       "[117] base64_2.0.1              DelayedMatrixStats_1.18.0\n",
       "[119] pbdZMQ_0.3-7              base64enc_0.1-3          \n",
       "[121] restfulr_0.0.15          "
      ]
     },
     "metadata": {},
     "output_type": "display_data"
    }
   ],
   "source": [
    "getwd()\n",
    "sessionInfo()"
   ]
  },
  {
   "cell_type": "code",
   "execution_count": null,
   "metadata": {},
   "outputs": [],
   "source": []
  }
 ],
 "metadata": {
  "kernelspec": {
   "display_name": "R",
   "language": "R",
   "name": "ir"
  },
  "language_info": {
   "codemirror_mode": "r",
   "file_extension": ".r",
   "mimetype": "text/x-r-source",
   "name": "R",
   "pygments_lexer": "r",
   "version": "4.2.1"
  },
  "toc-autonumbering": false,
  "toc-showcode": false,
  "toc-showmarkdowntxt": false,
  "toc-showtags": false
 },
 "nbformat": 4,
 "nbformat_minor": 4
}
