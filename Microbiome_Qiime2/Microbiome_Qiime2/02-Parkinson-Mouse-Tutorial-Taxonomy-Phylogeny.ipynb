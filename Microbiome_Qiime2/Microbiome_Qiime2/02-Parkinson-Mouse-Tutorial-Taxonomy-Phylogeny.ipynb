{
 "cells": [
  {
   "cell_type": "markdown",
   "metadata": {},
   "source": [
    "# Parkinson's Mouse Tutorial - Taxonomy Assignment\n",
    "\n",
    "Run this notebook in `qiime2-2021.11`.\n",
    "\n",
    "Continuing the [pd-mouse tutorial](https://docs.qiime2.org/2021.11/tutorials/pd-mice/). Specifically the [Taxonomy](https://docs.qiime2.org/2021.11/tutorials/pd-mice/#taxonomic-classification), and [Phylogeny](https://docs.qiime2.org/2021.11/tutorials/pd-mice/#generating-a-phylogenetic-tree-for-diversity-analysis) steps. *Note we'll use a *de novo* [align-to-tree-mafft-fasttree ](https://docs.qiime2.org/2021.11/tutorials/phylogeny/#pipelines) step so we can run through this tutorial quicker.*"
   ]
  },
  {
   "cell_type": "code",
   "execution_count": null,
   "metadata": {},
   "outputs": [],
   "source": [
    "from os import getcwd, listdir, chdir, mkdir\n",
    "import qiime2 as q2"
   ]
  },
  {
   "cell_type": "code",
   "execution_count": null,
   "metadata": {},
   "outputs": [],
   "source": [
    "getcwd()"
   ]
  },
  {
   "cell_type": "code",
   "execution_count": null,
   "metadata": {},
   "outputs": [],
   "source": [
    "chdir('../processed')\n",
    "getcwd()"
   ]
  },
  {
   "cell_type": "markdown",
   "metadata": {},
   "source": [
    "## Download classifiers\n",
    "\n",
    "We'll assign taxonomy using SILVA. Can obtain classifiers from the [Data Resource Page](https://docs.qiime2.org/2021.11/data-resources/)."
   ]
  },
  {
   "cell_type": "code",
   "execution_count": null,
   "metadata": {},
   "outputs": [],
   "source": [
    "mkdir('silva-classifiers')"
   ]
  },
  {
   "cell_type": "code",
   "execution_count": null,
   "metadata": {},
   "outputs": [],
   "source": [
    "! wget https://data.qiime2.org/2021.11/common/silva-138-99-515-806-nb-classifier.qza \\\n",
    "    -O ./silva-classifiers/silva-138-99-515-806-nb-classifier.qza"
   ]
  },
  {
   "cell_type": "markdown",
   "metadata": {},
   "source": [
    "## Classify sequences / reads"
   ]
  },
  {
   "cell_type": "code",
   "execution_count": null,
   "metadata": {},
   "outputs": [],
   "source": [
    "! qiime feature-classifier classify-sklearn \\\n",
    "    --i-reads ./dada2_rep_set.qza \\\n",
    "    --i-classifier ./silva-classifiers/silva-138-99-515-806-nb-classifier.qza \\\n",
    "    --p-n-jobs 2 \\\n",
    "    --o-classification ./taxonomy.qza"
   ]
  },
  {
   "cell_type": "code",
   "execution_count": null,
   "metadata": {},
   "outputs": [],
   "source": [
    "# View list of classifications\n",
    "! qiime metadata tabulate \\\n",
    "    --m-input-file ./taxonomy.qza \\\n",
    "    --o-visualization ./taxonomy.qzv"
   ]
  },
  {
   "cell_type": "code",
   "execution_count": null,
   "metadata": {
    "scrolled": true
   },
   "outputs": [],
   "source": [
    "q2.Visualization.load('taxonomy.qzv')"
   ]
  },
  {
   "cell_type": "code",
   "execution_count": null,
   "metadata": {},
   "outputs": [],
   "source": [
    "# View a taxonomy barplot\n",
    "! qiime taxa barplot \\\n",
    "    --i-table ./dada2_table.qza \\\n",
    "    --i-taxonomy ./taxonomy.qza \\\n",
    "    --m-metadata-file ./metadata.tsv \\\n",
    "    --o-visualization ./taxa_barplot.qzv"
   ]
  },
  {
   "cell_type": "code",
   "execution_count": null,
   "metadata": {
    "scrolled": true
   },
   "outputs": [],
   "source": [
    "q2.Visualization.load('taxa_barplot.qzv')"
   ]
  },
  {
   "cell_type": "markdown",
   "metadata": {},
   "source": [
    "## Remove poorly classified reads\n",
    "\n",
    "[Filtering Documentation](https://docs.qiime2.org/2020.11/tutorials/filtering/)"
   ]
  },
  {
   "cell_type": "code",
   "execution_count": null,
   "metadata": {},
   "outputs": [],
   "source": [
    "! qiime taxa filter-table \\\n",
    "    --i-table ./dada2_table.qza \\\n",
    "    --i-taxonomy ./taxonomy.qza \\\n",
    "    --p-mode 'contains'  \\\n",
    "    --p-include 'p__' \\\n",
    "    --p-exclude 'p__;,Eukaryota,Chloroplast,Mitochondria' \\\n",
    "    --o-filtered-table ./table-no-ecmu.qza"
   ]
  },
  {
   "cell_type": "code",
   "execution_count": null,
   "metadata": {},
   "outputs": [],
   "source": [
    "! qiime feature-table filter-seqs \\\n",
    "    --i-data ./dada2_rep_set.qza \\\n",
    "    --i-table ./table-no-ecmu.qza \\\n",
    "    --o-filtered-data rep_set-no-ecmu.qza"
   ]
  },
  {
   "cell_type": "code",
   "execution_count": null,
   "metadata": {},
   "outputs": [],
   "source": [
    "! qiime tools export \\\n",
    "    --input-path rep_set-no-ecmu.qza \\\n",
    "    --output-path rep_set-no-ecmu-export"
   ]
  },
  {
   "cell_type": "code",
   "execution_count": null,
   "metadata": {},
   "outputs": [],
   "source": [
    "# View a taxonomy barplot\n",
    "! qiime taxa barplot \\\n",
    "    --i-table ./table-no-ecmu.qza \\\n",
    "    --i-taxonomy ./taxonomy.qza \\\n",
    "    --m-metadata-file ./metadata.tsv \\\n",
    "    --o-visualization ./table-no-ecmu-taxa-barplot.qzv"
   ]
  },
  {
   "cell_type": "code",
   "execution_count": null,
   "metadata": {
    "scrolled": true
   },
   "outputs": [],
   "source": [
    "q2.Visualization.load('table-no-ecmu-taxa-barplot.qzv')"
   ]
  },
  {
   "cell_type": "markdown",
   "metadata": {},
   "source": [
    "#### krona plot"
   ]
  },
  {
   "cell_type": "code",
   "execution_count": null,
   "metadata": {},
   "outputs": [],
   "source": [
    "! qiime krona collapse-and-plot \\\n",
    "    --i-table ./table-no-ecmu.qza \\\n",
    "    --i-taxonomy ./taxonomy.qza \\\n",
    "    --o-krona-plot ./table-no-ecmu-taxa-krona.qzv"
   ]
  },
  {
   "cell_type": "code",
   "execution_count": null,
   "metadata": {},
   "outputs": [],
   "source": []
  },
  {
   "cell_type": "markdown",
   "metadata": {},
   "source": [
    "##  Other QA / QC Operations\n",
    "\n",
    "See [q2-quality-control tutorial](https://docs.qiime2.org/2021.11/tutorials/quality-control/)."
   ]
  },
  {
   "cell_type": "code",
   "execution_count": null,
   "metadata": {},
   "outputs": [],
   "source": [
    "mkdir('references')"
   ]
  },
  {
   "cell_type": "code",
   "execution_count": null,
   "metadata": {},
   "outputs": [],
   "source": [
    "# download pre-made SILVA refrence\n",
    "! wget https://data.qiime2.org/2021.11/common/silva-138-99-seqs-515-806.qza \\\n",
    "    -O ./references/silva-138-99-seqs-515-806.qza"
   ]
  },
  {
   "cell_type": "code",
   "execution_count": null,
   "metadata": {},
   "outputs": [],
   "source": [
    "# remove poor quality sequence that do not have a decent match to our curated reference database.\n",
    "! qiime quality-control exclude-seqs \\\n",
    "    --i-query-sequences ./rep_set-no-ecmu.qza \\\n",
    "    --i-reference-sequences ./references/silva-138-99-seqs-515-806.qza \\\n",
    "    --p-method vsearch \\\n",
    "    --p-perc-identity 0.90 \\\n",
    "    --p-perc-query-aligned 0.90 \\\n",
    "    --o-sequence-hits ./hits.qza \\\n",
    "    --o-sequence-misses ./misses.qza"
   ]
  },
  {
   "cell_type": "code",
   "execution_count": null,
   "metadata": {},
   "outputs": [],
   "source": [
    "# filter table to match filtered sequence file\n",
    "! qiime feature-table filter-features \\\n",
    "    --i-table ./table-no-ecmu.qza \\\n",
    "    --m-metadata-file ./hits.qza \\\n",
    "    --o-filtered-table ./table-no-ecmu-hits.qza"
   ]
  },
  {
   "cell_type": "markdown",
   "metadata": {},
   "source": [
    "#### Given that we filtered our data again, you may want to re-generate the taxonomy plots. Use the prior taxonomy visualization commands above as a guid and run them below, with the new table:"
   ]
  },
  {
   "cell_type": "code",
   "execution_count": null,
   "metadata": {},
   "outputs": [],
   "source": [
    "# updated taxonomy barplot\n",
    "! qiime taxa barplot \\\n",
    "    --i-table ./table-no-ecmu-hits.qza \\\n",
    "    --i-taxonomy ./taxonomy.qza \\\n",
    "    --m-metadata-file ./metadata.tsv \\\n",
    "    --o-visualization ./table-no-ecmu-hits-taxa-barplot.qzv"
   ]
  },
  {
   "cell_type": "code",
   "execution_count": null,
   "metadata": {},
   "outputs": [],
   "source": [
    "# updated krona plot\n",
    "! qiime krona collapse-and-plot \\\n",
    "    --i-table ./table-no-ecmu-hits.qza \\\n",
    "    --i-taxonomy ./taxonomy.qza \\\n",
    "    --o-krona-plot ./table-no-ecmu-hits-taxa-krona.qzv"
   ]
  },
  {
   "cell_type": "markdown",
   "metadata": {},
   "source": [
    "#### krona collapse by group "
   ]
  },
  {
   "cell_type": "code",
   "execution_count": null,
   "metadata": {},
   "outputs": [],
   "source": [
    "! qiime feature-table group \\\n",
    "    --i-table ./table-no-ecmu-hits.qza \\\n",
    "    --p-axis sample \\\n",
    "    --m-metadata-file ./metadata.tsv \\\n",
    "    --m-metadata-column donor \\\n",
    "    --p-mode 'mean-ceiling' \\\n",
    "    --o-grouped-table ./table-no-ecmu-hits-donor.qza"
   ]
  },
  {
   "cell_type": "code",
   "execution_count": null,
   "metadata": {},
   "outputs": [],
   "source": [
    "! qiime krona collapse-and-plot \\\n",
    "    --i-table ./table-no-ecmu-hits-donor.qza \\\n",
    "    --i-taxonomy ./taxonomy.qza \\\n",
    "    --o-krona-plot ./table-no-ecmu-hits-donor-taxa-krona.qzv"
   ]
  },
  {
   "cell_type": "code",
   "execution_count": null,
   "metadata": {},
   "outputs": [],
   "source": []
  },
  {
   "cell_type": "markdown",
   "metadata": {},
   "source": [
    "## Construct phylogeny\n",
    "\n",
    "See the [Inferring Phylogenies tutorial](https://docs.qiime2.org/2021.11/tutorials/phylogeny/) for more information.\n",
    "\n",
    "We'll run [FastTree](https://docs.qiime2.org/2021.11/tutorials/phylogeny/#fasttree) to be quick, though I'd recomend [iqtree](https://docs.qiime2.org/2021.11/tutorials/phylogeny/#iqtree) or [fragment-insertion](https://library.qiime2.org/plugins/q2-fragment-insertion/16/).\n",
    "\n",
    "We'll be using the [align-to-tree-mafft-fasttree](https://docs.qiime2.org/2021.11/tutorials/phylogeny/#pipelines) pipeline."
   ]
  },
  {
   "cell_type": "markdown",
   "metadata": {},
   "source": [
    "### *de novo phylogeny*\n",
    "\n",
    "View with [iTOL](https://itol.embl.de/) or [Empress](https://github.com/biocore/empress)."
   ]
  },
  {
   "cell_type": "code",
   "execution_count": null,
   "metadata": {
    "scrolled": true
   },
   "outputs": [],
   "source": [
    "# pipeline: alignment through phylogeny\n",
    "! qiime phylogeny align-to-tree-mafft-fasttree \\\n",
    "    --i-sequences ./hits.qza \\\n",
    "    --output-dir ./mafft-fasttree-output \\\n",
    "    --verbose"
   ]
  },
  {
   "cell_type": "markdown",
   "metadata": {},
   "source": [
    "### Another phylogenetic approach: Fragment Insertion"
   ]
  },
  {
   "cell_type": "raw",
   "metadata": {},
   "source": [
    "! wget https://data.qiime2.org/2021.11/common/sepp-refs-silva-128.qza -O ./references/sepp-refs-silva-128.qza "
   ]
  },
  {
   "cell_type": "raw",
   "metadata": {},
   "source": [
    "! qiime fragment-insertion sepp \\\n",
    "    --i-representative-sequences ./hits.qza \\\n",
    "    --i-reference-database ./references/sepp-refs-silva-128.qza \\\n",
    "    --o-tree ./tree.qza \\\n",
    "    --o-placements ./tree_placements.qza \\\n",
    "    --p-threads 4 "
   ]
  },
  {
   "cell_type": "raw",
   "metadata": {},
   "source": [
    "!  qiime fragment-insertion filter-features \\\n",
    "    --i-table ./table-no-ecmu-hits.qza \\\n",
    "    --i-tree ./tree.qza \\\n",
    "    --o-filtered-table ./table-no-ecmu-fi.qza \\\n",
    "    --o-removed-table ./table-no-ecmu-nofi.qza"
   ]
  },
  {
   "cell_type": "markdown",
   "metadata": {},
   "source": [
    "## [Empress](https://github.com/biocore/empress)"
   ]
  },
  {
   "cell_type": "code",
   "execution_count": null,
   "metadata": {},
   "outputs": [],
   "source": [
    "!qiime empress tree-plot \\\n",
    "    --i-tree ./mafft-fasttree-output/rooted_tree.qza \\\n",
    "    --m-feature-metadata-file ./taxonomy.qza \\\n",
    "    --o-visualization ./tree-viz.qzv"
   ]
  },
  {
   "cell_type": "code",
   "execution_count": null,
   "metadata": {},
   "outputs": [],
   "source": [
    "q2.Visualization.load('./tree-viz.qzv')"
   ]
  },
  {
   "cell_type": "code",
   "execution_count": null,
   "metadata": {},
   "outputs": [],
   "source": [
    "! qiime empress community-plot \\\n",
    "    --i-tree ./mafft-fasttree-output/rooted_tree.qza \\\n",
    "    --i-feature-table ./table-no-ecmu-hits.qza \\\n",
    "    --m-sample-metadata-file ./metadata.tsv \\\n",
    "    --m-feature-metadata-file ./taxonomy.qza \\\n",
    "    --o-visualization tree-tax-table.qzv"
   ]
  },
  {
   "cell_type": "code",
   "execution_count": null,
   "metadata": {},
   "outputs": [],
   "source": [
    "q2.Visualization.load('./tree-tax-table.qzv')"
   ]
  }
 ],
 "metadata": {
  "kernelspec": {
   "display_name": "Python [conda env:qiime2-2021.11]",
   "language": "python",
   "name": "conda-env-qiime2-2021.11-py"
  },
  "language_info": {
   "codemirror_mode": {
    "name": "ipython",
    "version": 3
   },
   "file_extension": ".py",
   "mimetype": "text/x-python",
   "name": "python",
   "nbconvert_exporter": "python",
   "pygments_lexer": "ipython3",
   "version": "3.8.12"
  }
 },
 "nbformat": 4,
 "nbformat_minor": 4
}
