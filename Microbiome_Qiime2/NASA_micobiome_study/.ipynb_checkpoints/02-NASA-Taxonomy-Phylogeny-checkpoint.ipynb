{
 "cells": [
  {
   "cell_type": "markdown",
   "metadata": {},
   "source": [
    "# NASA Simulated Space Radiation and HindLimb suspension study - Taxonomy Assignment\n",
    "\n",
    "Run this notebook in `qiime2-2024.4`.\n",
    "\n",
    "Continuing with the [Taxonomy](https://docs.qiime2.org/2022.11/tutorials/pd-mice/#taxonomic-classification), and [Phylogeny](https://docs.qiime2.org/2022.11/tutorials/pd-mice/#generating-a-phylogenetic-tree-for-diversity-analysis) steps. *Note we'll use a *de novo* [align-to-tree-mafft-fasttree ](https://docs.qiime2.org/2022.11/tutorials/phylogeny/#pipelines) step so we can run through this tutorial quicker.*"
   ]
  },
  {
   "cell_type": "code",
   "execution_count": 1,
   "metadata": {},
   "outputs": [],
   "source": [
    "from os import getcwd, listdir, chdir, mkdir\n",
    "import qiime2 as q2"
   ]
  },
  {
   "cell_type": "code",
   "execution_count": 2,
   "metadata": {},
   "outputs": [
    {
     "data": {
      "text/plain": [
       "'/mnt/e/NASA_microbiome'"
      ]
     },
     "execution_count": 2,
     "metadata": {},
     "output_type": "execute_result"
    }
   ],
   "source": [
    "getcwd()"
   ]
  },
  {
   "cell_type": "code",
   "execution_count": 3,
   "metadata": {},
   "outputs": [
    {
     "data": {
      "text/plain": [
       "'/mnt/e/NASA_microbiome/processed'"
      ]
     },
     "execution_count": 3,
     "metadata": {},
     "output_type": "execute_result"
    }
   ],
   "source": [
    "chdir('./processed')\n",
    "getcwd()"
   ]
  },
  {
   "cell_type": "markdown",
   "metadata": {},
   "source": [
    "## Download classifiers if runing on your laptop:\n",
    "\n",
    "We'll assign taxonomy using SILVA. Can obtain classifiers from the [Data Resource Page](https://docs.qiime2.org/2022.11/data-resources/)."
   ]
  },
  {
   "cell_type": "code",
   "execution_count": 5,
   "metadata": {},
   "outputs": [],
   "source": [
    "mkdir('silva-classifiers')"
   ]
  },
  {
   "cell_type": "code",
   "execution_count": 6,
   "metadata": {},
   "outputs": [
    {
     "name": "stdout",
     "output_type": "stream",
     "text": [
      "--2024-03-08 21:07:31--  https://data.qiime2.org/2022.11/common/silva-138-99-515-806-nb-classifier.qza\n",
      "Resolving data.qiime2.org (data.qiime2.org)... 54.200.1.12\n",
      "Connecting to data.qiime2.org (data.qiime2.org)|54.200.1.12|:443... connected.\n",
      "HTTP request sent, awaiting response... 302 FOUND\n",
      "Location: https://s3-us-west-2.amazonaws.com/qiime2-data/2022.11/common/silva-138-99-515-806-nb-classifier.qza [following]\n",
      "--2024-03-08 21:07:32--  https://s3-us-west-2.amazonaws.com/qiime2-data/2022.11/common/silva-138-99-515-806-nb-classifier.qza\n",
      "Resolving s3-us-west-2.amazonaws.com (s3-us-west-2.amazonaws.com)... 52.92.179.192, 52.92.228.200, 52.92.162.16, ...\n",
      "Connecting to s3-us-west-2.amazonaws.com (s3-us-west-2.amazonaws.com)|52.92.179.192|:443... connected.\n",
      "HTTP request sent, awaiting response... 200 OK\n",
      "Length: 148294965 (141M) [binary/octet-stream]\n",
      "Saving to: ‘./silva-classifiers/silva-138-99-515-806-nb-classifier.qza’\n",
      "\n",
      "./silva-classifiers 100%[===================>] 141.42M  13.9MB/s    in 9.8s    \n",
      "\n",
      "2024-03-08 21:07:42 (14.4 MB/s) - ‘./silva-classifiers/silva-138-99-515-806-nb-classifier.qza’ saved [148294965/148294965]\n",
      "\n"
     ]
    }
   ],
   "source": [
    "! wget https://data.qiime2.org/2022.11/common/silva-138-99-515-806-nb-classifier.qza \\\n",
    "    -O ./silva-classifiers/silva-138-99-515-806-nb-classifier.qza"
   ]
  },
  {
   "cell_type": "markdown",
   "metadata": {
    "editable": true,
    "slideshow": {
     "slide_type": ""
    },
    "tags": []
   },
   "source": [
    "## If you are running on the HPC the classifiers are located at:\n",
    " - `/home/SE/BMIG-6202-MSR/RefDBs/q2-2022.11/silva-138-1-ssu-nr99-515f-806r-classifier.qza`\n",
    " - `/home/SE/BMIG-6202-MSR/RefDBs/q2-2022.11/silva-138-1-ssu-nr99-classifier.qza`\n",
    " \n",
    " You can setup a shortcut like this:\n",
    " \n",
    "`silva_classifier='/mnt/e/NASA_microbiome/Processed/silva-classifiers/silva-138-99-515-806-nb-classifier.qza'`"
   ]
  },
  {
   "cell_type": "code",
   "execution_count": 4,
   "metadata": {},
   "outputs": [],
   "source": [
    "silva_classifier='/mnt/e/NASA_microbiome/Processed/v3_v4_classifier/silva-138-1-ssu-nr99-357f-806r-classifier.qza'"
   ]
  },
  {
   "cell_type": "markdown",
   "metadata": {},
   "source": [
    "## Classify sequences / reads\n",
    "\n",
    "In the command below, I'll be running on the HPC using the shortcut `$silva_classifier`."
   ]
  },
  {
   "cell_type": "code",
   "execution_count": 5,
   "metadata": {},
   "outputs": [
    {
     "name": "stdout",
     "output_type": "stream",
     "text": [
      "\u001b[32mSaved FeatureData[Taxonomy] to: ./taxonomy.qza\u001b[0m\n",
      "\u001b[0m"
     ]
    }
   ],
   "source": [
    "! qiime feature-classifier classify-sklearn \\\n",
    "    --i-reads ./dada2-pe-repseqs.qza \\\n",
    "    --i-classifier $silva_classifier \\\n",
    "    --p-n-jobs 2 \\\n",
    "    --o-classification ./taxonomy.qza"
   ]
  },
  {
   "cell_type": "code",
   "execution_count": 6,
   "metadata": {
    "editable": true,
    "slideshow": {
     "slide_type": ""
    },
    "tags": []
   },
   "outputs": [
    {
     "name": "stdout",
     "output_type": "stream",
     "text": [
      "\u001b[32mSaved Visualization to: ./taxonomy.qzv\u001b[0m\n",
      "\u001b[0m"
     ]
    }
   ],
   "source": [
    "# View list of classifications\n",
    "! qiime metadata tabulate \\\n",
    "    --m-input-file ./taxonomy.qza \\\n",
    "    --o-visualization ./taxonomy.qzv"
   ]
  },
  {
   "cell_type": "raw",
   "metadata": {},
   "source": [
    "q2.Visualization.load('taxonomy.qzv')"
   ]
  },
  {
   "cell_type": "code",
   "execution_count": 7,
   "metadata": {},
   "outputs": [
    {
     "name": "stdout",
     "output_type": "stream",
     "text": [
      "\u001b[32mSaved Visualization to: ./taxa_barplot.qzv\u001b[0m\n",
      "\u001b[0m"
     ]
    }
   ],
   "source": [
    "# View a taxonomy barplot\n",
    "! qiime taxa barplot \\\n",
    "    --i-table ./dada2-pe-table.qza \\\n",
    "    --i-taxonomy ./taxonomy.qza \\\n",
    "    --m-metadata-file ./NASA-Metadata.tsv \\\n",
    "    --o-visualization ./taxa_barplot.qzv"
   ]
  },
  {
   "cell_type": "raw",
   "metadata": {},
   "source": [
    "q2.Visualization.load('taxa_barplot.qzv')"
   ]
  },
  {
   "cell_type": "markdown",
   "metadata": {},
   "source": [
    "## Remove poorly classified reads\n",
    "\n",
    "[Filtering Documentation](https://docs.qiime2.org/2020.11/tutorials/filtering/)"
   ]
  },
  {
   "cell_type": "code",
   "execution_count": 8,
   "metadata": {},
   "outputs": [
    {
     "name": "stdout",
     "output_type": "stream",
     "text": [
      "\u001b[32mSaved FeatureTable[Frequency] to: ./table-no-ecmu.qza\u001b[0m\n",
      "\u001b[0m"
     ]
    }
   ],
   "source": [
    "! qiime taxa filter-table \\\n",
    "    --i-table ./dada2-pe-table.qza \\\n",
    "    --i-taxonomy ./taxonomy.qza \\\n",
    "    --p-mode 'contains'  \\\n",
    "    --p-include 'p__' \\\n",
    "    --p-exclude 'p__;,Eukaryota,Chloroplast,Mitochondria' \\\n",
    "    --o-filtered-table ./table-no-ecmu.qza"
   ]
  },
  {
   "cell_type": "code",
   "execution_count": 9,
   "metadata": {},
   "outputs": [
    {
     "name": "stdout",
     "output_type": "stream",
     "text": [
      "\u001b[32mSaved FeatureData[Sequence] to: rep_set-no-ecmu.qza\u001b[0m\n",
      "\u001b[0m"
     ]
    }
   ],
   "source": [
    "# keep seq file in sync with table\n",
    "! qiime feature-table filter-seqs \\\n",
    "    --i-data ./dada2-pe-repseqs.qza \\\n",
    "    --i-table ./table-no-ecmu.qza \\\n",
    "    --o-filtered-data rep_set-no-ecmu.qza"
   ]
  },
  {
   "cell_type": "code",
   "execution_count": 10,
   "metadata": {},
   "outputs": [
    {
     "name": "stdout",
     "output_type": "stream",
     "text": [
      "\u001b[32mExported rep_set-no-ecmu.qza as DNASequencesDirectoryFormat to directory rep_set-no-ecmu-export\u001b[0m\n",
      "\u001b[0m"
     ]
    }
   ],
   "source": [
    "! qiime tools export \\\n",
    "    --input-path rep_set-no-ecmu.qza \\\n",
    "    --output-path rep_set-no-ecmu-export"
   ]
  },
  {
   "cell_type": "code",
   "execution_count": 11,
   "metadata": {},
   "outputs": [
    {
     "name": "stdout",
     "output_type": "stream",
     "text": [
      "\u001b[32mSaved Visualization to: ./table-no-ecmu-taxa-barplot.qzv\u001b[0m\n",
      "\u001b[0m"
     ]
    }
   ],
   "source": [
    "# View a taxonomy barplot\n",
    "! qiime taxa barplot \\\n",
    "    --i-table ./table-no-ecmu.qza \\\n",
    "    --i-taxonomy ./taxonomy.qza \\\n",
    "    --m-metadata-file ./NASA-Metadata.tsv \\\n",
    "    --o-visualization ./table-no-ecmu-taxa-barplot.qzv"
   ]
  },
  {
   "cell_type": "raw",
   "metadata": {},
   "source": [
    "q2.Visualization.load('table-no-ecmu-taxa-barplot.qzv')"
   ]
  },
  {
   "cell_type": "markdown",
   "metadata": {},
   "source": [
    "#### krona plot \n",
    "#### To install Krona [https://github.com/kaanb93/q2-krona]\n",
    "### NB: krona requires 7 levels of taxonomic classification. Please check your taxonomic information that might have only 6 levels because of classifier without species. Adjust the P level based on the levels the classifier has."
   ]
  },
  {
   "cell_type": "code",
   "execution_count": 17,
   "metadata": {
    "editable": true,
    "scrolled": true,
    "slideshow": {
     "slide_type": ""
    },
    "tags": []
   },
   "outputs": [
    {
     "name": "stdout",
     "output_type": "stream",
     "text": [
      "\u001b[32mSaved Visualization to: ./table-no-ecmu-taxa-krona.qzv\u001b[0m\n",
      "\u001b[0m"
     ]
    }
   ],
   "source": [
    "! qiime krona collapse-and-plot \\\n",
    "    --i-table ./table-no-ecmu.qza \\\n",
    "    --i-taxonomy ./taxonomy.qza \\\n",
    "    --p-level 6 \\\n",
    "    --o-krona-plot ./table-no-ecmu-taxa-krona.qzv"
   ]
  },
  {
   "cell_type": "markdown",
   "metadata": {},
   "source": [
    "##  Other QA / QC Operations\n",
    "\n",
    "See [q2-quality-control tutorial](https://docs.qiime2.org/2022.11/tutorials/quality-control/)."
   ]
  },
  {
   "cell_type": "raw",
   "metadata": {
    "collapsed": true,
    "jupyter": {
     "outputs_hidden": true
    }
   },
   "source": [
    "#run once\n",
    "mkdir('references')"
   ]
  },
  {
   "cell_type": "raw",
   "metadata": {},
   "source": [
    "#run once\n",
    "# download pre-made SILVA refrence\n",
    "! wget https://data.qiime2.org/2022.11/common/silva-138-99-seqs-515-806.qza \\\n",
    "    -O ./references/silva-138-99-seqs-515-806.qza"
   ]
  },
  {
   "cell_type": "code",
   "execution_count": 19,
   "metadata": {},
   "outputs": [],
   "source": [
    "silva_ref_seq='/mnt/e/NASA_microbiome/Processed/references/silva-138-1-ssu-nr99-seqs-357f-806r-cln-dr-uniq.qza'"
   ]
  },
  {
   "cell_type": "code",
   "execution_count": 20,
   "metadata": {
    "scrolled": true
   },
   "outputs": [
    {
     "name": "stdout",
     "output_type": "stream",
     "text": [
      "Running external command line application. This may print messages to stdout and/or stderr.\n",
      "The commands to be run are below. These commands cannot be manually re-run as they will depend on temporary files that no longer exist.\n",
      "\n",
      "Command: vsearch --usearch_global /tmp/qiime2/raotoo/data/03a7accf-ed9f-4492-9126-23c8334ee130/data/dna-sequences.fasta --id 0.9 --strand both --maxaccepts 1 --maxrejects 0 --db /tmp/qiime2/raotoo/data/f678cd14-77e1-4e83-976e-fd56f4e8e433/data/dna-sequences.fasta --threads 8 --userfields query+target+ql+qlo+qhi --userout /tmp/tmpfkxrrkeq\n",
      "\n",
      "vsearch v2.22.1_linux_x86_64, 63.7GB RAM, 16 cores\n",
      "https://github.com/torognes/vsearch\n",
      "\n",
      "Reading file /tmp/qiime2/raotoo/data/f678cd14-77e1-4e83-976e-fd56f4e8e433/data/dna-sequences.fasta 100%                   \n",
      "135945441 nt in 322776 seqs, min 150, max 2005, avg 421\n",
      "Masking 100%                                                                                                                                                          \n",
      "Counting k-mers 100%                \n",
      "Creating k-mer index 100%                                                                                      \n",
      "Searching 100%                                                                                                                                                                                                        \n",
      "Matching unique query sequences: 3484 of 4027 (86.52%)\n",
      "/home/raotoo/miniconda/envs/qiime2-amplicon-2024.2/lib/python3.8/site-packages/q2_types/feature_data/_transformer.py:258: FutureWarning: iteritems is deprecated and will be removed in a future version. Use .items instead.\n",
      "  for id_, seq in data.iteritems():\n",
      "/home/raotoo/miniconda/envs/qiime2-amplicon-2024.2/lib/python3.8/site-packages/q2_types/feature_data/_transformer.py:258: FutureWarning: iteritems is deprecated and will be removed in a future version. Use .items instead.\n",
      "  for id_, seq in data.iteritems():\n",
      "\u001b[32mSaved FeatureData[Sequence] to: ./hits.qza\u001b[0m\n",
      "\u001b[32mSaved FeatureData[Sequence] to: ./misses.qza\u001b[0m\n",
      "\u001b[0m"
     ]
    }
   ],
   "source": [
    "# remove poor quality sequence that do not have a decent match to our curated reference database.\n",
    "! qiime quality-control exclude-seqs \\\n",
    "    --i-query-sequences ./rep_set-no-ecmu.qza \\\n",
    "    --i-reference-sequences $silva_ref_seq \\\n",
    "    --p-method vsearch \\\n",
    "    --p-perc-identity 0.90 \\\n",
    "    --p-perc-query-aligned 0.90 \\\n",
    "    --p-threads 8 \\\n",
    "    --o-sequence-hits ./hits.qza \\\n",
    "    --o-sequence-misses ./misses.qza \\\n",
    "    --verbose"
   ]
  },
  {
   "cell_type": "code",
   "execution_count": 21,
   "metadata": {},
   "outputs": [
    {
     "name": "stdout",
     "output_type": "stream",
     "text": [
      "\u001b[32mSaved FeatureTable[Frequency] to: ./table-no-ecmu-hits.qza\u001b[0m\n",
      "\u001b[0m"
     ]
    }
   ],
   "source": [
    "# filter table to match filtered sequence file\n",
    "! qiime feature-table filter-features \\\n",
    "    --i-table ./table-no-ecmu.qza \\\n",
    "    --m-metadata-file ./hits.qza \\\n",
    "    --o-filtered-table ./table-no-ecmu-hits.qza"
   ]
  },
  {
   "cell_type": "markdown",
   "metadata": {},
   "source": [
    "#### Given that we filtered our data again, you may want to re-generate the taxonomy plots. Use the prior taxonomy visualization commands above as a guid and run them below, with the new table:"
   ]
  },
  {
   "cell_type": "code",
   "execution_count": 22,
   "metadata": {},
   "outputs": [
    {
     "name": "stdout",
     "output_type": "stream",
     "text": [
      "\u001b[32mSaved Visualization to: ./table-no-ecmu-hits-taxa-barplot.qzv\u001b[0m\n",
      "\u001b[0m"
     ]
    }
   ],
   "source": [
    "# updated taxonomy barplot\n",
    "! qiime taxa barplot \\\n",
    "    --i-table ./table-no-ecmu-hits.qza \\\n",
    "    --i-taxonomy ./taxonomy.qza \\\n",
    "    --m-metadata-file ./NASA-Metadata.tsv \\\n",
    "    --o-visualization ./table-no-ecmu-hits-taxa-barplot.qzv"
   ]
  },
  {
   "cell_type": "code",
   "execution_count": 24,
   "metadata": {},
   "outputs": [
    {
     "name": "stdout",
     "output_type": "stream",
     "text": [
      "\u001b[32mSaved Visualization to: ./table-no-ecmu-hits-taxa-krona.qzv\u001b[0m\n",
      "\u001b[0m"
     ]
    }
   ],
   "source": [
    "# updated krona plot\n",
    "! qiime krona collapse-and-plot \\\n",
    "    --i-table ./table-no-ecmu-hits.qza \\\n",
    "    --i-taxonomy ./taxonomy.qza \\\n",
    "    --p-level 6 \\\n",
    "    --o-krona-plot ./table-no-ecmu-hits-taxa-krona.qzv"
   ]
  },
  {
   "cell_type": "code",
   "execution_count": 25,
   "metadata": {
    "editable": true,
    "slideshow": {
     "slide_type": ""
    },
    "tags": []
   },
   "outputs": [
    {
     "name": "stdout",
     "output_type": "stream",
     "text": [
      "\u001b[32mSaved FeatureTable[Frequency] to: ./table-no-ecmu-hits-TreatmentGroup.qza\u001b[0m\n",
      "\u001b[0m"
     ]
    }
   ],
   "source": [
    "! qiime feature-table group \\\n",
    "    --i-table ./table-no-ecmu-hits.qza \\\n",
    "    --p-axis sample \\\n",
    "    --m-metadata-file ./NASA-Metadata.tsv \\\n",
    "    --m-metadata-column TreatmentGroup \\\n",
    "    --p-mode 'mean-ceiling' \\\n",
    "    --o-grouped-table ./table-no-ecmu-hits-TreatmentGroup.qza"
   ]
  },
  {
   "cell_type": "raw",
   "metadata": {
    "scrolled": true
   },
   "source": [
    "! qiime taxa barplot \\\n",
    " ..."
   ]
  },
  {
   "cell_type": "markdown",
   "metadata": {
    "editable": true,
    "slideshow": {
     "slide_type": ""
    },
    "tags": []
   },
   "source": [
    "#### krona collapse by group "
   ]
  },
  {
   "cell_type": "code",
   "execution_count": 26,
   "metadata": {
    "editable": true,
    "slideshow": {
     "slide_type": ""
    },
    "tags": []
   },
   "outputs": [
    {
     "name": "stdout",
     "output_type": "stream",
     "text": [
      "\u001b[32mSaved FeatureTable[Frequency] to: ./table-no-ecmu-hits-TreatmentGroup.qza\u001b[0m\n",
      "\u001b[0m"
     ]
    }
   ],
   "source": [
    "! qiime feature-table group \\\n",
    "    --i-table ./table-no-ecmu-hits.qza \\\n",
    "    --p-axis sample \\\n",
    "    --m-metadata-file ./NASA-Metadata.tsv \\\n",
    "    --m-metadata-column TreatmentGroup \\\n",
    "    --p-mode 'mean-ceiling' \\\n",
    "    --o-grouped-table ./table-no-ecmu-hits-TreatmentGroup.qza"
   ]
  },
  {
   "cell_type": "code",
   "execution_count": 27,
   "metadata": {
    "scrolled": true
   },
   "outputs": [
    {
     "name": "stdout",
     "output_type": "stream",
     "text": [
      "\u001b[32mSaved Visualization to: ./table-no-ecmu-hits-TreatmentGroup-taxa-krona.qzv\u001b[0m\n",
      "\u001b[0m"
     ]
    }
   ],
   "source": [
    "! qiime krona collapse-and-plot \\\n",
    "    --i-table ./table-no-ecmu-hits-TreatmentGroup.qza \\\n",
    "    --i-taxonomy ./taxonomy.qza \\\n",
    "    --p-level 6 \\\n",
    "    --o-krona-plot ./table-no-ecmu-hits-TreatmentGroup-taxa-krona.qzv"
   ]
  },
  {
   "cell_type": "code",
   "execution_count": null,
   "metadata": {},
   "outputs": [],
   "source": []
  },
  {
   "cell_type": "markdown",
   "metadata": {},
   "source": [
    "## Construct phylogeny\n",
    "\n",
    "See the [Inferring Phylogenies tutorial](https://docs.qiime2.org/2022.11/tutorials/phylogeny/) for more information.\n",
    "\n",
    "We'll run [FastTree](https://docs.qiime2.org/2022.11/tutorials/phylogeny/#fasttree) to be quick, though I'd recomend [iqtree](https://docs.qiime2.org/2022.11/tutorials/phylogeny/#iqtree) or [fragment-insertion](https://library.qiime2.org/plugins/q2-fragment-insertion/16/).\n",
    "\n",
    "We'll be using the [align-to-tree-mafft-fasttree](https://docs.qiime2.org/2022.11/tutorials/phylogeny/#pipelines) pipeline."
   ]
  },
  {
   "cell_type": "markdown",
   "metadata": {},
   "source": [
    "### *de novo phylogeny*\n",
    "\n",
    "View with [iTOL](https://itol.embl.de/) or [Empress](https://github.com/biocore/empress)."
   ]
  },
  {
   "cell_type": "code",
   "execution_count": 30,
   "metadata": {
    "scrolled": true
   },
   "outputs": [
    {
     "name": "stdout",
     "output_type": "stream",
     "text": [
      "Running external command line application. This may print messages to stdout and/or stderr.\n",
      "The command being run is below. This command cannot be manually re-run as it will depend on temporary files that no longer exist.\n",
      "\n",
      "Command: mafft --preservecase --inputorder --thread 1 /tmp/qiime2/raotoo/data/aee46648-71b3-4f9d-925d-06f70d1bce82/data/dna-sequences.fasta\n",
      "\n",
      "inputfile = orig\n",
      "3484 x 429 - 266 d\n",
      "nthread = 1\n",
      "nthreadpair = 1\n",
      "nthreadtb = 1\n",
      "ppenalty_ex = 0\n",
      "stacksize: 8192 kb\n",
      "generating a scoring matrix for nucleotide (dist=200) ... done\n",
      "Gap Penalty = -1.53, +0.00, +0.00\n",
      "\n",
      "\n",
      "\n",
      "Making a distance matrix ..\n",
      " 3401 / 3484 (thread    0)\n",
      "done.\n",
      "\n",
      "Constructing a UPGMA tree (efffree=0) ... \n",
      " 3480 / 3484\n",
      "done.\n",
      "\n",
      "Progressive alignment 1/2... \n",
      "STEP  2201 / 3483 (thread    0)\n",
      "Reallocating..done. *alloclen = 1862\n",
      "STEP  3401 / 3483 (thread    0) h\n",
      "done.\n",
      "\n",
      "Making a distance matrix from msa.. \n",
      " 3400 / 3484 (thread    0)\n",
      "done.\n",
      "\n",
      "Constructing a UPGMA tree (efffree=1) ... \n",
      " 3480 / 3484\n",
      "done.\n",
      "\n",
      "Progressive alignment 2/2... \n",
      "STEP  2101 / 3483 (thread    0)\n",
      "Reallocating..done. *alloclen = 1860\n",
      "STEP  3401 / 3483 (thread    0)\n",
      "done.\n",
      "\n",
      "disttbfast (nuc) Version 7.520\n",
      "alg=A, model=DNA200 (2), 1.53 (4.59), -0.00 (-0.00), noshift, amax=0.0\n",
      "1 thread(s)\n",
      "\n",
      "\n",
      "Strategy:\n",
      " FFT-NS-2 (Fast but rough)\n",
      " Progressive method (guide trees were built 2 times.)\n",
      "\n",
      "If unsure which option to use, try 'mafft --auto input > output'.\n",
      "For more information, see 'mafft --help', 'mafft --man' and the mafft page.\n",
      "\n",
      "The default gap scoring scheme has been changed in version 7.110 (2013 Oct).\n",
      "It tends to insert more gaps into gap-rich regions than previous versions.\n",
      "To disable this change, add the --leavegappyregion option.\n",
      "\n",
      "Running external command line application. This may print messages to stdout and/or stderr.\n",
      "The command being run is below. This command cannot be manually re-run as it will depend on temporary files that no longer exist.\n",
      "\n",
      "Command: FastTree -quote -nt /tmp/qiime2/raotoo/data/817470c2-7b03-462c-9084-26ee051e044d/data/aligned-dna-sequences.fasta\n",
      "\n",
      "FastTree Version 2.1.11 Double precision (No SSE3)\n",
      "Alignment: /tmp/qiime2/raotoo/data/817470c2-7b03-462c-9084-26ee051e044d/data/aligned-dna-sequences.fasta\n",
      "Nucleotide distances: Jukes-Cantor Joins: balanced Support: SH-like 1000\n",
      "Search: Normal +NNI +SPR (2 rounds range 10) +ML-NNI opt-each=1\n",
      "TopHits: 1.00*sqrtN close=default refresh=0.80\n",
      "ML Model: Jukes-Cantor, CAT approximation with 20 rate categories\n",
      "Initial topology in 5.37 seconds0 of   3408   411 seqs (at seed   3000)   \n",
      "Refining topology: 47 rounds ME-NNIs, 2 rounds ME-SPRs, 23 rounds ML-NNIs\n",
      "Total branch-length 65.178 after 14.49 sec 2301 of 3409 splits, 2 changes (max delta 0.001)    \n",
      "ML-NNI round 1: LogLk = -180497.877 NNIs 636 max delta 16.35 Time 18.84ges (max delta 16.351)   \n",
      "Switched to using 20 rate categories (CAT approximation)19 of 20   \n",
      "Rate categories were divided by 1.122 so that average rate = 1.0\n",
      "CAT-based log-likelihoods may not be comparable across runs\n",
      "Use -gamma for approximate but comparable Gamma(20) log-likelihoods\n",
      "ML-NNI round 2: LogLk = -152600.267 NNIs 331 max delta 23.42 Time 22.00ges (max delta 23.424)   \n",
      "ML-NNI round 3: LogLk = -152418.734 NNIs 131 max delta 5.75 Time 23.47nges (max delta 5.745)   \n",
      "ML-NNI round 4: LogLk = -152310.627 NNIs 66 max delta 11.42 Time 24.30ges (max delta 11.416)   \n",
      "ML-NNI round 5: LogLk = -152296.190 NNIs 25 max delta 3.13 Time 24.74ges (max delta 3.134)   \n",
      "ML-NNI round 6: LogLk = -152292.230 NNIs 8 max delta 0.79 Time 24.99ges (max delta 0.786)   \n",
      "ML-NNI round 7: LogLk = -152289.178 NNIs 2 max delta 0.00 Time 25.13\n",
      "Turning off heuristics for final round of ML NNIs (converged)\n",
      "ML-NNI round 8: LogLk = -152177.235 NNIs 33 max delta 7.72 Time 28.52 (final)x delta 7.717)   \n",
      "Optimize all lengths: LogLk = -152171.676 Time 29.28 \n",
      "Total time: 34.19 seconds Unique: 3411/3484 Bad splits: 6/3408 Worst delta-LogLk 5.598\n",
      "\u001b[32mSaved FeatureData[AlignedSequence] to: ./mafft-fasttree-output/alignment.qza\u001b[0m\n",
      "\u001b[32mSaved FeatureData[AlignedSequence] to: ./mafft-fasttree-output/masked_alignment.qza\u001b[0m\n",
      "\u001b[32mSaved Phylogeny[Unrooted] to: ./mafft-fasttree-output/tree.qza\u001b[0m\n",
      "\u001b[32mSaved Phylogeny[Rooted] to: ./mafft-fasttree-output/rooted_tree.qza\u001b[0m\n",
      "\u001b[0m"
     ]
    }
   ],
   "source": [
    "# pipeline: alignment through phylogeny\n",
    "! qiime phylogeny align-to-tree-mafft-fasttree \\\n",
    "    --i-sequences ./hits.qza \\\n",
    "    --output-dir ./mafft-fasttree-output \\\n",
    "    --verbose"
   ]
  },
  {
   "cell_type": "markdown",
   "metadata": {},
   "source": [
    "### Convert .qza files to a R-like format for downstream analysis"
   ]
  },
  {
   "cell_type": "code",
   "execution_count": 38,
   "metadata": {},
   "outputs": [
    {
     "name": "stdout",
     "output_type": "stream",
     "text": [
      "/mnt/e/NASA_microbiome/downstream\n"
     ]
    }
   ],
   "source": [
    "%cd '/mnt/e/NASA_microbiome/downstream/'"
   ]
  },
  {
   "cell_type": "code",
   "execution_count": 40,
   "metadata": {
    "scrolled": true
   },
   "outputs": [
    {
     "name": "stdout",
     "output_type": "stream",
     "text": [
      "Exported table-no-ecmu-hits.qza as BIOMV210DirFmt to directory .\n",
      "Exported taxonomy.qza as TSVTaxonomyDirectoryFormat to directory .\n",
      "Exported tree.qza as NewickDirectoryFormat to directory .\n"
     ]
    }
   ],
   "source": [
    "%%bash\n",
    "for i in *.qza; do\n",
    "qiime tools export --input-path $i --output-path .\n",
    "done\n",
    "biom convert -i feature-table.biom -o feature-table.tsv --to-tsv"
   ]
  },
  {
   "cell_type": "markdown",
   "metadata": {
    "editable": true,
    "slideshow": {
     "slide_type": ""
    },
    "tags": []
   },
   "source": [
    "### Another phylogenetic approach: Fragment Insertion"
   ]
  },
  {
   "cell_type": "raw",
   "metadata": {},
   "source": [
    "! wget https://data.qiime2.org/2022.11/common/sepp-refs-silva-128.qza -O ./references/sepp-refs-silva-128.qza "
   ]
  },
  {
   "cell_type": "raw",
   "metadata": {},
   "source": [
    "sepp_ref='/home/SE/BMIG-6202-MSR/RefDBs/sepp-refs-silva-128.qza'"
   ]
  },
  {
   "cell_type": "raw",
   "metadata": {},
   "source": [
    "! qiime fragment-insertion sepp \\\n",
    "    --i-representative-sequences ./hits.qza \\\n",
    "    --i-reference-database $sepp_ref \\\n",
    "    --o-tree ./tree.qza \\\n",
    "    --o-placements ./tree_placements.qza \\\n",
    "    --p-threads 8"
   ]
  },
  {
   "cell_type": "raw",
   "metadata": {},
   "source": [
    "!  qiime fragment-insertion filter-features \\\n",
    "    --i-table ./table-no-ecmu-hits.qza \\\n",
    "    --i-tree ./tree.qza \\\n",
    "    --o-filtered-table ./table-no-ecmu-fi.qza \\\n",
    "    --o-removed-table ./table-no-ecmu-nofi.qza"
   ]
  },
  {
   "cell_type": "raw",
   "metadata": {},
   "source": [
    "! qiime feature-table filter-seqs \\\n",
    "    --i-data ./hits.qza \\\n",
    "    --i-table ./table-no-ecmu-fi.qza \\\n",
    "    --o-filtered-data repset-no-ecmu-fi.qza"
   ]
  },
  {
   "cell_type": "raw",
   "metadata": {},
   "source": [
    "## [Empress](https://github.com/biocore/empress)"
   ]
  },
  {
   "cell_type": "raw",
   "metadata": {},
   "source": [
    "!qiime empress tree-plot \\\n",
    "    --i-tree ./mafft-fasttree-output/rooted_tree.qza \\\n",
    "    --m-feature-metadata-file ./taxonomy.qza \\\n",
    "    --o-visualization ./tree-viz.qzv"
   ]
  },
  {
   "cell_type": "raw",
   "metadata": {},
   "source": [
    "q2.Visualization.load('./tree-viz.qzv')"
   ]
  },
  {
   "cell_type": "raw",
   "metadata": {},
   "source": [
    "! qiime empress community-plot \\\n",
    "    --i-tree ./mafft-fasttree-output/rooted_tree.qza \\\n",
    "    --i-feature-table ./table-no-ecmu-hits.qza \\\n",
    "    --m-sample-metadata-file ./metadata.tsv \\\n",
    "    --m-feature-metadata-file ./taxonomy.qza \\\n",
    "    --o-visualization tree-tax-table.qzv"
   ]
  },
  {
   "cell_type": "raw",
   "metadata": {},
   "source": [
    "q2.Visualization.load('./tree-tax-table.qzv')"
   ]
  }
 ],
 "metadata": {
  "kernelspec": {
   "display_name": "Python [conda env:qiime2-amplicon-2024.2]",
   "language": "python",
   "name": "conda-env-qiime2-amplicon-2024.2-py"
  },
  "language_info": {
   "codemirror_mode": {
    "name": "ipython",
    "version": 3
   },
   "file_extension": ".py",
   "mimetype": "text/x-python",
   "name": "python",
   "nbconvert_exporter": "python",
   "pygments_lexer": "ipython3",
   "version": "3.8.15"
  }
 },
 "nbformat": 4,
 "nbformat_minor": 4
}
