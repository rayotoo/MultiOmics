{
 "cells": [
  {
   "cell_type": "markdown",
   "id": "e9b43459-618d-43db-9716-fa7ec63c57c1",
   "metadata": {},
   "source": [
    "# Run this notebook in qiime2-2023.2. Dokdo has been installed within this environment.\n",
    "\n",
    "Following this tutorial to run lefse from for plots on the cladogram and \n",
    "`https://forum.qiime2.org/t/lefse-after-qiime2-to-test-at-all-taxonomic-levels/15462/3`"
   ]
  },
  {
   "cell_type": "code",
   "execution_count": 1,
   "id": "bcda1686-0c83-41d9-9bf6-7af27d8730fa",
   "metadata": {},
   "outputs": [],
   "source": [
    "from os import getcwd, listdir, chdir, mkdir\n",
    "import pandas as pd\n",
    "import qiime2 as q2"
   ]
  },
  {
   "cell_type": "code",
   "execution_count": 2,
   "id": "91e62132-19a9-4e38-8db6-88064fa9d31a",
   "metadata": {},
   "outputs": [
    {
     "data": {
      "text/plain": [
       "'/mnt/e/NASA_microbiome'"
      ]
     },
     "execution_count": 2,
     "metadata": {},
     "output_type": "execute_result"
    }
   ],
   "source": [
    "getcwd()"
   ]
  },
  {
   "cell_type": "code",
   "execution_count": 3,
   "id": "8b8dddf2-3a37-4215-9425-53143bda83c3",
   "metadata": {},
   "outputs": [
    {
     "data": {
      "text/plain": [
       "'/mnt/e/NASA_microbiome/processed'"
      ]
     },
     "execution_count": 3,
     "metadata": {},
     "output_type": "execute_result"
    }
   ],
   "source": [
    "chdir('./processed')\n",
    "getcwd()"
   ]
  },
  {
   "cell_type": "markdown",
   "id": "a8ab3cee-ad36-47c4-bec0-28451dd69c79",
   "metadata": {},
   "source": [
    "# LEfSe Preparation with Dokdo\n",
    "# We'll prepare our files with dokdo for use in LEfSe-Galaxy. You can read the LEfSe paper for more details."
   ]
  },
  {
   "cell_type": "code",
   "execution_count": 4,
   "id": "76175f8e-c93f-4bbc-98a4-f1efac9f1116",
   "metadata": {
    "scrolled": true
   },
   "outputs": [
    {
     "name": "stdout",
     "output_type": "stream",
     "text": [
      "usage: dokdo prepare-lefse -t PATH -x PATH -m PATH -o PATH -c TEXT [-s TEXT]\n",
      "                           [-u TEXT] [-w TEXT] [-h]\n",
      "\n",
      "Create a TSV file which can be used as input for the LEfSe tool. This command\n",
      "1) collapses the input feature table at the genus level, 2) computes relative\n",
      "frequency of the features, 3) performs sample filtration if requested, 4)\n",
      "changes the format of feature names, 5) adds the relevant metadata as 'Class',\n",
      "'Subclass', and 'Subject', and 6) writes a text file which can be used as\n",
      "input for LEfSe.\n",
      "\n",
      "Arguments:\n",
      "  -t PATH, --table-file PATH\n",
      "                        Path to the table file with the\n",
      "                        'FeatureTable[Frequency]' type. [required]\n",
      "  -x PATH, --taxonomy-file PATH\n",
      "                        Path to the taxonomy file with the\n",
      "                        'FeatureData[Taxonomy]' type. [required]\n",
      "  -m PATH, --metadata-file PATH\n",
      "                        Path to the metadata file. [required]\n",
      "  -o PATH, --output-file PATH\n",
      "                        Path to the output file. [required]\n",
      "  -c TEXT, --class-col TEXT\n",
      "                        Metadata column used as 'Class' by LEfSe. [required]\n",
      "  -s TEXT, --subclass-col TEXT\n",
      "                        Metadata column used as 'Subclass' by LEfSe.\n",
      "  -u TEXT, --subject-col TEXT\n",
      "                        Metadata column used as 'Subject' by LEfSe.\n",
      "  -w TEXT, --where TEXT\n",
      "                        SQLite 'WHERE' clause specifying sample metadata\n",
      "                        criteria.\n",
      "  -h, --help            Show this help message and exit.\n",
      "\u001b[0m"
     ]
    }
   ],
   "source": [
    "! dokdo prepare-lefse --h"
   ]
  },
  {
   "cell_type": "code",
   "execution_count": 7,
   "id": "59d13199-3092-4012-a2dc-80baf020f66b",
   "metadata": {
    "scrolled": true
   },
   "outputs": [
    {
     "name": "stdout",
     "output_type": "stream",
     "text": [
      "\u001b[0m"
     ]
    }
   ],
   "source": [
    "! dokdo prepare-lefse \\\n",
    "    -t ./table-no-ecmu-hits-abund.qza \\\n",
    "    -x ./taxonomy.qza \\\n",
    "    -m ./NASA-Metadata.tsv \\\n",
    "    -c TreatmentGroup \\\n",
    "    -u Dose-Gy \\\n",
    "    -o lefse_table.tsv \\\n",
    "    -w \"[TreatmentGroup] IN ('sham', 'IR', 'IR+HLU')\""
   ]
  },
  {
   "cell_type": "code",
   "execution_count": null,
   "id": "a27de6c9-47d2-4d79-8ea1-bf1a4ab9672f",
   "metadata": {},
   "outputs": [],
   "source": [
    "lefse-format_input.py \\\n",
    "/mnt/e/NASA_microbiome/processed/lefse_table.tsv \\\n",
    "/mnt/e/NASA_microbiome/processed/formatted_table.in \\\n",
    "-c 1 \\\n",
    "-u 2 \\\n",
    "-o 1000000 \\\n",
    "--output_table /mnt/e/NASA_microbiome/processed/formatted_table.tsv"
   ]
  },
  {
   "cell_type": "code",
   "execution_count": null,
   "id": "9530b845-88b7-4ded-84ca-d64cd046e7d8",
   "metadata": {},
   "outputs": [],
   "source": [
    "run_lefse.py \\\n",
    "/mnt/e/NASA_microbiome/processed/formatted_table.in \\\n",
    "/mnt/e/NASA_microbiome/processed/output.res"
   ]
  },
  {
   "cell_type": "code",
   "execution_count": null,
   "id": "84b63016-585a-4f33-93f4-a74b04fa5e55",
   "metadata": {},
   "outputs": [],
   "source": [
    "lefse-plot_res.py \\\n",
    "/mnt/e/NASA_microbiome/processed/output.res \\\n",
    "/mnt/e/NASA_microbiome/processed/output.pdf \\\n",
    "--format pdf"
   ]
  },
  {
   "cell_type": "code",
   "execution_count": null,
   "id": "6aa4a05d-23ba-4320-a4ca-bd285078ce34",
   "metadata": {},
   "outputs": [],
   "source": [
    "lefse-plot_cladogram.py \\\n",
    "/mnt/e/NASA_microbiome/processed/output.res \\\n",
    "/mnt/e/NASA_microbiome/processed/output.cladogram.pdf \\\n",
    "--format pdf"
   ]
  },
  {
   "cell_type": "markdown",
   "id": "f1b0c76b-cdff-4ec5-ad91-4812f4560c2c",
   "metadata": {},
   "source": [
    "### Run all"
   ]
  },
  {
   "cell_type": "code",
   "execution_count": null,
   "id": "0be7d5f9-0eee-4618-8128-a3865b526a94",
   "metadata": {},
   "outputs": [],
   "source": []
  },
  {
   "cell_type": "code",
   "execution_count": null,
   "id": "44bc995a-ac16-429f-83f6-dc0bfe2cd9ce",
   "metadata": {},
   "outputs": [],
   "source": [
    "LEfSe\n",
    "In this section, I will walk you through how I run the LEfSe (linear discriminant analysis effect size) tool. But before I do that, it is important for you to acknowledge this:\n",
    "\n",
    "LEfSe method is more a discriminant analysis method rather than a DA method. (Lin and Peddada, 2020; PMID: 33268781)\n",
    "\n",
    "In order to use LEfSe, you will need to open two Terminal windows: one for your usual QIIME 2 environment and another for running LEfSe. For the latter, you should create a new conda environment and install LEfSe as described below.\n",
    "\n",
    "Terminal for running QIIME 2 and Dokdo:\n",
    "$ conda activate qiime2-2020.8\n",
    "Terminal for running LEfSe:\n",
    "$ conda create -n lefse -c conda-forge python=2.7.15\n",
    "$ conda activate lefse\n",
    "$ conda install -c bioconda -c conda-forge lefse\n",
    "After you have both terminals set up, you can create an input file for LEfSe from a QIIME 2 feature table. We will use the \"Moving Pictures\" tutorial as an example (run below in the QIIME 2 terminal).\n",
    "\n",
    "$ dokdo prepare-lefse \\\n",
    "-t data/moving-pictures-tutorial/table.qza \\\n",
    "-x data/moving-pictures-tutorial/taxonomy.qza \\\n",
    "-m data/moving-pictures-tutorial/sample-metadata.tsv \\\n",
    "-o output/Useful-Information/input_table.tsv \\\n",
    "-c body-site \\\n",
    "-u subject \\\n",
    "-w \"[body-site] IN ('tongue', 'gut', 'left palm')\"\n",
    "Click here 218 to view the input_table.tsv file.\n",
    "\n",
    "Next, we need to format the input table (run below in the LEfSe terminal):\n",
    "\n",
    "$ lefse-format_input.py \\\n",
    "output/Useful-Information/input_table.tsv \\\n",
    "output/Useful-Information/formatted_table.in \\\n",
    "-c 1 \\\n",
    "-u 2 \\\n",
    "-o 1000000 \\\n",
    "--output_table output/Useful-Information/formatted_table.tsv\n",
    "Click here 90 to view the formatted_table.in file. Click here 75 to view the formatted_table.tsv file.\n",
    "\n",
    "We can run LEfSe with (run below in the LEfSe terminal):\n",
    "\n",
    "$ run_lefse.py \\\n",
    "output/Useful-Information/formatted_table.in \\\n",
    "output/Useful-Information/output.res\n",
    "Which will give:\n",
    "\n",
    "Number of significantly discriminative features: 199 ( 199 ) before internal wilcoxon\n",
    "Number of discriminative features with abs LDA score > 2.0 : 199\n",
    "Click here 47 to view the output.res file.\n",
    "\n",
    "We can then list the discriminative features and their LDA scores (run below in the LEfSe terminal):\n",
    "\n",
    "$ lefse-plot_res.py \\\n",
    "output/Useful-Information/output.res \\\n",
    "output/Useful-Information/output.pdf \\\n",
    "--format pdf\n",
    "Click here 65 to view the output.pdf file.\n",
    "\n",
    "Finally, you can create a cladogram for the discriminative features (run below in the LEfSe terminal):\n",
    "\n",
    "$ lefse-plot_cladogram.py \\\n",
    "output/Useful-Information/output.res \\\n",
    "output/Useful-Information/output.cladogram.pdf \\\n",
    "--format pdf"
   ]
  }
 ],
 "metadata": {
  "kernelspec": {
   "display_name": "Python [conda env:qiime2-amplicon-2024.2]",
   "language": "python",
   "name": "conda-env-qiime2-amplicon-2024.2-py"
  },
  "language_info": {
   "codemirror_mode": {
    "name": "ipython",
    "version": 3
   },
   "file_extension": ".py",
   "mimetype": "text/x-python",
   "name": "python",
   "nbconvert_exporter": "python",
   "pygments_lexer": "ipython3",
   "version": "3.8.15"
  }
 },
 "nbformat": 4,
 "nbformat_minor": 5
}
