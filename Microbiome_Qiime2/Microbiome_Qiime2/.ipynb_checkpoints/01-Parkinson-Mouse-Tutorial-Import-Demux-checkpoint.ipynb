{
 "cells": [
  {
   "cell_type": "markdown",
   "id": "stretch-transfer",
   "metadata": {},
   "source": [
    "# Parkinson's Mouse Tutorial - Import & Demux\n",
    "\n",
    "Run this notebook in `qiime2-2021.11`.\n",
    "\n",
    "Well be working through the [pd-mouse tutorial](https://docs.qiime2.org/2021.11/tutorials/pd-mice/).\n",
    "\n",
    "*Note: did you run `jupyter serverextension enable --py qiime2 --sys-prefix` before getting here?*\n",
    "\n",
    "Also, see the [Jupyter Markdown documentation](https://jupyter.brynmawr.edu/services/public/dblank/Jupyter%20Notebook%20Users%20Manual.ipynb)."
   ]
  },
  {
   "cell_type": "code",
   "execution_count": null,
   "id": "magnetic-devon",
   "metadata": {},
   "outputs": [],
   "source": [
    "from os import getcwd, listdir, chdir, mkdir\n",
    "import qiime2 as q2"
   ]
  },
  {
   "cell_type": "code",
   "execution_count": null,
   "id": "prescription-syndication",
   "metadata": {},
   "outputs": [],
   "source": [
    "getcwd()"
   ]
  },
  {
   "cell_type": "code",
   "execution_count": null,
   "id": "vertical-florida",
   "metadata": {
    "scrolled": true
   },
   "outputs": [],
   "source": [
    "listdir()"
   ]
  },
  {
   "cell_type": "code",
   "execution_count": null,
   "id": "premier-offense",
   "metadata": {},
   "outputs": [],
   "source": [
    "mkdir('../processed')"
   ]
  },
  {
   "cell_type": "code",
   "execution_count": null,
   "id": "clean-supervisor",
   "metadata": {},
   "outputs": [],
   "source": [
    "chdir('../processed')\n",
    "getcwd()"
   ]
  },
  {
   "cell_type": "markdown",
   "id": "checked-budget",
   "metadata": {},
   "source": [
    "## Download and View Metadata\n",
    "\n",
    "We'll use `wget` to download the metadata file, and then visualize it in onw of two ways:\n",
    " - [QIIME 2 View Website](https://view.qiime2.org/)\n",
    " - [QIIME 2 CLI / Utilities](https://docs.qiime2.org/2021.11/tutorials/utilities/)\n",
    " - [QIIME 2 API](https://docs.qiime2.org/2021.11/interfaces/artifact-api/)\n",
    " \n",
    " *Note: If you are running this notebook on the HPC, you may need to copy and paste these commands into the \"Grace Shell Access\" under the \"Clusters\" menu of the Grace HPC Portal page. Make sure you are downloading the files into the appropriate directory. Aalternatively, simply download the files to you computer and use Jupyter Lab to upload the files.*"
   ]
  },
  {
   "cell_type": "code",
   "execution_count": null,
   "id": "genetic-adobe",
   "metadata": {
    "scrolled": true
   },
   "outputs": [],
   "source": [
    "# Download Metadata\n",
    "! wget \\\n",
    "    -O \"metadata.tsv\" \\\n",
    "    \"https://data.qiime2.org/2021.11/tutorials/pd-mice/sample_metadata.tsv\""
   ]
  },
  {
   "cell_type": "code",
   "execution_count": null,
   "id": "protective-player",
   "metadata": {},
   "outputs": [],
   "source": [
    "# Peek at the metadata\n",
    "! qiime tools inspect-metadata metadata.tsv"
   ]
  },
  {
   "cell_type": "markdown",
   "id": "greek-maintenance",
   "metadata": {},
   "source": [
    "**Make metadata Visualization**"
   ]
  },
  {
   "cell_type": "code",
   "execution_count": null,
   "id": "smaller-disorder",
   "metadata": {},
   "outputs": [],
   "source": [
    "! qiime metadata tabulate \\\n",
    "  --m-input-file metadata.tsv \\\n",
    "  --o-visualization metadata.qzv"
   ]
  },
  {
   "cell_type": "code",
   "execution_count": null,
   "id": "laden-street",
   "metadata": {},
   "outputs": [],
   "source": [
    "! qiime tools peek metadata.qzv"
   ]
  },
  {
   "cell_type": "code",
   "execution_count": null,
   "id": "lonely-diesel",
   "metadata": {
    "scrolled": true
   },
   "outputs": [],
   "source": [
    "# Visualize via API\n",
    "q2.Visualization.load('metadata.qzv')"
   ]
  },
  {
   "cell_type": "markdown",
   "id": "invalid-capacity",
   "metadata": {},
   "source": [
    "## Import data into QIIME 2\n",
    "\n",
    "We will import:\n",
    " - [Manifest File](https://docs.qiime2.org/2021.11/tutorials/importing/#fastq-manifest-formats)\n",
    " - Demultiplexed Sequences (contrast to Multiplexed Sequences)\n",
    " \n",
    "See the [Importing Data Tutorial](https://docs.qiime2.org/2021.11/tutorials/importing/#importing-data) for more information."
   ]
  },
  {
   "cell_type": "code",
   "execution_count": null,
   "id": "knowing-requirement",
   "metadata": {},
   "outputs": [],
   "source": [
    "# get manifest file\n",
    "!wget \\\n",
    "  -O \"manifest.tsv\" \\\n",
    "  \"https://data.qiime2.org/2021.11/tutorials/pd-mice/manifest\""
   ]
  },
  {
   "cell_type": "code",
   "execution_count": null,
   "id": "lesbian-reynolds",
   "metadata": {
    "scrolled": true
   },
   "outputs": [],
   "source": [
    "# get demultiplexed sequences\n",
    "!wget \\\n",
    "  -O \"demultiplexed_seqs.zip\" \\\n",
    "  \"https://data.qiime2.org/2021.11/tutorials/pd-mice/demultiplexed_seqs.zip\""
   ]
  },
  {
   "cell_type": "code",
   "execution_count": null,
   "id": "detected-pilot",
   "metadata": {
    "scrolled": true
   },
   "outputs": [],
   "source": [
    "# unzip sequences\n",
    "! unzip demultiplexed_seqs.zip"
   ]
  },
  {
   "cell_type": "code",
   "execution_count": null,
   "id": "superb-tennessee",
   "metadata": {
    "scrolled": true
   },
   "outputs": [],
   "source": [
    "! head manifest.tsv"
   ]
  },
  {
   "cell_type": "markdown",
   "id": "historic-deficit",
   "metadata": {},
   "source": [
    "**Import and Summarize Data**"
   ]
  },
  {
   "cell_type": "code",
   "execution_count": null,
   "id": "computational-blend",
   "metadata": {},
   "outputs": [],
   "source": [
    "! qiime tools import \\\n",
    "  --type \"SampleData[SequencesWithQuality]\" \\\n",
    "  --input-format SingleEndFastqManifestPhred33V2 \\\n",
    "  --input-path ./manifest.tsv \\\n",
    "  --output-path ./demux_seqs.qza"
   ]
  },
  {
   "cell_type": "code",
   "execution_count": null,
   "id": "offshore-paradise",
   "metadata": {},
   "outputs": [],
   "source": [
    "! qiime demux summarize \\\n",
    "  --i-data ./demux_seqs.qza \\\n",
    "  --o-visualization ./demux_seqs.qzv"
   ]
  },
  {
   "cell_type": "code",
   "execution_count": null,
   "id": "enclosed-scheduling",
   "metadata": {
    "scrolled": true
   },
   "outputs": [],
   "source": [
    "q2.Visualization.load('demux_seqs.qzv')"
   ]
  },
  {
   "cell_type": "markdown",
   "id": "square-accounting",
   "metadata": {},
   "source": [
    "## Denoising Sequence data\n",
    "\n",
    " - DADA2 approach as outlined in the tutorial.\n",
    " - Alternate trimming w/ DADA2.\n",
    " - Using deblur w/ default trimming."
   ]
  },
  {
   "cell_type": "markdown",
   "id": "played-hunger",
   "metadata": {},
   "source": [
    "### Default"
   ]
  },
  {
   "cell_type": "code",
   "execution_count": null,
   "id": "cellular-kitty",
   "metadata": {},
   "outputs": [],
   "source": [
    "getcwd()"
   ]
  },
  {
   "cell_type": "code",
   "execution_count": null,
   "id": "solar-anatomy",
   "metadata": {},
   "outputs": [],
   "source": [
    "! qiime dada2 denoise-single \\\n",
    "    --i-demultiplexed-seqs ./demux_seqs.qza \\\n",
    "    --p-trunc-len 150 \\\n",
    "    --p-n-threads 8 \\\n",
    "    --o-table ./dada2_table.qza \\\n",
    "    --o-representative-sequences ./dada2_rep_set.qza \\\n",
    "    --o-denoising-stats ./dada2_stats.qza \\\n",
    "    --verbose"
   ]
  },
  {
   "cell_type": "code",
   "execution_count": null,
   "id": "indie-formula",
   "metadata": {},
   "outputs": [],
   "source": [
    "# summarize denoising stats\n",
    "! qiime metadata tabulate \\\n",
    "    --m-input-file ./dada2_stats.qza  \\\n",
    "    --o-visualization ./dada2_stats.qzv"
   ]
  },
  {
   "cell_type": "code",
   "execution_count": null,
   "id": "electrical-martial",
   "metadata": {
    "scrolled": true
   },
   "outputs": [],
   "source": [
    "q2.Visualization.load('dada2_stats.qzv')"
   ]
  },
  {
   "cell_type": "code",
   "execution_count": null,
   "id": "balanced-gathering",
   "metadata": {},
   "outputs": [],
   "source": [
    "# summarize ESV table\n",
    "! qiime feature-table summarize \\\n",
    "    --i-table ./dada2_table.qza \\\n",
    "    --m-sample-metadata-file ./metadata.tsv \\\n",
    "    --o-visualization ./dada2_table.qzv"
   ]
  },
  {
   "cell_type": "code",
   "execution_count": null,
   "id": "dietary-perry",
   "metadata": {
    "scrolled": true
   },
   "outputs": [],
   "source": [
    "q2.Visualization.load('dada2_table.qzv')"
   ]
  },
  {
   "cell_type": "code",
   "execution_count": null,
   "id": "fancy-expense",
   "metadata": {},
   "outputs": [],
   "source": [
    "! qiime feature-table tabulate-seqs \\\n",
    "    --i-data ./dada2_rep_set.qza \\\n",
    "    --o-visualization ./dada2_rep_set.qzv"
   ]
  },
  {
   "cell_type": "code",
   "execution_count": null,
   "id": "detected-secret",
   "metadata": {
    "scrolled": true
   },
   "outputs": [],
   "source": [
    "q2.Visualization.load('dada2_rep_set.qzv')"
   ]
  },
  {
   "cell_type": "markdown",
   "id": "mental-chassis",
   "metadata": {},
   "source": [
    "### Alternate Trimming w/ DADA2"
   ]
  },
  {
   "cell_type": "code",
   "execution_count": null,
   "id": "central-acting",
   "metadata": {},
   "outputs": [],
   "source": [
    "! qiime dada2 denoise-single \\\n",
    "    --i-demultiplexed-seqs ./demux_seqs.qza \\\n",
    "    --p-trim-left 30 \\\n",
    "    --p-trunc-len 130 \\\n",
    "    --o-table ./dada2_table_alt.qza \\\n",
    "    --o-representative-sequences ./dada2_rep_set_alt.qza \\\n",
    "    --o-denoising-stats ./dada2_stats_alt.qza \\\n",
    "    --verbose"
   ]
  },
  {
   "cell_type": "code",
   "execution_count": null,
   "id": "retired-illinois",
   "metadata": {},
   "outputs": [],
   "source": [
    "# summarize denoising stats\n",
    "! qiime metadata tabulate \\\n",
    "    --m-input-file ./dada2_stats_alt.qza  \\\n",
    "    --o-visualization ./dada2_stats_alt.qzv"
   ]
  },
  {
   "cell_type": "code",
   "execution_count": null,
   "id": "moderate-tolerance",
   "metadata": {},
   "outputs": [],
   "source": [
    "q2.Visualization.load('dada2_stats_alt.qzv')"
   ]
  },
  {
   "cell_type": "code",
   "execution_count": null,
   "id": "caring-symbol",
   "metadata": {},
   "outputs": [],
   "source": [
    "# summarize ESV table\n",
    "! qiime feature-table summarize \\\n",
    "    --i-table ./dada2_table_alt.qza \\\n",
    "    --m-sample-metadata-file ./metadata.tsv \\\n",
    "    --o-visualization ./dada2_table_alt.qzv"
   ]
  },
  {
   "cell_type": "code",
   "execution_count": null,
   "id": "female-fireplace",
   "metadata": {},
   "outputs": [],
   "source": [
    "q2.Visualization.load('dada2_table_alt.qzv')"
   ]
  },
  {
   "cell_type": "markdown",
   "id": "enabling-relief",
   "metadata": {},
   "source": [
    "### deblur w/ default"
   ]
  },
  {
   "cell_type": "code",
   "execution_count": null,
   "id": "aboriginal-board",
   "metadata": {},
   "outputs": [],
   "source": [
    "! qiime quality-filter q-score \\\n",
    "    --i-demux ./demux_seqs.qza \\\n",
    "    --o-filtered-sequences demux-seqs-deblur.qza \\\n",
    "    --o-filter-stats demux-deblur-stats.qza"
   ]
  },
  {
   "cell_type": "code",
   "execution_count": null,
   "id": "anticipated-brooks",
   "metadata": {},
   "outputs": [],
   "source": [
    "# Defaults to Greengenes. \n",
    "#    If you want to use SILVA or another ref db, then use:\n",
    "#    `qiime deblur denoise-other`\n",
    "#    silva files are located here: https://docs.qiime2.org/2021.11/data-resources/\n",
    "! qiime deblur denoise-16S \\\n",
    "    --i-demultiplexed-seqs demux-seqs-deblur.qza \\\n",
    "    --p-trim-length 150 \\\n",
    "    --o-representative-sequences rep-seqs-deblur.qza \\\n",
    "    --o-table table-deblur.qza \\\n",
    "    --p-sample-stats \\\n",
    "    --o-stats deblur-stats.qza"
   ]
  },
  {
   "cell_type": "code",
   "execution_count": null,
   "id": "quality-romania",
   "metadata": {},
   "outputs": [],
   "source": [
    "! qiime metadata tabulate \\\n",
    "    --m-input-file demux-deblur-stats.qza \\\n",
    "    --o-visualization demux-deblur-stats.qzv\n",
    "\n",
    "! qiime deblur visualize-stats \\\n",
    "    --i-deblur-stats deblur-stats.qza \\\n",
    "    --o-visualization deblur-stats.qzv"
   ]
  },
  {
   "cell_type": "code",
   "execution_count": null,
   "id": "macro-hostel",
   "metadata": {},
   "outputs": [],
   "source": [
    "q2.Visualization.load('demux-deblur-stats.qzv')"
   ]
  },
  {
   "cell_type": "code",
   "execution_count": null,
   "id": "daily-setup",
   "metadata": {},
   "outputs": [],
   "source": [
    "q2.Visualization.load('deblur-stats.qzv')"
   ]
  },
  {
   "cell_type": "code",
   "execution_count": null,
   "id": "indoor-conducting",
   "metadata": {},
   "outputs": [],
   "source": [
    "! qiime feature-table summarize \\\n",
    "    --i-table table-deblur.qza \\\n",
    "    --o-visualization table-deblur.qzv \\\n",
    "    --m-sample-metadata-file metadata.tsv\n",
    "\n",
    "! qiime feature-table tabulate-seqs \\\n",
    "    --i-data rep-seqs-deblur.qza \\\n",
    "    --o-visualization rep-seqs-deblur.qzv"
   ]
  },
  {
   "cell_type": "code",
   "execution_count": null,
   "id": "designing-webster",
   "metadata": {
    "scrolled": true
   },
   "outputs": [],
   "source": [
    "q2.Visualization.load('table-deblur.qzv')"
   ]
  },
  {
   "cell_type": "code",
   "execution_count": null,
   "id": "substantial-moment",
   "metadata": {
    "scrolled": true
   },
   "outputs": [],
   "source": [
    "q2.Visualization.load('rep-seqs-deblur.qzv')"
   ]
  },
  {
   "cell_type": "code",
   "execution_count": null,
   "id": "chronic-geneva",
   "metadata": {},
   "outputs": [],
   "source": []
  },
  {
   "cell_type": "code",
   "execution_count": null,
   "id": "cardiovascular-duplicate",
   "metadata": {},
   "outputs": [],
   "source": []
  }
 ],
 "metadata": {
  "kernelspec": {
   "display_name": "Python [conda env:qiime2-2021.11]",
   "language": "python",
   "name": "conda-env-qiime2-2021.11-py"
  },
  "language_info": {
   "codemirror_mode": {
    "name": "ipython",
    "version": 3
   },
   "file_extension": ".py",
   "mimetype": "text/x-python",
   "name": "python",
   "nbconvert_exporter": "python",
   "pygments_lexer": "ipython3",
   "version": "3.8.12"
  }
 },
 "nbformat": 4,
 "nbformat_minor": 5
}
