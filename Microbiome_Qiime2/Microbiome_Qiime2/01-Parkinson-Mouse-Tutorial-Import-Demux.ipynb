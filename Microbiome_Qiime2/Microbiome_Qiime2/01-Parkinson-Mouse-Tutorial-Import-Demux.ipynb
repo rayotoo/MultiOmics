{
 "cells": [
  {
   "cell_type": "markdown",
   "id": "extended-bride",
   "metadata": {},
   "source": [
    "# Parkinson's Mouse Tutorial - Import & Demux\n",
    "\n",
    "Run this notebook in `qiime2-2021.11`.\n",
    "\n",
    "Well be working through the [pd-mouse tutorial](https://docs.qiime2.org/2021.11/tutorials/pd-mice/).\n",
    "\n",
    "*Note: did you run `jupyter serverextension enable --py qiime2 --sys-prefix` before getting here?*\n",
    "\n",
    "Also, see the [Jupyter Markdown documentation](https://jupyter.brynmawr.edu/services/public/dblank/Jupyter%20Notebook%20Users%20Manual.ipynb)."
   ]
  },
  {
   "cell_type": "code",
   "execution_count": 6,
   "id": "modified-poverty",
   "metadata": {},
   "outputs": [],
   "source": [
    "from os import getcwd, listdir, chdir, mkdir\n",
    "import qiime2 as q2"
   ]
  },
  {
   "cell_type": "code",
   "execution_count": 7,
   "id": "abroad-budget",
   "metadata": {},
   "outputs": [
    {
     "data": {
      "text/plain": [
       "'/Users/raymondotoo/Library/CloudStorage/OneDrive-UALittleRock/github_stuff/MultiOmics/Microbiome_Qiime2/Microbiome_Qiime2'"
      ]
     },
     "execution_count": 7,
     "metadata": {},
     "output_type": "execute_result"
    }
   ],
   "source": [
    "getcwd()"
   ]
  },
  {
   "cell_type": "code",
   "execution_count": null,
   "id": "sustained-gateway",
   "metadata": {
    "scrolled": true
   },
   "outputs": [
    {
     "data": {
      "text/plain": [
       "['01-Parkinson-Mouse-Tutorial-Import-Demux.ipynb',\n",
       " '02-Parkinson-Mouse-Tutorial-Taxonomy-Phylogeny.ipynb',\n",
       " 'metadata.tsv',\n",
       " 'manifest.tsv',\n",
       " 'demultiplexed_seqs.zip',\n",
       " 'readme.md',\n",
       " '.ipynb_checkpoints',\n",
       " '03-Parkinson-Mouse-Tutorial-Diversity.ipynb',\n",
       " 'processed']"
      ]
     },
     "execution_count": 4,
     "metadata": {},
     "output_type": "execute_result"
    }
   ],
   "source": [
    "listdir()"
   ]
  },
  {
   "cell_type": "code",
   "execution_count": null,
   "id": "initial-writing",
   "metadata": {},
   "outputs": [
    {
     "ename": "FileExistsError",
     "evalue": "[Errno 17] File exists: '../Microbiome_Qiime2/processed'",
     "output_type": "error",
     "traceback": [
      "\u001b[0;31m---------------------------------------------------------------------------\u001b[0m",
      "\u001b[0;31mFileExistsError\u001b[0m                           Traceback (most recent call last)",
      "\u001b[1;32m/Users/raymondotoo/Library/CloudStorage/OneDrive-UALittleRock/github_stuff/MultiOmics/Microbiome_Qiime2/Microbiome_Qiime2/01-Parkinson-Mouse-Tutorial-Import-Demux.ipynb Cell 5\u001b[0m in \u001b[0;36m<cell line: 1>\u001b[0;34m()\u001b[0m\n\u001b[0;32m----> <a href='vscode-notebook-cell:/Users/raymondotoo/Library/CloudStorage/OneDrive-UALittleRock/github_stuff/MultiOmics/Microbiome_Qiime2/Microbiome_Qiime2/01-Parkinson-Mouse-Tutorial-Import-Demux.ipynb#W4sZmlsZQ%3D%3D?line=0'>1</a>\u001b[0m mkdir(\u001b[39m'\u001b[39;49m\u001b[39m../Microbiome_Qiime2/processed\u001b[39;49m\u001b[39m'\u001b[39;49m)\n",
      "\u001b[0;31mFileExistsError\u001b[0m: [Errno 17] File exists: '../Microbiome_Qiime2/processed'"
     ]
    }
   ],
   "source": [
    "mkdir('../Microbiome_Qiime2/processed')"
   ]
  },
  {
   "cell_type": "code",
   "execution_count": null,
   "id": "extra-spouse",
   "metadata": {},
   "outputs": [
    {
     "data": {
      "text/plain": [
       "'/Users/raymondotoo/Library/CloudStorage/OneDrive-UALittleRock/github_stuff/MultiOmics/Microbiome_Qiime2/Microbiome_Qiime2/processed'"
      ]
     },
     "execution_count": 6,
     "metadata": {},
     "output_type": "execute_result"
    }
   ],
   "source": [
    "chdir('../Microbiome_Qiime2/processed')\n",
    "getcwd()"
   ]
  },
  {
   "cell_type": "markdown",
   "id": "plain-priest",
   "metadata": {},
   "source": [
    "## Download and View Metadata\n",
    "\n",
    "We'll use `wget` to download the metadata file, and then visualize it in onw of two ways:\n",
    " - [QIIME 2 View Website](https://view.qiime2.org/)\n",
    " - [QIIME 2 CLI / Utilities](https://docs.qiime2.org/2021.11/tutorials/utilities/)\n",
    " - [QIIME 2 API](https://docs.qiime2.org/2021.11/interfaces/artifact-api/)\n",
    " \n",
    " *Note: If you are running this notebook on the HPC, you may need to copy and paste these commands into the \"Grace Shell Access\" under the \"Clusters\" menu of the Grace HPC Portal page. Make sure you are downloading the files into the appropriate directory. Aalternatively, simply download the files to you computer and use Jupyter Lab to upload the files.*"
   ]
  },
  {
   "cell_type": "code",
   "execution_count": null,
   "id": "interesting-perfume",
   "metadata": {
    "scrolled": true
   },
   "outputs": [
    {
     "name": "stdout",
     "output_type": "stream",
     "text": [
      "--2022-09-08 11:15:18--  https://data.qiime2.org/2021.11/tutorials/pd-mice/sample_metadata.tsv\n",
      "Resolving data.qiime2.org (data.qiime2.org)... 54.200.1.12\n",
      "Connecting to data.qiime2.org (data.qiime2.org)|54.200.1.12|:443... connected.\n",
      "HTTP request sent, awaiting response... 302 FOUND\n",
      "Location: https://docs.google.com/spreadsheets/d/e/2PACX-1vS6QgFSVey6INsa6vQLSPNGOyg18sck918nszO-cY7WE5llesrZtKhMIeI2xXY462S5-0EeW1H9MmNF/pub?gid=1509704122&single=true&output=tsv [following]\n",
      "--2022-09-08 11:15:18--  https://docs.google.com/spreadsheets/d/e/2PACX-1vS6QgFSVey6INsa6vQLSPNGOyg18sck918nszO-cY7WE5llesrZtKhMIeI2xXY462S5-0EeW1H9MmNF/pub?gid=1509704122&single=true&output=tsv\n",
      "Resolving docs.google.com (docs.google.com)... 142.251.32.238\n",
      "Connecting to docs.google.com (docs.google.com)|142.251.32.238|:443... connected.\n",
      "HTTP request sent, awaiting response... 307 Temporary Redirect\n",
      "Location: https://doc-0k-6o-sheets.googleusercontent.com/pub/3sm34aofsvmt5ehut1q6bddr3o/r26h1rmdvahqmfrkv0u5dgne4g/1662653715000/103995680502445084602/*/e@2PACX-1vS6QgFSVey6INsa6vQLSPNGOyg18sck918nszO-cY7WE5llesrZtKhMIeI2xXY462S5-0EeW1H9MmNF?gid=1509704122&single=true&output=tsv [following]\n",
      "Warning: wildcards not supported in HTTP.\n",
      "--2022-09-08 11:15:19--  https://doc-0k-6o-sheets.googleusercontent.com/pub/3sm34aofsvmt5ehut1q6bddr3o/r26h1rmdvahqmfrkv0u5dgne4g/1662653715000/103995680502445084602/*/e@2PACX-1vS6QgFSVey6INsa6vQLSPNGOyg18sck918nszO-cY7WE5llesrZtKhMIeI2xXY462S5-0EeW1H9MmNF?gid=1509704122&single=true&output=tsv\n",
      "Resolving doc-0k-6o-sheets.googleusercontent.com (doc-0k-6o-sheets.googleusercontent.com)... 142.251.32.225\n",
      "Connecting to doc-0k-6o-sheets.googleusercontent.com (doc-0k-6o-sheets.googleusercontent.com)|142.251.32.225|:443... connected.\n",
      "HTTP request sent, awaiting response... 200 OK\n",
      "Length: unspecified [text/tab-separated-values]\n",
      "Saving to: 'metadata.tsv'\n",
      "\n",
      "metadata.tsv            [ <=>                ]   4.33K  --.-KB/s    in 0s      \n",
      "\n",
      "2022-09-08 11:15:19 (14.9 MB/s) - 'metadata.tsv' saved [4431]\n",
      "\n"
     ]
    }
   ],
   "source": [
    "# Download Metadata\n",
    "! wget \\\n",
    "    -O \"metadata.tsv\" \\\n",
    "    \"https://data.qiime2.org/2021.11/tutorials/pd-mice/sample_metadata.tsv\""
   ]
  },
  {
   "cell_type": "code",
   "execution_count": null,
   "id": "valued-intersection",
   "metadata": {},
   "outputs": [
    {
     "name": "stdout",
     "output_type": "stream",
     "text": [
      "\u001b[1m              COLUMN NAME  TYPE       \u001b[0m\n",
      "\u001b[1m=========================  ===========\u001b[0m\n",
      "                  barcode  categorical\n",
      "                 mouse_id  categorical\n",
      "                 genotype  categorical\n",
      "                  cage_id  categorical\n",
      "                    donor  categorical\n",
      "             donor_status  categorical\n",
      "     days_post_transplant  numeric    \n",
      "genotype_and_donor_status  categorical\n",
      "\u001b[1m=========================  ===========\u001b[0m\n",
      "\u001b[1m                     IDS:  \u001b[0m48\n",
      "\u001b[1m                 COLUMNS:  \u001b[0m8\n"
     ]
    }
   ],
   "source": [
    "# Peek at the metadata\n",
    "! qiime tools inspect-metadata metadata.tsv"
   ]
  },
  {
   "cell_type": "markdown",
   "id": "sorted-infrared",
   "metadata": {},
   "source": [
    "**Make metadata Visualization**"
   ]
  },
  {
   "cell_type": "code",
   "execution_count": null,
   "id": "golden-butter",
   "metadata": {},
   "outputs": [
    {
     "name": "stdout",
     "output_type": "stream",
     "text": [
      "\u001b[32mSaved Visualization to: metadata.qzv\u001b[0m\n",
      "\u001b[0m"
     ]
    }
   ],
   "source": [
    "! qiime metadata tabulate \\\n",
    "  --m-input-file metadata.tsv \\\n",
    "  --o-visualization metadata.qzv"
   ]
  },
  {
   "cell_type": "code",
   "execution_count": null,
   "id": "massive-video",
   "metadata": {},
   "outputs": [
    {
     "name": "stdout",
     "output_type": "stream",
     "text": [
      "\u001b[32mUUID\u001b[0m:        8dfd7149-c2aa-44ec-a6e0-a2df56d055bb\n",
      "\u001b[32mType\u001b[0m:        Visualization\n"
     ]
    }
   ],
   "source": [
    "! qiime tools peek metadata.qzv"
   ]
  },
  {
   "cell_type": "code",
   "execution_count": null,
   "id": "c5ed2215",
   "metadata": {},
   "outputs": [
    {
     "name": "stdout",
     "output_type": "stream",
     "text": [
      "Collecting update\n",
      "  Downloading update-0.0.1-py2.py3-none-any.whl (2.9 kB)\n",
      "Collecting q2_itsxpress\n",
      "  Downloading q2_itsxpress-1.8.0-py3-none-any.whl (13 kB)\n",
      "Collecting style==1.1.0\n",
      "  Downloading style-1.1.0-py2.py3-none-any.whl (6.4 kB)\n",
      "Requirement already satisfied: pandas in /Users/raymondotoo/opt/anaconda3/envs/qiime2-2022.2/lib/python3.8/site-packages (from q2_itsxpress) (1.2.5)\n",
      "Collecting itsxpress>=1.8.0\n",
      "  Downloading itsxpress-1.8.0-py3-none-any.whl (1.6 MB)\n",
      "\u001b[2K     \u001b[90m━━━━━━━━━━━━━━━━━━━━━━━━━━━━━━━━━━━━━━━━\u001b[0m \u001b[32m1.6/1.6 MB\u001b[0m \u001b[31m10.2 MB/s\u001b[0m eta \u001b[36m0:00:00\u001b[0ma \u001b[36m0:00:01\u001b[0m\n",
      "\u001b[?25hRequirement already satisfied: qiime2 in /Users/raymondotoo/opt/anaconda3/envs/qiime2-2022.2/lib/python3.8/site-packages (from q2_itsxpress) (2022.2.1)\n",
      "Collecting biopython>=1.60\n",
      "  Downloading biopython-1.79-cp38-cp38-macosx_10_9_x86_64.whl (2.3 MB)\n",
      "\u001b[2K     \u001b[90m━━━━━━━━━━━━━━━━━━━━━━━━━━━━━━━━━━━━━━━━\u001b[0m \u001b[32m2.3/2.3 MB\u001b[0m \u001b[31m14.1 MB/s\u001b[0m eta \u001b[36m0:00:00\u001b[0m00:01\u001b[0m00:01\u001b[0m\n",
      "\u001b[?25hRequirement already satisfied: python-dateutil>=2.7.3 in /Users/raymondotoo/opt/anaconda3/envs/qiime2-2022.2/lib/python3.8/site-packages (from pandas->q2_itsxpress) (2.8.2)\n",
      "Requirement already satisfied: pytz>=2017.3 in /Users/raymondotoo/opt/anaconda3/envs/qiime2-2022.2/lib/python3.8/site-packages (from pandas->q2_itsxpress) (2022.1)\n",
      "Requirement already satisfied: numpy>=1.16.5 in /Users/raymondotoo/opt/anaconda3/envs/qiime2-2022.2/lib/python3.8/site-packages (from pandas->q2_itsxpress) (1.22.4)\n",
      "Requirement already satisfied: six>=1.5 in /Users/raymondotoo/opt/anaconda3/envs/qiime2-2022.2/lib/python3.8/site-packages (from python-dateutil>=2.7.3->pandas->q2_itsxpress) (1.16.0)\n",
      "Installing collected packages: style, update, biopython, itsxpress, q2_itsxpress\n",
      "Successfully installed biopython-1.79 itsxpress-1.8.0 q2_itsxpress-1.8.0 style-1.1.0 update-0.0.1\n",
      "Note: you may need to restart the kernel to use updated packages.\n"
     ]
    }
   ],
   "source": [
    "pip install update q2_itsxpress"
   ]
  },
  {
   "cell_type": "code",
   "execution_count": null,
   "id": "8f0285af",
   "metadata": {},
   "outputs": [
    {
     "name": "stdout",
     "output_type": "stream",
     "text": [
      "\n",
      "PackageNotInstalledError: Package is not installed in prefix.\n",
      "  prefix: /Users/raymondotoo/opt/anaconda3/envs/qiime2-2022.2\n",
      "  package name: itsxpress\n",
      "\n",
      "\n",
      "\n",
      "Note: you may need to restart the kernel to use updated packages.\n"
     ]
    }
   ],
   "source": [
    "conda update itsxpress"
   ]
  },
  {
   "cell_type": "code",
   "execution_count": null,
   "id": "coupled-preparation",
   "metadata": {
    "scrolled": true
   },
   "outputs": [
    {
     "data": {
      "text/html": [
       "<div><img onload=\"(function(div, url){\n",
       "if (typeof require !== 'undefined') {\n",
       "    var baseURL = require.toUrl('').split('/').slice(0, -2).join('/');\n",
       "} else {\n",
       "    var baseURL = JSON.parse(\n",
       "        document.getElementById('jupyter-config-data').innerHTML\n",
       "    ).baseUrl.slice(0, -1);\n",
       "}\n",
       "url = baseURL + url;\n",
       "fetch(url).then(function(res) {\n",
       "    if (res.status === 404) {\n",
       "        div.innerHTML = 'Install QIIME 2 Jupyter extension with:<br />' +\n",
       "                        '<code>jupyter serverextension enable --py qiime2' +\n",
       "                        ' --sys-prefix</code><br />then restart your server.' +\n",
       "                        '<br /><br />(Interactive output not available on ' +\n",
       "                        'static notebook viewer services like nbviewer.)';\n",
       "    } else if (res.status === 409) {\n",
       "        div.innerHTML = 'Visualization no longer in scope. Re-run this cell' +\n",
       "                        ' to see the visualization.';\n",
       "    } else if (res.ok) {\n",
       "        url = res.url;\n",
       "        div.innerHTML = '<iframe src=\\'' + url + '\\' style=\\'' +\n",
       "                        'width: 100%; height: 700px; border: 0;\\'>' +\n",
       "                        '</iframe><hr />Open in a: <a href=\\'' + url + '\\'' +\n",
       "                        ' target=\\'_blank\\'>new window</a>'\n",
       "    } else {\n",
       "        div.innerHTML = 'Something has gone wrong. Check notebook server for' +\n",
       "                        ' errors.';\n",
       "    }\n",
       "});\n",
       "})(this.parentElement, '/qiime2/redirect?location=/var/folders/60/239m7ccs0ksbbl7n3b9s1cqh0000gn/T/qiime2-archive-_5vjixsq')\" src=\"data:image/gif;base64,R0lGODlhAQABAIAAAP///wAAACH5BAEAAAAALAAAAAABAAEAAAICRAEAOw==\" /></div>"
      ],
      "text/plain": [
       "<visualization: Visualization uuid: 8dfd7149-c2aa-44ec-a6e0-a2df56d055bb>"
      ]
     },
     "execution_count": 15,
     "metadata": {},
     "output_type": "execute_result"
    }
   ],
   "source": [
    "# Visualize via API\n",
    "q2.Visualization.load('metadata.qzv')"
   ]
  },
  {
   "cell_type": "markdown",
   "id": "bronze-lottery",
   "metadata": {},
   "source": [
    "## Import data into QIIME 2\n",
    "\n",
    "We will import:\n",
    " - [Manifest File](https://docs.qiime2.org/2021.11/tutorials/importing/#fastq-manifest-formats)\n",
    " - Demultiplexed Sequences (contrast to Multiplexed Sequences)\n",
    " \n",
    "See the [Importing Data Tutorial](https://docs.qiime2.org/2021.11/tutorials/importing/#importing-data) for more information."
   ]
  },
  {
   "cell_type": "code",
   "execution_count": null,
   "id": "acting-thirty",
   "metadata": {},
   "outputs": [
    {
     "name": "stdout",
     "output_type": "stream",
     "text": [
      "--2022-09-08 11:18:02--  https://data.qiime2.org/2021.11/tutorials/pd-mice/manifest\n",
      "Resolving data.qiime2.org (data.qiime2.org)... 54.200.1.12\n",
      "Connecting to data.qiime2.org (data.qiime2.org)|54.200.1.12|:443... connected.\n",
      "HTTP request sent, awaiting response... 302 FOUND\n",
      "Location: https://s3-us-west-2.amazonaws.com/qiime2-data/2021.11/tutorials/pd-mice/manifest [following]\n",
      "--2022-09-08 11:18:03--  https://s3-us-west-2.amazonaws.com/qiime2-data/2021.11/tutorials/pd-mice/manifest\n",
      "Resolving s3-us-west-2.amazonaws.com (s3-us-west-2.amazonaws.com)... 52.218.245.48\n",
      "Connecting to s3-us-west-2.amazonaws.com (s3-us-west-2.amazonaws.com)|52.218.245.48|:443... connected.\n",
      "HTTP request sent, awaiting response... 200 OK\n",
      "Length: 4640 (4.5K) [binary/octet-stream]\n",
      "Saving to: 'manifest.tsv'\n",
      "\n",
      "manifest.tsv        100%[===================>]   4.53K  --.-KB/s    in 0s      \n",
      "\n",
      "2022-09-08 11:18:03 (17.2 MB/s) - 'manifest.tsv' saved [4640/4640]\n",
      "\n"
     ]
    }
   ],
   "source": [
    "# get manifest file\n",
    "!wget \\\n",
    "  -O \"manifest.tsv\" \\\n",
    "  \"https://data.qiime2.org/2021.11/tutorials/pd-mice/manifest\""
   ]
  },
  {
   "cell_type": "code",
   "execution_count": null,
   "id": "outdoor-patient",
   "metadata": {
    "scrolled": true
   },
   "outputs": [
    {
     "name": "stdout",
     "output_type": "stream",
     "text": [
      "--2022-09-08 11:18:12--  https://data.qiime2.org/2021.11/tutorials/pd-mice/demultiplexed_seqs.zip\n",
      "Resolving data.qiime2.org (data.qiime2.org)... 54.200.1.12\n",
      "Connecting to data.qiime2.org (data.qiime2.org)|54.200.1.12|:443... connected.\n",
      "HTTP request sent, awaiting response... 302 FOUND\n",
      "Location: https://s3-us-west-2.amazonaws.com/qiime2-data/2021.11/tutorials/pd-mice/demultiplexed_seqs.zip [following]\n",
      "--2022-09-08 11:18:13--  https://s3-us-west-2.amazonaws.com/qiime2-data/2021.11/tutorials/pd-mice/demultiplexed_seqs.zip\n",
      "Resolving s3-us-west-2.amazonaws.com (s3-us-west-2.amazonaws.com)... 52.218.245.48\n",
      "Connecting to s3-us-west-2.amazonaws.com (s3-us-west-2.amazonaws.com)|52.218.245.48|:443... connected.\n",
      "HTTP request sent, awaiting response... 200 OK\n",
      "Length: 21508775 (21M) [application/zip]\n",
      "Saving to: 'demultiplexed_seqs.zip'\n",
      "\n",
      "demultiplexed_seqs. 100%[===================>]  20.51M  12.0MB/s    in 1.7s    \n",
      "\n",
      "2022-09-08 11:18:15 (12.0 MB/s) - 'demultiplexed_seqs.zip' saved [21508775/21508775]\n",
      "\n"
     ]
    }
   ],
   "source": [
    "# get demultiplexed sequences\n",
    "!wget \\\n",
    "  -O \"demultiplexed_seqs.zip\" \\\n",
    "  \"https://data.qiime2.org/2021.11/tutorials/pd-mice/demultiplexed_seqs.zip\""
   ]
  },
  {
   "cell_type": "code",
   "execution_count": 1,
   "id": "genetic-philosophy",
   "metadata": {
    "scrolled": true
   },
   "outputs": [
    {
     "name": "stdout",
     "output_type": "stream",
     "text": [
      "Archive:  demultiplexed_seqs.zip\n",
      "   creating: demultiplexed_seqs/\n",
      "  inflating: demultiplexed_seqs/10483.recip.539.ASO.PD4.D7_4_L001_R1_001.fastq.gz  \n",
      "  inflating: demultiplexed_seqs/10483.recip.539.ASO.PD4.D14_5_L001_R1_001.fastq.gz  \n",
      "  inflating: demultiplexed_seqs/10483.recip.413.WT.HC2.D7_12_L001_R1_001.fastq.gz  \n",
      "  inflating: demultiplexed_seqs/10483.recip.220.WT.OB1.D7_30_L001_R1_001.fastq.gz  \n",
      "  inflating: demultiplexed_seqs/10483.recip.458.ASO.HC3.D49_2_L001_R1_001.fastq.gz  \n",
      "  inflating: demultiplexed_seqs/10483.recip.538.WT.PD4.D21_4_L001_R1_001.fastq.gz  \n",
      "  inflating: demultiplexed_seqs/10483.recip.459.WT.HC3.D14_2_L001_R1_001.fastq.gz  \n",
      "  inflating: demultiplexed_seqs/10483.recip.461.ASO.HC3.D7_20_L001_R1_001.fastq.gz  \n",
      "  inflating: demultiplexed_seqs/10483.recip.465.ASO.PD3.D14_16_L001_R1_001.fastq.gz  \n",
      "  inflating: demultiplexed_seqs/10483.recip.461.ASO.HC3.D21_11_L001_R1_001.fastq.gz  \n",
      "  inflating: demultiplexed_seqs/10483.recip.540.ASO.HC4.D7_7_L001_R1_001.fastq.gz  \n",
      "  inflating: demultiplexed_seqs/10483.recip.465.ASO.PD3.D7_0_L001_R1_001.fastq.gz  \n",
      "  inflating: demultiplexed_seqs/10483.recip.400.ASO.HC2.D14_32_L001_R1_001.fastq.gz  \n",
      "  inflating: demultiplexed_seqs/10483.recip.389.WT.HC2.D21_1_L001_R1_001.fastq.gz  \n",
      "  inflating: demultiplexed_seqs/10483.recip.536.ASO.PD4.D49_1_L001_R1_001.fastq.gz  \n",
      "  inflating: demultiplexed_seqs/10483.recip.411.ASO.HC2.D49_6_L001_R1_001.fastq.gz  \n",
      "  inflating: demultiplexed_seqs/10483.recip.463.WT.PD3.D7_3_L001_R1_001.fastq.gz  \n",
      "  inflating: demultiplexed_seqs/10483.recip.412.ASO.HC2.D7_24_L001_R1_001.fastq.gz  \n",
      "  inflating: demultiplexed_seqs/10483.recip.463.WT.PD3.D14_25_L001_R1_001.fastq.gz  \n",
      "  inflating: demultiplexed_seqs/10483.recip.391.ASO.PD2.D7_15_L001_R1_001.fastq.gz  \n",
      "  inflating: demultiplexed_seqs/10483.recip.462.WT.PD3.D49_8_L001_R1_001.fastq.gz  \n",
      "  inflating: demultiplexed_seqs/10483.recip.456.ASO.HC3.D49_28_L001_R1_001.fastq.gz  \n",
      "  inflating: demultiplexed_seqs/10483.recip.460.WT.HC3.D7_14_L001_R1_001.fastq.gz  \n",
      "  inflating: demultiplexed_seqs/10483.recip.537.WT.PD4.D21_45_L001_R1_001.fastq.gz  \n",
      "  inflating: demultiplexed_seqs/10483.recip.467.WT.HC3.D49.a_0_L001_R1_001.fastq.gz  \n",
      "  inflating: demultiplexed_seqs/10483.recip.458.ASO.HC3.D21_10_L001_R1_001.fastq.gz  \n",
      "  inflating: demultiplexed_seqs/10483.recip.460.WT.HC3.D21_0_L001_R1_001.fastq.gz  \n",
      "  inflating: demultiplexed_seqs/10483.recip.412.ASO.HC2.D14_13_L001_R1_001.fastq.gz  \n",
      "  inflating: demultiplexed_seqs/10483.recip.391.ASO.PD2.D21_1_L001_R1_001.fastq.gz  \n",
      "  inflating: demultiplexed_seqs/10483.recip.460.WT.HC3.D14_11_L001_R1_001.fastq.gz  \n",
      "  inflating: demultiplexed_seqs/10483.recip.403.ASO.PD2.D21_31_L001_R1_001.fastq.gz  \n",
      "  inflating: demultiplexed_seqs/10483.recip.401.ASO.HC2.D7_22_L001_R1_001.fastq.gz  \n",
      "  inflating: demultiplexed_seqs/10483.recip.462.WT.PD3.D21_4_L001_R1_001.fastq.gz  \n",
      "  inflating: demultiplexed_seqs/10483.recip.462.WT.PD3.D14_18_L001_R1_001.fastq.gz  \n",
      "  inflating: demultiplexed_seqs/10483.recip.467.WT.HC3.D49.b_26_L001_R1_001.fastq.gz  \n",
      "  inflating: demultiplexed_seqs/10483.recip.290.ASO.OB2.D1_27_L001_R1_001.fastq.gz  \n",
      "  inflating: demultiplexed_seqs/10483.recip.466.ASO.PD3.D7_23_L001_R1_001.fastq.gz  \n",
      "  inflating: demultiplexed_seqs/10483.recip.462.WT.PD3.D7_3_L001_R1_001.fastq.gz  \n",
      "  inflating: demultiplexed_seqs/10483.recip.391.ASO.PD2.D14_5_L001_R1_001.fastq.gz  \n",
      "  inflating: demultiplexed_seqs/recip.411.ASO.HC2.D21_0_L001_R1_001.fastq.gz  \n",
      "  inflating: demultiplexed_seqs/10483.recip.460.WT.HC3.D49_19_L001_R1_001.fastq.gz  \n",
      "  inflating: demultiplexed_seqs/10483.recip.461.ASO.HC3.D49_29_L001_R1_001.fastq.gz  \n",
      "  inflating: demultiplexed_seqs/10483.recip.459.WT.HC3.D49_3_L001_R1_001.fastq.gz  \n",
      "  inflating: demultiplexed_seqs/10483.recip.411.ASO.HC2.D14_9_L001_R1_001.fastq.gz  \n",
      "  inflating: demultiplexed_seqs/10483.recip.464.WT.PD3.D14_17_L001_R1_001.fastq.gz  \n",
      "  inflating: demultiplexed_seqs/10483.recip.463.WT.PD3.D21_19_L001_R1_001.fastq.gz  \n",
      "  inflating: demultiplexed_seqs/10483.recip.459.WT.HC3.D21_21_L001_R1_001.fastq.gz  \n",
      "  inflating: demultiplexed_seqs/10483.recip.540.ASO.HC4.D14_2_L001_R1_001.fastq.gz  \n"
     ]
    }
   ],
   "source": [
    "# unzip sequences\n",
    "! unzip demultiplexed_seqs.zip"
   ]
  },
  {
   "cell_type": "code",
   "execution_count": 2,
   "id": "recovered-material",
   "metadata": {
    "scrolled": true
   },
   "outputs": [
    {
     "name": "stdout",
     "output_type": "stream",
     "text": [
      "sample-id\tabsolute-filepath\n",
      "recip.220.WT.OB1.D7\t$PWD/demultiplexed_seqs/10483.recip.220.WT.OB1.D7_30_L001_R1_001.fastq.gz\n",
      "recip.290.ASO.OB2.D1\t$PWD/demultiplexed_seqs/10483.recip.290.ASO.OB2.D1_27_L001_R1_001.fastq.gz\n",
      "recip.389.WT.HC2.D21\t$PWD/demultiplexed_seqs/10483.recip.389.WT.HC2.D21_1_L001_R1_001.fastq.gz\n",
      "recip.391.ASO.PD2.D14\t$PWD/demultiplexed_seqs/10483.recip.391.ASO.PD2.D14_5_L001_R1_001.fastq.gz\n",
      "recip.391.ASO.PD2.D21\t$PWD/demultiplexed_seqs/10483.recip.391.ASO.PD2.D21_1_L001_R1_001.fastq.gz\n",
      "recip.391.ASO.PD2.D7\t$PWD/demultiplexed_seqs/10483.recip.391.ASO.PD2.D7_15_L001_R1_001.fastq.gz\n",
      "recip.400.ASO.HC2.D14\t$PWD/demultiplexed_seqs/10483.recip.400.ASO.HC2.D14_32_L001_R1_001.fastq.gz\n",
      "recip.401.ASO.HC2.D7\t$PWD/demultiplexed_seqs/10483.recip.401.ASO.HC2.D7_22_L001_R1_001.fastq.gz\n",
      "recip.403.ASO.PD2.D21\t$PWD/demultiplexed_seqs/10483.recip.403.ASO.PD2.D21_31_L001_R1_001.fastq.gz\n"
     ]
    }
   ],
   "source": [
    "! head manifest.tsv"
   ]
  },
  {
   "cell_type": "markdown",
   "id": "south-niagara",
   "metadata": {},
   "source": [
    "**Import and Summarize Data**"
   ]
  },
  {
   "cell_type": "code",
   "execution_count": 3,
   "id": "ongoing-wages",
   "metadata": {},
   "outputs": [
    {
     "name": "stdout",
     "output_type": "stream",
     "text": [
      "\u001b[32mImported ./manifest.tsv as SingleEndFastqManifestPhred33V2 to ./demux_seqs.qza\u001b[0m\n",
      "\u001b[0m"
     ]
    }
   ],
   "source": [
    "! qiime tools import \\\n",
    "  --type \"SampleData[SequencesWithQuality]\" \\\n",
    "  --input-format SingleEndFastqManifestPhred33V2 \\\n",
    "  --input-path ./manifest.tsv \\\n",
    "  --output-path ./demux_seqs.qza"
   ]
  },
  {
   "cell_type": "code",
   "execution_count": 4,
   "id": "marine-handy",
   "metadata": {},
   "outputs": [
    {
     "name": "stdout",
     "output_type": "stream",
     "text": [
      "\u001b[32mSaved Visualization to: ./demux_seqs.qzv\u001b[0m\n",
      "\u001b[0m"
     ]
    }
   ],
   "source": [
    "! qiime demux summarize \\\n",
    "  --i-data ./demux_seqs.qza \\\n",
    "  --o-visualization ./demux_seqs.qzv"
   ]
  },
  {
   "cell_type": "code",
   "execution_count": 8,
   "id": "defined-disney",
   "metadata": {
    "scrolled": true
   },
   "outputs": [
    {
     "data": {
      "text/html": [
       "<div><img onload=\"(function(div, url){\n",
       "if (typeof require !== 'undefined') {\n",
       "    var baseURL = require.toUrl('').split('/').slice(0, -2).join('/');\n",
       "} else {\n",
       "    var baseURL = JSON.parse(\n",
       "        document.getElementById('jupyter-config-data').innerHTML\n",
       "    ).baseUrl.slice(0, -1);\n",
       "}\n",
       "url = baseURL + url;\n",
       "fetch(url).then(function(res) {\n",
       "    if (res.status === 404) {\n",
       "        div.innerHTML = 'Install QIIME 2 Jupyter extension with:<br />' +\n",
       "                        '<code>jupyter serverextension enable --py qiime2' +\n",
       "                        ' --sys-prefix</code><br />then restart your server.' +\n",
       "                        '<br /><br />(Interactive output not available on ' +\n",
       "                        'static notebook viewer services like nbviewer.)';\n",
       "    } else if (res.status === 409) {\n",
       "        div.innerHTML = 'Visualization no longer in scope. Re-run this cell' +\n",
       "                        ' to see the visualization.';\n",
       "    } else if (res.ok) {\n",
       "        url = res.url;\n",
       "        div.innerHTML = '<iframe src=\\'' + url + '\\' style=\\'' +\n",
       "                        'width: 100%; height: 700px; border: 0;\\'>' +\n",
       "                        '</iframe><hr />Open in a: <a href=\\'' + url + '\\'' +\n",
       "                        ' target=\\'_blank\\'>new window</a>'\n",
       "    } else {\n",
       "        div.innerHTML = 'Something has gone wrong. Check notebook server for' +\n",
       "                        ' errors.';\n",
       "    }\n",
       "});\n",
       "})(this.parentElement, '/qiime2/redirect?location=/var/folders/60/239m7ccs0ksbbl7n3b9s1cqh0000gn/T/qiime2-archive-6sv4tx37')\" src=\"data:image/gif;base64,R0lGODlhAQABAIAAAP///wAAACH5BAEAAAAALAAAAAABAAEAAAICRAEAOw==\" /></div>"
      ],
      "text/plain": [
       "<visualization: Visualization uuid: 45a5cc57-63bf-4e03-aabf-5688641c9314>"
      ]
     },
     "execution_count": 8,
     "metadata": {},
     "output_type": "execute_result"
    }
   ],
   "source": [
    "q2.Visualization.load('demux_seqs.qzv')"
   ]
  },
  {
   "cell_type": "markdown",
   "id": "preliminary-railway",
   "metadata": {},
   "source": [
    "## Denoising Sequence data\n",
    "\n",
    " - DADA2 approach as outlined in the tutorial.\n",
    " - Alternate trimming w/ DADA2.\n",
    " - Using deblur w/ default trimming."
   ]
  },
  {
   "cell_type": "markdown",
   "id": "engaged-riverside",
   "metadata": {},
   "source": [
    "### Default"
   ]
  },
  {
   "cell_type": "code",
   "execution_count": 9,
   "id": "atlantic-czech",
   "metadata": {},
   "outputs": [
    {
     "data": {
      "text/plain": [
       "'/Users/raymondotoo/Library/CloudStorage/OneDrive-UALittleRock/github_stuff/MultiOmics/Microbiome_Qiime2/Microbiome_Qiime2'"
      ]
     },
     "execution_count": 9,
     "metadata": {},
     "output_type": "execute_result"
    }
   ],
   "source": [
    "getcwd()"
   ]
  },
  {
   "cell_type": "code",
   "execution_count": 10,
   "id": "earned-words",
   "metadata": {},
   "outputs": [
    {
     "name": "stdout",
     "output_type": "stream",
     "text": [
      "Running external command line application(s). This may print messages to stdout and/or stderr.\n",
      "The command(s) being run are below. These commands cannot be manually re-run as they will depend on temporary files that no longer exist.\n",
      "\n",
      "Command: run_dada_single.R /var/folders/60/239m7ccs0ksbbl7n3b9s1cqh0000gn/T/qiime2-archive-g9dcae_t/93f2d449-3fea-4f25-8ca2-4ef43c99578f/data /var/folders/60/239m7ccs0ksbbl7n3b9s1cqh0000gn/T/tmp1cyidx12/output.tsv.biom /var/folders/60/239m7ccs0ksbbl7n3b9s1cqh0000gn/T/tmp1cyidx12/track.tsv /var/folders/60/239m7ccs0ksbbl7n3b9s1cqh0000gn/T/tmp1cyidx12 150 0 2.0 2 Inf independent consensus 1.0 8 1000000 NULL 16\n",
      "\n",
      "R version 4.1.3 (2022-03-10) \n",
      "Loading required package: Rcpp\n",
      "\u001b[?25hDADA2: 1.22.0 / Rcpp: 1.0.8.3 / RcppParallel: 5.1.5 \n",
      "\u001b[?25h1) Filtering \u001b[?25h\u001b[?25h\u001b[?25h................................................\u001b[?25h\u001b[?25h\n",
      "\u001b[?25h\u001b[?25h2) Learning Error Rates\n",
      "\u001b[?25h35926200 total bases in 239508 reads from 48 samples will be used for learning the error rates.\n",
      "\u001b[?25h\u001b[?25h3) Denoise samples \u001b[?25h................................................\u001b[?25h\n",
      "\u001b[?25h\u001b[?25h\u001b[?25h4) Remove chimeras (method = consensus)\n",
      "\u001b[?25h\u001b[?25h5) Report read numbers through the pipeline\n",
      "\u001b[?25h\u001b[?25h\u001b[?25h\u001b[?25h\u001b[?25h\u001b[?25h\u001b[?25h6) Write output\n",
      "\u001b[?25h\u001b[?25h\u001b[?25h\u001b[?25h\u001b[?25h\u001b[?25h\u001b[?25h\u001b[32mSaved FeatureTable[Frequency] to: ./dada2_table.qza\u001b[0m\n",
      "\u001b[32mSaved FeatureData[Sequence] to: ./dada2_rep_set.qza\u001b[0m\n",
      "\u001b[32mSaved SampleData[DADA2Stats] to: ./dada2_stats.qza\u001b[0m\n",
      "\u001b[0m"
     ]
    }
   ],
   "source": [
    "! qiime dada2 denoise-single \\\n",
    "    --i-demultiplexed-seqs ./demux_seqs.qza \\\n",
    "    --p-trunc-len 150 \\\n",
    "    --p-n-threads 8 \\\n",
    "    --o-table ./dada2_table.qza \\\n",
    "    --o-representative-sequences ./dada2_rep_set.qza \\\n",
    "    --o-denoising-stats ./dada2_stats.qza \\\n",
    "    --verbose"
   ]
  },
  {
   "cell_type": "code",
   "execution_count": 11,
   "id": "successful-discovery",
   "metadata": {},
   "outputs": [
    {
     "name": "stdout",
     "output_type": "stream",
     "text": [
      "\u001b[32mSaved Visualization to: ./dada2_stats.qzv\u001b[0m\n",
      "\u001b[0m"
     ]
    }
   ],
   "source": [
    "# summarize denoising stats\n",
    "! qiime metadata tabulate \\\n",
    "    --m-input-file ./dada2_stats.qza  \\\n",
    "    --o-visualization ./dada2_stats.qzv"
   ]
  },
  {
   "cell_type": "code",
   "execution_count": 12,
   "id": "bronze-session",
   "metadata": {
    "scrolled": true
   },
   "outputs": [
    {
     "data": {
      "text/html": [
       "<div><img onload=\"(function(div, url){\n",
       "if (typeof require !== 'undefined') {\n",
       "    var baseURL = require.toUrl('').split('/').slice(0, -2).join('/');\n",
       "} else {\n",
       "    var baseURL = JSON.parse(\n",
       "        document.getElementById('jupyter-config-data').innerHTML\n",
       "    ).baseUrl.slice(0, -1);\n",
       "}\n",
       "url = baseURL + url;\n",
       "fetch(url).then(function(res) {\n",
       "    if (res.status === 404) {\n",
       "        div.innerHTML = 'Install QIIME 2 Jupyter extension with:<br />' +\n",
       "                        '<code>jupyter serverextension enable --py qiime2' +\n",
       "                        ' --sys-prefix</code><br />then restart your server.' +\n",
       "                        '<br /><br />(Interactive output not available on ' +\n",
       "                        'static notebook viewer services like nbviewer.)';\n",
       "    } else if (res.status === 409) {\n",
       "        div.innerHTML = 'Visualization no longer in scope. Re-run this cell' +\n",
       "                        ' to see the visualization.';\n",
       "    } else if (res.ok) {\n",
       "        url = res.url;\n",
       "        div.innerHTML = '<iframe src=\\'' + url + '\\' style=\\'' +\n",
       "                        'width: 100%; height: 700px; border: 0;\\'>' +\n",
       "                        '</iframe><hr />Open in a: <a href=\\'' + url + '\\'' +\n",
       "                        ' target=\\'_blank\\'>new window</a>'\n",
       "    } else {\n",
       "        div.innerHTML = 'Something has gone wrong. Check notebook server for' +\n",
       "                        ' errors.';\n",
       "    }\n",
       "});\n",
       "})(this.parentElement, '/qiime2/redirect?location=/var/folders/60/239m7ccs0ksbbl7n3b9s1cqh0000gn/T/qiime2-archive-61y2y3dh')\" src=\"data:image/gif;base64,R0lGODlhAQABAIAAAP///wAAACH5BAEAAAAALAAAAAABAAEAAAICRAEAOw==\" /></div>"
      ],
      "text/plain": [
       "<visualization: Visualization uuid: 38b78699-3870-4996-b6d3-228ebd0e5c92>"
      ]
     },
     "execution_count": 12,
     "metadata": {},
     "output_type": "execute_result"
    }
   ],
   "source": [
    "q2.Visualization.load('dada2_stats.qzv')"
   ]
  },
  {
   "cell_type": "code",
   "execution_count": 13,
   "id": "primary-duncan",
   "metadata": {},
   "outputs": [
    {
     "name": "stdout",
     "output_type": "stream",
     "text": [
      "\u001b[32mSaved Visualization to: ./dada2_table.qzv\u001b[0m\n",
      "\u001b[0m"
     ]
    }
   ],
   "source": [
    "# summarize ESV table\n",
    "! qiime feature-table summarize \\\n",
    "    --i-table ./dada2_table.qza \\\n",
    "    --m-sample-metadata-file ./metadata.tsv \\\n",
    "    --o-visualization ./dada2_table.qzv"
   ]
  },
  {
   "cell_type": "code",
   "execution_count": 14,
   "id": "norwegian-prime",
   "metadata": {
    "scrolled": true
   },
   "outputs": [
    {
     "data": {
      "text/html": [
       "<div><img onload=\"(function(div, url){\n",
       "if (typeof require !== 'undefined') {\n",
       "    var baseURL = require.toUrl('').split('/').slice(0, -2).join('/');\n",
       "} else {\n",
       "    var baseURL = JSON.parse(\n",
       "        document.getElementById('jupyter-config-data').innerHTML\n",
       "    ).baseUrl.slice(0, -1);\n",
       "}\n",
       "url = baseURL + url;\n",
       "fetch(url).then(function(res) {\n",
       "    if (res.status === 404) {\n",
       "        div.innerHTML = 'Install QIIME 2 Jupyter extension with:<br />' +\n",
       "                        '<code>jupyter serverextension enable --py qiime2' +\n",
       "                        ' --sys-prefix</code><br />then restart your server.' +\n",
       "                        '<br /><br />(Interactive output not available on ' +\n",
       "                        'static notebook viewer services like nbviewer.)';\n",
       "    } else if (res.status === 409) {\n",
       "        div.innerHTML = 'Visualization no longer in scope. Re-run this cell' +\n",
       "                        ' to see the visualization.';\n",
       "    } else if (res.ok) {\n",
       "        url = res.url;\n",
       "        div.innerHTML = '<iframe src=\\'' + url + '\\' style=\\'' +\n",
       "                        'width: 100%; height: 700px; border: 0;\\'>' +\n",
       "                        '</iframe><hr />Open in a: <a href=\\'' + url + '\\'' +\n",
       "                        ' target=\\'_blank\\'>new window</a>'\n",
       "    } else {\n",
       "        div.innerHTML = 'Something has gone wrong. Check notebook server for' +\n",
       "                        ' errors.';\n",
       "    }\n",
       "});\n",
       "})(this.parentElement, '/qiime2/redirect?location=/var/folders/60/239m7ccs0ksbbl7n3b9s1cqh0000gn/T/qiime2-archive-dj3hco67')\" src=\"data:image/gif;base64,R0lGODlhAQABAIAAAP///wAAACH5BAEAAAAALAAAAAABAAEAAAICRAEAOw==\" /></div>"
      ],
      "text/plain": [
       "<visualization: Visualization uuid: 10d713cc-2b05-4f2e-8672-4b5fea2bb665>"
      ]
     },
     "execution_count": 14,
     "metadata": {},
     "output_type": "execute_result"
    }
   ],
   "source": [
    "q2.Visualization.load('dada2_table.qzv')"
   ]
  },
  {
   "cell_type": "code",
   "execution_count": 15,
   "id": "accessory-solution",
   "metadata": {},
   "outputs": [
    {
     "name": "stdout",
     "output_type": "stream",
     "text": [
      "\u001b[32mSaved Visualization to: ./dada2_rep_set.qzv\u001b[0m\n",
      "\u001b[0m"
     ]
    }
   ],
   "source": [
    "! qiime feature-table tabulate-seqs \\\n",
    "    --i-data ./dada2_rep_set.qza \\\n",
    "    --o-visualization ./dada2_rep_set.qzv"
   ]
  },
  {
   "cell_type": "code",
   "execution_count": 16,
   "id": "brave-arthur",
   "metadata": {
    "scrolled": true
   },
   "outputs": [
    {
     "data": {
      "text/html": [
       "<div><img onload=\"(function(div, url){\n",
       "if (typeof require !== 'undefined') {\n",
       "    var baseURL = require.toUrl('').split('/').slice(0, -2).join('/');\n",
       "} else {\n",
       "    var baseURL = JSON.parse(\n",
       "        document.getElementById('jupyter-config-data').innerHTML\n",
       "    ).baseUrl.slice(0, -1);\n",
       "}\n",
       "url = baseURL + url;\n",
       "fetch(url).then(function(res) {\n",
       "    if (res.status === 404) {\n",
       "        div.innerHTML = 'Install QIIME 2 Jupyter extension with:<br />' +\n",
       "                        '<code>jupyter serverextension enable --py qiime2' +\n",
       "                        ' --sys-prefix</code><br />then restart your server.' +\n",
       "                        '<br /><br />(Interactive output not available on ' +\n",
       "                        'static notebook viewer services like nbviewer.)';\n",
       "    } else if (res.status === 409) {\n",
       "        div.innerHTML = 'Visualization no longer in scope. Re-run this cell' +\n",
       "                        ' to see the visualization.';\n",
       "    } else if (res.ok) {\n",
       "        url = res.url;\n",
       "        div.innerHTML = '<iframe src=\\'' + url + '\\' style=\\'' +\n",
       "                        'width: 100%; height: 700px; border: 0;\\'>' +\n",
       "                        '</iframe><hr />Open in a: <a href=\\'' + url + '\\'' +\n",
       "                        ' target=\\'_blank\\'>new window</a>'\n",
       "    } else {\n",
       "        div.innerHTML = 'Something has gone wrong. Check notebook server for' +\n",
       "                        ' errors.';\n",
       "    }\n",
       "});\n",
       "})(this.parentElement, '/qiime2/redirect?location=/var/folders/60/239m7ccs0ksbbl7n3b9s1cqh0000gn/T/qiime2-archive-8anio8dh')\" src=\"data:image/gif;base64,R0lGODlhAQABAIAAAP///wAAACH5BAEAAAAALAAAAAABAAEAAAICRAEAOw==\" /></div>"
      ],
      "text/plain": [
       "<visualization: Visualization uuid: c27833cf-0079-4cce-8e55-75f0fb46b6de>"
      ]
     },
     "execution_count": 16,
     "metadata": {},
     "output_type": "execute_result"
    }
   ],
   "source": [
    "q2.Visualization.load('dada2_rep_set.qzv')"
   ]
  },
  {
   "cell_type": "markdown",
   "id": "veterinary-device",
   "metadata": {},
   "source": [
    "### Alternate Trimming w/ DADA2"
   ]
  },
  {
   "cell_type": "code",
   "execution_count": 17,
   "id": "secret-compound",
   "metadata": {},
   "outputs": [
    {
     "name": "stdout",
     "output_type": "stream",
     "text": [
      "Running external command line application(s). This may print messages to stdout and/or stderr.\n",
      "The command(s) being run are below. These commands cannot be manually re-run as they will depend on temporary files that no longer exist.\n",
      "\n",
      "Command: run_dada_single.R /var/folders/60/239m7ccs0ksbbl7n3b9s1cqh0000gn/T/qiime2-archive-j03z300v/93f2d449-3fea-4f25-8ca2-4ef43c99578f/data /var/folders/60/239m7ccs0ksbbl7n3b9s1cqh0000gn/T/tmpohuoccsz/output.tsv.biom /var/folders/60/239m7ccs0ksbbl7n3b9s1cqh0000gn/T/tmpohuoccsz/track.tsv /var/folders/60/239m7ccs0ksbbl7n3b9s1cqh0000gn/T/tmpohuoccsz 130 30 2.0 2 Inf independent consensus 1.0 1 1000000 NULL 16\n",
      "\n",
      "R version 4.1.3 (2022-03-10) \n",
      "Loading required package: Rcpp\n",
      "\u001b[?25hDADA2: 1.22.0 / Rcpp: 1.0.8.3 / RcppParallel: 5.1.5 \n",
      "\u001b[?25h1) Filtering \u001b[?25h\u001b[?25h\u001b[?25h................................................\u001b[?25h\u001b[?25h\n",
      "\u001b[?25h\u001b[?25h2) Learning Error Rates\n",
      "\u001b[?25h25075800 total bases in 250758 reads from 48 samples will be used for learning the error rates.\n",
      "\u001b[?25h\u001b[?25h3) Denoise samples \u001b[?25h................................................\u001b[?25h\n",
      "\u001b[?25h\u001b[?25h\u001b[?25h4) Remove chimeras (method = consensus)\n",
      "\u001b[?25h\u001b[?25h5) Report read numbers through the pipeline\n",
      "\u001b[?25h\u001b[?25h\u001b[?25h\u001b[?25h\u001b[?25h\u001b[?25h\u001b[?25h6) Write output\n",
      "\u001b[?25h\u001b[?25h\u001b[?25h\u001b[?25h\u001b[?25h\u001b[?25h\u001b[?25h\u001b[32mSaved FeatureTable[Frequency] to: ./dada2_table_alt.qza\u001b[0m\n",
      "\u001b[32mSaved FeatureData[Sequence] to: ./dada2_rep_set_alt.qza\u001b[0m\n",
      "\u001b[32mSaved SampleData[DADA2Stats] to: ./dada2_stats_alt.qza\u001b[0m\n",
      "\u001b[0m"
     ]
    }
   ],
   "source": [
    "! qiime dada2 denoise-single \\\n",
    "    --i-demultiplexed-seqs ./demux_seqs.qza \\\n",
    "    --p-trim-left 30 \\\n",
    "    --p-trunc-len 130 \\\n",
    "    --o-table ./dada2_table_alt.qza \\\n",
    "    --o-representative-sequences ./dada2_rep_set_alt.qza \\\n",
    "    --o-denoising-stats ./dada2_stats_alt.qza \\\n",
    "    --verbose"
   ]
  },
  {
   "cell_type": "code",
   "execution_count": 18,
   "id": "external-probability",
   "metadata": {},
   "outputs": [
    {
     "name": "stdout",
     "output_type": "stream",
     "text": [
      "\u001b[32mSaved Visualization to: ./dada2_stats_alt.qzv\u001b[0m\n",
      "\u001b[0m"
     ]
    }
   ],
   "source": [
    "# summarize denoising stats\n",
    "! qiime metadata tabulate \\\n",
    "    --m-input-file ./dada2_stats_alt.qza  \\\n",
    "    --o-visualization ./dada2_stats_alt.qzv"
   ]
  },
  {
   "cell_type": "code",
   "execution_count": 19,
   "id": "spoken-admission",
   "metadata": {},
   "outputs": [
    {
     "data": {
      "text/html": [
       "<div><img onload=\"(function(div, url){\n",
       "if (typeof require !== 'undefined') {\n",
       "    var baseURL = require.toUrl('').split('/').slice(0, -2).join('/');\n",
       "} else {\n",
       "    var baseURL = JSON.parse(\n",
       "        document.getElementById('jupyter-config-data').innerHTML\n",
       "    ).baseUrl.slice(0, -1);\n",
       "}\n",
       "url = baseURL + url;\n",
       "fetch(url).then(function(res) {\n",
       "    if (res.status === 404) {\n",
       "        div.innerHTML = 'Install QIIME 2 Jupyter extension with:<br />' +\n",
       "                        '<code>jupyter serverextension enable --py qiime2' +\n",
       "                        ' --sys-prefix</code><br />then restart your server.' +\n",
       "                        '<br /><br />(Interactive output not available on ' +\n",
       "                        'static notebook viewer services like nbviewer.)';\n",
       "    } else if (res.status === 409) {\n",
       "        div.innerHTML = 'Visualization no longer in scope. Re-run this cell' +\n",
       "                        ' to see the visualization.';\n",
       "    } else if (res.ok) {\n",
       "        url = res.url;\n",
       "        div.innerHTML = '<iframe src=\\'' + url + '\\' style=\\'' +\n",
       "                        'width: 100%; height: 700px; border: 0;\\'>' +\n",
       "                        '</iframe><hr />Open in a: <a href=\\'' + url + '\\'' +\n",
       "                        ' target=\\'_blank\\'>new window</a>'\n",
       "    } else {\n",
       "        div.innerHTML = 'Something has gone wrong. Check notebook server for' +\n",
       "                        ' errors.';\n",
       "    }\n",
       "});\n",
       "})(this.parentElement, '/qiime2/redirect?location=/var/folders/60/239m7ccs0ksbbl7n3b9s1cqh0000gn/T/qiime2-archive-k6l4bmf5')\" src=\"data:image/gif;base64,R0lGODlhAQABAIAAAP///wAAACH5BAEAAAAALAAAAAABAAEAAAICRAEAOw==\" /></div>"
      ],
      "text/plain": [
       "<visualization: Visualization uuid: dc842f6d-2acc-476d-8a69-ac3f53388687>"
      ]
     },
     "execution_count": 19,
     "metadata": {},
     "output_type": "execute_result"
    }
   ],
   "source": [
    "q2.Visualization.load('dada2_stats_alt.qzv')"
   ]
  },
  {
   "cell_type": "code",
   "execution_count": 20,
   "id": "billion-audit",
   "metadata": {},
   "outputs": [
    {
     "name": "stdout",
     "output_type": "stream",
     "text": [
      "\u001b[32mSaved Visualization to: ./dada2_table_alt.qzv\u001b[0m\n",
      "\u001b[0m"
     ]
    }
   ],
   "source": [
    "# summarize ESV table\n",
    "! qiime feature-table summarize \\\n",
    "    --i-table ./dada2_table_alt.qza \\\n",
    "    --m-sample-metadata-file ./metadata.tsv \\\n",
    "    --o-visualization ./dada2_table_alt.qzv"
   ]
  },
  {
   "cell_type": "code",
   "execution_count": 21,
   "id": "phantom-competition",
   "metadata": {},
   "outputs": [
    {
     "data": {
      "text/html": [
       "<div><img onload=\"(function(div, url){\n",
       "if (typeof require !== 'undefined') {\n",
       "    var baseURL = require.toUrl('').split('/').slice(0, -2).join('/');\n",
       "} else {\n",
       "    var baseURL = JSON.parse(\n",
       "        document.getElementById('jupyter-config-data').innerHTML\n",
       "    ).baseUrl.slice(0, -1);\n",
       "}\n",
       "url = baseURL + url;\n",
       "fetch(url).then(function(res) {\n",
       "    if (res.status === 404) {\n",
       "        div.innerHTML = 'Install QIIME 2 Jupyter extension with:<br />' +\n",
       "                        '<code>jupyter serverextension enable --py qiime2' +\n",
       "                        ' --sys-prefix</code><br />then restart your server.' +\n",
       "                        '<br /><br />(Interactive output not available on ' +\n",
       "                        'static notebook viewer services like nbviewer.)';\n",
       "    } else if (res.status === 409) {\n",
       "        div.innerHTML = 'Visualization no longer in scope. Re-run this cell' +\n",
       "                        ' to see the visualization.';\n",
       "    } else if (res.ok) {\n",
       "        url = res.url;\n",
       "        div.innerHTML = '<iframe src=\\'' + url + '\\' style=\\'' +\n",
       "                        'width: 100%; height: 700px; border: 0;\\'>' +\n",
       "                        '</iframe><hr />Open in a: <a href=\\'' + url + '\\'' +\n",
       "                        ' target=\\'_blank\\'>new window</a>'\n",
       "    } else {\n",
       "        div.innerHTML = 'Something has gone wrong. Check notebook server for' +\n",
       "                        ' errors.';\n",
       "    }\n",
       "});\n",
       "})(this.parentElement, '/qiime2/redirect?location=/var/folders/60/239m7ccs0ksbbl7n3b9s1cqh0000gn/T/qiime2-archive-s93ebhyz')\" src=\"data:image/gif;base64,R0lGODlhAQABAIAAAP///wAAACH5BAEAAAAALAAAAAABAAEAAAICRAEAOw==\" /></div>"
      ],
      "text/plain": [
       "<visualization: Visualization uuid: 3f196454-d087-429d-b285-a9735d524a18>"
      ]
     },
     "execution_count": 21,
     "metadata": {},
     "output_type": "execute_result"
    }
   ],
   "source": [
    "q2.Visualization.load('dada2_table_alt.qzv')"
   ]
  },
  {
   "cell_type": "markdown",
   "id": "driving-concentration",
   "metadata": {},
   "source": [
    "### deblur w/ default"
   ]
  },
  {
   "cell_type": "code",
   "execution_count": 22,
   "id": "proper-private",
   "metadata": {},
   "outputs": [
    {
     "name": "stdout",
     "output_type": "stream",
     "text": [
      "\u001b[32mSaved SampleData[SequencesWithQuality] to: demux-seqs-deblur.qza\u001b[0m\n",
      "\u001b[32mSaved QualityFilterStats to: demux-deblur-stats.qza\u001b[0m\n",
      "\u001b[0m"
     ]
    }
   ],
   "source": [
    "! qiime quality-filter q-score \\\n",
    "    --i-demux ./demux_seqs.qza \\\n",
    "    --o-filtered-sequences demux-seqs-deblur.qza \\\n",
    "    --o-filter-stats demux-deblur-stats.qza"
   ]
  },
  {
   "cell_type": "code",
   "execution_count": 23,
   "id": "contemporary-share",
   "metadata": {},
   "outputs": [
    {
     "name": "stdout",
     "output_type": "stream",
     "text": [
      "\u001b[32mSaved FeatureTable[Frequency] to: table-deblur.qza\u001b[0m\n",
      "\u001b[32mSaved FeatureData[Sequence] to: rep-seqs-deblur.qza\u001b[0m\n",
      "\u001b[32mSaved DeblurStats to: deblur-stats.qza\u001b[0m\n",
      "\u001b[0m"
     ]
    }
   ],
   "source": [
    "# Defaults to Greengenes. \n",
    "#    If you want to use SILVA or another ref db, then use:\n",
    "#    `qiime deblur denoise-other`\n",
    "#    silva files are located here: https://docs.qiime2.org/2021.11/data-resources/\n",
    "! qiime deblur denoise-16S \\\n",
    "    --i-demultiplexed-seqs demux-seqs-deblur.qza \\\n",
    "    --p-trim-length 150 \\\n",
    "    --o-representative-sequences rep-seqs-deblur.qza \\\n",
    "    --o-table table-deblur.qza \\\n",
    "    --p-sample-stats \\\n",
    "    --o-stats deblur-stats.qza"
   ]
  },
  {
   "cell_type": "code",
   "execution_count": 24,
   "id": "western-debut",
   "metadata": {},
   "outputs": [
    {
     "name": "stdout",
     "output_type": "stream",
     "text": [
      "\u001b[32mSaved Visualization to: demux-deblur-stats.qzv\u001b[0m\n",
      "\u001b[0m\u001b[32mSaved Visualization to: deblur-stats.qzv\u001b[0m\n",
      "\u001b[0m"
     ]
    }
   ],
   "source": [
    "! qiime metadata tabulate \\\n",
    "    --m-input-file demux-deblur-stats.qza \\\n",
    "    --o-visualization demux-deblur-stats.qzv\n",
    "\n",
    "! qiime deblur visualize-stats \\\n",
    "    --i-deblur-stats deblur-stats.qza \\\n",
    "    --o-visualization deblur-stats.qzv"
   ]
  },
  {
   "cell_type": "code",
   "execution_count": 25,
   "id": "thick-dealing",
   "metadata": {},
   "outputs": [
    {
     "data": {
      "text/html": [
       "<div><img onload=\"(function(div, url){\n",
       "if (typeof require !== 'undefined') {\n",
       "    var baseURL = require.toUrl('').split('/').slice(0, -2).join('/');\n",
       "} else {\n",
       "    var baseURL = JSON.parse(\n",
       "        document.getElementById('jupyter-config-data').innerHTML\n",
       "    ).baseUrl.slice(0, -1);\n",
       "}\n",
       "url = baseURL + url;\n",
       "fetch(url).then(function(res) {\n",
       "    if (res.status === 404) {\n",
       "        div.innerHTML = 'Install QIIME 2 Jupyter extension with:<br />' +\n",
       "                        '<code>jupyter serverextension enable --py qiime2' +\n",
       "                        ' --sys-prefix</code><br />then restart your server.' +\n",
       "                        '<br /><br />(Interactive output not available on ' +\n",
       "                        'static notebook viewer services like nbviewer.)';\n",
       "    } else if (res.status === 409) {\n",
       "        div.innerHTML = 'Visualization no longer in scope. Re-run this cell' +\n",
       "                        ' to see the visualization.';\n",
       "    } else if (res.ok) {\n",
       "        url = res.url;\n",
       "        div.innerHTML = '<iframe src=\\'' + url + '\\' style=\\'' +\n",
       "                        'width: 100%; height: 700px; border: 0;\\'>' +\n",
       "                        '</iframe><hr />Open in a: <a href=\\'' + url + '\\'' +\n",
       "                        ' target=\\'_blank\\'>new window</a>'\n",
       "    } else {\n",
       "        div.innerHTML = 'Something has gone wrong. Check notebook server for' +\n",
       "                        ' errors.';\n",
       "    }\n",
       "});\n",
       "})(this.parentElement, '/qiime2/redirect?location=/var/folders/60/239m7ccs0ksbbl7n3b9s1cqh0000gn/T/qiime2-archive-9lahkl42')\" src=\"data:image/gif;base64,R0lGODlhAQABAIAAAP///wAAACH5BAEAAAAALAAAAAABAAEAAAICRAEAOw==\" /></div>"
      ],
      "text/plain": [
       "<visualization: Visualization uuid: 9ae24864-0a12-43e8-acf8-4bb916b13810>"
      ]
     },
     "execution_count": 25,
     "metadata": {},
     "output_type": "execute_result"
    }
   ],
   "source": [
    "q2.Visualization.load('demux-deblur-stats.qzv')"
   ]
  },
  {
   "cell_type": "code",
   "execution_count": 26,
   "id": "secure-access",
   "metadata": {},
   "outputs": [
    {
     "data": {
      "text/html": [
       "<div><img onload=\"(function(div, url){\n",
       "if (typeof require !== 'undefined') {\n",
       "    var baseURL = require.toUrl('').split('/').slice(0, -2).join('/');\n",
       "} else {\n",
       "    var baseURL = JSON.parse(\n",
       "        document.getElementById('jupyter-config-data').innerHTML\n",
       "    ).baseUrl.slice(0, -1);\n",
       "}\n",
       "url = baseURL + url;\n",
       "fetch(url).then(function(res) {\n",
       "    if (res.status === 404) {\n",
       "        div.innerHTML = 'Install QIIME 2 Jupyter extension with:<br />' +\n",
       "                        '<code>jupyter serverextension enable --py qiime2' +\n",
       "                        ' --sys-prefix</code><br />then restart your server.' +\n",
       "                        '<br /><br />(Interactive output not available on ' +\n",
       "                        'static notebook viewer services like nbviewer.)';\n",
       "    } else if (res.status === 409) {\n",
       "        div.innerHTML = 'Visualization no longer in scope. Re-run this cell' +\n",
       "                        ' to see the visualization.';\n",
       "    } else if (res.ok) {\n",
       "        url = res.url;\n",
       "        div.innerHTML = '<iframe src=\\'' + url + '\\' style=\\'' +\n",
       "                        'width: 100%; height: 700px; border: 0;\\'>' +\n",
       "                        '</iframe><hr />Open in a: <a href=\\'' + url + '\\'' +\n",
       "                        ' target=\\'_blank\\'>new window</a>'\n",
       "    } else {\n",
       "        div.innerHTML = 'Something has gone wrong. Check notebook server for' +\n",
       "                        ' errors.';\n",
       "    }\n",
       "});\n",
       "})(this.parentElement, '/qiime2/redirect?location=/var/folders/60/239m7ccs0ksbbl7n3b9s1cqh0000gn/T/qiime2-archive-idpnxmh5')\" src=\"data:image/gif;base64,R0lGODlhAQABAIAAAP///wAAACH5BAEAAAAALAAAAAABAAEAAAICRAEAOw==\" /></div>"
      ],
      "text/plain": [
       "<visualization: Visualization uuid: ad96055f-3bfd-460a-aba6-291cdf12befe>"
      ]
     },
     "execution_count": 26,
     "metadata": {},
     "output_type": "execute_result"
    }
   ],
   "source": [
    "q2.Visualization.load('deblur-stats.qzv')"
   ]
  },
  {
   "cell_type": "code",
   "execution_count": 27,
   "id": "organic-arbitration",
   "metadata": {},
   "outputs": [
    {
     "name": "stdout",
     "output_type": "stream",
     "text": [
      "\u001b[32mSaved Visualization to: table-deblur.qzv\u001b[0m\n",
      "\u001b[0m\u001b[32mSaved Visualization to: rep-seqs-deblur.qzv\u001b[0m\n",
      "\u001b[0m"
     ]
    }
   ],
   "source": [
    "! qiime feature-table summarize \\\n",
    "    --i-table table-deblur.qza \\\n",
    "    --o-visualization table-deblur.qzv \\\n",
    "    --m-sample-metadata-file metadata.tsv\n",
    "\n",
    "! qiime feature-table tabulate-seqs \\\n",
    "    --i-data rep-seqs-deblur.qza \\\n",
    "    --o-visualization rep-seqs-deblur.qzv"
   ]
  },
  {
   "cell_type": "code",
   "execution_count": 28,
   "id": "proof-playback",
   "metadata": {
    "scrolled": true
   },
   "outputs": [
    {
     "data": {
      "text/html": [
       "<div><img onload=\"(function(div, url){\n",
       "if (typeof require !== 'undefined') {\n",
       "    var baseURL = require.toUrl('').split('/').slice(0, -2).join('/');\n",
       "} else {\n",
       "    var baseURL = JSON.parse(\n",
       "        document.getElementById('jupyter-config-data').innerHTML\n",
       "    ).baseUrl.slice(0, -1);\n",
       "}\n",
       "url = baseURL + url;\n",
       "fetch(url).then(function(res) {\n",
       "    if (res.status === 404) {\n",
       "        div.innerHTML = 'Install QIIME 2 Jupyter extension with:<br />' +\n",
       "                        '<code>jupyter serverextension enable --py qiime2' +\n",
       "                        ' --sys-prefix</code><br />then restart your server.' +\n",
       "                        '<br /><br />(Interactive output not available on ' +\n",
       "                        'static notebook viewer services like nbviewer.)';\n",
       "    } else if (res.status === 409) {\n",
       "        div.innerHTML = 'Visualization no longer in scope. Re-run this cell' +\n",
       "                        ' to see the visualization.';\n",
       "    } else if (res.ok) {\n",
       "        url = res.url;\n",
       "        div.innerHTML = '<iframe src=\\'' + url + '\\' style=\\'' +\n",
       "                        'width: 100%; height: 700px; border: 0;\\'>' +\n",
       "                        '</iframe><hr />Open in a: <a href=\\'' + url + '\\'' +\n",
       "                        ' target=\\'_blank\\'>new window</a>'\n",
       "    } else {\n",
       "        div.innerHTML = 'Something has gone wrong. Check notebook server for' +\n",
       "                        ' errors.';\n",
       "    }\n",
       "});\n",
       "})(this.parentElement, '/qiime2/redirect?location=/var/folders/60/239m7ccs0ksbbl7n3b9s1cqh0000gn/T/qiime2-archive-4c2saok9')\" src=\"data:image/gif;base64,R0lGODlhAQABAIAAAP///wAAACH5BAEAAAAALAAAAAABAAEAAAICRAEAOw==\" /></div>"
      ],
      "text/plain": [
       "<visualization: Visualization uuid: 923fd597-11d5-493c-b588-856713879ed4>"
      ]
     },
     "execution_count": 28,
     "metadata": {},
     "output_type": "execute_result"
    }
   ],
   "source": [
    "q2.Visualization.load('table-deblur.qzv')"
   ]
  },
  {
   "cell_type": "code",
   "execution_count": 29,
   "id": "naughty-cherry",
   "metadata": {
    "scrolled": true
   },
   "outputs": [
    {
     "data": {
      "text/html": [
       "<div><img onload=\"(function(div, url){\n",
       "if (typeof require !== 'undefined') {\n",
       "    var baseURL = require.toUrl('').split('/').slice(0, -2).join('/');\n",
       "} else {\n",
       "    var baseURL = JSON.parse(\n",
       "        document.getElementById('jupyter-config-data').innerHTML\n",
       "    ).baseUrl.slice(0, -1);\n",
       "}\n",
       "url = baseURL + url;\n",
       "fetch(url).then(function(res) {\n",
       "    if (res.status === 404) {\n",
       "        div.innerHTML = 'Install QIIME 2 Jupyter extension with:<br />' +\n",
       "                        '<code>jupyter serverextension enable --py qiime2' +\n",
       "                        ' --sys-prefix</code><br />then restart your server.' +\n",
       "                        '<br /><br />(Interactive output not available on ' +\n",
       "                        'static notebook viewer services like nbviewer.)';\n",
       "    } else if (res.status === 409) {\n",
       "        div.innerHTML = 'Visualization no longer in scope. Re-run this cell' +\n",
       "                        ' to see the visualization.';\n",
       "    } else if (res.ok) {\n",
       "        url = res.url;\n",
       "        div.innerHTML = '<iframe src=\\'' + url + '\\' style=\\'' +\n",
       "                        'width: 100%; height: 700px; border: 0;\\'>' +\n",
       "                        '</iframe><hr />Open in a: <a href=\\'' + url + '\\'' +\n",
       "                        ' target=\\'_blank\\'>new window</a>'\n",
       "    } else {\n",
       "        div.innerHTML = 'Something has gone wrong. Check notebook server for' +\n",
       "                        ' errors.';\n",
       "    }\n",
       "});\n",
       "})(this.parentElement, '/qiime2/redirect?location=/var/folders/60/239m7ccs0ksbbl7n3b9s1cqh0000gn/T/qiime2-archive-kcrcuvsf')\" src=\"data:image/gif;base64,R0lGODlhAQABAIAAAP///wAAACH5BAEAAAAALAAAAAABAAEAAAICRAEAOw==\" /></div>"
      ],
      "text/plain": [
       "<visualization: Visualization uuid: 62c94062-9683-42c8-b3a0-be831575fe49>"
      ]
     },
     "execution_count": 29,
     "metadata": {},
     "output_type": "execute_result"
    }
   ],
   "source": [
    "q2.Visualization.load('rep-seqs-deblur.qzv')"
   ]
  },
  {
   "cell_type": "code",
   "execution_count": null,
   "id": "mysterious-gregory",
   "metadata": {},
   "outputs": [],
   "source": []
  },
  {
   "cell_type": "code",
   "execution_count": null,
   "id": "active-reset",
   "metadata": {},
   "outputs": [],
   "source": []
  }
 ],
 "metadata": {
  "kernelspec": {
   "display_name": "Python 3.8.13 ('qiime2-2022.2')",
   "language": "python",
   "name": "python3"
  },
  "language_info": {
   "codemirror_mode": {
    "name": "ipython",
    "version": 3
   },
   "file_extension": ".py",
   "mimetype": "text/x-python",
   "name": "python",
   "nbconvert_exporter": "python",
   "pygments_lexer": "ipython3",
   "version": "3.8.13"
  },
  "vscode": {
   "interpreter": {
    "hash": "99c2c0bdbeab631c2c5098128e4320e01d67c00c0d71a325ac44ef28f49babee"
   }
  }
 },
 "nbformat": 4,
 "nbformat_minor": 5
}
