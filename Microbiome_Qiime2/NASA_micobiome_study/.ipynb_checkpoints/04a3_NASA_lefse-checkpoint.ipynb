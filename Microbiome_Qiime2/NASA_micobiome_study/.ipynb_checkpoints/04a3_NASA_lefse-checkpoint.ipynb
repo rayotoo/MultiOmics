{
 "cells": [
  {
   "cell_type": "markdown",
   "id": "e9b43459-618d-43db-9716-fa7ec63c57c1",
   "metadata": {},
   "source": [
    "# Run this notebook in qiime2-2023.2. Dokdo has been installed within this environment."
   ]
  },
  {
   "cell_type": "code",
   "execution_count": 1,
   "id": "bcda1686-0c83-41d9-9bf6-7af27d8730fa",
   "metadata": {},
   "outputs": [],
   "source": [
    "from os import getcwd, listdir, chdir, mkdir\n",
    "import pandas as pd\n",
    "import qiime2 as q2"
   ]
  },
  {
   "cell_type": "code",
   "execution_count": 2,
   "id": "91e62132-19a9-4e38-8db6-88064fa9d31a",
   "metadata": {},
   "outputs": [
    {
     "data": {
      "text/plain": [
       "'/mnt/e/NASA_microbiome'"
      ]
     },
     "execution_count": 2,
     "metadata": {},
     "output_type": "execute_result"
    }
   ],
   "source": [
    "getcwd()"
   ]
  },
  {
   "cell_type": "code",
   "execution_count": 3,
   "id": "8b8dddf2-3a37-4215-9425-53143bda83c3",
   "metadata": {},
   "outputs": [
    {
     "data": {
      "text/plain": [
       "'/mnt/e/NASA_microbiome/processed'"
      ]
     },
     "execution_count": 3,
     "metadata": {},
     "output_type": "execute_result"
    }
   ],
   "source": [
    "chdir('./processed')\n",
    "getcwd()"
   ]
  },
  {
   "cell_type": "markdown",
   "id": "a8ab3cee-ad36-47c4-bec0-28451dd69c79",
   "metadata": {},
   "source": [
    "# LEfSe Preparation with Dokdo\n",
    "# We'll prepare our files with dokdo for use in LEfSe-Galaxy. You can read the LEfSe paper for more details."
   ]
  },
  {
   "cell_type": "code",
   "execution_count": 4,
   "id": "76175f8e-c93f-4bbc-98a4-f1efac9f1116",
   "metadata": {
    "scrolled": true
   },
   "outputs": [
    {
     "name": "stdout",
     "output_type": "stream",
     "text": [
      "usage: dokdo prepare-lefse -t PATH -x PATH -m PATH -o PATH -c TEXT [-s TEXT]\n",
      "                           [-u TEXT] [-w TEXT] [-h]\n",
      "\n",
      "Create a TSV file which can be used as input for the LEfSe tool. This command\n",
      "1) collapses the input feature table at the genus level, 2) computes relative\n",
      "frequency of the features, 3) performs sample filtration if requested, 4)\n",
      "changes the format of feature names, 5) adds the relevant metadata as 'Class',\n",
      "'Subclass', and 'Subject', and 6) writes a text file which can be used as\n",
      "input for LEfSe.\n",
      "\n",
      "Arguments:\n",
      "  -t PATH, --table-file PATH\n",
      "                        Path to the table file with the\n",
      "                        'FeatureTable[Frequency]' type. [required]\n",
      "  -x PATH, --taxonomy-file PATH\n",
      "                        Path to the taxonomy file with the\n",
      "                        'FeatureData[Taxonomy]' type. [required]\n",
      "  -m PATH, --metadata-file PATH\n",
      "                        Path to the metadata file. [required]\n",
      "  -o PATH, --output-file PATH\n",
      "                        Path to the output file. [required]\n",
      "  -c TEXT, --class-col TEXT\n",
      "                        Metadata column used as 'Class' by LEfSe. [required]\n",
      "  -s TEXT, --subclass-col TEXT\n",
      "                        Metadata column used as 'Subclass' by LEfSe.\n",
      "  -u TEXT, --subject-col TEXT\n",
      "                        Metadata column used as 'Subject' by LEfSe.\n",
      "  -w TEXT, --where TEXT\n",
      "                        SQLite 'WHERE' clause specifying sample metadata\n",
      "                        criteria.\n",
      "  -h, --help            Show this help message and exit.\n",
      "\u001b[0m"
     ]
    }
   ],
   "source": [
    "! dokdo prepare-lefse --h"
   ]
  },
  {
   "cell_type": "code",
   "execution_count": null,
   "id": "59d13199-3092-4012-a2dc-80baf020f66b",
   "metadata": {},
   "outputs": [],
   "source": [
    "! dokdo prepare-lefse \\\n",
    "    -t ./table-no-ecmu-hits-abund.qza \\\n",
    "    -x ./taxonomy.qza \\\n",
    "    -m ./NASA-Metadata.tsv \\\n",
    "    -c TreatmentGroup \\\n",
    "    -u Dose-Gy \\\n",
    "    -o lefse_table.tsv"
   ]
  }
 ],
 "metadata": {
  "kernelspec": {
   "display_name": "Python [conda env:qiime2-amplicon-2024.2]",
   "language": "python",
   "name": "conda-env-qiime2-amplicon-2024.2-py"
  },
  "language_info": {
   "codemirror_mode": {
    "name": "ipython",
    "version": 3
   },
   "file_extension": ".py",
   "mimetype": "text/x-python",
   "name": "python",
   "nbconvert_exporter": "python",
   "pygments_lexer": "ipython3",
   "version": "3.8.15"
  }
 },
 "nbformat": 4,
 "nbformat_minor": 5
}
