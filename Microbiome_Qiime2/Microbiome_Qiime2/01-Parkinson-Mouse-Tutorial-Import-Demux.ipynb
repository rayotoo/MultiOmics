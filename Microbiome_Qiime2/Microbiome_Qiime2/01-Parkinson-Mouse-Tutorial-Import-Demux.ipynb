{
 "cells": [
  {
   "cell_type": "markdown",
   "id": "extended-bride",
   "metadata": {},
   "source": [
    "# Parkinson's Mouse Tutorial - Import & Demux\n",
    "\n",
    "Run this notebook in `qiime2-2021.11`.\n",
    "\n",
    "Well be working through the [pd-mouse tutorial](https://docs.qiime2.org/2021.11/tutorials/pd-mice/).\n",
    "\n",
    "*Note: did you run `jupyter serverextension enable --py qiime2 --sys-prefix` before getting here?*\n",
    "\n",
    "Also, see the [Jupyter Markdown documentation](https://jupyter.brynmawr.edu/services/public/dblank/Jupyter%20Notebook%20Users%20Manual.ipynb)."
   ]
  },
  {
   "cell_type": "code",
   "execution_count": 1,
   "id": "modified-poverty",
   "metadata": {},
   "outputs": [],
   "source": [
    "from os import getcwd, listdir, chdir, mkdir\n",
    "import qiime2 as q2"
   ]
  },
  {
   "cell_type": "code",
   "execution_count": 2,
   "id": "abroad-budget",
   "metadata": {},
   "outputs": [
    {
     "data": {
      "text/plain": [
       "'/home/raotoo/omics/MultiOmics/Microbiome_Qiime2'"
      ]
     },
     "execution_count": 2,
     "metadata": {},
     "output_type": "execute_result"
    }
   ],
   "source": [
    "getcwd()"
   ]
  },
  {
   "cell_type": "code",
   "execution_count": 3,
   "id": "sustained-gateway",
   "metadata": {
    "scrolled": true
   },
   "outputs": [
    {
     "data": {
      "text/plain": [
       "['01-Parkinson-Mouse-Tutorial-Import-Demux.ipynb',\n",
       " '.ipynb_checkpoints',\n",
       " '02-Parkinson-Mouse-Tutorial-Taxonomy-Phylogeny.ipynb',\n",
       " 'readme.md',\n",
       " '03-Parkinson-Mouse-Tutorial-Diversity.ipynb']"
      ]
     },
     "execution_count": 3,
     "metadata": {},
     "output_type": "execute_result"
    }
   ],
   "source": [
    "listdir()"
   ]
  },
  {
   "cell_type": "code",
   "execution_count": 14,
   "id": "initial-writing",
   "metadata": {},
   "outputs": [],
   "source": [
    "mkdir('../Microbiome_Qiime2/processed')"
   ]
  },
  {
   "cell_type": "code",
   "execution_count": 16,
   "id": "extra-spouse",
   "metadata": {},
   "outputs": [
    {
     "data": {
      "text/plain": [
       "'/home/raotoo/omics/MultiOmics/Microbiome_Qiime2/processed'"
      ]
     },
     "execution_count": 16,
     "metadata": {},
     "output_type": "execute_result"
    }
   ],
   "source": [
    "chdir('../Microbiome_Qiime2/processed')\n",
    "getcwd()"
   ]
  },
  {
   "cell_type": "markdown",
   "id": "plain-priest",
   "metadata": {},
   "source": [
    "## Download and View Metadata\n",
    "\n",
    "We'll use `wget` to download the metadata file, and then visualize it in onw of two ways:\n",
    " - [QIIME 2 View Website](https://view.qiime2.org/)\n",
    " - [QIIME 2 CLI / Utilities](https://docs.qiime2.org/2021.11/tutorials/utilities/)\n",
    " - [QIIME 2 API](https://docs.qiime2.org/2021.11/interfaces/artifact-api/)\n",
    " \n",
    " *Note: If you are running this notebook on the HPC, you may need to copy and paste these commands into the \"Grace Shell Access\" under the \"Clusters\" menu of the Grace HPC Portal page. Make sure you are downloading the files into the appropriate directory. Aalternatively, simply download the files to you computer and use Jupyter Lab to upload the files.*"
   ]
  },
  {
   "cell_type": "code",
   "execution_count": 17,
   "id": "interesting-perfume",
   "metadata": {
    "scrolled": true
   },
   "outputs": [
    {
     "name": "stdout",
     "output_type": "stream",
     "text": [
      "--2022-09-06 14:24:52--  https://data.qiime2.org/2021.11/tutorials/pd-mice/sample_metadata.tsv\n",
      "Resolving data.qiime2.org (data.qiime2.org)... 54.200.1.12\n",
      "Connecting to data.qiime2.org (data.qiime2.org)|54.200.1.12|:443... connected.\n",
      "HTTP request sent, awaiting response... 302 FOUND\n",
      "Location: https://docs.google.com/spreadsheets/d/e/2PACX-1vS6QgFSVey6INsa6vQLSPNGOyg18sck918nszO-cY7WE5llesrZtKhMIeI2xXY462S5-0EeW1H9MmNF/pub?gid=1509704122&single=true&output=tsv [following]\n",
      "--2022-09-06 14:24:53--  https://docs.google.com/spreadsheets/d/e/2PACX-1vS6QgFSVey6INsa6vQLSPNGOyg18sck918nszO-cY7WE5llesrZtKhMIeI2xXY462S5-0EeW1H9MmNF/pub?gid=1509704122&single=true&output=tsv\n",
      "Resolving docs.google.com (docs.google.com)... 142.251.32.206, 2607:f8b0:4000:80a::200e\n",
      "Connecting to docs.google.com (docs.google.com)|142.251.32.206|:443... connected.\n",
      "HTTP request sent, awaiting response... 307 Temporary Redirect\n",
      "Location: https://doc-0k-6o-sheets.googleusercontent.com/pub/3sm34aofsvmt5ehut1q6bddr3o/tk6d0lrrsemaeaa98mn73hg5bk/1662492290000/103995680502445084602/*/e@2PACX-1vS6QgFSVey6INsa6vQLSPNGOyg18sck918nszO-cY7WE5llesrZtKhMIeI2xXY462S5-0EeW1H9MmNF?gid=1509704122&single=true&output=tsv [following]\n",
      "Warning: wildcards not supported in HTTP.\n",
      "--2022-09-06 14:24:53--  https://doc-0k-6o-sheets.googleusercontent.com/pub/3sm34aofsvmt5ehut1q6bddr3o/tk6d0lrrsemaeaa98mn73hg5bk/1662492290000/103995680502445084602/*/e@2PACX-1vS6QgFSVey6INsa6vQLSPNGOyg18sck918nszO-cY7WE5llesrZtKhMIeI2xXY462S5-0EeW1H9MmNF?gid=1509704122&single=true&output=tsv\n",
      "Resolving doc-0k-6o-sheets.googleusercontent.com (doc-0k-6o-sheets.googleusercontent.com)... 142.251.32.193, 2607:f8b0:4000:80b::2001\n",
      "Connecting to doc-0k-6o-sheets.googleusercontent.com (doc-0k-6o-sheets.googleusercontent.com)|142.251.32.193|:443... connected.\n",
      "HTTP request sent, awaiting response... 200 OK\n",
      "Length: unspecified [text/tab-separated-values]\n",
      "Saving to: 'metadata.tsv'\n",
      "\n",
      "    [ <=>                                   ] 4,431       --.-K/s   in 0.002s  \n",
      "\n",
      "2022-09-06 14:24:54 (2.06 MB/s) - 'metadata.tsv' saved [4431]\n",
      "\n"
     ]
    }
   ],
   "source": [
    "# Download Metadata\n",
    "! wget \\\n",
    "    -O \"metadata.tsv\" \\\n",
    "    \"https://data.qiime2.org/2021.11/tutorials/pd-mice/sample_metadata.tsv\""
   ]
  },
  {
   "cell_type": "code",
   "execution_count": 18,
   "id": "valued-intersection",
   "metadata": {},
   "outputs": [
    {
     "name": "stdout",
     "output_type": "stream",
     "text": [
      "\u001b[1m              COLUMN NAME  TYPE       \u001b[0m\n",
      "\u001b[1m=========================  ===========\u001b[0m\n",
      "                  barcode  categorical\n",
      "                 mouse_id  categorical\n",
      "                 genotype  categorical\n",
      "                  cage_id  categorical\n",
      "                    donor  categorical\n",
      "             donor_status  categorical\n",
      "     days_post_transplant  numeric    \n",
      "genotype_and_donor_status  categorical\n",
      "\u001b[1m=========================  ===========\u001b[0m\n",
      "\u001b[1m                     IDS:  \u001b[0m48\n",
      "\u001b[1m                 COLUMNS:  \u001b[0m8\n"
     ]
    }
   ],
   "source": [
    "# Peek at the metadata\n",
    "! qiime tools inspect-metadata metadata.tsv"
   ]
  },
  {
   "cell_type": "markdown",
   "id": "sorted-infrared",
   "metadata": {},
   "source": [
    "**Make metadata Visualization**"
   ]
  },
  {
   "cell_type": "code",
   "execution_count": 19,
   "id": "golden-butter",
   "metadata": {},
   "outputs": [
    {
     "name": "stdout",
     "output_type": "stream",
     "text": [
      "\u001b[32mSaved Visualization to: metadata.qzv\u001b[0m\n",
      "\u001b[0m"
     ]
    }
   ],
   "source": [
    "! qiime metadata tabulate \\\n",
    "  --m-input-file metadata.tsv \\\n",
    "  --o-visualization metadata.qzv"
   ]
  },
  {
   "cell_type": "code",
   "execution_count": 20,
   "id": "massive-video",
   "metadata": {},
   "outputs": [
    {
     "name": "stdout",
     "output_type": "stream",
     "text": [
      "\u001b[32mUUID\u001b[0m:        43838896-9962-48e5-92b2-b3e6d0e69253\n",
      "\u001b[32mType\u001b[0m:        Visualization\n"
     ]
    }
   ],
   "source": [
    "! qiime tools peek metadata.qzv"
   ]
  },
  {
   "cell_type": "code",
   "execution_count": 21,
   "id": "coupled-preparation",
   "metadata": {
    "scrolled": true
   },
   "outputs": [
    {
     "data": {
      "text/html": [
       "<div><img onload=\"(function(div, url){\n",
       "if (typeof require !== 'undefined') {\n",
       "    var baseURL = require.toUrl('').split('/').slice(0, -2).join('/');\n",
       "} else {\n",
       "    var baseURL = JSON.parse(\n",
       "        document.getElementById('jupyter-config-data').innerHTML\n",
       "    ).baseUrl.slice(0, -1);\n",
       "}\n",
       "url = baseURL + url;\n",
       "fetch(url).then(function(res) {\n",
       "    if (res.status === 404) {\n",
       "        div.innerHTML = 'Install QIIME 2 Jupyter extension with:<br />' +\n",
       "                        '<code>jupyter serverextension enable --py qiime2' +\n",
       "                        ' --sys-prefix</code><br />then restart your server.' +\n",
       "                        '<br /><br />(Interactive output not available on ' +\n",
       "                        'static notebook viewer services like nbviewer.)';\n",
       "    } else if (res.status === 409) {\n",
       "        div.innerHTML = 'Visualization no longer in scope. Re-run this cell' +\n",
       "                        ' to see the visualization.';\n",
       "    } else if (res.ok) {\n",
       "        url = res.url;\n",
       "        div.innerHTML = '<iframe src=\\'' + url + '\\' style=\\'' +\n",
       "                        'width: 100%; height: 700px; border: 0;\\'>' +\n",
       "                        '</iframe><hr />Open in a: <a href=\\'' + url + '\\'' +\n",
       "                        ' target=\\'_blank\\'>new window</a>'\n",
       "    } else {\n",
       "        div.innerHTML = 'Something has gone wrong. Check notebook server for' +\n",
       "                        ' errors.';\n",
       "    }\n",
       "});\n",
       "})(this.parentElement, '/qiime2/redirect?location=/tmp/qiime2-archive-71fl2xg4')\" src=\"data:image/gif;base64,R0lGODlhAQABAIAAAP///wAAACH5BAEAAAAALAAAAAABAAEAAAICRAEAOw==\" /></div>"
      ],
      "text/plain": [
       "<visualization: Visualization uuid: 43838896-9962-48e5-92b2-b3e6d0e69253>"
      ]
     },
     "execution_count": 21,
     "metadata": {},
     "output_type": "execute_result"
    }
   ],
   "source": [
    "# Visualize via API\n",
    "q2.Visualization.load('metadata.qzv')"
   ]
  },
  {
   "cell_type": "markdown",
   "id": "bronze-lottery",
   "metadata": {},
   "source": [
    "## Import data into QIIME 2\n",
    "\n",
    "We will import:\n",
    " - [Manifest File](https://docs.qiime2.org/2021.11/tutorials/importing/#fastq-manifest-formats)\n",
    " - Demultiplexed Sequences (contrast to Multiplexed Sequences)\n",
    " \n",
    "See the [Importing Data Tutorial](https://docs.qiime2.org/2021.11/tutorials/importing/#importing-data) for more information."
   ]
  },
  {
   "cell_type": "code",
   "execution_count": 23,
   "id": "acting-thirty",
   "metadata": {},
   "outputs": [
    {
     "name": "stdout",
     "output_type": "stream",
     "text": [
      "--2022-09-06 14:28:48--  https://data.qiime2.org/2021.11/tutorials/pd-mice/manifest\n",
      "Resolving data.qiime2.org (data.qiime2.org)... 54.200.1.12\n",
      "Connecting to data.qiime2.org (data.qiime2.org)|54.200.1.12|:443... connected.\n",
      "HTTP request sent, awaiting response... 302 FOUND\n",
      "Location: https://s3-us-west-2.amazonaws.com/qiime2-data/2021.11/tutorials/pd-mice/manifest [following]\n",
      "--2022-09-06 14:28:49--  https://s3-us-west-2.amazonaws.com/qiime2-data/2021.11/tutorials/pd-mice/manifest\n",
      "Resolving s3-us-west-2.amazonaws.com (s3-us-west-2.amazonaws.com)... 52.218.220.8\n",
      "Connecting to s3-us-west-2.amazonaws.com (s3-us-west-2.amazonaws.com)|52.218.220.8|:443... connected.\n",
      "HTTP request sent, awaiting response... 200 OK\n",
      "Length: 4640 (4.5K) [binary/octet-stream]\n",
      "Saving to: 'manifest.tsv'\n",
      "\n",
      "100%[======================================>] 4,640       --.-K/s   in 0s      \n",
      "\n",
      "2022-09-06 14:28:49 (17.6 MB/s) - 'manifest.tsv' saved [4640/4640]\n",
      "\n"
     ]
    }
   ],
   "source": [
    "# get manifest file\n",
    "!wget \\\n",
    "  -O \"manifest.tsv\" \\\n",
    "  \"https://data.qiime2.org/2021.11/tutorials/pd-mice/manifest\""
   ]
  },
  {
   "cell_type": "code",
   "execution_count": 24,
   "id": "outdoor-patient",
   "metadata": {
    "scrolled": true
   },
   "outputs": [
    {
     "name": "stdout",
     "output_type": "stream",
     "text": [
      "--2022-09-06 14:28:52--  https://data.qiime2.org/2021.11/tutorials/pd-mice/demultiplexed_seqs.zip\n",
      "Resolving data.qiime2.org (data.qiime2.org)... 54.200.1.12\n",
      "Connecting to data.qiime2.org (data.qiime2.org)|54.200.1.12|:443... connected.\n",
      "HTTP request sent, awaiting response... 302 FOUND\n",
      "Location: https://s3-us-west-2.amazonaws.com/qiime2-data/2021.11/tutorials/pd-mice/demultiplexed_seqs.zip [following]\n",
      "--2022-09-06 14:28:52--  https://s3-us-west-2.amazonaws.com/qiime2-data/2021.11/tutorials/pd-mice/demultiplexed_seqs.zip\n",
      "Resolving s3-us-west-2.amazonaws.com (s3-us-west-2.amazonaws.com)... 52.218.220.8\n",
      "Connecting to s3-us-west-2.amazonaws.com (s3-us-west-2.amazonaws.com)|52.218.220.8|:443... connected.\n",
      "HTTP request sent, awaiting response... 200 OK\n",
      "Length: 21508775 (21M) [application/zip]\n",
      "Saving to: 'demultiplexed_seqs.zip'\n",
      "\n",
      "100%[======================================>] 21,508,775  21.9MB/s   in 0.9s   \n",
      "\n",
      "2022-09-06 14:28:53 (21.9 MB/s) - 'demultiplexed_seqs.zip' saved [21508775/21508775]\n",
      "\n"
     ]
    }
   ],
   "source": [
    "# get demultiplexed sequences\n",
    "!wget \\\n",
    "  -O \"demultiplexed_seqs.zip\" \\\n",
    "  \"https://data.qiime2.org/2021.11/tutorials/pd-mice/demultiplexed_seqs.zip\""
   ]
  },
  {
   "cell_type": "code",
   "execution_count": 25,
   "id": "genetic-philosophy",
   "metadata": {
    "scrolled": true
   },
   "outputs": [
    {
     "name": "stdout",
     "output_type": "stream",
     "text": [
      "Archive:  demultiplexed_seqs.zip\n",
      "   creating: demultiplexed_seqs/\n",
      "  inflating: demultiplexed_seqs/10483.recip.539.ASO.PD4.D7_4_L001_R1_001.fastq.gz  \n",
      "  inflating: demultiplexed_seqs/10483.recip.539.ASO.PD4.D14_5_L001_R1_001.fastq.gz  \n",
      "  inflating: demultiplexed_seqs/10483.recip.413.WT.HC2.D7_12_L001_R1_001.fastq.gz  \n",
      "  inflating: demultiplexed_seqs/10483.recip.220.WT.OB1.D7_30_L001_R1_001.fastq.gz  \n",
      "  inflating: demultiplexed_seqs/10483.recip.458.ASO.HC3.D49_2_L001_R1_001.fastq.gz  \n",
      "  inflating: demultiplexed_seqs/10483.recip.538.WT.PD4.D21_4_L001_R1_001.fastq.gz  \n",
      "  inflating: demultiplexed_seqs/10483.recip.459.WT.HC3.D14_2_L001_R1_001.fastq.gz  \n",
      "  inflating: demultiplexed_seqs/10483.recip.461.ASO.HC3.D7_20_L001_R1_001.fastq.gz  \n",
      "  inflating: demultiplexed_seqs/10483.recip.465.ASO.PD3.D14_16_L001_R1_001.fastq.gz  \n",
      "  inflating: demultiplexed_seqs/10483.recip.461.ASO.HC3.D21_11_L001_R1_001.fastq.gz  \n",
      "  inflating: demultiplexed_seqs/10483.recip.540.ASO.HC4.D7_7_L001_R1_001.fastq.gz  \n",
      "  inflating: demultiplexed_seqs/10483.recip.465.ASO.PD3.D7_0_L001_R1_001.fastq.gz  \n",
      "  inflating: demultiplexed_seqs/10483.recip.400.ASO.HC2.D14_32_L001_R1_001.fastq.gz  \n",
      "  inflating: demultiplexed_seqs/10483.recip.389.WT.HC2.D21_1_L001_R1_001.fastq.gz  \n",
      "  inflating: demultiplexed_seqs/10483.recip.536.ASO.PD4.D49_1_L001_R1_001.fastq.gz  \n",
      "  inflating: demultiplexed_seqs/10483.recip.411.ASO.HC2.D49_6_L001_R1_001.fastq.gz  \n",
      "  inflating: demultiplexed_seqs/10483.recip.463.WT.PD3.D7_3_L001_R1_001.fastq.gz  \n",
      "  inflating: demultiplexed_seqs/10483.recip.412.ASO.HC2.D7_24_L001_R1_001.fastq.gz  \n",
      "  inflating: demultiplexed_seqs/10483.recip.463.WT.PD3.D14_25_L001_R1_001.fastq.gz  \n",
      "  inflating: demultiplexed_seqs/10483.recip.391.ASO.PD2.D7_15_L001_R1_001.fastq.gz  \n",
      "  inflating: demultiplexed_seqs/10483.recip.462.WT.PD3.D49_8_L001_R1_001.fastq.gz  \n",
      "  inflating: demultiplexed_seqs/10483.recip.456.ASO.HC3.D49_28_L001_R1_001.fastq.gz  \n",
      "  inflating: demultiplexed_seqs/10483.recip.460.WT.HC3.D7_14_L001_R1_001.fastq.gz  \n",
      "  inflating: demultiplexed_seqs/10483.recip.537.WT.PD4.D21_45_L001_R1_001.fastq.gz  \n",
      "  inflating: demultiplexed_seqs/10483.recip.467.WT.HC3.D49.a_0_L001_R1_001.fastq.gz  \n",
      "  inflating: demultiplexed_seqs/10483.recip.458.ASO.HC3.D21_10_L001_R1_001.fastq.gz  \n",
      "  inflating: demultiplexed_seqs/10483.recip.460.WT.HC3.D21_0_L001_R1_001.fastq.gz  \n",
      "  inflating: demultiplexed_seqs/10483.recip.412.ASO.HC2.D14_13_L001_R1_001.fastq.gz  \n",
      "  inflating: demultiplexed_seqs/10483.recip.391.ASO.PD2.D21_1_L001_R1_001.fastq.gz  \n",
      "  inflating: demultiplexed_seqs/10483.recip.460.WT.HC3.D14_11_L001_R1_001.fastq.gz  \n",
      "  inflating: demultiplexed_seqs/10483.recip.403.ASO.PD2.D21_31_L001_R1_001.fastq.gz  \n",
      "  inflating: demultiplexed_seqs/10483.recip.401.ASO.HC2.D7_22_L001_R1_001.fastq.gz  \n",
      "  inflating: demultiplexed_seqs/10483.recip.462.WT.PD3.D21_4_L001_R1_001.fastq.gz  \n",
      "  inflating: demultiplexed_seqs/10483.recip.462.WT.PD3.D14_18_L001_R1_001.fastq.gz  \n",
      "  inflating: demultiplexed_seqs/10483.recip.467.WT.HC3.D49.b_26_L001_R1_001.fastq.gz  \n",
      "  inflating: demultiplexed_seqs/10483.recip.290.ASO.OB2.D1_27_L001_R1_001.fastq.gz  \n",
      "  inflating: demultiplexed_seqs/10483.recip.466.ASO.PD3.D7_23_L001_R1_001.fastq.gz  \n",
      "  inflating: demultiplexed_seqs/10483.recip.462.WT.PD3.D7_3_L001_R1_001.fastq.gz  \n",
      "  inflating: demultiplexed_seqs/10483.recip.391.ASO.PD2.D14_5_L001_R1_001.fastq.gz  \n",
      "  inflating: demultiplexed_seqs/recip.411.ASO.HC2.D21_0_L001_R1_001.fastq.gz  \n",
      "  inflating: demultiplexed_seqs/10483.recip.460.WT.HC3.D49_19_L001_R1_001.fastq.gz  \n",
      "  inflating: demultiplexed_seqs/10483.recip.461.ASO.HC3.D49_29_L001_R1_001.fastq.gz  \n",
      "  inflating: demultiplexed_seqs/10483.recip.459.WT.HC3.D49_3_L001_R1_001.fastq.gz  \n",
      "  inflating: demultiplexed_seqs/10483.recip.411.ASO.HC2.D14_9_L001_R1_001.fastq.gz  \n",
      "  inflating: demultiplexed_seqs/10483.recip.464.WT.PD3.D14_17_L001_R1_001.fastq.gz  \n",
      "  inflating: demultiplexed_seqs/10483.recip.463.WT.PD3.D21_19_L001_R1_001.fastq.gz  \n",
      "  inflating: demultiplexed_seqs/10483.recip.459.WT.HC3.D21_21_L001_R1_001.fastq.gz  \n",
      "  inflating: demultiplexed_seqs/10483.recip.540.ASO.HC4.D14_2_L001_R1_001.fastq.gz  \n"
     ]
    }
   ],
   "source": [
    "# unzip sequences\n",
    "! unzip demultiplexed_seqs.zip"
   ]
  },
  {
   "cell_type": "code",
   "execution_count": 26,
   "id": "recovered-material",
   "metadata": {
    "scrolled": true
   },
   "outputs": [
    {
     "name": "stdout",
     "output_type": "stream",
     "text": [
      "sample-id\tabsolute-filepath\n",
      "recip.220.WT.OB1.D7\t$PWD/demultiplexed_seqs/10483.recip.220.WT.OB1.D7_30_L001_R1_001.fastq.gz\n",
      "recip.290.ASO.OB2.D1\t$PWD/demultiplexed_seqs/10483.recip.290.ASO.OB2.D1_27_L001_R1_001.fastq.gz\n",
      "recip.389.WT.HC2.D21\t$PWD/demultiplexed_seqs/10483.recip.389.WT.HC2.D21_1_L001_R1_001.fastq.gz\n",
      "recip.391.ASO.PD2.D14\t$PWD/demultiplexed_seqs/10483.recip.391.ASO.PD2.D14_5_L001_R1_001.fastq.gz\n",
      "recip.391.ASO.PD2.D21\t$PWD/demultiplexed_seqs/10483.recip.391.ASO.PD2.D21_1_L001_R1_001.fastq.gz\n",
      "recip.391.ASO.PD2.D7\t$PWD/demultiplexed_seqs/10483.recip.391.ASO.PD2.D7_15_L001_R1_001.fastq.gz\n",
      "recip.400.ASO.HC2.D14\t$PWD/demultiplexed_seqs/10483.recip.400.ASO.HC2.D14_32_L001_R1_001.fastq.gz\n",
      "recip.401.ASO.HC2.D7\t$PWD/demultiplexed_seqs/10483.recip.401.ASO.HC2.D7_22_L001_R1_001.fastq.gz\n",
      "recip.403.ASO.PD2.D21\t$PWD/demultiplexed_seqs/10483.recip.403.ASO.PD2.D21_31_L001_R1_001.fastq.gz\n"
     ]
    }
   ],
   "source": [
    "! head manifest.tsv"
   ]
  },
  {
   "cell_type": "markdown",
   "id": "south-niagara",
   "metadata": {},
   "source": [
    "**Import and Summarize Data**"
   ]
  },
  {
   "cell_type": "code",
   "execution_count": 27,
   "id": "ongoing-wages",
   "metadata": {},
   "outputs": [
    {
     "name": "stdout",
     "output_type": "stream",
     "text": [
      "\u001b[32mImported ./manifest.tsv as SingleEndFastqManifestPhred33V2 to ./demux_seqs.qza\u001b[0m\n",
      "\u001b[0m"
     ]
    }
   ],
   "source": [
    "! qiime tools import \\\n",
    "  --type \"SampleData[SequencesWithQuality]\" \\\n",
    "  --input-format SingleEndFastqManifestPhred33V2 \\\n",
    "  --input-path ./manifest.tsv \\\n",
    "  --output-path ./demux_seqs.qza"
   ]
  },
  {
   "cell_type": "code",
   "execution_count": 28,
   "id": "marine-handy",
   "metadata": {},
   "outputs": [
    {
     "name": "stdout",
     "output_type": "stream",
     "text": [
      "\u001b[32mSaved Visualization to: ./demux_seqs.qzv\u001b[0m\n",
      "\u001b[0m"
     ]
    }
   ],
   "source": [
    "! qiime demux summarize \\\n",
    "  --i-data ./demux_seqs.qza \\\n",
    "  --o-visualization ./demux_seqs.qzv"
   ]
  },
  {
   "cell_type": "code",
   "execution_count": 29,
   "id": "defined-disney",
   "metadata": {
    "scrolled": true
   },
   "outputs": [
    {
     "data": {
      "text/html": [
       "<div><img onload=\"(function(div, url){\n",
       "if (typeof require !== 'undefined') {\n",
       "    var baseURL = require.toUrl('').split('/').slice(0, -2).join('/');\n",
       "} else {\n",
       "    var baseURL = JSON.parse(\n",
       "        document.getElementById('jupyter-config-data').innerHTML\n",
       "    ).baseUrl.slice(0, -1);\n",
       "}\n",
       "url = baseURL + url;\n",
       "fetch(url).then(function(res) {\n",
       "    if (res.status === 404) {\n",
       "        div.innerHTML = 'Install QIIME 2 Jupyter extension with:<br />' +\n",
       "                        '<code>jupyter serverextension enable --py qiime2' +\n",
       "                        ' --sys-prefix</code><br />then restart your server.' +\n",
       "                        '<br /><br />(Interactive output not available on ' +\n",
       "                        'static notebook viewer services like nbviewer.)';\n",
       "    } else if (res.status === 409) {\n",
       "        div.innerHTML = 'Visualization no longer in scope. Re-run this cell' +\n",
       "                        ' to see the visualization.';\n",
       "    } else if (res.ok) {\n",
       "        url = res.url;\n",
       "        div.innerHTML = '<iframe src=\\'' + url + '\\' style=\\'' +\n",
       "                        'width: 100%; height: 700px; border: 0;\\'>' +\n",
       "                        '</iframe><hr />Open in a: <a href=\\'' + url + '\\'' +\n",
       "                        ' target=\\'_blank\\'>new window</a>'\n",
       "    } else {\n",
       "        div.innerHTML = 'Something has gone wrong. Check notebook server for' +\n",
       "                        ' errors.';\n",
       "    }\n",
       "});\n",
       "})(this.parentElement, '/qiime2/redirect?location=/tmp/qiime2-archive-mzj3ul77')\" src=\"data:image/gif;base64,R0lGODlhAQABAIAAAP///wAAACH5BAEAAAAALAAAAAABAAEAAAICRAEAOw==\" /></div>"
      ],
      "text/plain": [
       "<visualization: Visualization uuid: a89d0559-c973-48c0-afbe-8a09f5513265>"
      ]
     },
     "execution_count": 29,
     "metadata": {},
     "output_type": "execute_result"
    }
   ],
   "source": [
    "q2.Visualization.load('demux_seqs.qzv')"
   ]
  },
  {
   "cell_type": "markdown",
   "id": "preliminary-railway",
   "metadata": {},
   "source": [
    "## Denoising Sequence data\n",
    "\n",
    " - DADA2 approach as outlined in the tutorial.\n",
    " - Alternate trimming w/ DADA2.\n",
    " - Using deblur w/ default trimming."
   ]
  },
  {
   "cell_type": "markdown",
   "id": "engaged-riverside",
   "metadata": {},
   "source": [
    "### Default"
   ]
  },
  {
   "cell_type": "code",
   "execution_count": 30,
   "id": "atlantic-czech",
   "metadata": {},
   "outputs": [
    {
     "data": {
      "text/plain": [
       "'/home/raotoo/omics/MultiOmics/Microbiome_Qiime2/processed'"
      ]
     },
     "execution_count": 30,
     "metadata": {},
     "output_type": "execute_result"
    }
   ],
   "source": [
    "getcwd()"
   ]
  },
  {
   "cell_type": "code",
   "execution_count": 31,
   "id": "earned-words",
   "metadata": {},
   "outputs": [
    {
     "name": "stdout",
     "output_type": "stream",
     "text": [
      "Running external command line application(s). This may print messages to stdout and/or stderr.\n",
      "The command(s) being run are below. These commands cannot be manually re-run as they will depend on temporary files that no longer exist.\n",
      "\n",
      "Command: run_dada_single.R /tmp/qiime2-archive-146a342y/5e2c35e8-e01c-45db-91b3-ea249c16a24f/data /tmp/tmptb5im1yi/output.tsv.biom /tmp/tmptb5im1yi/track.tsv /tmp/tmptb5im1yi 150 0 2.0 2 Inf independent consensus 1.0 8 1000000 NULL 16\n",
      "\n",
      "During startup - Warning messages:\n",
      "1: Setting LC_CTYPE failed, using \"C\" \n",
      "2: Setting LC_COLLATE failed, using \"C\" \n",
      "3: Setting LC_TIME failed, using \"C\" \n",
      "4: Setting LC_MESSAGES failed, using \"C\" \n",
      "5: Setting LC_MONETARY failed, using \"C\" \n",
      "6: Setting LC_PAPER failed, using \"C\" \n",
      "7: Setting LC_MEASUREMENT failed, using \"C\" \n",
      "R version 4.1.2 (2021-11-01) \n",
      "Loading required package: Rcpp\n",
      "DADA2: 1.22.0 / Rcpp: 1.0.8 / RcppParallel: 5.1.5 \n",
      "1) Filtering ................................................\n",
      "2) Learning Error Rates\n",
      "35926200 total bases in 239508 reads from 48 samples will be used for learning the error rates.\n",
      "3) Denoise samples ................................................\n",
      "4) Remove chimeras (method = consensus)\n",
      "5) Report read numbers through the pipeline\n",
      "6) Write output\n",
      "\u001b[32mSaved FeatureTable[Frequency] to: ./dada2_table.qza\u001b[0m\n",
      "\u001b[32mSaved FeatureData[Sequence] to: ./dada2_rep_set.qza\u001b[0m\n",
      "\u001b[32mSaved SampleData[DADA2Stats] to: ./dada2_stats.qza\u001b[0m\n",
      "\u001b[0m"
     ]
    }
   ],
   "source": [
    "! qiime dada2 denoise-single \\\n",
    "    --i-demultiplexed-seqs ./demux_seqs.qza \\\n",
    "    --p-trunc-len 150 \\\n",
    "    --p-n-threads 8 \\\n",
    "    --o-table ./dada2_table.qza \\\n",
    "    --o-representative-sequences ./dada2_rep_set.qza \\\n",
    "    --o-denoising-stats ./dada2_stats.qza \\\n",
    "    --verbose"
   ]
  },
  {
   "cell_type": "code",
   "execution_count": 32,
   "id": "successful-discovery",
   "metadata": {},
   "outputs": [
    {
     "name": "stdout",
     "output_type": "stream",
     "text": [
      "\u001b[32mSaved Visualization to: ./dada2_stats.qzv\u001b[0m\n",
      "\u001b[0m"
     ]
    }
   ],
   "source": [
    "# summarize denoising stats\n",
    "! qiime metadata tabulate \\\n",
    "    --m-input-file ./dada2_stats.qza  \\\n",
    "    --o-visualization ./dada2_stats.qzv"
   ]
  },
  {
   "cell_type": "code",
   "execution_count": 33,
   "id": "bronze-session",
   "metadata": {
    "scrolled": true
   },
   "outputs": [
    {
     "data": {
      "text/html": [
       "<div><img onload=\"(function(div, url){\n",
       "if (typeof require !== 'undefined') {\n",
       "    var baseURL = require.toUrl('').split('/').slice(0, -2).join('/');\n",
       "} else {\n",
       "    var baseURL = JSON.parse(\n",
       "        document.getElementById('jupyter-config-data').innerHTML\n",
       "    ).baseUrl.slice(0, -1);\n",
       "}\n",
       "url = baseURL + url;\n",
       "fetch(url).then(function(res) {\n",
       "    if (res.status === 404) {\n",
       "        div.innerHTML = 'Install QIIME 2 Jupyter extension with:<br />' +\n",
       "                        '<code>jupyter serverextension enable --py qiime2' +\n",
       "                        ' --sys-prefix</code><br />then restart your server.' +\n",
       "                        '<br /><br />(Interactive output not available on ' +\n",
       "                        'static notebook viewer services like nbviewer.)';\n",
       "    } else if (res.status === 409) {\n",
       "        div.innerHTML = 'Visualization no longer in scope. Re-run this cell' +\n",
       "                        ' to see the visualization.';\n",
       "    } else if (res.ok) {\n",
       "        url = res.url;\n",
       "        div.innerHTML = '<iframe src=\\'' + url + '\\' style=\\'' +\n",
       "                        'width: 100%; height: 700px; border: 0;\\'>' +\n",
       "                        '</iframe><hr />Open in a: <a href=\\'' + url + '\\'' +\n",
       "                        ' target=\\'_blank\\'>new window</a>'\n",
       "    } else {\n",
       "        div.innerHTML = 'Something has gone wrong. Check notebook server for' +\n",
       "                        ' errors.';\n",
       "    }\n",
       "});\n",
       "})(this.parentElement, '/qiime2/redirect?location=/tmp/qiime2-archive-i49eq8sk')\" src=\"data:image/gif;base64,R0lGODlhAQABAIAAAP///wAAACH5BAEAAAAALAAAAAABAAEAAAICRAEAOw==\" /></div>"
      ],
      "text/plain": [
       "<visualization: Visualization uuid: d1f81e32-b9f9-41c5-a67a-577f147be01c>"
      ]
     },
     "execution_count": 33,
     "metadata": {},
     "output_type": "execute_result"
    }
   ],
   "source": [
    "q2.Visualization.load('dada2_stats.qzv')"
   ]
  },
  {
   "cell_type": "code",
   "execution_count": 34,
   "id": "primary-duncan",
   "metadata": {},
   "outputs": [
    {
     "name": "stdout",
     "output_type": "stream",
     "text": [
      "\u001b[32mSaved Visualization to: ./dada2_table.qzv\u001b[0m\n",
      "\u001b[0m"
     ]
    }
   ],
   "source": [
    "# summarize ESV table\n",
    "! qiime feature-table summarize \\\n",
    "    --i-table ./dada2_table.qza \\\n",
    "    --m-sample-metadata-file ./metadata.tsv \\\n",
    "    --o-visualization ./dada2_table.qzv"
   ]
  },
  {
   "cell_type": "code",
   "execution_count": 35,
   "id": "norwegian-prime",
   "metadata": {
    "scrolled": true
   },
   "outputs": [
    {
     "data": {
      "text/html": [
       "<div><img onload=\"(function(div, url){\n",
       "if (typeof require !== 'undefined') {\n",
       "    var baseURL = require.toUrl('').split('/').slice(0, -2).join('/');\n",
       "} else {\n",
       "    var baseURL = JSON.parse(\n",
       "        document.getElementById('jupyter-config-data').innerHTML\n",
       "    ).baseUrl.slice(0, -1);\n",
       "}\n",
       "url = baseURL + url;\n",
       "fetch(url).then(function(res) {\n",
       "    if (res.status === 404) {\n",
       "        div.innerHTML = 'Install QIIME 2 Jupyter extension with:<br />' +\n",
       "                        '<code>jupyter serverextension enable --py qiime2' +\n",
       "                        ' --sys-prefix</code><br />then restart your server.' +\n",
       "                        '<br /><br />(Interactive output not available on ' +\n",
       "                        'static notebook viewer services like nbviewer.)';\n",
       "    } else if (res.status === 409) {\n",
       "        div.innerHTML = 'Visualization no longer in scope. Re-run this cell' +\n",
       "                        ' to see the visualization.';\n",
       "    } else if (res.ok) {\n",
       "        url = res.url;\n",
       "        div.innerHTML = '<iframe src=\\'' + url + '\\' style=\\'' +\n",
       "                        'width: 100%; height: 700px; border: 0;\\'>' +\n",
       "                        '</iframe><hr />Open in a: <a href=\\'' + url + '\\'' +\n",
       "                        ' target=\\'_blank\\'>new window</a>'\n",
       "    } else {\n",
       "        div.innerHTML = 'Something has gone wrong. Check notebook server for' +\n",
       "                        ' errors.';\n",
       "    }\n",
       "});\n",
       "})(this.parentElement, '/qiime2/redirect?location=/tmp/qiime2-archive-9_zdaa6g')\" src=\"data:image/gif;base64,R0lGODlhAQABAIAAAP///wAAACH5BAEAAAAALAAAAAABAAEAAAICRAEAOw==\" /></div>"
      ],
      "text/plain": [
       "<visualization: Visualization uuid: 8f604864-8825-40f9-a5d1-e6f9d14fa432>"
      ]
     },
     "execution_count": 35,
     "metadata": {},
     "output_type": "execute_result"
    }
   ],
   "source": [
    "q2.Visualization.load('dada2_table.qzv')"
   ]
  },
  {
   "cell_type": "code",
   "execution_count": 36,
   "id": "accessory-solution",
   "metadata": {},
   "outputs": [
    {
     "name": "stdout",
     "output_type": "stream",
     "text": [
      "\u001b[32mSaved Visualization to: ./dada2_rep_set.qzv\u001b[0m\n",
      "\u001b[0m"
     ]
    }
   ],
   "source": [
    "! qiime feature-table tabulate-seqs \\\n",
    "    --i-data ./dada2_rep_set.qza \\\n",
    "    --o-visualization ./dada2_rep_set.qzv"
   ]
  },
  {
   "cell_type": "code",
   "execution_count": null,
   "id": "brave-arthur",
   "metadata": {
    "scrolled": true
   },
   "outputs": [],
   "source": [
    "q2.Visualization.load('dada2_rep_set.qzv')"
   ]
  },
  {
   "cell_type": "markdown",
   "id": "veterinary-device",
   "metadata": {},
   "source": [
    "### Alternate Trimming w/ DADA2"
   ]
  },
  {
   "cell_type": "code",
   "execution_count": null,
   "id": "secret-compound",
   "metadata": {},
   "outputs": [],
   "source": [
    "! qiime dada2 denoise-single \\\n",
    "    --i-demultiplexed-seqs ./demux_seqs.qza \\\n",
    "    --p-trim-left 30 \\\n",
    "    --p-trunc-len 130 \\\n",
    "    --o-table ./dada2_table_alt.qza \\\n",
    "    --o-representative-sequences ./dada2_rep_set_alt.qza \\\n",
    "    --o-denoising-stats ./dada2_stats_alt.qza \\\n",
    "    --verbose"
   ]
  },
  {
   "cell_type": "code",
   "execution_count": null,
   "id": "external-probability",
   "metadata": {},
   "outputs": [],
   "source": [
    "# summarize denoising stats\n",
    "! qiime metadata tabulate \\\n",
    "    --m-input-file ./dada2_stats_alt.qza  \\\n",
    "    --o-visualization ./dada2_stats_alt.qzv"
   ]
  },
  {
   "cell_type": "code",
   "execution_count": null,
   "id": "spoken-admission",
   "metadata": {},
   "outputs": [],
   "source": [
    "q2.Visualization.load('dada2_stats_alt.qzv')"
   ]
  },
  {
   "cell_type": "code",
   "execution_count": null,
   "id": "billion-audit",
   "metadata": {},
   "outputs": [],
   "source": [
    "# summarize ESV table\n",
    "! qiime feature-table summarize \\\n",
    "    --i-table ./dada2_table_alt.qza \\\n",
    "    --m-sample-metadata-file ./metadata.tsv \\\n",
    "    --o-visualization ./dada2_table_alt.qzv"
   ]
  },
  {
   "cell_type": "code",
   "execution_count": null,
   "id": "phantom-competition",
   "metadata": {},
   "outputs": [],
   "source": [
    "q2.Visualization.load('dada2_table_alt.qzv')"
   ]
  },
  {
   "cell_type": "markdown",
   "id": "driving-concentration",
   "metadata": {},
   "source": [
    "### deblur w/ default"
   ]
  },
  {
   "cell_type": "code",
   "execution_count": null,
   "id": "proper-private",
   "metadata": {},
   "outputs": [],
   "source": [
    "! qiime quality-filter q-score \\\n",
    "    --i-demux ./demux_seqs.qza \\\n",
    "    --o-filtered-sequences demux-seqs-deblur.qza \\\n",
    "    --o-filter-stats demux-deblur-stats.qza"
   ]
  },
  {
   "cell_type": "code",
   "execution_count": null,
   "id": "contemporary-share",
   "metadata": {},
   "outputs": [],
   "source": [
    "# Defaults to Greengenes. \n",
    "#    If you want to use SILVA or another ref db, then use:\n",
    "#    `qiime deblur denoise-other`\n",
    "#    silva files are located here: https://docs.qiime2.org/2021.11/data-resources/\n",
    "! qiime deblur denoise-16S \\\n",
    "    --i-demultiplexed-seqs demux-seqs-deblur.qza \\\n",
    "    --p-trim-length 150 \\\n",
    "    --o-representative-sequences rep-seqs-deblur.qza \\\n",
    "    --o-table table-deblur.qza \\\n",
    "    --p-sample-stats \\\n",
    "    --o-stats deblur-stats.qza"
   ]
  },
  {
   "cell_type": "code",
   "execution_count": null,
   "id": "western-debut",
   "metadata": {},
   "outputs": [],
   "source": [
    "! qiime metadata tabulate \\\n",
    "    --m-input-file demux-deblur-stats.qza \\\n",
    "    --o-visualization demux-deblur-stats.qzv\n",
    "\n",
    "! qiime deblur visualize-stats \\\n",
    "    --i-deblur-stats deblur-stats.qza \\\n",
    "    --o-visualization deblur-stats.qzv"
   ]
  },
  {
   "cell_type": "code",
   "execution_count": null,
   "id": "thick-dealing",
   "metadata": {},
   "outputs": [],
   "source": [
    "q2.Visualization.load('demux-deblur-stats.qzv')"
   ]
  },
  {
   "cell_type": "code",
   "execution_count": null,
   "id": "secure-access",
   "metadata": {},
   "outputs": [],
   "source": [
    "q2.Visualization.load('deblur-stats.qzv')"
   ]
  },
  {
   "cell_type": "code",
   "execution_count": null,
   "id": "organic-arbitration",
   "metadata": {},
   "outputs": [],
   "source": [
    "! qiime feature-table summarize \\\n",
    "    --i-table table-deblur.qza \\\n",
    "    --o-visualization table-deblur.qzv \\\n",
    "    --m-sample-metadata-file metadata.tsv\n",
    "\n",
    "! qiime feature-table tabulate-seqs \\\n",
    "    --i-data rep-seqs-deblur.qza \\\n",
    "    --o-visualization rep-seqs-deblur.qzv"
   ]
  },
  {
   "cell_type": "code",
   "execution_count": null,
   "id": "proof-playback",
   "metadata": {
    "scrolled": true
   },
   "outputs": [],
   "source": [
    "q2.Visualization.load('table-deblur.qzv')"
   ]
  },
  {
   "cell_type": "code",
   "execution_count": null,
   "id": "naughty-cherry",
   "metadata": {
    "scrolled": true
   },
   "outputs": [],
   "source": [
    "q2.Visualization.load('rep-seqs-deblur.qzv')"
   ]
  },
  {
   "cell_type": "code",
   "execution_count": null,
   "id": "mysterious-gregory",
   "metadata": {},
   "outputs": [],
   "source": []
  },
  {
   "cell_type": "code",
   "execution_count": null,
   "id": "active-reset",
   "metadata": {},
   "outputs": [],
   "source": []
  }
 ],
 "metadata": {
  "kernelspec": {
   "display_name": "Python [conda env:qiime2-2022.2]",
   "language": "python",
   "name": "conda-env-qiime2-2022.2-py"
  },
  "language_info": {
   "codemirror_mode": {
    "name": "ipython",
    "version": 3
   },
   "file_extension": ".py",
   "mimetype": "text/x-python",
   "name": "python",
   "nbconvert_exporter": "python",
   "pygments_lexer": "ipython3",
   "version": "3.8.12"
  }
 },
 "nbformat": 4,
 "nbformat_minor": 5
}
