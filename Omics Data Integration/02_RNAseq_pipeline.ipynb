{
 "cells": [
  {
   "cell_type": "code",
   "execution_count": 5,
   "id": "3b044163-3f68-4358-ae3d-adf41bb19cc4",
   "metadata": {
    "scrolled": true
   },
   "outputs": [],
   "source": [
    "# !conda create -n trimmming python=2.7 --yes"
   ]
  },
  {
   "cell_type": "code",
   "execution_count": 1,
   "id": "a2690fac-a496-4fda-a8e7-38b23e7dbb82",
   "metadata": {},
   "outputs": [],
   "source": [
    "#!conda env list"
   ]
  },
  {
   "cell_type": "code",
   "execution_count": 2,
   "id": "0e022d08-f753-46f2-824e-e6f765f9d34a",
   "metadata": {
    "scrolled": true
   },
   "outputs": [],
   "source": [
    "#!conda activate trimmming"
   ]
  },
  {
   "cell_type": "code",
   "execution_count": 3,
   "id": "8c846a7d-1352-4a4f-83b0-439fee5debe4",
   "metadata": {
    "scrolled": true
   },
   "outputs": [],
   "source": [
    "#!conda init bash"
   ]
  },
  {
   "cell_type": "code",
   "execution_count": 4,
   "id": "8a5502e6-66d9-4690-b2b9-9ecef298ac5e",
   "metadata": {
    "scrolled": true
   },
   "outputs": [
    {
     "name": "stdout",
     "output_type": "stream",
     "text": [
      "\n",
      "     active environment : None\n",
      "       user config file : /home/raotoo/.condarc\n",
      " populated config files : /home/raotoo/.condarc\n",
      "          conda version : 4.14.0\n",
      "    conda-build version : 3.21.8\n",
      "         python version : 3.9.12.final.0\n",
      "       virtual packages : __linux=4.4.0=0\n",
      "                          __glibc=2.35=0\n",
      "                          __unix=0=0\n",
      "                          __archspec=1=x86_64\n",
      "       base environment : /home/raotoo/anaconda3  (writable)\n",
      "      conda av data dir : /home/raotoo/anaconda3/etc/conda\n",
      "  conda av metadata url : None\n",
      "           channel URLs : https://conda.anaconda.org/bioconda/linux-64\n",
      "                          https://conda.anaconda.org/bioconda/noarch\n",
      "                          https://conda.anaconda.org/r/linux-64\n",
      "                          https://conda.anaconda.org/r/noarch\n",
      "                          https://repo.anaconda.com/pkgs/main/linux-64\n",
      "                          https://repo.anaconda.com/pkgs/main/noarch\n",
      "                          https://repo.anaconda.com/pkgs/r/linux-64\n",
      "                          https://repo.anaconda.com/pkgs/r/noarch\n",
      "                          https://conda.anaconda.org/conda-forge/linux-64\n",
      "                          https://conda.anaconda.org/conda-forge/noarch\n",
      "          package cache : /home/raotoo/anaconda3/pkgs\n",
      "                          /home/raotoo/.conda/pkgs\n",
      "       envs directories : /home/raotoo/anaconda3/envs\n",
      "                          /home/raotoo/.conda/envs\n",
      "               platform : linux-64\n",
      "             user-agent : conda/4.14.0 requests/2.27.1 CPython/3.9.12 Linux/4.4.0-19041-Microsoft ubuntu/22.04.1 glibc/2.35\n",
      "                UID:GID : 1000:1000\n",
      "             netrc file : None\n",
      "           offline mode : False\n",
      "\n",
      "\n",
      "Note: you may need to restart the kernel to use updated packages.\n"
     ]
    }
   ],
   "source": [
    "%conda info"
   ]
  },
  {
   "cell_type": "code",
   "execution_count": 5,
   "id": "9ebc9235-7a93-4eab-91f5-ac75fbb3b090",
   "metadata": {},
   "outputs": [],
   "source": [
    "#!source activate"
   ]
  },
  {
   "cell_type": "code",
   "execution_count": 6,
   "id": "f7976d40-ddc6-43f8-8e48-df579737ecdf",
   "metadata": {},
   "outputs": [],
   "source": [
    "#!conda activate trimmming"
   ]
  },
  {
   "cell_type": "code",
   "execution_count": 7,
   "id": "445483f6-2836-4146-891d-23ce6cdd368d",
   "metadata": {
    "scrolled": true
   },
   "outputs": [],
   "source": [
    "# !pip install cutadapt "
   ]
  },
  {
   "cell_type": "code",
   "execution_count": 8,
   "id": "21a23f0e-3d39-4b86-9b77-d71b2092b2c4",
   "metadata": {},
   "outputs": [
    {
     "name": "stdout",
     "output_type": "stream",
     "text": [
      "/mnt/e/new_workflow\n"
     ]
    }
   ],
   "source": [
    "%cd /mnt/e/new_workflow"
   ]
  },
  {
   "cell_type": "code",
   "execution_count": 9,
   "id": "36ce39ca-217e-4f39-8bae-c7d182f08eaf",
   "metadata": {},
   "outputs": [
    {
     "name": "stdout",
     "output_type": "stream",
     "text": [
      "4.6\n"
     ]
    }
   ],
   "source": [
    "!cutadapt --version"
   ]
  },
  {
   "cell_type": "code",
   "execution_count": 10,
   "id": "164d7fd7-89d1-4d29-ba2c-f4092b1184d8",
   "metadata": {},
   "outputs": [
    {
     "name": "stdout",
     "output_type": "stream",
     "text": [
      "FastQC v0.12.1\n"
     ]
    }
   ],
   "source": [
    "!fastqc -v"
   ]
  },
  {
   "cell_type": "code",
   "execution_count": 11,
   "id": "b56de067-9ce1-4819-a219-d9c0216fa0f8",
   "metadata": {
    "scrolled": true
   },
   "outputs": [],
   "source": [
    "#!conda init bash"
   ]
  },
  {
   "cell_type": "code",
   "execution_count": 12,
   "id": "3726fda5-9a02-450c-8ef7-7ee441a608bf",
   "metadata": {
    "scrolled": true
   },
   "outputs": [],
   "source": [
    "# Install trim_galore using the %conda magic command\n",
    "#%conda activate /home/raotoo/miniconda/envs/trimmming"
   ]
  },
  {
   "cell_type": "code",
   "execution_count": 13,
   "id": "5b015012-5045-4425-9784-4c822692b11d",
   "metadata": {
    "scrolled": true
   },
   "outputs": [
    {
     "name": "stdout",
     "output_type": "stream",
     "text": [
      "# packages in environment at /home/raotoo/anaconda3/envs/rna_seq:\n",
      "#\n",
      "# Name                    Version                   Build  Channel\n",
      "_libgcc_mutex             0.1                        main  \n",
      "_openmp_mutex             5.1                       1_gnu  \n",
      "asttokens                 2.0.5              pyhd3eb1b0_0    anaconda\n",
      "backcall                  0.2.0              pyhd3eb1b0_0    anaconda\n",
      "bzip2                     1.0.8                h7b6447c_0    anaconda\n",
      "ca-certificates           2023.12.12           h06a4308_0  \n",
      "certifi                   2023.11.17      py310h06a4308_0  \n",
      "debugpy                   1.5.1           py310h295c915_0    anaconda\n",
      "decorator                 5.1.1              pyhd3eb1b0_0    anaconda\n",
      "entrypoints               0.4             py310h06a4308_0    anaconda\n",
      "executing                 0.8.3              pyhd3eb1b0_0    anaconda\n",
      "gdbm                      1.18                 hd4cb3f1_4  \n",
      "gffread                   0.12.7               h9a82719_0    bioconda\n",
      "hisat2                    2.2.1                h87f3376_4    bioconda\n",
      "ipykernel                 6.9.1           py310h06a4308_0    anaconda\n",
      "ipython                   8.4.0           py310h06a4308_0    anaconda\n",
      "jedi                      0.18.1          py310h06a4308_1    anaconda\n",
      "jupyter_client            7.2.2           py310h06a4308_0    anaconda\n",
      "jupyter_core              4.10.0          py310h06a4308_0    anaconda\n",
      "ld_impl_linux-64          2.38                 h1181459_1    anaconda\n",
      "libffi                    3.3                  he6710b0_2    anaconda\n",
      "libgcc-ng                 11.2.0               h1234567_1  \n",
      "libgomp                   11.2.0               h1234567_1  \n",
      "libsodium                 1.0.18               h7b6447c_0    anaconda\n",
      "libstdcxx-ng              11.2.0               h1234567_1  \n",
      "libuuid                   1.0.3                h7f8727e_2    anaconda\n",
      "matplotlib-inline         0.1.2              pyhd3eb1b0_2    anaconda\n",
      "ncurses                   6.3                  h5eee18b_3    anaconda\n",
      "nest-asyncio              1.5.5           py310h06a4308_0    anaconda\n",
      "openssl                   1.1.1w               h7f8727e_0  \n",
      "parso                     0.8.3              pyhd3eb1b0_0    anaconda\n",
      "perl                      5.34.0               h5eee18b_2  \n",
      "pexpect                   4.8.0              pyhd3eb1b0_3    anaconda\n",
      "pickleshare               0.7.5           pyhd3eb1b0_1003    anaconda\n",
      "pip                       22.1.2          py310h06a4308_0    anaconda\n",
      "prompt-toolkit            3.0.20             pyhd3eb1b0_0    anaconda\n",
      "ptyprocess                0.7.0              pyhd3eb1b0_2    anaconda\n",
      "pure_eval                 0.2.2              pyhd3eb1b0_0    anaconda\n",
      "pygments                  2.11.2             pyhd3eb1b0_0    anaconda\n",
      "python                    3.10.4               h12debd9_0    anaconda\n",
      "python-dateutil           2.8.2              pyhd3eb1b0_0    anaconda\n",
      "pyzmq                     23.2.0          py310h6a678d5_0    anaconda\n",
      "readline                  8.1.2                h7f8727e_1    anaconda\n",
      "setuptools                61.2.0          py310h06a4308_0    anaconda\n",
      "six                       1.16.0             pyhd3eb1b0_1    anaconda\n",
      "sqlite                    3.39.2               h5082296_0    anaconda\n",
      "sra-tools                 2.8.0                         0    bioconda\n",
      "stack_data                0.2.0              pyhd3eb1b0_0    anaconda\n",
      "star                      2.5.2b                        0    bioconda\n",
      "tk                        8.6.12               h1ccaba5_0    anaconda\n",
      "tornado                   6.1             py310h7f8727e_0    anaconda\n",
      "traitlets                 5.1.1              pyhd3eb1b0_0    anaconda\n",
      "tzdata                    2022a                hda174b7_0    anaconda\n",
      "wcwidth                   0.2.5              pyhd3eb1b0_0    anaconda\n",
      "wheel                     0.37.1             pyhd3eb1b0_0    anaconda\n",
      "xz                        5.2.5                h7f8727e_1    anaconda\n",
      "zeromq                    4.3.4                h2531618_0    anaconda\n",
      "zlib                      1.2.13               h5eee18b_0  \n",
      "\n",
      "Note: you may need to restart the kernel to use updated packages.\n"
     ]
    }
   ],
   "source": [
    "%conda list"
   ]
  },
  {
   "cell_type": "code",
   "execution_count": 14,
   "id": "3ebce711-693d-470e-a84a-b3fd0c783863",
   "metadata": {},
   "outputs": [
    {
     "name": "stdout",
     "output_type": "stream",
     "text": [
      "env: PATH=/home/raotoo/miniconda/envs/trimmming/bin:$PATH\n"
     ]
    }
   ],
   "source": [
    "# Add the path to trim_galore to the PATH variable\n",
    "%env PATH=/home/raotoo/miniconda/envs/trimmming/bin:$PATH"
   ]
  },
  {
   "cell_type": "code",
   "execution_count": 15,
   "id": "ea61729b-7fa8-40aa-ab69-73256a658df9",
   "metadata": {},
   "outputs": [
    {
     "name": "stdout",
     "output_type": "stream",
     "text": [
      "/mnt/e/new_workflow\n"
     ]
    }
   ],
   "source": [
    "!pwd"
   ]
  },
  {
   "cell_type": "code",
   "execution_count": 16,
   "id": "a4218eb8-83a8-4319-a1a8-bfae25a168f7",
   "metadata": {},
   "outputs": [],
   "source": [
    "#NB: Trim galore could not be install in this env via the cells and was installed in terminal. The path for the installed trim galore \n",
    "#was copied and added to the current directory\n",
    "import os\n",
    "os.environ['PATH'] = '/home/raotoo/miniconda/envs/trimmming/bin:' + os.environ['PATH']"
   ]
  },
  {
   "cell_type": "code",
   "execution_count": 17,
   "id": "c880d022-56f8-4b91-8541-0f3c79318756",
   "metadata": {},
   "outputs": [
    {
     "name": "stdout",
     "output_type": "stream",
     "text": [
      "/mnt/e/new_workflow\n"
     ]
    }
   ],
   "source": [
    "!pwd"
   ]
  },
  {
   "cell_type": "code",
   "execution_count": 18,
   "id": "b4ac2abf-bb94-4f42-95d6-c0c42ee7061b",
   "metadata": {},
   "outputs": [],
   "source": [
    "# %cd /home/raotoo/new_workflow/new_workflow"
   ]
  },
  {
   "cell_type": "code",
   "execution_count": 19,
   "id": "03d80cf7-3178-4f6d-95c8-f3c8b465b0ba",
   "metadata": {
    "scrolled": true
   },
   "outputs": [
    {
     "name": "stdout",
     "output_type": "stream",
     "text": [
      "\n",
      " USAGE:\n",
      "\n",
      "trim_galore [options] <filename(s)>\n",
      "\n",
      "\n",
      "-h/--help               Print this help message and exits.\n",
      "\n",
      "-v/--version            Print the version information and exits.\n",
      "\n",
      "-q/--quality <INT>      Trim low-quality ends from reads in addition to adapter removal. For\n",
      "                        RRBS samples, quality trimming will be performed first, and adapter\n",
      "                        trimming is carried in a second round. Other files are quality and adapter\n",
      "                        trimmed in a single pass. The algorithm is the same as the one used by BWA\n",
      "                        (Subtract INT from all qualities; compute partial sums from all indices\n",
      "                        to the end of the sequence; cut sequence at the index at which the sum is\n",
      "                        minimal). Default Phred score: 20.\n",
      "\n",
      "--phred33               Instructs Cutadapt to use ASCII+33 quality scores as Phred scores\n",
      "                        (Sanger/Illumina 1.9+ encoding) for quality trimming. Default: ON.\n",
      "\n",
      "--phred64               Instructs Cutadapt to use ASCII+64 quality scores as Phred scores\n",
      "                        (Illumina 1.5 encoding) for quality trimming.\n",
      "\n",
      "--fastqc                Run FastQC in the default mode on the FastQ file once trimming is complete.\n",
      "\n",
      "--fastqc_args \"<ARGS>\"  Passes extra arguments to FastQC. If more than one argument is to be passed\n",
      "                        to FastQC they must be in the form \"arg1 arg2 etc.\". An example would be:\n",
      "                        --fastqc_args \"--nogroup --outdir /home/\". Passing extra arguments will\n",
      "                        automatically invoke FastQC, so --fastqc does not have to be specified\n",
      "                        separately.\n",
      "\n",
      "-a/--adapter <STRING>   Adapter sequence to be trimmed. If not specified explicitly, Trim Galore will\n",
      "                        try to auto-detect whether the Illumina universal, Nextera transposase or Illumina\n",
      "                        small RNA adapter sequence was used. Also see '--illumina', '--nextera' and\n",
      "                        '--small_rna'. If no adapter can be detected within the first 1 million sequences\n",
      "                        of the first file specified or if there is a tie between several adapter sequences,\n",
      "                        Trim Galore defaults to '--illumina' (as long as the Illumina adapter was one of the\n",
      "                        options, else '--nextera' is the default). A single base\n",
      "                        may also be given as e.g. -a A{10}, to be expanded to -a AAAAAAAAAA.\n",
      "\n",
      "                        At a special request, multiple adapters can also be specified like so:\n",
      "                        -a  \" AGCTCCCG -a TTTCATTATAT -a TTTATTCGGATTTAT\"\n",
      "                        -a2 \" AGCTAGCG -a TCTCTTATAT -a TTTCGGATTTAT\", or so:\n",
      "                        -a \"file:../multiple_adapters.fa\"\n",
      "                        -a2 \"file:../different_adapters.fa\"\n",
      "                        Potentially in conjucntion with the parameter \"-n 3\" to trim all adapters. Please note\n",
      "                        that this is NOT needed for standard trimming! \n",
      "                        More Information here: https://github.com/FelixKrueger/TrimGalore/issues/86\n",
      "\n",
      "-a2/--adapter2 <STRING> Optional adapter sequence to be trimmed off read 2 of paired-end files. This\n",
      "                        option requires '--paired' to be specified as well. If the libraries to be trimmed\n",
      "                        are smallRNA then a2 will be set to the Illumina small RNA 5' adapter automatically\n",
      "                        (GATCGTCGGACT). A single base may also be given as e.g. -a2 A{10}, to be expanded\n",
      "                        to -a2 AAAAAAAAAA.\n",
      "\n",
      "--illumina              Adapter sequence to be trimmed is the first 13bp of the Illumina universal adapter\n",
      "                        'AGATCGGAAGAGC' instead of the default auto-detection of adapter sequence.\n",
      "\n",
      "--stranded_illumina     Adapter sequence to be trimmed is the first 13bp of the Illumina stranded mRNA or Total\n",
      "                        RNA adapter 'ACTGTCTCTTATA' instead of the default auto-detection of adapter sequence. \n",
      "                        Note that this sequence resembles the Nextera sequence with an additional A from A-tailing.\n",
      "                        Please also see https://github.com/FelixKrueger/TrimGalore/issues/127 or \n",
      "                        https://support.illumina.com/bulletins/2020/06/trimming-t-overhang-options-for-the-illumina-rna-library-prep-wo.html\n",
      "                        for further information. This sequence is currently NOT included in the adapter auto-detection.\n",
      "\n",
      "--nextera               Adapter sequence to be trimmed is the first 12bp of the Nextera adapter\n",
      "                        'CTGTCTCTTATA' instead of the default auto-detection of adapter sequence.\n",
      "\n",
      "--small_rna             Adapter sequence to be trimmed is the first 12bp of the Illumina Small RNA 3' Adapter\n",
      "                        'TGGAATTCTCGG' instead of the default auto-detection of adapter sequence. Selecting\n",
      "                        to trim smallRNA adapters will also lower the --length value to 18bp. If the smallRNA\n",
      "                        libraries are paired-end then a2 will be set to the Illumina small RNA 5' adapter\n",
      "                        automatically (GATCGTCGGACT) unless -a 2 had been defined explicitly.\n",
      "\n",
      "--consider_already_trimmed <INT>     During adapter auto-detection, the limit set by <INT> allows the user to \n",
      "                        set a threshold up to which the file is considered already adapter-trimmed. If no adapter\n",
      "                        sequence exceeds this threshold, no additional adapter trimming will be performed (technically,\n",
      "                        the adapter is set to '-a X'). Quality trimming is still performed as usual.\n",
      "                        Default: NOT SELECTED (i.e. normal auto-detection precedence rules apply).                     \n",
      "\n",
      "--max_length <INT>      Discard reads that are longer than <INT> bp after trimming. This is only advised for\n",
      "                        smallRNA sequencing to remove non-small RNA sequences.\n",
      "\n",
      "\n",
      "--stringency <INT>      Overlap with adapter sequence required to trim a sequence. Defaults to a\n",
      "                        very stringent setting of 1, i.e. even a single bp of overlapping sequence\n",
      "                        will be trimmed off from the 3' end of any read.\n",
      "\n",
      "-e <ERROR RATE>         Maximum allowed error rate (no. of errors divided by the length of the matching\n",
      "                        region) (default: 0.1)\n",
      "\n",
      "--gzip                  Compress the output file with GZIP. If the input files are GZIP-compressed\n",
      "                        the output files will automatically be GZIP compressed as well. As of v0.2.8 the\n",
      "                        compression will take place on the fly.\n",
      "\n",
      "--dont_gzip             Output files won't be compressed with GZIP. This option overrides --gzip.\n",
      "\n",
      "--length <INT>          Discard reads that became shorter than length INT because of either\n",
      "                        quality or adapter trimming. A value of '0' effectively disables\n",
      "                        this behaviour. Default: 20 bp.\n",
      "\n",
      "                        For paired-end files, both reads of a read-pair need to be longer than\n",
      "                        <INT> bp to be printed out to validated paired-end files (see option --paired).\n",
      "                        If only one read became too short there is the possibility of keeping such\n",
      "                        unpaired single-end reads (see --retain_unpaired). Default pair-cutoff: 20 bp.\n",
      "\n",
      "--max_n COUNT           The total number of Ns a read may contain before it will be removed altogether.\n",
      "                        In a paired-end setting, either read exceeding this limit will result in the entire\n",
      "                        pair being removed from the trimmed output files. If COUNT is a number between 0 and 1,\n",
      "                        it is interpreted as a fraction of the read length.\n",
      "\n",
      "--trim-n                Removes Ns from either side of the read. This option does currently not work in RRBS mode.\n",
      "\n",
      "-o/--output_dir <DIR>   If specified all output will be written to this directory instead of the current\n",
      "                        directory. If the directory doesn't exist it will be created for you.\n",
      "\n",
      "--no_report_file        If specified no report file will be generated.\n",
      "\n",
      "--suppress_warn         If specified any output to STDOUT or STDERR will be suppressed.\n",
      "\n",
      "--clip_R1 <int>         Instructs Trim Galore to remove <int> bp from the 5' end of read 1 (or single-end\n",
      "                        reads). This may be useful if the qualities were very poor, or if there is some\n",
      "                        sort of unwanted bias at the 5' end. Default: OFF.\n",
      "\n",
      "--clip_R2 <int>         Instructs Trim Galore to remove <int> bp from the 5' end of read 2 (paired-end reads\n",
      "                        only). This may be useful if the qualities were very poor, or if there is some sort\n",
      "                        of unwanted bias at the 5' end. For paired-end BS-Seq, it is recommended to remove\n",
      "                        the first few bp because the end-repair reaction may introduce a bias towards low\n",
      "                        methylation. Please refer to the M-bias plot section in the Bismark User Guide for\n",
      "                        some examples. Default: OFF.\n",
      "\n",
      "--three_prime_clip_R1 <int>     Instructs Trim Galore to remove <int> bp from the 3' end of read 1 (or single-end\n",
      "                        reads) AFTER adapter/quality trimming has been performed. This may remove some unwanted\n",
      "                        bias from the 3' end that is not directly related to adapter sequence or basecall quality.\n",
      "                        Default: OFF.\n",
      "\n",
      "--three_prime_clip_R2 <int>     Instructs Trim Galore to remove <int> bp from the 3' end of read 2 AFTER\n",
      "                        adapter/quality trimming has been performed. This may remove some unwanted bias from\n",
      "                        the 3' end that is not directly related to adapter sequence or basecall quality.\n",
      "                        Default: OFF.\n",
      "\n",
      "--2colour/--nextseq INT This enables the option '--nextseq-trim=3'CUTOFF' within Cutadapt, which will set a quality\n",
      "                        cutoff (that is normally given with -q instead), but qualities of G bases are ignored.\n",
      "                        This trimming is in common for the NextSeq- and NovaSeq-platforms, where basecalls without\n",
      "                        any signal are called as high-quality G bases. This is mutually exlusive with '-q INT'.\n",
      "\n",
      "\n",
      "--path_to_cutadapt </path/to/cutadapt>     You may use this option to specify a path to the Cutadapt executable,\n",
      "                        e.g. /my/home/cutadapt-1.7.1/bin/cutadapt. Else it is assumed that Cutadapt is in\n",
      "                        the PATH.\n",
      "\n",
      "--basename <PREFERRED_NAME>\tUse PREFERRED_NAME as the basename for output files, instead of deriving the filenames from\n",
      "                        the input files. Single-end data would be called PREFERRED_NAME_trimmed.fq(.gz), or\n",
      "                        PREFERRED_NAME_val_1.fq(.gz) and PREFERRED_NAME_val_2.fq(.gz) for paired-end data. --basename\n",
      "                        only works when 1 file (single-end) or 2 files (paired-end) are specified, but not for longer lists.\n",
      "\n",
      "-j/--cores INT          Number of cores to be used for trimming [default: 1]. For Cutadapt to work with multiple cores, it\n",
      "                        requires Python 3 as well as parallel gzip (pigz) installed on the system. Trim Galore attempts to detect\n",
      "                        the version of Python used by calling Cutadapt. If Python 2 is detected, --cores is set to 1. If the Python\n",
      "                        version cannot be detected, Python 3 is assumed and we let Cutadapt handle potential issues itself.\n",
      "                        \n",
      "                        If pigz cannot be detected on your system, Trim Galore reverts to using gzip compression. Please note\n",
      "                        that gzip compression will slow down multi-core processes so much that it is hardly worthwhile, please \n",
      "                        see: https://github.com/FelixKrueger/TrimGalore/issues/16#issuecomment-458557103 for more info).\n",
      "\t\t\t\t\t\t\n",
      "                        Actual core usage: It should be mentioned that the actual number of cores used is a little convoluted.\n",
      "                        Assuming that Python 3 is used and pigz is installed, --cores 2 would use 2 cores to read the input\n",
      "                        (probably not at a high usage though), 2 cores to write to the output (at moderately high usage), and \n",
      "                        2 cores for Cutadapt itself + 2 additional cores for Cutadapt (not sure what they are used for) + 1 core\n",
      "                        for Trim Galore itself. So this can be up to 9 cores, even though most of them won't be used at 100% for\n",
      "                        most of the time. Paired-end processing uses twice as many cores for the validation (= writing out) step.\n",
      "                        --cores 4 would then be: 4 (read) + 4 (write) + 4 (Cutadapt) + 2 (extra Cutadapt) +\t1 (Trim Galore) = 15.\n",
      "\n",
      "                        It seems that --cores 4 could be a sweet spot, anything above has diminishing returns.\n",
      "\t\t\t\n",
      "\n",
      "\n",
      "SPECIFIC TRIMMING - without adapter/quality trimming\n",
      "\n",
      "--hardtrim5 <int>       Instead of performing adapter-/quality trimming, this option will simply hard-trim sequences\n",
      "                        to <int> bp at the 5'-end. Once hard-trimming of files is complete, Trim Galore will exit.\n",
      "                        Hard-trimmed output files will end in .<int>_5prime.fq(.gz). Here is an example:\n",
      "\n",
      "                        before:         CCTAAGGAAACAAGTACACTCCACACATGCATAAAGGAAATCAAATGTTATTTTTAAGAAAATGGAAAAT\n",
      "                        --hardtrim5 20: CCTAAGGAAACAAGTACACT\n",
      "\n",
      "--hardtrim3 <int>       Instead of performing adapter-/quality trimming, this option will simply hard-trim sequences\n",
      "                        to <int> bp at the 3'-end. Once hard-trimming of files is complete, Trim Galore will exit.\n",
      "                        Hard-trimmed output files will end in .<int>_3prime.fq(.gz). Here is an example:\n",
      "\n",
      "                        before:         CCTAAGGAAACAAGTACACTCCACACATGCATAAAGGAAATCAAATGTTATTTTTAAGAAAATGGAAAAT\n",
      "                        --hardtrim3 20:                                                   TTTTTAAGAAAATGGAAAAT\n",
      "\n",
      "--clock                 In this mode, reads are trimmed in a specific way that is currently used for the Mouse\n",
      "                        Epigenetic Clock (see here: Multi-tissue DNA methylation age predictor in mouse, Stubbs et al.,\n",
      "                        Genome Biology, 2017 18:68 https://doi.org/10.1186/s13059-017-1203-5). Following this, Trim Galore\n",
      "                        will exit.\n",
      "\n",
      "                        In it's current implementation, the dual-UMI RRBS reads come in the following format:\n",
      "\n",
      "                        Read 1  5' UUUUUUUU CAGTA FFFFFFFFFFFFFFFFFFFFFFFFFFFFFFFFFFFF TACTG UUUUUUUU 3'\n",
      "                        Read 2  3' UUUUUUUU GTCAT FFFFFFFFFFFFFFFFFFFFFFFFFFFFFFFFFFFF ATGAC UUUUUUUU 5'\n",
      "\n",
      "                        Where UUUUUUUU is a random 8-mer unique molecular identifier (UMI), CAGTA is a constant region,\n",
      "                        and FFFFFFF... is the actual RRBS-Fragment to be sequenced. The UMIs for Read 1 (R1) and\n",
      "                        Read 2 (R2), as well as the fixed sequences (F1 or F2), are written into the read ID and\n",
      "                        removed from the actual sequence. Here is an example:\n",
      "\n",
      "                        R1: @HWI-D00436:407:CCAETANXX:1:1101:4105:1905 1:N:0: CGATGTTT\n",
      "                            ATCTAGTTCAGTACGGTGTTTTCGAATTAGAAAAATATGTATAGAGGAAATAGATATAAAGGCGTATTCGTTATTG\n",
      "                        R2: @HWI-D00436:407:CCAETANXX:1:1101:4105:1905 3:N:0: CGATGTTT\n",
      "                            CAATTTTGCAGTACAAAAATAATACCTCCTCTATTTATCCAAAATCACAAAAAACCACCCACTTAACTTTCCCTAA\n",
      "\n",
      "                        R1: @HWI-D00436:407:CCAETANXX:1:1101:4105:1905 1:N:0: CGATGTTT:R1:ATCTAGTT:R2:CAATTTTG:F1:CAGT:F2:CAGT\n",
      "                                         CGGTGTTTTCGAATTAGAAAAATATGTATAGAGGAAATAGATATAAAGGCGTATTCGTTATTG\n",
      "                        R2: @HWI-D00436:407:CCAETANXX:1:1101:4105:1905 3:N:0: CGATGTTT:R1:ATCTAGTT:R2:CAATTTTG:F1:CAGT:F2:CAGT\n",
      "                                         CAAAAATAATACCTCCTCTATTTATCCAAAATCACAAAAAACCACCCACTTAACTTTCCCTAA\n",
      "\n",
      "                        Following clock trimming, the resulting files (.clock_UMI.R1.fq(.gz) and .clock_UMI.R2.fq(.gz))\n",
      "                        should be adapter- and quality trimmed with Trim Galore as usual. In addition, reads need to be trimmed\n",
      "                        by 15bp from their 3' end to get rid of potential UMI and fixed sequences. The command is:\n",
      "\n",
      "                        trim_galore --paired --three_prime_clip_R1 15 --three_prime_clip_R2 15 *.clock_UMI.R1.fq.gz *.clock_UMI.R2.fq.gz\n",
      "\n",
      "                        Following this, reads should be aligned with Bismark and deduplicated with UmiBam\n",
      "                        in '--dual_index' mode (see here: https://github.com/FelixKrueger/Umi-Grinder). UmiBam recognises\n",
      "                        the UMIs within this pattern: R1:(ATCTAGTT):R2:(CAATTTTG): as (UMI R1) and (UMI R2).\n",
      "\n",
      "--polyA                 This is a new, still experimental, trimming mode to identify and remove poly-A tails from sequences.\n",
      "                        When --polyA is selected, Trim Galore attempts to identify from the first supplied sample whether\n",
      "                        sequences contain more often a stretch of either 'AAAAAAAAAA' or 'TTTTTTTTTT'. This determines\n",
      "                        if Read 1 of a paired-end end file, or single-end files, are trimmed for PolyA or PolyT. In case of\n",
      "                        paired-end sequencing, Read2 is trimmed for the complementary base from the start of the reads. The\n",
      "                        auto-detection uses a default of A{20} for Read1 (3'-end trimming) and T{150} for Read2 (5'-end trimming).\n",
      "                        These values may be changed manually using the options -a and -a2.\n",
      "\n",
      "                        In addition to trimming the sequences, white spaces are replaced with _ and it records in the read ID\n",
      "                        how many bases were trimmed so it can later be used to identify PolyA trimmed sequences. This is currently done\n",
      "                        by writing tags to both the start (\"32:A:\") and end (\"_PolyA:32\") of the reads in the following example:\n",
      "\n",
      "                        @READ-ID:1:1102:22039:36996 1:N:0:CCTAATCC\n",
      "                        GCCTAAGGAAACAAGTACACTCCACACATGCATAAAGGAAATCAAATGTTATTTTTAAGAAAATGGAAAATAAAAACTTTATAAACACCAAAAAAAAAAAAAAAAAAAAAAAAAAAAAAAA\n",
      "\n",
      "                        @32:A:READ-ID:1:1102:22039:36996_1:N:0:CCTAATCC_PolyA:32\n",
      "                        GCCTAAGGAAACAAGTACACTCCACACATGCATAAAGGAAATCAAATGTTATTTTTAAGAAAATGGAAAATAAAAACTTTATAAACACC\n",
      "\n",
      "                        PLEASE NOTE: The poly-A trimming mode expects that sequences were both adapter and quality trimmed\n",
      "                        before looking for Poly-A tails, and it is the user's responsibility to carry out an initial round of\n",
      "                        trimming. The following sequence:\n",
      " \n",
      "                        1) trim_galore file.fastq.gz\n",
      "                        2) trim_galore --polyA file_trimmed.fq.gz\n",
      "                        3) zcat file_trimmed_trimmed.fq.gz | grep -A 3 PolyA | grep -v ^-- > PolyA_trimmed.fastq\n",
      "\n",
      "                        Will 1) trim qualities and Illumina adapter contamination, 2) find and remove PolyA contamination.\n",
      "                        Finally, if desired, 3) will specifically find PolyA trimmed sequences to a specific FastQ file of your choice.\n",
      "\n",
      "--implicon              This is a special mode of operation for paired-end data, such as required for the IMPLICON method, where a UMI sequence\n",
      "                        is getting transferred from the start of Read 2 to the readID of both reads. Following this, Trim Galore will exit.\n",
      "\n",
      "                        In it's current implementation, the UMI carrying reads come in the following format:\n",
      "\n",
      "                        Read 1  5' FFFFFFFFFFFFFFFFFFFFFFFFFFFFFFFFFFFF 3'\n",
      "                        Read 2  3' UUUUUUUUFFFFFFFFFFFFFFFFFFFFFFFFFFFF 5'\n",
      "\n",
      "                        Where UUUUUUUU is a random 8-mer unique molecular identifier (UMI) and FFFFFFF... is the actual fragment to be\n",
      "                        sequenced. The UMI of Read 2 (R2) is written into the read ID of both reads and removed from the actual sequence.\n",
      "                        Here is an example:\n",
      "\n",
      "                        R1: @HWI-D00436:407:CCAETANXX:1:1101:4105:1905 1:N:0: CGATGTTT\n",
      "                            ATCTAGTTCAGTACGGTGTTTTCGAATTAGAAAAATATGTATAGAGGAAATAGATATAAAGGCGTATTCGTTATTG\n",
      "                        R2: @HWI-D00436:407:CCAETANXX:1:1101:4105:1905 3:N:0: CGATGTTT\n",
      "                            CAATTTTGCAGTACAAAAATAATACCTCCTCTATTTATCCAAAATCACAAAAAACCACCCACTTAACTTTCCCTAA\n",
      "                        \n",
      "                        After --implicon trimming:\n",
      "                        R1: @HWI-D00436:407:CCAETANXX:1:1101:4105:1905 1:N:0: CGATGTTT:CAATTTTG\n",
      "                            ATCTAGTTCAGTACGGTGTTTTCGAATTAGAAAAATATGTATAGAGGAAATAGATATAAAGGCGTATTCGTTATTG\n",
      "                        R2: @HWI-D00436:407:CCAETANXX:1:1101:4105:1905 3:N:0: CGATGTTT:CAATTTTG\n",
      "                                    CAGTACAAAAATAATACCTCCTCTATTTATCCAAAATCACAAAAAACCACCCACTTAACTTTCCCTAA\n",
      "\n",
      "RRBS-specific options (MspI digested material):\n",
      "\n",
      "--rrbs                  Specifies that the input file was an MspI digested RRBS sample (recognition\n",
      "                        site: CCGG). Single-end or Read 1 sequences (paired-end) which were adapter-trimmed\n",
      "                        will have a further 2 bp removed from their 3' end. Sequences which were merely\n",
      "                        trimmed because of poor quality will not be shortened further. Read 2 of paired-end\n",
      "                        libraries will in addition have the first 2 bp removed from the 5' end (by setting\n",
      "                        '--clip_r2 2'). This is to avoid using artificial methylation calls from the filled-in\n",
      "                        cytosine positions close to the 3' MspI site in sequenced fragments.\n",
      "                        This option is not recommended for users of the Tecan Ovation RRBS Methyl-Seq with TrueMethyl\n",
      "                        oxBS 1-16 kit (see below).\n",
      "\n",
      "--non_directional       Selecting this option for non-directional RRBS libraries will screen\n",
      "                        quality-trimmed sequences for 'CAA' or 'CGA' at the start of the read\n",
      "                        and, if found, removes the first two basepairs. Like with the option\n",
      "                        '--rrbs' this avoids using cytosine positions that were filled-in\n",
      "                        during the end-repair step. '--non_directional' requires '--rrbs' to\n",
      "                        be specified as well. Note that this option does not set '--clip_r2 2' in\n",
      "                        paired-end mode.\n",
      "\n",
      "--keep                  Keep the quality trimmed intermediate file. Default: off, which means\n",
      "                        the temporary file is being deleted after adapter trimming. Only has\n",
      "                        an effect for RRBS samples since other FastQ files are not trimmed\n",
      "                        for poor qualities separately.\n",
      "\n",
      "\n",
      "Note for RRBS using the Tecan Ovation RRBS Methyl-Seq with TrueMethyl oxBS 1-16 kit:\n",
      "\n",
      "Owing to the fact that the Tecan Ovation RRBS kit attaches a varying number of nucleotides (0-3) after each MspI\n",
      "site Trim Galore should be run WITHOUT the option --rrbs. This trimming is accomplished in a subsequent\n",
      "diversity trimming step afterwards (see their manual).\n",
      "\n",
      "\n",
      "\n",
      "Note for RRBS using MseI:\n",
      "\n",
      "If your DNA material was digested with MseI (recognition motif: TTAA) instead of MspI it is NOT necessary\n",
      "to specify --rrbs or --non_directional since virtually all reads should start with the sequence\n",
      "'TAA', and this holds true for both directional and non-directional libraries. As the end-repair of 'TAA'\n",
      "restricted sites does not involve any cytosines it does not need to be treated especially. Instead, simply\n",
      "run Trim Galore! in the standard (i.e. non-RRBS) mode.\n",
      "\n",
      "\n",
      "\n",
      "\n",
      "Paired-end specific options:\n",
      "\n",
      "--paired                This option performs length trimming of quality/adapter/RRBS trimmed reads for\n",
      "                        paired-end files. To pass the validation test, both sequences of a sequence pair\n",
      "                        are required to have a certain minimum length which is governed by the option\n",
      "                        --length (see above). If only one read passes this length threshold the\n",
      "                        other read can be rescued (see option --retain_unpaired). Using this option lets\n",
      "                        you discard too short read pairs without disturbing the sequence-by-sequence order\n",
      "                        of FastQ files which is required by many aligners.\n",
      "\n",
      "                        Trim Galore! expects paired-end files to be supplied in a pairwise fashion, e.g.\n",
      "                        file1_1.fq file1_2.fq SRR2_1.fq.gz SRR2_2.fq.gz ... .\n",
      "\n",
      "\n",
      "--retain_unpaired       If only one of the two paired-end reads became too short, the longer\n",
      "                        read will be written to either '.unpaired_1.fq' or '.unpaired_2.fq'\n",
      "                        output files. The length cutoff for unpaired single-end reads is\n",
      "                        governed by the parameters -r1/--length_1 and -r2/--length_2. Default: OFF.\n",
      "\n",
      "-r1/--length_1 <INT>    Unpaired single-end read length cutoff needed for read 1 to be written to\n",
      "                        '.unpaired_1.fq' output file. These reads may be mapped in single-end mode.\n",
      "                        Default: 35 bp.\n",
      "\n",
      "-r2/--length_2 <INT>    Unpaired single-end read length cutoff needed for read 2 to be written to\n",
      "                        '.unpaired_2.fq' output file. These reads may be mapped in single-end mode.\n",
      "                        Default: 35 bp.\n",
      "\n",
      "Last modified on 02 02 2023.\n",
      "\n"
     ]
    }
   ],
   "source": [
    "# Run Trim Galore\n",
    "!trim_galore --help"
   ]
  },
  {
   "cell_type": "code",
   "execution_count": 20,
   "id": "10245366-5070-4a72-805d-1acd6f6afd79",
   "metadata": {
    "scrolled": true
   },
   "outputs": [
    {
     "name": "stdout",
     "output_type": "stream",
     "text": [
      "/mnt/e/new_workflow\n"
     ]
    }
   ],
   "source": [
    "!pwd"
   ]
  },
  {
   "cell_type": "code",
   "execution_count": 22,
   "id": "dbd64201-7b35-44a7-a0a7-4a203bd24b64",
   "metadata": {
    "scrolled": true
   },
   "outputs": [],
   "source": [
    "# #--------------------------- Run Trim Galore on one file!----------------------------------------------\n",
    "# !trim_galore \\\n",
    "# --quality 20 \\\n",
    "# --fastqc \\\n",
    "# --length 25 \\\n",
    "# --output_dir results/2_trimmed_output/ \\\n",
    "# input/JvRad_Rhipp_200_TSMRLT_d438483b_P0330-SB0496_S1_R1_001.fastq"
   ]
  },
  {
   "cell_type": "code",
   "execution_count": 28,
   "id": "97033908-838b-4739-890c-b16a10727d6b",
   "metadata": {},
   "outputs": [
    {
     "name": "stdout",
     "output_type": "stream",
     "text": [
      "/bin/bash: line 1: conda: command not found\n"
     ]
    }
   ],
   "source": [
    "!conda install -c conda-forge parallel --yes"
   ]
  },
  {
   "cell_type": "code",
   "execution_count": 27,
   "id": "70530dc7-6c06-4f14-82da-bc223dc4e30b",
   "metadata": {
    "scrolled": true
   },
   "outputs": [
    {
     "name": "stdout",
     "output_type": "stream",
     "text": [
      "/bin/bash: line 1: find: command not found\n",
      "/bin/bash: line 1: parallel: command not found\n"
     ]
    }
   ],
   "source": [
    "%%bash\n",
    "\n",
    "# Set the number of cores to use\n",
    "num_cores=8  # You can adjust this based on your system's capabilities\n",
    "\n",
    "# Run Trim Galore! in parallel for all files in the folder\n",
    "find input/ -name '*.fastq' | parallel -j $num_cores \\\n",
    "'trim_galore \\\n",
    "--quality 20 \\\n",
    "--fastqc \\\n",
    "--length 25 \\\n",
    "--output_dir results/2_trimmed_output/ \\\n",
    "{}'\n"
   ]
  },
  {
   "cell_type": "code",
   "execution_count": 7,
   "id": "47b42e19-b171-4eb8-b2c7-d01aa40a215a",
   "metadata": {},
   "outputs": [
    {
     "data": {
      "text/plain": [
       "'3.10.4 (main, Mar 31 2022, 08:41:55) [GCC 7.5.0]'"
      ]
     },
     "execution_count": 7,
     "metadata": {},
     "output_type": "execute_result"
    }
   ],
   "source": [
    "import sys\n",
    "sys.version"
   ]
  },
  {
   "cell_type": "code",
   "execution_count": 9,
   "id": "e2fd7b87-95e0-46c2-90b4-a83ad89122bc",
   "metadata": {},
   "outputs": [
    {
     "name": "stdout",
     "output_type": "stream",
     "text": [
      "# conda environments:\n",
      "#\n",
      "base                     /home/raotoo/anaconda3\n",
      "rna_seq                  /home/raotoo/anaconda3/envs/rna_seq\n",
      "                         /home/raotoo/miniconda\n",
      "                         /home/raotoo/miniconda/envs/trimmming\n",
      "\n",
      "\n",
      "Note: you may need to restart the kernel to use updated packages.\n"
     ]
    }
   ],
   "source": [
    "%conda info --envs\n"
   ]
  },
  {
   "cell_type": "code",
   "execution_count": 24,
   "id": "c492c77e-41b6-4031-aa31-24f45d857390",
   "metadata": {
    "scrolled": true
   },
   "outputs": [],
   "source": [
    "#!conda install -c bioconda trim-galore --yes"
   ]
  },
  {
   "cell_type": "code",
   "execution_count": null,
   "id": "9467db0e-bdbe-42d2-a38a-7bba9300f963",
   "metadata": {},
   "outputs": [],
   "source": []
  }
 ],
 "metadata": {
  "kernelspec": {
   "display_name": "rna_seq",
   "language": "python",
   "name": "rna_seq"
  },
  "language_info": {
   "codemirror_mode": {
    "name": "ipython",
    "version": 3
   },
   "file_extension": ".py",
   "mimetype": "text/x-python",
   "name": "python",
   "nbconvert_exporter": "python",
   "pygments_lexer": "ipython3",
   "version": "3.10.4"
  }
 },
 "nbformat": 4,
 "nbformat_minor": 5
}
