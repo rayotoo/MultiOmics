{
 "cells": [
  {
   "cell_type": "markdown",
   "metadata": {},
   "source": [
    "# Parkinson's Mouse Tutorial - Refernce Frames\n",
    "\n",
    "Run this notebook in `qiime2-2020.6`.\n",
    "\n",
    "Continuing the [pd-mouse tutorial](https://docs.qiime2.org/2021.11/tutorials/pd-mice/). We'll discuss non-rarefaction based betadiversity and differential abundance. \n",
    "\n",
    "This notebook will focus on [DEICODE](https://github.com/biocore/DEICODE), [songbird](https://github.com/biocore/songbird/), and [qurro](https://github.com/biocore/qurro). For more in-depth information see these forum posts:\n",
    "\n",
    "- [Question on Deicode and songbird](https://forum.qiime2.org/t/question-on-deicode-and-songbird/11829/2)"
   ]
  },
  {
   "cell_type": "code",
   "execution_count": null,
   "metadata": {},
   "outputs": [],
   "source": [
    "from os import getcwd, listdir, chdir, mkdir\n",
    "import qiime2 as q2"
   ]
  },
  {
   "cell_type": "code",
   "execution_count": null,
   "metadata": {},
   "outputs": [],
   "source": [
    "getcwd()"
   ]
  },
  {
   "cell_type": "code",
   "execution_count": null,
   "metadata": {},
   "outputs": [],
   "source": [
    "chdir('../processed')\n",
    "getcwd()"
   ]
  },
  {
   "cell_type": "markdown",
   "metadata": {},
   "source": [
    "## DEICODE\n",
    "\n",
    "Non-rarefaction based Beta-diversity.\n",
    "\n",
    "- [DEICODE GitHub page and tutorial links](https://github.com/biocore/DEICODE). \n",
    "- [Questions about interpreting DEICODE and Qurro output](https://forum.qiime2.org/t/questions-about-interpreting-deicode-and-qurro-output/14888/4)\n",
    "- [Help understanding DEICODE](https://forum.qiime2.org/t/help-understanding-deicode/8803)\n",
    "\n",
    "Visualize ranks with [qurro](https://github.com/biocore/qurro).\n",
    "\n"
   ]
  },
  {
   "cell_type": "code",
   "execution_count": null,
   "metadata": {},
   "outputs": [],
   "source": [
    "! qiime deicode auto-rpca \\\n",
    "    --i-table ./table-no-ecmu-hits.qza \\\n",
    "    --o-biplot ./deicode-biplot.qza \\\n",
    "    --o-distance-matrix ./deicode-matrix.qza"
   ]
  },
  {
   "cell_type": "code",
   "execution_count": null,
   "metadata": {},
   "outputs": [],
   "source": [
    "! qiime emperor biplot \\\n",
    "    --i-biplot ./deicode-biplot.qza \\\n",
    "    --m-sample-metadata-file ./metadata.tsv \\\n",
    "    --m-feature-metadata-file ./taxonomy.qza \\\n",
    "    --p-number-of-features 8 \\\n",
    "    --o-visualization ./biplot.qzv \\"
   ]
  },
  {
   "cell_type": "code",
   "execution_count": null,
   "metadata": {},
   "outputs": [],
   "source": [
    "q2.Visualization.load('./biplot.qzv')"
   ]
  },
  {
   "cell_type": "code",
   "execution_count": null,
   "metadata": {},
   "outputs": [],
   "source": [
    "!qiime diversity beta-group-significance \\\n",
    "    --i-distance-matrix ./deicode-matrix.qza \\\n",
    "    --m-metadata-file metadata.tsv \\\n",
    "    --m-metadata-column donor \\\n",
    "    --o-visualization ./deicode-donor-significance.qzv"
   ]
  },
  {
   "cell_type": "code",
   "execution_count": null,
   "metadata": {},
   "outputs": [],
   "source": [
    "q2.Visualization.load('./deicode-donor-significance.qzv')"
   ]
  },
  {
   "cell_type": "code",
   "execution_count": null,
   "metadata": {},
   "outputs": [],
   "source": [
    "! qiime qurro loading-plot \\\n",
    "    --i-table ./table-no-ecmu-hits.qza \\\n",
    "    --i-ranks ./deicode-biplot.qza \\\n",
    "    --m-sample-metadata-file ./metadata.tsv \\\n",
    "    --m-feature-metadata-file ./taxonomy.qza \\\n",
    "    --o-visualization ./deicode-qurro-plot.qzv"
   ]
  },
  {
   "cell_type": "code",
   "execution_count": null,
   "metadata": {},
   "outputs": [],
   "source": [
    "q2.Visualization.load('./deicode-qurro-plot.qzv')"
   ]
  },
  {
   "cell_type": "markdown",
   "metadata": {},
   "source": [
    "**Post-hoc test**"
   ]
  },
  {
   "cell_type": "code",
   "execution_count": null,
   "metadata": {},
   "outputs": [],
   "source": [
    "# post-hoc testing numerator and denominator by comparing \n",
    "#   p__Firmicutes (numerator) vs  p__Bacteroidota (denominator)\n",
    "import pandas as pd\n",
    "import itertools\n",
    "from scipy.stats import ttest_ind\n",
    "\n",
    "# import the taxonomy metadata\n",
    "lrdf = pd.read_csv('firm-vs-bact.tsv',\n",
    "                   sep='\\t', index_col=0).dropna(subset=['Current_Natural_Log_Ratio'])\n",
    "\n",
    "# split data by GroupType\n",
    "lrs = {type_:df_.Current_Natural_Log_Ratio\n",
    "       for type_, df_ in lrdf.groupby('donor')}\n",
    "\n",
    "# get all combos\n",
    "ids_ = list(itertools.combinations(lrs.keys(), 2))\n",
    "\n",
    "# take t-test\n",
    "tst = pd.DataFrame({(id1_, id2_):ttest_ind(lrs[id1_], lrs[id2_])\n",
    "                    for id1_, id2_ in ids_},\n",
    "                   ['test-stat','p-value']).T\n",
    "tst.index.names = ['group one vs.', 'group two']\n",
    "\n",
    "# view results\n",
    "tst"
   ]
  },
  {
   "cell_type": "code",
   "execution_count": null,
   "metadata": {},
   "outputs": [],
   "source": []
  },
  {
   "cell_type": "markdown",
   "metadata": {},
   "source": [
    "## Songbird\n",
    "\n",
    "Supervised non-rarefaction based differential abundance.\n",
    "\n",
    "- [Songbird Github page](https://github.com/biocore/songbird/)\n",
    "- [Songbird differentials interpretation](https://forum.qiime2.org/t/songbird-differentials-interpretation/17558)\n",
    "\n",
    "\n",
    "Visualize differentials with [qurro](https://github.com/biocore/qurro)."
   ]
  },
  {
   "cell_type": "markdown",
   "metadata": {},
   "source": [
    "**Model data based on 'donor'**"
   ]
  },
  {
   "cell_type": "code",
   "execution_count": null,
   "metadata": {
    "scrolled": true
   },
   "outputs": [],
   "source": [
    "! qiime songbird multinomial \\\n",
    "\t--i-table ./table-no-ecmu-hits.qza \\\n",
    "\t--m-metadata-file ./metadata.tsv \\\n",
    "\t--p-formula \"donor\" \\\n",
    "\t--p-epochs 10000 \\\n",
    "\t--p-differential-prior 0.5 \\\n",
    "\t--p-summary-interval 1 \\\n",
    "\t--o-differentials songbird-differentials.qza \\\n",
    "\t--o-regression-stats songbird-regression-stats.qza \\\n",
    "\t--o-regression-biplot songbird-regression-biplot.qza \\\n",
    "    --verbose"
   ]
  },
  {
   "cell_type": "code",
   "execution_count": null,
   "metadata": {},
   "outputs": [],
   "source": [
    "! qiime metadata tabulate \\\n",
    "\t--m-input-file songbird-differentials.qza \\\n",
    "\t--o-visualization songbird-differentials-viz.qzv"
   ]
  },
  {
   "cell_type": "code",
   "execution_count": null,
   "metadata": {},
   "outputs": [],
   "source": [
    "q2.Visualization.load('songbird-differentials-viz.qzv')"
   ]
  },
  {
   "cell_type": "markdown",
   "metadata": {},
   "source": [
    "**Run a null model**"
   ]
  },
  {
   "cell_type": "code",
   "execution_count": null,
   "metadata": {
    "scrolled": true
   },
   "outputs": [],
   "source": [
    "# Generate a null model\n",
    "! qiime songbird multinomial \\\n",
    "\t--i-table ./table-no-ecmu-hits.qza \\\n",
    "\t--m-metadata-file ./metadata.tsv \\\n",
    "\t--p-formula \"1\" \\\n",
    "\t--p-epochs 10000 \\\n",
    "\t--p-differential-prior 0.5 \\\n",
    "\t--p-summary-interval 1 \\\n",
    "\t--o-differentials songbird-null-diff.qza \\\n",
    "\t--o-regression-stats songbird-null-stats.qza \\\n",
    "\t--o-regression-biplot songbird-null-biplot.qza \\\n",
    "    --verbose"
   ]
  },
  {
   "cell_type": "markdown",
   "metadata": {},
   "source": [
    "**Compare null model vs our actual model**\n",
    "\n",
    "How much more are we learning compared to a null model?"
   ]
  },
  {
   "cell_type": "code",
   "execution_count": null,
   "metadata": {},
   "outputs": [],
   "source": [
    "! qiime songbird summarize-paired \\\n",
    "\t--i-regression-stats songbird-regression-stats.qza \\\n",
    "\t--i-baseline-stats songbird-null-stats.qza \\\n",
    "\t--o-visualization songbird-paired-summary.qzv"
   ]
  },
  {
   "cell_type": "code",
   "execution_count": null,
   "metadata": {},
   "outputs": [],
   "source": [
    "q2.Visualization.load('songbird-paired-summary.qzv')"
   ]
  },
  {
   "cell_type": "raw",
   "metadata": {},
   "source": [
    "# To do this you need to use other metadata files.\n",
    "# we'll look at an example.\n",
    "! qiime emperor biplot \\\n",
    "\t--i-biplot songbird-regression-biplot.qza \\\n",
    "\t--m-sample-metadata-file  \\\n",
    "    --m-feature-metadata-file \\\n",
    "\t--p-ignore-missing-samples \\\n",
    "\t--p-number-of-features 5 \\\n",
    "\t--o-visualization songbird-emperor-biplot.qzv"
   ]
  },
  {
   "cell_type": "markdown",
   "metadata": {},
   "source": [
    "q2.Visualization.load('songbird-biplot.qzv')"
   ]
  },
  {
   "cell_type": "markdown",
   "metadata": {},
   "source": [
    "**Let's look at our differentials.**"
   ]
  },
  {
   "cell_type": "code",
   "execution_count": null,
   "metadata": {},
   "outputs": [],
   "source": [
    "! qiime qurro differential-plot \\\n",
    "    --i-table ./table-no-ecmu-hits.qza \\\n",
    "    --i-ranks songbird-differentials.qza \\\n",
    "    --m-sample-metadata-file metadata.tsv \\\n",
    "    --m-feature-metadata-file taxonomy.qza \\\n",
    "    --o-visualization songbird-differentials-qurro.qzv \\\n",
    "    --verbose"
   ]
  },
  {
   "cell_type": "code",
   "execution_count": null,
   "metadata": {},
   "outputs": [],
   "source": [
    "q2.Visualization.load('songbird-differentials-qurro.qzv')"
   ]
  },
  {
   "cell_type": "code",
   "execution_count": null,
   "metadata": {},
   "outputs": [],
   "source": [
    "# post-hoc testing numerator and denominator by comparing \n",
    "#   p__Firmicutes (numerator) vs  p__Bacteroidota (denominator)\n",
    "import pandas as pd\n",
    "import itertools\n",
    "from scipy.stats import ttest_ind\n",
    "\n",
    "# import the taxonomy metadata\n",
    "lrdf = pd.read_csv('songbird-firm-bact-data.tsv',\n",
    "                   sep='\\t', index_col=0).dropna(subset=['Current_Natural_Log_Ratio'])\n",
    "# split data by VirusGroupType\n",
    "lrs = {type_:df_.Current_Natural_Log_Ratio\n",
    "       for type_, df_ in lrdf.groupby('donor')}\n",
    "# get all combos\n",
    "ids_ = list(itertools.combinations(lrs.keys(), 2))\n",
    "# take t-test\n",
    "tst = pd.DataFrame({(id1_, id2_):ttest_ind(lrs[id1_], lrs[id2_])\n",
    "                    for id1_, id2_ in ids_},\n",
    "                   ['test-stat','p-value']).T\n",
    "tst.index.names = ['group one vs.', 'group two']\n",
    "# view results\n",
    "tst"
   ]
  },
  {
   "cell_type": "code",
   "execution_count": null,
   "metadata": {},
   "outputs": [],
   "source": []
  },
  {
   "cell_type": "code",
   "execution_count": null,
   "metadata": {},
   "outputs": [],
   "source": []
  }
 ],
 "metadata": {
  "kernelspec": {
   "display_name": "Python 3",
   "language": "python",
   "name": "python3"
  },
  "language_info": {
   "codemirror_mode": {
    "name": "ipython",
    "version": 3
   },
   "file_extension": ".py",
   "mimetype": "text/x-python",
   "name": "python",
   "nbconvert_exporter": "python",
   "pygments_lexer": "ipython3",
   "version": "3.7.8"
  }
 },
 "nbformat": 4,
 "nbformat_minor": 4
}
