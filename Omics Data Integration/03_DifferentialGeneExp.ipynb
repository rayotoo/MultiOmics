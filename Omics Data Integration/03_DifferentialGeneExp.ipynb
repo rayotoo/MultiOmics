{
 "cells": [
  {
   "cell_type": "markdown",
   "id": "b4ab23ab-c79b-4c32-a210-1e54527e1038",
   "metadata": {},
   "source": [
    "## Differential Gene Expression"
   ]
  },
  {
   "cell_type": "code",
   "execution_count": 1,
   "id": "06789e93-74c6-45b1-affc-daeb4c39645e",
   "metadata": {
    "scrolled": true
   },
   "outputs": [
    {
     "data": {
      "text/plain": [
       "               _                           \n",
       "platform       x86_64-pc-linux-gnu         \n",
       "arch           x86_64                      \n",
       "os             linux-gnu                   \n",
       "system         x86_64, linux-gnu           \n",
       "status                                     \n",
       "major          4                           \n",
       "minor          1.2                         \n",
       "year           2021                        \n",
       "month          11                          \n",
       "day            01                          \n",
       "svn rev        81115                       \n",
       "language       R                           \n",
       "version.string R version 4.1.2 (2021-11-01)\n",
       "nickname       Bird Hippie                 "
      ]
     },
     "metadata": {},
     "output_type": "display_data"
    }
   ],
   "source": [
    "R.version"
   ]
  },
  {
   "cell_type": "code",
   "execution_count": 7,
   "id": "e73375cf-6dda-4dff-b297-9eae5ccbee04",
   "metadata": {},
   "outputs": [
    {
     "data": {
      "text/html": [
       "<style>\n",
       ".list-inline {list-style: none; margin:0; padding: 0}\n",
       ".list-inline>li {display: inline-block}\n",
       ".list-inline>li:not(:last-child)::after {content: \"\\00b7\"; padding: 0 .5ex}\n",
       "</style>\n",
       "<ol class=list-inline><li>'/home/raotoo/R/x86_64-pc-linux-gnu-library/4.1'</li><li>'/usr/local/lib/R/site-library'</li><li>'/usr/lib/R/site-library'</li><li>'/usr/lib/R/library'</li></ol>\n"
      ],
      "text/latex": [
       "\\begin{enumerate*}\n",
       "\\item '/home/raotoo/R/x86\\_64-pc-linux-gnu-library/4.1'\n",
       "\\item '/usr/local/lib/R/site-library'\n",
       "\\item '/usr/lib/R/site-library'\n",
       "\\item '/usr/lib/R/library'\n",
       "\\end{enumerate*}\n"
      ],
      "text/markdown": [
       "1. '/home/raotoo/R/x86_64-pc-linux-gnu-library/4.1'\n",
       "2. '/usr/local/lib/R/site-library'\n",
       "3. '/usr/lib/R/site-library'\n",
       "4. '/usr/lib/R/library'\n",
       "\n",
       "\n"
      ],
      "text/plain": [
       "[1] \"/home/raotoo/R/x86_64-pc-linux-gnu-library/4.1\"\n",
       "[2] \"/usr/local/lib/R/site-library\"                 \n",
       "[3] \"/usr/lib/R/site-library\"                       \n",
       "[4] \"/usr/lib/R/library\"                            "
      ]
     },
     "metadata": {},
     "output_type": "display_data"
    }
   ],
   "source": [
    "# Check the library paths\n",
    ".libPaths()\n"
   ]
  },
  {
   "cell_type": "code",
   "execution_count": 9,
   "id": "31525ab5-348c-4e6e-9af8-39aa77b0ce97",
   "metadata": {
    "scrolled": true
   },
   "outputs": [
    {
     "name": "stderr",
     "output_type": "stream",
     "text": [
      "'getOption(\"repos\")' replaces Bioconductor standard repositories, see\n",
      "'help(\"repositories\", package = \"BiocManager\")' for details.\n",
      "Replacement repositories:\n",
      "    CRAN: https://cloud.r-project.org\n",
      "\n",
      "Bioconductor version 3.14 (BiocManager 1.30.22), R 4.1.2 (2021-11-01)\n",
      "\n",
      "Installing package(s) 'DESeq2'\n",
      "\n"
     ]
    }
   ],
   "source": [
    "# Remove the extra single quote from the library paths\n",
    ".libPaths(c('/home/raotoo/R/x86_64-pc-linux-gnu-library/4.1', '/usr/local/lib/R/site-library', '/usr/lib/R/site-library', '/usr/lib/R/library'))\n",
    "\n",
    "# Install 'BiocManager'\n",
    "if (!requireNamespace(\"BiocManager\", quietly = TRUE))\n",
    "  install.packages(\"BiocManager\", dependencies = TRUE, lib = .libPaths()[1])\n",
    "\n",
    "# Install 'DESeq2' with force\n",
    "BiocManager::install(\"DESeq2\", force = TRUE, lib = .libPaths()[1])\n",
    "\n"
   ]
  },
  {
   "cell_type": "code",
   "execution_count": 10,
   "id": "d2166213-8e9d-4e09-be0e-a65fe598af8a",
   "metadata": {},
   "outputs": [
    {
     "name": "stdout",
     "output_type": "stream",
     "text": [
      "[1] \"DESeq2 is installed.\"\n"
     ]
    }
   ],
   "source": [
    "# Check if 'DESeq2' is installed\n",
    "if (!requireNamespace(\"DESeq2\", quietly = TRUE)) {\n",
    "  print(\"DESeq2 is not installed.\")\n",
    "} else {\n",
    "  print(\"DESeq2 is installed.\")\n",
    "}\n"
   ]
  },
  {
   "cell_type": "code",
   "execution_count": 2,
   "id": "b67ddc37-eecc-4640-a60f-ff025507e8da",
   "metadata": {},
   "outputs": [],
   "source": [
    "# Create a user-specific library path\n",
    "user_lib <- file.path(Sys.getenv(\"HOME\"), \".R/library\")\n",
    "\n",
    "# Install DESeq2 to the user-specific library\n",
    "#BiocManager::install(\"DESeq2\", lib = user_lib)\n"
   ]
  },
  {
   "cell_type": "code",
   "execution_count": null,
   "id": "a1a09fee-1a51-4a1b-87f8-6e7166fc3265",
   "metadata": {
    "scrolled": true
   },
   "outputs": [
    {
     "name": "stderr",
     "output_type": "stream",
     "text": [
      "'getOption(\"repos\")' replaces Bioconductor standard repositories, see\n",
      "'help(\"repositories\", package = \"BiocManager\")' for details.\n",
      "Replacement repositories:\n",
      "    CRAN: https://cloud.r-project.org\n",
      "\n",
      "Bioconductor version 3.14 (BiocManager 1.30.22), R 4.1.2 (2021-11-01)\n",
      "\n",
      "Installing package(s) 'DESeq2'\n",
      "\n",
      "Warning message in install.packages(...):\n",
      "“installation of package ‘DESeq2’ had non-zero exit status”\n",
      "'getOption(\"repos\")' replaces Bioconductor standard repositories, see\n",
      "'help(\"repositories\", package = \"BiocManager\")' for details.\n",
      "Replacement repositories:\n",
      "    CRAN: https://cloud.r-project.org\n",
      "\n",
      "Bioconductor version 3.14 (BiocManager 1.30.22), R 4.1.2 (2021-11-01)\n",
      "\n",
      "Warning message:\n",
      "“package(s) not installed when version(s) same as or greater than current; use\n",
      "  `force = TRUE` to re-install: 'ggplot2'”\n",
      "'getOption(\"repos\")' replaces Bioconductor standard repositories, see\n",
      "'help(\"repositories\", package = \"BiocManager\")' for details.\n",
      "Replacement repositories:\n",
      "    CRAN: https://cloud.r-project.org\n",
      "\n",
      "Bioconductor version 3.14 (BiocManager 1.30.22), R 4.1.2 (2021-11-01)\n",
      "\n",
      "Installing package(s) 'clusterProfiler'\n",
      "\n",
      "also installing the dependencies ‘systemfonts’, ‘ggplotify’, ‘ggforce’, ‘ggrepel’, ‘tidygraph’, ‘graphlayouts’, ‘ape’, ‘tidytree’, ‘treeio’, ‘stringi’, ‘DO.db’, ‘fgsea’, ‘reshape2’, ‘generics’, ‘tidyselect’, ‘aplot’, ‘ggraph’, ‘igraph’, ‘purrr’, ‘scatterpie’, ‘shadowtext’, ‘ggtree’, ‘stringr’, ‘fs’, ‘downloader’, ‘DOSE’, ‘dplyr’, ‘enrichplot’, ‘GO.db’, ‘GOSemSim’, ‘plyr’, ‘qvalue’, ‘tidyr’, ‘yulab.utils’\n",
      "\n",
      "\n",
      "Warning message in install.packages(...):\n",
      "“installation of package ‘systemfonts’ had non-zero exit status”\n",
      "Warning message in install.packages(...):\n",
      "“installation of package ‘ape’ had non-zero exit status”\n",
      "Warning message in install.packages(...):\n",
      "“installation of package ‘DO.db’ had non-zero exit status”\n",
      "Warning message in install.packages(...):\n",
      "“installation of package ‘igraph’ had non-zero exit status”\n",
      "Warning message in install.packages(...):\n",
      "“installation of package ‘shadowtext’ had non-zero exit status”\n"
     ]
    }
   ],
   "source": [
    "# Remove the extra single quote from the library paths\n",
    ".libPaths(c('/home/raotoo/R/x86_64-pc-linux-gnu-library/4.1', '/usr/local/lib/R/site-library', '/usr/lib/R/site-library', '/usr/lib/R/library'))\n",
    "\n",
    "# Install 'BiocManager'\n",
    "if (!requireNamespace(\"BiocManager\", quietly = TRUE))\n",
    "  install.packages(\"BiocManager\", dependencies = TRUE, lib = .libPaths()[1])\n",
    "\n",
    "# Install 'DESeq2' with force\n",
    "BiocManager::install(\"DESeq2\", force = TRUE, lib = .libPaths()[1])\n",
    "\n",
    "# Use BiocManager to install Bioconductor packages\n",
    "BiocManager::install(\"ggplot2\", lib = .libPaths()[1])\n",
    "BiocManager::install(\"clusterProfiler\", lib = .libPaths()[1])\n",
    "BiocManager::install(\"biomaRt\", lib = .libPaths()[1])\n",
    "BiocManager::install(\"ReactomePA\", lib = .libPaths()[1])\n",
    "BiocManager::install(\"DOSE\", lib = .libPaths()[1])\n",
    "BiocManager::install(\"KEGG.db\", lib = .libPaths()[1])\n",
    "BiocManager::install(\"org.Mm.eg.db\", lib = .libPaths()[1])\n",
    "BiocManager::install(\"org.Hs.eg.db\", lib = .libPaths()[1])\n",
    "BiocManager::install(\"pheatmap\", lib = .libPaths()[1])\n",
    "BiocManager::install(\"genefilter\", lib = .libPaths()[1])\n",
    "BiocManager::install(\"RColorBrewer\", lib = .libPaths()[1])\n",
    "BiocManager::install(\"GO.db\", lib = .libPaths()[1])\n",
    "BiocManager::install(\"topGO\", lib = .libPaths()[1])\n",
    "BiocManager::install(\"dplyr\", lib = .libPaths()[1])\n",
    "BiocManager::install(\"gage\", lib = .libPaths()[1])\n",
    "BiocManager::install(\"ggsci\", lib = .libPaths()[1])\n"
   ]
  },
  {
   "cell_type": "code",
   "execution_count": 6,
   "id": "1d433439-44e4-433a-a4d1-b924707ac6a5",
   "metadata": {
    "collapsed": true,
    "jupyter": {
     "outputs_hidden": true
    }
   },
   "outputs": [
    {
     "name": "stderr",
     "output_type": "stream",
     "text": [
      "'getOption(\"repos\")' replaces Bioconductor standard repositories, see\n",
      "'help(\"repositories\", package = \"BiocManager\")' for details.\n",
      "Replacement repositories:\n",
      "    CRAN: https://cloud.r-project.org\n",
      "\n",
      "Bioconductor version 3.14 (BiocManager 1.30.22), R 4.1.2 (2021-11-01)\n",
      "\n",
      "Warning message:\n",
      "“package(s) not installed when version(s) same as or greater than current; use\n",
      "  `force = TRUE` to re-install: 'DESeq2'”\n"
     ]
    }
   ],
   "source": [
    "# Install 'Bioconductor' first\n",
    "if (!requireNamespace(\"BiocManager\", quietly = TRUE))\n",
    "  install.packages(\"BiocManager\", dependencies=TRUE, lib = user_lib)\n",
    "BiocManager::install(\"DESeq2\", lib = user_lib)\n"
   ]
  },
  {
   "cell_type": "code",
   "execution_count": null,
   "id": "ba27daf9-0a09-4339-83bf-23841f44a664",
   "metadata": {
    "scrolled": true
   },
   "outputs": [
    {
     "name": "stderr",
     "output_type": "stream",
     "text": [
      "'getOption(\"repos\")' replaces Bioconductor standard repositories, see\n",
      "'help(\"repositories\", package = \"BiocManager\")' for details.\n",
      "Replacement repositories:\n",
      "    CRAN: https://cloud.r-project.org\n",
      "\n",
      "Bioconductor version 3.14 (BiocManager 1.30.22), R 4.1.2 (2021-11-01)\n",
      "\n",
      "Installing package(s) 'DESeq2'\n",
      "\n",
      "also installing the dependencies ‘Biostrings’, ‘curl’, ‘openssl’, ‘KEGGREST’, ‘httr’, ‘GenomeInfoDb’, ‘XVector’, ‘DelayedArray’, ‘AnnotationDbi’, ‘annotate’, ‘IRanges’, ‘GenomicRanges’, ‘SummarizedExperiment’, ‘genefilter’, ‘geneplotter’\n",
      "\n",
      "\n",
      "Installation paths not writeable, unable to update packages\n",
      "  path: /usr/lib/R/library\n",
      "  packages:\n",
      "    boot, class, cluster, codetools, foreign, KernSmooth, lattice, MASS,\n",
      "    Matrix, mgcv, nlme, nnet, rpart, spatial, survival\n",
      "\n",
      "'getOption(\"repos\")' replaces Bioconductor standard repositories, see\n",
      "'help(\"repositories\", package = \"BiocManager\")' for details.\n",
      "Replacement repositories:\n",
      "    CRAN: https://cloud.r-project.org\n",
      "\n",
      "Bioconductor version 3.14 (BiocManager 1.30.22), R 4.1.2 (2021-11-01)\n",
      "\n",
      "Warning message:\n",
      "“package(s) not installed when version(s) same as or greater than current; use\n",
      "  `force = TRUE` to re-install: 'ggplot2'”\n",
      "Installation paths not writeable, unable to update packages\n",
      "  path: /usr/lib/R/library\n",
      "  packages:\n",
      "    boot, class, cluster, codetools, foreign, KernSmooth, lattice, MASS,\n",
      "    Matrix, mgcv, nlme, nnet, rpart, spatial, survival\n",
      "\n",
      "'getOption(\"repos\")' replaces Bioconductor standard repositories, see\n",
      "'help(\"repositories\", package = \"BiocManager\")' for details.\n",
      "Replacement repositories:\n",
      "    CRAN: https://cloud.r-project.org\n",
      "\n",
      "Bioconductor version 3.14 (BiocManager 1.30.22), R 4.1.2 (2021-11-01)\n",
      "\n",
      "Installing package(s) 'clusterProfiler'\n",
      "\n",
      "also installing the dependencies ‘tweenr’, ‘polyclip’, ‘systemfonts’, ‘RcppEigen’, ‘ggplotify’, ‘ggforce’, ‘ggrepel’, ‘viridis’, ‘tidygraph’, ‘graphlayouts’, ‘ape’, ‘tidytree’, ‘treeio’, ‘stringi’, ‘DO.db’, ‘fgsea’, ‘reshape2’, ‘generics’, ‘tidyselect’, ‘aplot’, ‘ggraph’, ‘igraph’, ‘purrr’, ‘scatterpie’, ‘shadowtext’, ‘ggtree’, ‘stringr’, ‘fs’, ‘downloader’, ‘DOSE’, ‘dplyr’, ‘enrichplot’, ‘GO.db’, ‘GOSemSim’, ‘plyr’, ‘qvalue’, ‘tidyr’, ‘yulab.utils’\n",
      "\n",
      "\n",
      "Warning message in install.packages(...):\n",
      "“installation of package ‘systemfonts’ had non-zero exit status”\n",
      "Warning message in install.packages(...):\n",
      "“installation of package ‘ggrepel’ had non-zero exit status”\n",
      "Warning message in install.packages(...):\n",
      "“installation of package ‘ape’ had non-zero exit status”\n"
     ]
    }
   ],
   "source": [
    "# Install BiocManager if not already installed\n",
    "if (!requireNamespace(\"BiocManager\", quietly = TRUE))\n",
    "    install.packages(\"BiocManager\")\n",
    "\n",
    "# Use BiocManager to install Bioconductor packages\n",
    "BiocManager::install(\"DESeq2\")\n",
    "BiocManager::install(\"ggplot2\")\n",
    "BiocManager::install(\"clusterProfiler\")\n",
    "BiocManager::install(\"biomaRt\")\n",
    "BiocManager::install(\"ReactomePA\")\n",
    "BiocManager::install(\"DOSE\")\n",
    "BiocManager::install(\"KEGG.db\")\n",
    "BiocManager::install(\"org.Mm.eg.db\")\n",
    "BiocManager::install(\"org.Hs.eg.db\")\n",
    "BiocManager::install(\"pheatmap\")\n",
    "BiocManager::install(\"genefilter\")\n",
    "BiocManager::install(\"RColorBrewer\")\n",
    "BiocManager::install(\"GO.db\")\n",
    "BiocManager::install(\"topGO\")\n",
    "BiocManager::install(\"dplyr\")\n",
    "BiocManager::install(\"gage\")\n",
    "BiocManager::install(\"ggsci\")"
   ]
  },
  {
   "cell_type": "markdown",
   "id": "74d08ee9-fa3a-40e8-919f-9d653e3989f9",
   "metadata": {},
   "source": [
    "## Import featureCounts output"
   ]
  },
  {
   "cell_type": "code",
   "execution_count": null,
   "id": "c0fe982a-4d50-41fb-9849-a61133946efa",
   "metadata": {},
   "outputs": [],
   "source": [
    "setwd('/mnt/e/new_workflow/results/5_final_counts/')"
   ]
  },
  {
   "cell_type": "code",
   "execution_count": null,
   "id": "1985851e-1663-4896-9494-1565426c1bf7",
   "metadata": {},
   "outputs": [],
   "source": [
    "# Import gene counts table\n",
    "# - skip first row (general command info)\n",
    "# - make row names the gene identifiers\n",
    "countdata <- read.table(\"final_counts.txt\", header = TRUE, skip = 1, row.names = 1)\n",
    "\n",
    "# Remove .bam + '..' from column identifiers\n",
    "colnames(countdata) <- gsub(\".bam\", \"\", colnames(countdata), fixed = T)\n",
    "colnames(countdata) <- gsub(\".bam\", \"\", colnames(countdata), fixed = T)\n",
    "colnames(countdata) <- gsub(\"..\", \"\", colnames(countdata), fixed = T)\n",
    "\n",
    "# Remove length/char columns\n",
    "countdata <- countdata[ ,c(-1:-5)]\n",
    "\n",
    "# Make sure ID's are correct\n",
    "head(countdata)"
   ]
  }
 ],
 "metadata": {
  "kernelspec": {
   "display_name": "R",
   "language": "R",
   "name": "ir"
  },
  "language_info": {
   "codemirror_mode": "r",
   "file_extension": ".r",
   "mimetype": "text/x-r-source",
   "name": "R",
   "pygments_lexer": "r",
   "version": "4.1.2"
  }
 },
 "nbformat": 4,
 "nbformat_minor": 5
}
